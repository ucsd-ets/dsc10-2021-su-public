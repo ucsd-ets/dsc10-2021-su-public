{
 "cells": [
  {
   "cell_type": "markdown",
   "metadata": {},
   "source": [
    "# DSC 10 Discussion Week 3\n",
    "\n",
    "<img src=\"data/panda_tree.jpg\" width=\"500\">\n",
    "\n",
    "#### Extra\n",
    "- You can find additional help on these topics in the course [textbook](https://eldridgejm.github.io/dive_into_data_science/front.html).\n",
    "- [Here](https://eldridgejm.github.io/dsc10-2021-su/published/default/reference/reference.pdf) is a pointer to that reference sheet we saw last time."
   ]
  },
  {
   "cell_type": "markdown",
   "metadata": {},
   "source": [
    "## $\\underline{Models\\ and\\ Statistics}$\n",
    "\n",
    "### Model\n",
    "- a set of assumptions about data\n",
    "- assessing the quality of models $\\rightarrow$ statistical inference!\n",
    "\n",
    "### Terminology\n",
    "- **Parameter** : a number associated with the *population* $\\rightarrow$ rarely known exactly\n",
    "- **Statistic** : a number calculated from the *sample* $\\rightarrow$ estimate of a parameter\n",
    "\n",
    "### Bias-Variance trade-off\n",
    "- **Bias** : systematic error in one direction (too high or too low) $\\rightarrow$ good estimates have *LOW bias*\n",
    "- **Variance** : degree to which the value of an estimate varies $\\rightarrow$ good estimates have *LOW variance*\n",
    "\n",
    "### Simulation\n",
    "- **Single experiment** : ```np.random.multinomial(sample_size, pop_distribution)```\n",
    "- **A bunch of experiments** : iteration!\n",
    "- **Visualize** : plot! $\\rightarrow$ often *histogram* to show distribution\n",
    "\n",
    "## $\\underline{Hypothesis\\ Testing}$\n",
    "\n",
    "### Two Viewpoints\n",
    "- **Null Hypothesis** : default view $\\rightarrow$ must be simulatable\n",
    "- **Alternate Hypothesis** : opposite of Null Hypothesis \n",
    "\n",
    "### Computing statistics under Null Hypothesis\n",
    "- Choose a relevant *test statistic*\n",
    "    - counts, ratios, differences, absolute differences, etc. depending on problem\n",
    "    - **Total Variation Difference** : difference between two distributions  \n",
    "    - be careful with use of ```abs()```!\n",
    "- Track experiment outcomes and compute the **empirical distribution of the statistic under the null hypothesis**\n",
    "\n",
    "### Drawing conclusions\n",
    "- Compare the following : \n",
    "    - **observed test statistic** (red dot/line from class) \n",
    "    - **empirical distribution under the null hypothesis** (histograms from experiments)\n",
    "- Determine if observed value is consistent\n",
    "    - by visualization or some other conventional quantitative measure\n",
    "    - **p-value** : probability that a result *at least* as extreme as the observation holds under the null hypothesis\n",
    "        - common cutoff is 5% for statistical significance\n",
    "\n",
    "#### Extra\n",
    "- You can find additional help on these topics in the course [textbook](https://eldridgejm.github.io/dive_into_data_science/front.html).\n",
    "- [Here](https://ucsd-ets.github.io/dsc10-2020-fa/published/default/reference/babypandas-reference.pdf) is a pointer to that reference sheet we saw last time."
   ]
  },
  {
   "cell_type": "code",
   "execution_count": 1,
   "metadata": {},
   "outputs": [],
   "source": [
    "import babypandas as bpd\n",
    "import numpy as np\n",
    "import matplotlib.pyplot as plt\n",
    "\n",
    "import otter\n",
    "grader = otter.Notebook()\n",
    "\n",
    "%matplotlib inline"
   ]
  },
  {
   "cell_type": "markdown",
   "metadata": {
    "slideshow": {
     "slide_type": "slide"
    }
   },
   "source": [
    "# Example 1: Fighting Professors"
   ]
  },
  {
   "cell_type": "markdown",
   "metadata": {
    "slideshow": {
     "slide_type": "slide"
    }
   },
   "source": [
    "Two professors are fighting about who is a better teacher. To settle the matter, they decide to give each of their classes the same exam. Whoever's class performs better will be considered the best teacher."
   ]
  },
  {
   "cell_type": "markdown",
   "metadata": {
    "slideshow": {
     "slide_type": "slide"
    }
   },
   "source": [
    "## The Data"
   ]
  },
  {
   "cell_type": "code",
   "execution_count": 2,
   "metadata": {},
   "outputs": [],
   "source": [
    "scores = bpd.read_csv('data/scores.csv')\n",
    "scores"
   ]
  },
  {
   "cell_type": "markdown",
   "metadata": {
    "slideshow": {
     "slide_type": "slide"
    }
   },
   "source": [
    "## Exploration"
   ]
  },
  {
   "cell_type": "markdown",
   "metadata": {
    "deletable": false,
    "editable": false
   },
   "source": [
    "<!-- BEGIN QUESTION -->\n",
    "\n",
    "Which professor (A or B) appears to have \"won\"?\n",
    "\n",
    "<!--\n",
    "BEGIN QUESTION\n",
    "name: q10\n",
    "manual: true\n",
    "-->"
   ]
  },
  {
   "cell_type": "code",
   "execution_count": 3,
   "metadata": {},
   "outputs": [],
   "source": [
    "won_prof = ..."
   ]
  },
  {
   "cell_type": "code",
   "execution_count": null,
   "metadata": {
    "deletable": false,
    "editable": false
   },
   "outputs": [],
   "source": [
    "grader.check(\"q10\")"
   ]
  },
  {
   "cell_type": "markdown",
   "metadata": {
    "slideshow": {
     "slide_type": "slide"
    }
   },
   "source": [
    "<!-- END QUESTION -->\n",
    "\n",
    "\n",
    "\n",
    "## Question 1"
   ]
  },
  {
   "cell_type": "markdown",
   "metadata": {},
   "source": [
    "The winning professor claims that they are significantly better than the other professor -- and it isn't just due to random chance. What technique can we use to evaluate their claim?\n",
    "\n",
    "**Answer**:"
   ]
  },
  {
   "cell_type": "markdown",
   "metadata": {
    "deletable": false,
    "editable": false
   },
   "source": [
    "<!-- BEGIN QUESTION -->\n",
    "\n",
    "<!--\n",
    "BEGIN QUESTION\n",
    "name: q11\n",
    "manual: true\n",
    "-->"
   ]
  },
  {
   "cell_type": "markdown",
   "metadata": {},
   "source": [
    "_Type your answer here, replacing this text._"
   ]
  },
  {
   "cell_type": "markdown",
   "metadata": {
    "slideshow": {
     "slide_type": "slide"
    }
   },
   "source": [
    "<!-- END QUESTION -->\n",
    "\n",
    "\n",
    "\n",
    "## Question 2"
   ]
  },
  {
   "cell_type": "markdown",
   "metadata": {},
   "source": [
    "What are the null and alternative hypotheses?\n",
    "\n",
    "- **Null**:\n",
    "- **Alternative**:"
   ]
  },
  {
   "cell_type": "markdown",
   "metadata": {
    "deletable": false,
    "editable": false
   },
   "source": [
    "<!-- BEGIN QUESTION -->\n",
    "\n",
    "<!--\n",
    "BEGIN QUESTION\n",
    "name: q12\n",
    "manual: true\n",
    "-->"
   ]
  },
  {
   "cell_type": "markdown",
   "metadata": {},
   "source": [
    "_Type your answer here, replacing this text._"
   ]
  },
  {
   "cell_type": "markdown",
   "metadata": {
    "slideshow": {
     "slide_type": "slide"
    }
   },
   "source": [
    "<!-- END QUESTION -->\n",
    "\n",
    "\n",
    "\n",
    "## Question 3\n",
    "\n",
    "What test statistic can we use? Remember: it is usually better for *large* values of the test statistic to point towards the alternative hypothesis.\n",
    "\n",
    "**Answer**:"
   ]
  },
  {
   "cell_type": "markdown",
   "metadata": {
    "deletable": false,
    "editable": false
   },
   "source": [
    "<!-- BEGIN QUESTION -->\n",
    "\n",
    "<!--\n",
    "BEGIN QUESTION\n",
    "name: q13\n",
    "manual: true\n",
    "-->"
   ]
  },
  {
   "cell_type": "markdown",
   "metadata": {},
   "source": [
    "_Type your answer here, replacing this text._"
   ]
  },
  {
   "cell_type": "markdown",
   "metadata": {},
   "source": [
    "<!-- END QUESTION -->\n",
    "\n",
    "\n",
    "\n",
    "## Question 4\n",
    "\n",
    "What was the *observed value* of your test statistic?"
   ]
  },
  {
   "cell_type": "code",
   "execution_count": 5,
   "metadata": {},
   "outputs": [],
   "source": [
    "obs = ...\n",
    "obs"
   ]
  },
  {
   "cell_type": "code",
   "execution_count": null,
   "metadata": {
    "deletable": false,
    "editable": false
   },
   "outputs": [],
   "source": [
    "grader.check(\"q14\")"
   ]
  },
  {
   "cell_type": "markdown",
   "metadata": {
    "slideshow": {
     "slide_type": "slide"
    }
   },
   "source": [
    "## Question 5\n",
    "\n",
    "Implement your chosen technique to test whether the null hypothesis should be rejected."
   ]
  },
  {
   "cell_type": "code",
   "execution_count": 7,
   "metadata": {},
   "outputs": [],
   "source": [
    "num_simulations = 1000\n",
    "simulated_stats = ...\n",
    "simulated_stats"
   ]
  },
  {
   "cell_type": "markdown",
   "metadata": {
    "slideshow": {
     "slide_type": "slide"
    }
   },
   "source": [
    "## Question 6\n",
    "\n",
    "What is the probability that we see our observed value of the test statistic if the null hypothesis is true?"
   ]
  },
  {
   "cell_type": "code",
   "execution_count": 8,
   "metadata": {},
   "outputs": [],
   "source": [
    "p_val = ...\n",
    "p_val"
   ]
  },
  {
   "cell_type": "code",
   "execution_count": null,
   "metadata": {
    "deletable": false,
    "editable": false
   },
   "outputs": [],
   "source": [
    "grader.check(\"q16\")"
   ]
  },
  {
   "cell_type": "markdown",
   "metadata": {
    "slideshow": {
     "slide_type": "slide"
    }
   },
   "source": [
    "## Question 7\n",
    "\n",
    "The \"winning\" professor claims that the results show that they are the better teacher. Is this correct?"
   ]
  },
  {
   "cell_type": "code",
   "execution_count": 10,
   "metadata": {},
   "outputs": [],
   "source": [
    "claim_true_or_false = ...\n",
    "claim_true_or_false"
   ]
  },
  {
   "cell_type": "code",
   "execution_count": null,
   "metadata": {
    "deletable": false,
    "editable": false
   },
   "outputs": [],
   "source": [
    "grader.check(\"q17\")"
   ]
  },
  {
   "cell_type": "markdown",
   "metadata": {
    "slideshow": {
     "slide_type": "slide"
    }
   },
   "source": [
    "# Example 2: Fun with Test Statistics"
   ]
  },
  {
   "cell_type": "markdown",
   "metadata": {
    "slideshow": {
     "slide_type": "slide"
    }
   },
   "source": [
    "## Question 8\n",
    "\n",
    "You want to test whether a coin is fair. Your hypotheses are:\n",
    "\n",
    "- **Null**: the coin is fair\n",
    "- **Alternative**: the coin is not fair\n",
    "\n",
    "You'll flip the coin 100 times. What test statistic should you use to assess your claim?"
   ]
  },
  {
   "cell_type": "code",
   "execution_count": 12,
   "metadata": {},
   "outputs": [],
   "source": [
    "# fill out the following code to set up this experiment\n",
    "\n",
    "num_flips = ...\n",
    "\n",
    "# model the probability of our coin\n",
    "model = ...\n",
    "\n",
    "# flip our coin ... times\n",
    "flip_outcomes = ...\n",
    "\n",
    "# flip_outcomes = [num_heads, num_tails]\n",
    "num_heads = flip_outcomes[0]\n",
    "\n",
    "# What is our test statistic?\n",
    "def test_statistic(num_heads):\n",
    "    ...\n",
    "\n",
    "# compute test statistic\n",
    "print(f\"Test statistic result : {test_statistic(num_heads)}\")"
   ]
  },
  {
   "cell_type": "markdown",
   "metadata": {
    "slideshow": {
     "slide_type": "slide"
    }
   },
   "source": [
    "## Question 9\n",
    "\n",
    "In your experiment, you saw 61 heads. What is the observed value of your test statistic?"
   ]
  },
  {
   "cell_type": "code",
   "execution_count": 13,
   "metadata": {},
   "outputs": [],
   "source": [
    "num_heads_experiment = 61\n",
    "\n",
    "observed_test_statistic = ...\n",
    "\n",
    "print(f\"Test statistic result : {observed_test_statistic}\")"
   ]
  },
  {
   "cell_type": "markdown",
   "metadata": {
    "slideshow": {
     "slide_type": "slide"
    }
   },
   "source": [
    "## Question 10\n",
    "\n",
    "You want to test whether an *n*-sided die is fair. Your hypotheses are:\n",
    "\n",
    "- **Null**: the die is fair\n",
    "- **Alternative**: the die is not fair\n",
    "\n",
    "You'll roll the die 100 times. What test statistic should you use to assess your claim?"
   ]
  },
  {
   "cell_type": "code",
   "execution_count": 14,
   "metadata": {},
   "outputs": [],
   "source": [
    "# fill out the following code to set up this experiment\n",
    "\n",
    "\n",
    "# specify number of sides\n",
    "N = 20\n",
    "num_rolls = ...\n",
    "\n",
    "# model the probability of our die\n",
    "model_die = ...\n",
    "\n",
    "# roll our die ... times\n",
    "roll_outcomes = ...\n",
    "\n",
    "# roll_outcomes = [count_num_side_1 ,..., ..., count_num_side_N]\n",
    "# roll_outcomes_prob = [perc_num_side_1 ,..., ..., perc_num_side_N]\n",
    "\n",
    "roll_outcomes_prob = ...\n",
    "\n",
    "# What is our test statistic?\n",
    "def test_statistic_die(roll_outcomes_prob, model_die):\n",
    "    ...\n",
    "\n",
    "# compute test statistic\n",
    "print(f\"Test statistic result : {test_statistic_die(roll_outcomes_prob, model_die)}\")"
   ]
  },
  {
   "cell_type": "markdown",
   "metadata": {
    "slideshow": {
     "slide_type": "slide"
    }
   },
   "source": [
    "## Question 11\n",
    "\n",
    "You rolled a 4-sided side 100 times and got \"one\" 20 times, \"two\" 30 times, \"three\" 40 times, and \"four\" 10 times. What is the observed value of your test statistic?"
   ]
  },
  {
   "cell_type": "code",
   "execution_count": 15,
   "metadata": {},
   "outputs": [],
   "source": [
    "# specify number of sides\n",
    "N = 4\n",
    "num_rolls = ...\n",
    "\n",
    "# Given roll outcomes\n",
    "roll_outcomes = np.array([20, 30, 40, 10]) \n",
    "roll_outcomes_prob = ...\n",
    "\n",
    "# model the probability of our die\n",
    "model_die = ...\n",
    "\n",
    "# compute the test statistic\n",
    "test_statistic = ...\n",
    "\n",
    "# display results\n",
    "print(f\"Test statistic result : {test_statistic_die(roll_outcomes_prob, model_die)}\")"
   ]
  },
  {
   "cell_type": "markdown",
   "metadata": {
    "slideshow": {
     "slide_type": "slide"
    }
   },
   "source": [
    "## Question 12\n",
    "\n",
    "You rolled a 2-sided die 100 times and got \"one\" 61 times and \"two\" 39 times. What is the observed value of your test statistic?"
   ]
  },
  {
   "cell_type": "code",
   "execution_count": 16,
   "metadata": {},
   "outputs": [],
   "source": [
    "# specify number of sides\n",
    "N = 2\n",
    "num_rolls = ...\n",
    "\n",
    "# Given roll outcomes\n",
    "roll_outcomes = np.array([61, 39]) \n",
    "roll_outcomes_prob = ...\n",
    "\n",
    "# model the probability of our die\n",
    "model_die = ...\n",
    "\n",
    "# compute the test statistic\n",
    "test_statistic = ...\n",
    "\n",
    "# display results\n",
    "print(f\"Test statistic result : {test_statistic_die(roll_outcomes_prob, model_die)}\")"
   ]
  },
  {
   "cell_type": "markdown",
   "metadata": {},
   "source": [
    "# Permutation Testing\n",
    "\n",
    "###  A/B testing through simulation\n",
    "- Decide whether two random samples come from the same distribution\n",
    "- Statistic : difference between means\n",
    "- Null hypothesis : the two groups are sampled from the same distribution\n",
    "    - *PROBLEM* : we don't know what that distribution is!\n",
    "    \n",
    "### Permutation tests\n",
    "- We can't draw samples from a distribution like we're used to because we don't know what the distribution is!\n",
    "- Instead : randomly shuffle (permute) group labels during simulation\n",
    "    - Compute the \"difference in means\" test statistic between groups of shuffled data\n",
    "\n",
    "### Causation\n",
    "- Observation study - rejecting the null hypothesis does not establish causality \n",
    "    - Correlation ≠ causation\n",
    "    - Confounding factors\n",
    "- Randomized Controlled Trial (RCT)\n",
    "    - A/B test in a RCT does support causality"
   ]
  },
  {
   "cell_type": "markdown",
   "metadata": {},
   "source": [
    "## Life expectancy data\n",
    "\n",
    "This data comes from the World Health Organization.  We can learn more about the meanings of the columns by looking here: https://www.kaggle.com/kumarajarshi/life-expectancy-who\n",
    "\n",
    "Let's travel back in time to the year 2015 and collect some data!  For the duration of this discussion, we're going to consider the following data to be our *\"population\"*.\n",
    "\n",
    "Let's take a look at it."
   ]
  },
  {
   "cell_type": "code",
   "execution_count": 17,
   "metadata": {},
   "outputs": [],
   "source": [
    "# load in all the data\n",
    "life_expectancy = bpd.read_csv(\"data/life_expectancy.csv\")\n",
    "life_expectancy"
   ]
  },
  {
   "cell_type": "code",
   "execution_count": 18,
   "metadata": {},
   "outputs": [],
   "source": [
    "# choose only data from 2015\n",
    "recent_data = life_expectancy[life_expectancy.get(\"Year\") == 2015]\n",
    "recent_data"
   ]
  },
  {
   "cell_type": "markdown",
   "metadata": {},
   "source": [
    "## Sampling from the data\n",
    "\n",
    "From now on, the above data will be considered our population, so we will sample from this population to complete the following experiment.\n",
    "\n",
    "First let us therefore take a sample of 50 countries from the population."
   ]
  },
  {
   "cell_type": "code",
   "execution_count": 19,
   "metadata": {},
   "outputs": [],
   "source": [
    "# grab a sample\n",
    "recent_sample = recent_data.sample(50,replace=False).get([\"Status\",\"Life expectancy \"])\n",
    "recent_sample"
   ]
  },
  {
   "cell_type": "markdown",
   "metadata": {},
   "source": [
    "## Life expectancy and country status\n",
    "\n",
    "Question : **Is life expectancy of people born in developing countries significantly shorter than that of peole born in developing countries?**"
   ]
  },
  {
   "cell_type": "markdown",
   "metadata": {},
   "source": [
    "### Question 1\n",
    "\n",
    "Set up the null and alterantive hypotheses for this experiment."
   ]
  },
  {
   "cell_type": "code",
   "execution_count": 20,
   "metadata": {},
   "outputs": [],
   "source": [
    "# NULL Hypothesis\n",
    "\n",
    "# Alternative Hypothesis"
   ]
  },
  {
   "cell_type": "markdown",
   "metadata": {},
   "source": [
    "### Question 2 \n",
    "\n",
    "How many countries in each group?"
   ]
  },
  {
   "cell_type": "code",
   "execution_count": 21,
   "metadata": {},
   "outputs": [],
   "source": [
    "countries_per_group = ...\n",
    "countries_per_group"
   ]
  },
  {
   "cell_type": "markdown",
   "metadata": {},
   "source": [
    "### Question 3\n",
    "\n",
    "What is the average life expectancy in each group?"
   ]
  },
  {
   "cell_type": "code",
   "execution_count": 22,
   "metadata": {},
   "outputs": [],
   "source": [
    "expectancy_per_group = ...\n",
    "expectancy_per_group"
   ]
  },
  {
   "cell_type": "markdown",
   "metadata": {},
   "source": [
    "### Question 4\n",
    "\n",
    "Visualize the distribution of life expectancy for each group in a histogram plot."
   ]
  },
  {
   "cell_type": "code",
   "execution_count": 23,
   "metadata": {},
   "outputs": [],
   "source": [
    "# create a new dataframe for each group\n",
    "developed_expectancy = ...\n",
    "developing_expectancy = ...\n",
    "\n",
    "# check to make sure the counts match those from above\n",
    "print(f\"There are {developed_expectancy.shape[0]} developed countries\",end='')\n",
    "print(f\" and {developing_expectancy.shape[0]} developing countries\")"
   ]
  },
  {
   "cell_type": "code",
   "execution_count": 24,
   "metadata": {},
   "outputs": [],
   "source": [
    "# plot on a histogram\n",
    "fig, ax = plt.subplots()\n",
    "\n",
    "# first plot developed \n",
    "...\n",
    "\n",
    "# then plot developing\n",
    "...\n",
    "\n",
    "plt.legend([\"Developed\", \"Developing\"])\n",
    "plt.xlabel(\"Life expectancy\")"
   ]
  },
  {
   "cell_type": "markdown",
   "metadata": {},
   "source": [
    "### Question 5\n",
    "\n",
    "What test statistic should we use to compare these two sample distributions? \n",
    "Decide on which test statistic is best then compute it for the observered sample.\n",
    "\n",
    "Hint (use ```expectancy_per_group``` from above)"
   ]
  },
  {
   "cell_type": "code",
   "execution_count": 25,
   "metadata": {},
   "outputs": [],
   "source": [
    "expectancy_per_group"
   ]
  },
  {
   "cell_type": "code",
   "execution_count": 26,
   "metadata": {},
   "outputs": [],
   "source": [
    "# observed test statistic\n",
    "test_statistic_name = ...\n",
    "\n",
    "observed_test_statistic = ...\n",
    "observed_test_statistic"
   ]
  },
  {
   "cell_type": "markdown",
   "metadata": {},
   "source": [
    "### Question 6\n",
    "\n",
    "Randomly permute the group labels and create a new dataframe based on ```recent_sample``` with an additional column."
   ]
  },
  {
   "cell_type": "code",
   "execution_count": 27,
   "metadata": {},
   "outputs": [],
   "source": [
    "original_and_shuffled = recent_sample.assign(\n",
    "    shuffled_life_expectancy = ...\n",
    ")\n",
    "original_and_shuffled"
   ]
  },
  {
   "cell_type": "markdown",
   "metadata": {},
   "source": [
    "### Question 7\n",
    "\n",
    "Compute the mean life expectancy for each group in the newly permuted data.\n",
    "\n",
    "What do you notice?"
   ]
  },
  {
   "cell_type": "code",
   "execution_count": 28,
   "metadata": {},
   "outputs": [],
   "source": [
    "diff_between_means = ...\n",
    "diff_between_means"
   ]
  },
  {
   "cell_type": "markdown",
   "metadata": {},
   "source": [
    "### Question 8\n",
    "\n",
    "Is it not clear? Let's try taking the mean difference"
   ]
  },
  {
   "cell_type": "code",
   "execution_count": 29,
   "metadata": {},
   "outputs": [],
   "source": [
    "obs_mean_difference = ...\n",
    "obs_mean_difference"
   ]
  },
  {
   "cell_type": "markdown",
   "metadata": {},
   "source": [
    "### Question 9\n",
    "Wow! That's a huge difference? Could it be chance? Let's repeat this 5000 times and store the shuffled difference in an array"
   ]
  },
  {
   "cell_type": "code",
   "execution_count": 30,
   "metadata": {},
   "outputs": [],
   "source": [
    "simulated_stats = np.array([]) # BEGIN SOLUTION\n",
    "num_observations = 5000 # BEGIN SOLUTION\n",
    "\n",
    "...\n",
    "simulated_stats\n",
    "    "
   ]
  },
  {
   "cell_type": "markdown",
   "metadata": {},
   "source": [
    "### Question 10\n",
    "\n",
    "Doesn't look like we can blame these differences on chance (assuming our null hypothesis is true). Let's see the likelihood of our observed difference given this result\n",
    "\n"
   ]
  },
  {
   "cell_type": "code",
   "execution_count": 31,
   "metadata": {},
   "outputs": [],
   "source": [
    "p_val = ...\n",
    "p_val"
   ]
  },
  {
   "cell_type": "markdown",
   "metadata": {},
   "source": [
    "### Question 11\n",
    "\n",
    "Looks like our p value is pretty high. Should we reject the nullhypothesis with a 10% significance threshold?"
   ]
  },
  {
   "cell_type": "code",
   "execution_count": 32,
   "metadata": {},
   "outputs": [],
   "source": [
    "reject_null_hypothesis = ...\n",
    "reject_null_hypothesis"
   ]
  },
  {
   "cell_type": "markdown",
   "metadata": {},
   "source": [
    "# Quick recap about sampling!\n",
    "\n",
    "Here we'll take a look at the same life expectancy data and do some sampling exercises."
   ]
  },
  {
   "cell_type": "code",
   "execution_count": 33,
   "metadata": {},
   "outputs": [],
   "source": [
    "# Let's visualize our population distribution.\n",
    "\n",
    "# Defining a function to create bins easily\n",
    "def get_bins(array, bin_size=1):\n",
    "    smallestNum = int(array.min())\n",
    "    \n",
    "    largestNum = int(array.max())\n",
    "    upperLimit = largestNum + bin_size + 1\n",
    "    \n",
    "    return np.arange(smallestNum, upperLimit, bin_size)"
   ]
  },
  {
   "cell_type": "code",
   "execution_count": 34,
   "metadata": {},
   "outputs": [],
   "source": [
    "measured = recent_data.get(\"Life expectancy \")\n",
    "\n",
    "#generate number of bins\n",
    "n_bins = get_bins(measured, 1) # <-- Try playing around with the bin size\n",
    "\n",
    "#lets plot the histogram\n",
    "recent_data.get('Life expectancy ').plot(kind='hist', bins=n_bins, density=True)"
   ]
  },
  {
   "cell_type": "code",
   "execution_count": 35,
   "metadata": {},
   "outputs": [],
   "source": [
    "# This is our ... ?"
   ]
  },
  {
   "cell_type": "markdown",
   "metadata": {},
   "source": [
    "```\n",
    "POPULATION DISTRIBUTION\n",
    "```"
   ]
  },
  {
   "cell_type": "markdown",
   "metadata": {},
   "source": [
    "So, what is our aim?  \n",
    "\n",
    "We want to estimate the average life expectancy for the globe!  Let's say we don't have access to the entire population.  \n",
    "\n",
    "Flying around the world is pretty expensive, so we can only collect data from 15 countries.\n",
    "\n",
    "We can sample and use bootstrapping to find this.\n"
   ]
  },
  {
   "cell_type": "code",
   "execution_count": 36,
   "metadata": {},
   "outputs": [],
   "source": [
    "# How do we create a representative sample?\n",
    "collected = recent_data.sample(n=15, replace=False)\n"
   ]
  },
  {
   "cell_type": "code",
   "execution_count": 37,
   "metadata": {},
   "outputs": [],
   "source": [
    "collected"
   ]
  },
  {
   "cell_type": "code",
   "execution_count": 38,
   "metadata": {},
   "outputs": [],
   "source": [
    "#we need new bin sizes\n",
    "n_bins = get_bins(collected.get('Life expectancy '),1)\n",
    "\n",
    "\n",
    "#lets plot the histogram\n",
    "collected.get('Life expectancy ').plot(kind='hist', bins=n_bins, density=True)"
   ]
  },
  {
   "cell_type": "code",
   "execution_count": 39,
   "metadata": {},
   "outputs": [],
   "source": [
    "# This is our ...?"
   ]
  },
  {
   "cell_type": "markdown",
   "metadata": {},
   "source": [
    "```\n",
    "SAMPLE DISTRIBUTION\n",
    "```"
   ]
  },
  {
   "cell_type": "markdown",
   "metadata": {},
   "source": [
    "We're interested in estimating the mean life expectancy.  So, let's find the mean of our sample."
   ]
  },
  {
   "cell_type": "code",
   "execution_count": 40,
   "metadata": {},
   "outputs": [],
   "source": [
    "sample_mean = collected.get('Life expectancy ').mean()\n",
    "sample_mean"
   ]
  },
  {
   "cell_type": "code",
   "execution_count": 41,
   "metadata": {},
   "outputs": [],
   "source": [
    "# We can show our mean in relation to the sample:\n",
    "\n",
    "#plot the historgram again\n",
    "collected.get('Life expectancy ').plot(kind='hist', bins=n_bins, density=True)\n",
    "\n",
    "#draw the sample mean\n",
    "plt.axvline(sample_mean, c='r')"
   ]
  },
  {
   "cell_type": "code",
   "execution_count": 42,
   "metadata": {},
   "outputs": [],
   "source": [
    "# This is our ... ?"
   ]
  },
  {
   "cell_type": "markdown",
   "metadata": {},
   "source": [
    "```\n",
    "SAMPLE MEAN\n",
    "```"
   ]
  },
  {
   "cell_type": "markdown",
   "metadata": {},
   "source": [
    "What happens when we resample?"
   ]
  },
  {
   "cell_type": "code",
   "execution_count": 43,
   "metadata": {},
   "outputs": [],
   "source": [
    "# Run this multiple time to see what changes.\n",
    "\n",
    "resampled = collected.sample(15,replace=True)\n",
    "resampled_mean = resampled.get('Life expectancy ').mean()\n",
    "n_bins = get_bins(collected.get('Life expectancy '), 1)\n",
    "\n",
    "print(\"The resampled mean is:\\t\\t\", resampled_mean, \"\\nCompared to the original:\\t\", sample_mean)\n",
    "\n",
    "#plot the historgram again\n",
    "resampled.get('Life expectancy ').plot(kind='hist', bins=n_bins, density=True)\n",
    "\n",
    "#lets show the sampled_mean and resampled_mean\n",
    "plt.axvline(resampled_mean, c='r')\n",
    "plt.axvline(sample_mean, c='b')"
   ]
  },
  {
   "cell_type": "code",
   "execution_count": 44,
   "metadata": {},
   "outputs": [],
   "source": [
    "# This is our ... ?"
   ]
  },
  {
   "cell_type": "markdown",
   "metadata": {},
   "source": [
    "```\n",
    "RESAMPLED MEAN\n",
    "```"
   ]
  },
  {
   "cell_type": "markdown",
   "metadata": {},
   "source": [
    "Now, let's run the bootstrap so we can create a distribution!"
   ]
  },
  {
   "cell_type": "code",
   "execution_count": 45,
   "metadata": {},
   "outputs": [],
   "source": [
    "sample_means = np.array([])\n",
    "\n",
    "for i in range(5000):\n",
    "    bootstrapped = collected.sample(15,replace=True)\n",
    "    boot_mean = bootstrapped.get('Life expectancy ').mean()\n",
    "    sample_means = np.append(sample_means, boot_mean)\n",
    "    \n",
    "\n",
    "plt.hist(sample_means, bins=get_bins(sample_means, 0.5))"
   ]
  },
  {
   "cell_type": "code",
   "execution_count": 46,
   "metadata": {},
   "outputs": [],
   "source": [
    "# This is our ... ?"
   ]
  },
  {
   "cell_type": "markdown",
   "metadata": {},
   "source": [
    "```\n",
    "DISTRIBUTION OF SAMPLE MEANS\n",
    "```"
   ]
  },
  {
   "cell_type": "code",
   "execution_count": null,
   "metadata": {},
   "outputs": [],
   "source": []
  }
 ],
 "metadata": {
  "celltoolbar": "Slideshow",
  "kernelspec": {
   "display_name": "Python 3",
   "language": "python",
   "name": "python3"
  },
  "language_info": {
   "codemirror_mode": {
    "name": "ipython",
    "version": 3
   },
   "file_extension": ".py",
   "mimetype": "text/x-python",
   "name": "python",
   "nbconvert_exporter": "python",
   "pygments_lexer": "ipython3",
   "version": "3.6.2"
  }
 },
 "nbformat": 4,
 "nbformat_minor": 2
}
