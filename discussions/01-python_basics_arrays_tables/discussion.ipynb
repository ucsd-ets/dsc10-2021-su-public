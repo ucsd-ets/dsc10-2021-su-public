{
 "cells": [
  {
   "cell_type": "markdown",
   "metadata": {},
   "source": [
    "# Discussion 01: Python Basics, Arrays & Tables\n",
    "\n",
    "\n",
    "Welcome to Discussion 01! This week, we will go over Python Basics and take a detailed look at arrays & tables. You can find additional help on these topics in the course [textbook](https://eldridgejm.github.io/dive_into_data_science/front.html).\n",
    "\n",
    "Additionally, [here](https://ucsd-ets.github.io/dsc10-2020-fa/published/default/reference/babypandas-reference.pdf) is a potentially useful reference sheet that contains several data wrangling tips.\n",
    "\n",
    "I also highly recommend checking out [this](https://nationalzoo.si.edu/webcams/panda-cam) baby pandas resource as well.\n",
    "\n",
    "<img src=\"data/panda.jpeg\" width=\"600\">"
   ]
  },
  {
   "cell_type": "code",
   "execution_count": 1,
   "metadata": {},
   "outputs": [],
   "source": [
    "# please don't change this cell, but do make sure to run it\n",
    "import babypandas as bpd\n",
    "import matplotlib.pyplot as plt\n",
    "import numpy as np \n",
    "import math\n",
    "import otter\n",
    "grader = otter.Notebook()\n",
    "\n",
    "from notebook.services.config import ConfigManager\n",
    "cm = ConfigManager()\n",
    "cm.update(\n",
    "    \"livereveal\", {\n",
    "        \"width\": \"90%\",\n",
    "        \"height\": \"90%\",\n",
    "        \"scroll\": True,\n",
    "})"
   ]
  },
  {
   "cell_type": "markdown",
   "metadata": {},
   "source": [
    "## Jupyter Notebook Shortcuts\n",
    "\n",
    "shift+enter: run cell and move focus to cell below <br>\n",
    "ctl+enter: run cell and keep focus on cell <br>\n",
    "\n",
    "Command Mode (cell is blue):<br>\n",
    "x: cut the cell, also quick way to delete<br>\n",
    "c: copy the cell<br>\n",
    "v: paste the cell<br>\n",
    "d+d: delete cell<br>\n",
    "a: make new cell above<br>\n",
    "b: make new cell below<br>\n",
    "y: change cell to code<br>\n",
    "m: change cell to markdown<br>\n",
    "enter: start editing cell<br>\n",
    "\n",
    "Editing Mode (cell is green):<br>\n",
    "esc: enter command mode<br>\n",
    "shift+tab: info about a function<br>"
   ]
  },
  {
   "cell_type": "markdown",
   "metadata": {},
   "source": [
    "# What we'll cover:\n",
    "---\n",
    "\n",
    "- What is Python?\n",
    "- Data Types\n",
    "- Variables\n",
    "- Functions\n",
    "- Creating a Table"
   ]
  },
  {
   "cell_type": "markdown",
   "metadata": {},
   "source": [
    "# What is Python?\n",
    "---\n",
    "\n",
    "Python is a **high-level**, **interpreted** programming language invented by Guido Van Rossum in 1991.  It is a powerful language while remaining **dynamically-typed**, easily **readable**, and has plenty of **whitespace**."
   ]
  },
  {
   "cell_type": "markdown",
   "metadata": {},
   "source": [
    "- Interpreted:\n",
    "  - A file or cell can run instantly; does not need to compile to another file"
   ]
  },
  {
   "cell_type": "markdown",
   "metadata": {},
   "source": [
    "- Dynamically Typed:\n",
    "  - Python infers what type you want a variable to be; you don't tell it explicitly"
   ]
  },
  {
   "cell_type": "markdown",
   "metadata": {},
   "source": [
    "- Readable:\n",
    "  - Simply reading code aloud should largely reveal what's going on"
   ]
  },
  {
   "cell_type": "markdown",
   "metadata": {},
   "source": [
    "- Whitespace:\n",
    "  - You can *and should* use multiple lines to fit the `Python a e s t h e t i c`"
   ]
  },
  {
   "cell_type": "markdown",
   "metadata": {},
   "source": [
    "# Data Types in Python\n",
    "---\n",
    "\n",
    "Everything in Python has a type."
   ]
  },
  {
   "cell_type": "markdown",
   "metadata": {},
   "source": [
    "Some things are really simple—you could call them *\"primitive\"*.  \n",
    "These things have a specific value.\n",
    "\n",
    "There are four types of primitives:\n",
    "- Integers (ex. 1, 2, -12)\n",
    "- Floats (ex. 1.0, 3.5, -0.34)\n",
    "- Strings (\"this is a string\", \"a\", \"b\")\n",
    "- Booleans (True, False)"
   ]
  },
  {
   "cell_type": "markdown",
   "metadata": {},
   "source": [
    "Other things are a bit more complex.  \n",
    "These things act more like containers for values (or more containers).\n",
    "\n",
    "Some examples include:\n",
    "- Lists\n",
    "- Arrays\n",
    "- Tables\n",
    "- Dictionaries\n",
    "- Sets"
   ]
  },
  {
   "cell_type": "markdown",
   "metadata": {},
   "source": [
    "### Primitive Types: integers, floats, strings, booleans"
   ]
  },
  {
   "cell_type": "code",
   "execution_count": 2,
   "metadata": {},
   "outputs": [],
   "source": [
    "# Integers\n",
    "type(65)"
   ]
  },
  {
   "cell_type": "code",
   "execution_count": 3,
   "metadata": {},
   "outputs": [],
   "source": [
    "# Floats\n",
    "type(1.0)"
   ]
  },
  {
   "cell_type": "code",
   "execution_count": 4,
   "metadata": {},
   "outputs": [],
   "source": [
    "# Strings\n",
    "type(\"Hello\")"
   ]
  },
  {
   "cell_type": "code",
   "execution_count": 5,
   "metadata": {},
   "outputs": [],
   "source": [
    "# Booleans (True or False)\n",
    "type(False) "
   ]
  },
  {
   "cell_type": "markdown",
   "metadata": {},
   "source": [
    "What are some things we can do with these primitive types?"
   ]
  },
  {
   "cell_type": "code",
   "execution_count": 6,
   "metadata": {},
   "outputs": [],
   "source": [
    "# Let's do some testing together... here's a couple to start with:\n",
    "\n",
    "3 + 5 # Can we do this?"
   ]
  },
  {
   "cell_type": "code",
   "execution_count": 7,
   "metadata": {},
   "outputs": [],
   "source": [
    "3 + 5.9876 # What about this?"
   ]
  },
  {
   "cell_type": "code",
   "execution_count": 8,
   "metadata": {},
   "outputs": [],
   "source": [
    "# How about this?\n",
    "# 3 + \"string\""
   ]
  },
  {
   "cell_type": "code",
   "execution_count": 9,
   "metadata": {},
   "outputs": [],
   "source": [
    "# or this?\n",
    "\"string\" + \"another string\""
   ]
  },
  {
   "cell_type": "code",
   "execution_count": 10,
   "metadata": {},
   "outputs": [],
   "source": [
    "# Feel free to play around with different types and see what else is possible!"
   ]
  },
  {
   "cell_type": "markdown",
   "metadata": {},
   "source": [
    "### Some Others: arrays, and tables"
   ]
  },
  {
   "cell_type": "code",
   "execution_count": 11,
   "metadata": {},
   "outputs": [],
   "source": [
    "# Lists\n",
    "type([[5,2,'hello'], '1', 2, '3'])"
   ]
  },
  {
   "cell_type": "code",
   "execution_count": 12,
   "metadata": {},
   "outputs": [],
   "source": [
    "# Lists can contain any type of data\n",
    "['hi', ['how', 'are', 'you']]"
   ]
  },
  {
   "cell_type": "markdown",
   "metadata": {},
   "source": [
    "### NumPy Arrays\n",
    "\n",
    "NumPy Arrays will fit all data to **the same type**"
   ]
  },
  {
   "cell_type": "code",
   "execution_count": 13,
   "metadata": {},
   "outputs": [],
   "source": [
    "import numpy as np\n",
    "\n",
    "np.array([1, 2, 3])"
   ]
  },
  {
   "cell_type": "code",
   "execution_count": 14,
   "metadata": {},
   "outputs": [],
   "source": [
    "print(\"overall type:\", type(np.array([1, 2, 3])))\n",
    "print(\"type of individual elements:\", np.array([1, 2, 3]).dtype)"
   ]
  },
  {
   "cell_type": "markdown",
   "metadata": {},
   "source": [
    "Recap:\n",
    "\n",
    "All objects in Python have a type, some of which are primitive, some of which act more like containers.\n",
    "\n",
    "If we ever forget what type something is, we can use `type()` to find out!"
   ]
  },
  {
   "cell_type": "markdown",
   "metadata": {},
   "source": [
    "# Variables\n",
    "---\n",
    "\n",
    "In Python when you assign a variable like this:\n",
    "\n",
    "`x = 4 + 3`\n",
    "\n",
    "You're essentially telling Python this:\n",
    "\n",
    "`From now on, please let the value of 'x' contain the value of 7.`\n",
    "\n",
    "If you then re-assign the same variable name to a different value, the old value will be lost forever."
   ]
  },
  {
   "cell_type": "code",
   "execution_count": 15,
   "metadata": {},
   "outputs": [],
   "source": [
    "x = 4\n",
    "y = \"Why\"\n",
    "z = [4.0, \"That's the dream...\"]\n",
    "class_choice = np.array([\"Cake\", 3.14])\n",
    "\n",
    "print(x)\n",
    "print(y)\n",
    "print(z)\n",
    "print(class_choice) "
   ]
  },
  {
   "cell_type": "markdown",
   "metadata": {},
   "source": [
    "What happens if we assign x again?"
   ]
  },
  {
   "cell_type": "code",
   "execution_count": 16,
   "metadata": {},
   "outputs": [],
   "source": [
    "print(x)"
   ]
  },
  {
   "cell_type": "code",
   "execution_count": 17,
   "metadata": {},
   "outputs": [],
   "source": [
    "x = \"string\"\n",
    "print(x)"
   ]
  },
  {
   "cell_type": "markdown",
   "metadata": {},
   "source": [
    "Recall that variables assume the type of what you assign it to"
   ]
  },
  {
   "cell_type": "code",
   "execution_count": 18,
   "metadata": {},
   "outputs": [],
   "source": [
    "print(type(x))\n",
    "print(type(y))\n",
    "print(type(z))\n",
    "print(type(class_choice))"
   ]
  },
  {
   "cell_type": "markdown",
   "metadata": {},
   "source": [
    "We can even assign variables to other variables, this can get a bit tricky."
   ]
  },
  {
   "cell_type": "code",
   "execution_count": 19,
   "metadata": {},
   "outputs": [],
   "source": [
    "x = 1\n",
    "y = x\n",
    "x = 2\n",
    "\n",
    "print(\"y == x?       \", y == x)"
   ]
  },
  {
   "cell_type": "markdown",
   "metadata": {},
   "source": [
    "Wait but I thought we just set `y = x`!"
   ]
  },
  {
   "cell_type": "markdown",
   "metadata": {},
   "source": [
    "Recall that we're telling Python to assign y **to the value of** x, not directly to x!"
   ]
  },
  {
   "cell_type": "markdown",
   "metadata": {},
   "source": [
    "What is the value of something then?\n",
    "It's whatever is returned if you run it at the end of a cell."
   ]
  },
  {
   "cell_type": "code",
   "execution_count": 20,
   "metadata": {},
   "outputs": [],
   "source": [
    "# The value of x is\n",
    "x"
   ]
  },
  {
   "cell_type": "markdown",
   "metadata": {},
   "source": [
    "We can also perform operations on NumPy arrays."
   ]
  },
  {
   "cell_type": "code",
   "execution_count": 21,
   "metadata": {},
   "outputs": [],
   "source": [
    "x = np.array([1, 2, 3])\n",
    "y = np.array([4, 5, 6])"
   ]
  },
  {
   "cell_type": "code",
   "execution_count": 22,
   "metadata": {},
   "outputs": [],
   "source": [
    "x + y"
   ]
  },
  {
   "cell_type": "code",
   "execution_count": 23,
   "metadata": {},
   "outputs": [],
   "source": [
    "x * 2"
   ]
  },
  {
   "cell_type": "markdown",
   "metadata": {},
   "source": [
    "## Arrays vs. Lists\n",
    "\n",
    "---\n",
    "Arrays and lists are helpful when we want to store and manipulate **sequences** of data\n",
    "\n",
    "##### Lists\n",
    "- Built into Python\n",
    "- Friendly with different data types\n",
    "- EXTREMELY SLOW\n",
    "\n",
    "##### Arrays\n",
    "- Not built into Python directly (that's why we have NumPy!)\n",
    "- Elements must be the same data type\n",
    "- MUCH FASTER\n"
   ]
  },
  {
   "cell_type": "markdown",
   "metadata": {},
   "source": [
    "# Functions\n",
    "---\n",
    "\n",
    "Functions, like `print()`, allow us to easily run something with different <b>arguments</b>.\n",
    "\n",
    "We can also define our own functions to allow us to run our own code multiple times with different arguments."
   ]
  },
  {
   "cell_type": "markdown",
   "metadata": {},
   "source": [
    "### Definitions:\n",
    "<b>Parameter</b>: Variable in method definition. Ex: `def print(string_to_print):`\n",
    "\n",
    "<b>Argument</b>: Actual value used in function calls. Ex: `print(\"hello\")`\n",
    "\n",
    "Kinda pedantic, they are often used interchangably and people will know what you mean either way."
   ]
  },
  {
   "cell_type": "markdown",
   "metadata": {},
   "source": [
    "Many functions take values as inputs.  \n",
    "All functions will return a value (but that value may be `None`).\n",
    "\n",
    "Just like all values in Python, these have a type!"
   ]
  },
  {
   "cell_type": "markdown",
   "metadata": {},
   "source": [
    "So, it's important that we know what a function takes and what it returns.\n",
    "\n",
    "This helps a lot when it comes to fixing bad code!"
   ]
  },
  {
   "cell_type": "markdown",
   "metadata": {},
   "source": [
    "A Python function is called with the following format:\n",
    "\n",
    "`function_name(arg_1, arg_2, ...)`"
   ]
  },
  {
   "cell_type": "markdown",
   "metadata": {},
   "source": [
    "For example, `sum` takes a list (or array-like object) as a argument.  \n",
    "The function `len` can take a list too."
   ]
  },
  {
   "cell_type": "code",
   "execution_count": 24,
   "metadata": {},
   "outputs": [],
   "source": [
    "sum(np.array([1, 2, 3]))"
   ]
  },
  {
   "cell_type": "code",
   "execution_count": 25,
   "metadata": {},
   "outputs": [],
   "source": [
    "len(np.array([1, 2, 3]))"
   ]
  },
  {
   "cell_type": "markdown",
   "metadata": {},
   "source": [
    "And other functions, like `pow` take more than one argument."
   ]
  },
  {
   "cell_type": "code",
   "execution_count": 26,
   "metadata": {},
   "outputs": [],
   "source": [
    "help(pow)"
   ]
  },
  {
   "cell_type": "code",
   "execution_count": 27,
   "metadata": {},
   "outputs": [],
   "source": [
    "pow(1.618, 2)"
   ]
  },
  {
   "cell_type": "markdown",
   "metadata": {},
   "source": [
    "Some objects have their own functions!  \n",
    "To call this, you need to use \"dot notation\", it looks like this:\n",
    "\n",
    "\n",
    "`some_object.func_name(some_arg_1, some_arg_2, ...)`"
   ]
  },
  {
   "cell_type": "code",
   "execution_count": 28,
   "metadata": {},
   "outputs": [],
   "source": [
    "\"hello world\".title()"
   ]
  },
  {
   "cell_type": "code",
   "execution_count": 29,
   "metadata": {},
   "outputs": [],
   "source": [
    "\"hello world\".replace('world', 'DSC 10')"
   ]
  },
  {
   "cell_type": "markdown",
   "metadata": {},
   "source": [
    "We can assign a variable as the result of a function the same way we assign any variable!"
   ]
  },
  {
   "cell_type": "code",
   "execution_count": 30,
   "metadata": {},
   "outputs": [],
   "source": [
    "x = pow(8, 2)\n",
    "x"
   ]
  },
  {
   "cell_type": "markdown",
   "metadata": {},
   "source": [
    "<b>Bonus Question</b>: What is the return type of `print(\"hello\")`?"
   ]
  },
  {
   "cell_type": "code",
   "execution_count": 31,
   "metadata": {},
   "outputs": [],
   "source": [
    "x = print(\"hello\")\n",
    "type(x)"
   ]
  },
  {
   "cell_type": "markdown",
   "metadata": {},
   "source": [
    "<b>Bonus Bonus Question</b>: What will be printed out?\n",
    "\n",
    "`\n",
    "f = print\n",
    "x = f(\"hello\")\n",
    "f(type(x))\n",
    "`"
   ]
  },
  {
   "cell_type": "code",
   "execution_count": 32,
   "metadata": {},
   "outputs": [],
   "source": [
    "# f = print\n",
    "x = print(\"hello\")\n",
    "print(type(x))"
   ]
  },
  {
   "cell_type": "markdown",
   "metadata": {},
   "source": [
    "## Array Problems (part 1)\n",
    "---\n",
    "\n",
    "Try out these problems to get a bit more familiar with NumPy arrays."
   ]
  },
  {
   "cell_type": "markdown",
   "metadata": {},
   "source": [
    "**Question 1.1**\n",
    "\n",
    "We have 5 triangles.\n",
    "`base` measures the base of each triangle, `height` measures the height.\n",
    "\n",
    "What is the average area of a triangle in the data set?"
   ]
  },
  {
   "cell_type": "code",
   "execution_count": 33,
   "metadata": {},
   "outputs": [],
   "source": [
    "base = np.array([3, 1, 3, 5, 2])\n",
    "height = np.array([6, 2, 7, 7, 1])"
   ]
  },
  {
   "cell_type": "code",
   "execution_count": 34,
   "metadata": {},
   "outputs": [],
   "source": [
    "average_area = ...\n",
    "average_area"
   ]
  },
  {
   "cell_type": "code",
   "execution_count": null,
   "metadata": {
    "deletable": false,
    "editable": false
   },
   "outputs": [],
   "source": [
    "grader.check(\"q11\")"
   ]
  },
  {
   "cell_type": "markdown",
   "metadata": {},
   "source": [
    "## Recall: Ranges\n",
    "We can use this to easily generate sequential NumPy arrays."
   ]
  },
  {
   "cell_type": "code",
   "execution_count": 36,
   "metadata": {},
   "outputs": [],
   "source": [
    "np.arange(20)"
   ]
  },
  {
   "cell_type": "code",
   "execution_count": 37,
   "metadata": {},
   "outputs": [],
   "source": [
    "np.arange(3, 16, 4)"
   ]
  },
  {
   "cell_type": "markdown",
   "metadata": {},
   "source": [
    "**Question 1.2**\n",
    "\n",
    "Create an array that runs from 0 to 50 (included), with steps of 5 as below:\n",
    "\n",
    "0, 5, 10, ..., 45, 50"
   ]
  },
  {
   "cell_type": "code",
   "execution_count": 38,
   "metadata": {},
   "outputs": [],
   "source": [
    "zero_to_fifty_array = ...\n",
    "zero_to_fifty_array"
   ]
  },
  {
   "cell_type": "code",
   "execution_count": null,
   "metadata": {
    "deletable": false,
    "editable": false
   },
   "outputs": [],
   "source": [
    "grader.check(\"q12\")"
   ]
  },
  {
   "cell_type": "markdown",
   "metadata": {},
   "source": [
    "**Question 1.3**\n",
    "\n",
    "Using code, create the array:\n",
    "\n",
    "[4, 8, 16, 32, 64]"
   ]
  },
  {
   "cell_type": "code",
   "execution_count": 40,
   "metadata": {},
   "outputs": [],
   "source": [
    "four_to_sixty_four_array = ...\n",
    "four_to_sixty_four_array"
   ]
  },
  {
   "cell_type": "code",
   "execution_count": null,
   "metadata": {
    "deletable": false,
    "editable": false
   },
   "outputs": [],
   "source": [
    "grader.check(\"q13\")"
   ]
  },
  {
   "cell_type": "markdown",
   "metadata": {},
   "source": [
    "## FYI: Other array creation functions"
   ]
  },
  {
   "cell_type": "code",
   "execution_count": 42,
   "metadata": {},
   "outputs": [],
   "source": [
    "ones_array = np.ones(5)\n",
    "ones_array"
   ]
  },
  {
   "cell_type": "code",
   "execution_count": 43,
   "metadata": {},
   "outputs": [],
   "source": [
    "zeros_array = np.zeros(5)\n",
    "zeros_array"
   ]
  },
  {
   "cell_type": "code",
   "execution_count": 44,
   "metadata": {},
   "outputs": [],
   "source": [
    "some_array = np.array([6, 1, 9, 5, 2, 3, 4, 3, 2, 4])"
   ]
  },
  {
   "cell_type": "markdown",
   "metadata": {
    "deletable": false,
    "editable": false
   },
   "source": [
    "**Question 1.4** : How many elements are in ```some_array```?\n",
    "\n",
    "<!--\n",
    "BEGIN QUESTION\n",
    "name: q14\n",
    "-->"
   ]
  },
  {
   "cell_type": "code",
   "execution_count": 45,
   "metadata": {},
   "outputs": [],
   "source": [
    "num_elems = ...\n",
    "num_elems"
   ]
  },
  {
   "cell_type": "code",
   "execution_count": null,
   "metadata": {
    "deletable": false,
    "editable": false
   },
   "outputs": [],
   "source": [
    "grader.check(\"q14\")"
   ]
  },
  {
   "cell_type": "markdown",
   "metadata": {
    "deletable": false,
    "editable": false
   },
   "source": [
    "**Question 1.5** : How do we access the *first* element of ```some_array```?\n",
    "\n",
    "<!--\n",
    "BEGIN QUESTION\n",
    "name: q15\n",
    "-->"
   ]
  },
  {
   "cell_type": "code",
   "execution_count": 47,
   "metadata": {},
   "outputs": [],
   "source": [
    "first_elem = ...\n",
    "first_elem"
   ]
  },
  {
   "cell_type": "code",
   "execution_count": null,
   "metadata": {
    "deletable": false,
    "editable": false
   },
   "outputs": [],
   "source": [
    "grader.check(\"q15\")"
   ]
  },
  {
   "cell_type": "markdown",
   "metadata": {
    "deletable": false,
    "editable": false
   },
   "source": [
    "**Question 1.6** : How do we access the *last* element of ```some_array```?\n",
    "\n",
    "<!--\n",
    "BEGIN QUESTION\n",
    "name: q16\n",
    "-->"
   ]
  },
  {
   "cell_type": "code",
   "execution_count": 49,
   "metadata": {},
   "outputs": [],
   "source": [
    "last_elem = ...\n",
    "last_elem"
   ]
  },
  {
   "cell_type": "code",
   "execution_count": null,
   "metadata": {
    "deletable": false,
    "editable": false
   },
   "outputs": [],
   "source": [
    "grader.check(\"q16\")"
   ]
  },
  {
   "cell_type": "code",
   "execution_count": 51,
   "metadata": {},
   "outputs": [],
   "source": []
  },
  {
   "cell_type": "markdown",
   "metadata": {},
   "source": [
    "**Question 1.7** : What happens when we do ```some_array[-2]```?"
   ]
  },
  {
   "cell_type": "code",
   "execution_count": 52,
   "metadata": {},
   "outputs": [],
   "source": [
    "some_array"
   ]
  },
  {
   "cell_type": "code",
   "execution_count": 53,
   "metadata": {},
   "outputs": [],
   "source": [
    "some_array[-2]"
   ]
  },
  {
   "cell_type": "code",
   "execution_count": 54,
   "metadata": {},
   "outputs": [],
   "source": []
  },
  {
   "cell_type": "markdown",
   "metadata": {
    "deletable": false,
    "editable": false
   },
   "source": [
    "**Question 1.8** : How do we make a new array that contains only the first 5 elements from ```some_array```? \n",
    "\n",
    "<!--\n",
    "BEGIN QUESTION\n",
    "name: q18\n",
    "-->"
   ]
  },
  {
   "cell_type": "code",
   "execution_count": 55,
   "metadata": {},
   "outputs": [],
   "source": [
    "first_five = ...\n",
    "first_five"
   ]
  },
  {
   "cell_type": "code",
   "execution_count": null,
   "metadata": {
    "deletable": false,
    "editable": false
   },
   "outputs": [],
   "source": [
    "grader.check(\"q18\")"
   ]
  },
  {
   "cell_type": "code",
   "execution_count": 57,
   "metadata": {},
   "outputs": [],
   "source": [
    "array_1 = np.array([1,2,3,4,5,6,7,8])\n",
    "array_2 = np.array([6,7,8,9,10,11,12,13])"
   ]
  },
  {
   "cell_type": "markdown",
   "metadata": {
    "deletable": false,
    "editable": false
   },
   "source": [
    "**Question 1.9** : How to we get the element-wise sum of ```array_1``` and ```array_2```?\n",
    "\n",
    "<!--\n",
    "BEGIN QUESTION\n",
    "name: q19\n",
    "-->"
   ]
  },
  {
   "cell_type": "code",
   "execution_count": 58,
   "metadata": {},
   "outputs": [],
   "source": [
    "elem_wise_sum = ...\n",
    "elem_wise_sum"
   ]
  },
  {
   "cell_type": "code",
   "execution_count": null,
   "metadata": {
    "deletable": false,
    "editable": false
   },
   "outputs": [],
   "source": [
    "grader.check(\"q19\")"
   ]
  },
  {
   "cell_type": "markdown",
   "metadata": {
    "deletable": false,
    "editable": false
   },
   "source": [
    "**Question 1.10** : How to we get the max element from ```some_array```?\n",
    "\n",
    "<!--\n",
    "BEGIN QUESTION\n",
    "name: q110\n",
    "-->"
   ]
  },
  {
   "cell_type": "code",
   "execution_count": 60,
   "metadata": {},
   "outputs": [],
   "source": [
    "max_elem = ...\n",
    "max_elem"
   ]
  },
  {
   "cell_type": "code",
   "execution_count": null,
   "metadata": {
    "deletable": false,
    "editable": false
   },
   "outputs": [],
   "source": [
    "grader.check(\"q110\")"
   ]
  },
  {
   "cell_type": "code",
   "execution_count": 62,
   "metadata": {},
   "outputs": [],
   "source": []
  },
  {
   "cell_type": "markdown",
   "metadata": {},
   "source": [
    "**Remember!** NumPy Arrays will fit all data to the same type:"
   ]
  },
  {
   "cell_type": "code",
   "execution_count": 63,
   "metadata": {},
   "outputs": [],
   "source": [
    "random_array = np.array([45,\"hello\", True, 987, 34.5, \"Yes\"])\n",
    "random_array"
   ]
  },
  {
   "cell_type": "code",
   "execution_count": 64,
   "metadata": {},
   "outputs": [],
   "source": [
    "#But Lists will not:\n",
    "random_list = ['hello', 'there', 'buddy', 43, True, 38.9, 'DSC 10']\n",
    "random_list"
   ]
  },
  {
   "cell_type": "code",
   "execution_count": 65,
   "metadata": {},
   "outputs": [],
   "source": [
    "print(type(random_array))\n",
    "print(type(random_list))"
   ]
  },
  {
   "cell_type": "markdown",
   "metadata": {},
   "source": [
    "## Tables\n",
    "\n",
    "---\n",
    "Tables are a slightly more complex data structure that are helpful when we want to store and manipulate larger datasets with lots of information. We often refer to tables as \"data frames\" and these terms are interchangable in this class.\n",
    "\n",
    "**Rows** are labeled arrays that correspond to different entries or samples in the table. (The labels are typically *unique* and easily identifiable names.)\n",
    "\n",
    "**Columns** are labeled arrays that correspond to the different pieces of information we care about. (The labels are the titles of each column.)\n",
    "\n",
    "The **Index** of a table is an array completely separate from the columns and contains all of the row labels.\n",
    "\n",
    "A **Series** is a labeled array that corresponds to a single column from the table.\n",
    "\n",
    "##### Important note\n",
    "To get a particular element from a table, in this class, we'll always ```.get()``` the column label, then ```.loc[]``` the row label.\n"
   ]
  },
  {
   "cell_type": "code",
   "execution_count": 66,
   "metadata": {},
   "outputs": [],
   "source": [
    "print(type(random_array))\n",
    "print(type(random_list))"
   ]
  },
  {
   "cell_type": "markdown",
   "metadata": {},
   "source": [
    "## Table Problems (part 2)\n",
    "\n",
    "Try out these problems to get a bit more familiar with Data Frames."
   ]
  },
  {
   "cell_type": "markdown",
   "metadata": {},
   "source": [
    "# Ultimate Halloween Candy Showdown\n",
    "---\n",
    "269,000 user submitted winners of head to head candy matchups"
   ]
  },
  {
   "cell_type": "markdown",
   "metadata": {},
   "source": [
    "## Read from CSV"
   ]
  },
  {
   "cell_type": "code",
   "execution_count": 67,
   "metadata": {},
   "outputs": [],
   "source": [
    "candy = bpd.read_csv(\"data/candy.csv\")\n",
    "candy"
   ]
  },
  {
   "cell_type": "markdown",
   "metadata": {},
   "source": [
    "Right now, the rows and indexed by numbers 0 to 84.\n",
    "This isn't very informative, so we can change the index to one of the existing columns.\n",
    "\n",
    "What would be a good index to set?"
   ]
  },
  {
   "cell_type": "markdown",
   "metadata": {},
   "source": [
    "## Setting the index"
   ]
  },
  {
   "cell_type": "code",
   "execution_count": 68,
   "metadata": {},
   "outputs": [],
   "source": [
    "candy = candy.set_index('competitorname')\n",
    "candy"
   ]
  },
  {
   "cell_type": "markdown",
   "metadata": {},
   "source": [
    "This looks much better!"
   ]
  },
  {
   "cell_type": "code",
   "execution_count": 69,
   "metadata": {},
   "outputs": [],
   "source": [
    "candy.get(\"sugarpercent\")"
   ]
  },
  {
   "cell_type": "markdown",
   "metadata": {},
   "source": [
    "**Question 2.1**\n",
    "\n",
    "What is the `sugarpercent` of a bag of \"Pop Rocks\"?"
   ]
  },
  {
   "cell_type": "code",
   "execution_count": 70,
   "metadata": {},
   "outputs": [],
   "source": [
    "sugar_percent_pop_rocks = ...\n",
    "sugar_percent_pop_rocks"
   ]
  },
  {
   "cell_type": "code",
   "execution_count": null,
   "metadata": {
    "deletable": false,
    "editable": false
   },
   "outputs": [],
   "source": [
    "grader.check(\"q21\")"
   ]
  },
  {
   "cell_type": "markdown",
   "metadata": {},
   "source": [
    "**Question 2.2**\n",
    "\n",
    "What is the highest `winpercent` out of any candy?"
   ]
  },
  {
   "cell_type": "code",
   "execution_count": 72,
   "metadata": {},
   "outputs": [],
   "source": [
    "highest_win_percent = ...\n",
    "highest_win_percent"
   ]
  },
  {
   "cell_type": "code",
   "execution_count": null,
   "metadata": {
    "deletable": false,
    "editable": false
   },
   "outputs": [],
   "source": [
    "grader.check(\"q22\")"
   ]
  },
  {
   "cell_type": "markdown",
   "metadata": {},
   "source": [
    "**Question 2.3**\n",
    "\n",
    "Which candy has the highest `sugarpercent`?"
   ]
  },
  {
   "cell_type": "code",
   "execution_count": 74,
   "metadata": {},
   "outputs": [],
   "source": [
    "candy_highest_sugar_percent = ...\n",
    "candy_highest_sugar_percent"
   ]
  },
  {
   "cell_type": "code",
   "execution_count": null,
   "metadata": {
    "deletable": false,
    "editable": false
   },
   "outputs": [],
   "source": [
    "grader.check(\"q23\")"
   ]
  },
  {
   "cell_type": "markdown",
   "metadata": {},
   "source": [
    "**Question 2.4**\n",
    "\n",
    "What is the `winpercent` of the candy with the least amount of sugar?"
   ]
  },
  {
   "cell_type": "code",
   "execution_count": 76,
   "metadata": {},
   "outputs": [],
   "source": [
    "winpercent_least_sugar = ...\n",
    "winpercent_least_sugar"
   ]
  },
  {
   "cell_type": "code",
   "execution_count": null,
   "metadata": {
    "deletable": false,
    "editable": false
   },
   "outputs": [],
   "source": [
    "grader.check(\"q24\")"
   ]
  },
  {
   "cell_type": "markdown",
   "metadata": {},
   "source": [
    "**Question 2.5**\n",
    "\n",
    "What is the average `winpercent` of chocolate candies?\n",
    "\n",
    "**Bonus**: try to do it with two different approaches."
   ]
  },
  {
   "cell_type": "code",
   "execution_count": 78,
   "metadata": {},
   "outputs": [],
   "source": [
    "winpercent_chocolate_average = ...\n",
    "winpercent_chocolate_average"
   ]
  },
  {
   "cell_type": "code",
   "execution_count": null,
   "metadata": {
    "deletable": false,
    "editable": false
   },
   "outputs": [],
   "source": [
    "grader.check(\"q25\")"
   ]
  },
  {
   "cell_type": "code",
   "execution_count": 80,
   "metadata": {},
   "outputs": [],
   "source": []
  },
  {
   "cell_type": "markdown",
   "metadata": {
    "deletable": false,
    "editable": false
   },
   "source": [
    "**Question 2.6**\n",
    "\n",
    "Store the competitor names of the top 5 most popular candies (winpercent) in an array\n",
    "\n",
    "<!--\n",
    "BEGIN QUESTION\n",
    "name: q26\n",
    "-->"
   ]
  },
  {
   "cell_type": "code",
   "execution_count": 81,
   "metadata": {},
   "outputs": [],
   "source": [
    "top_five = ...\n",
    "top_five"
   ]
  },
  {
   "cell_type": "code",
   "execution_count": null,
   "metadata": {
    "deletable": false,
    "editable": false
   },
   "outputs": [],
   "source": [
    "grader.check(\"q26\")"
   ]
  },
  {
   "cell_type": "markdown",
   "metadata": {
    "deletable": false,
    "editable": false
   },
   "source": [
    "**Question 2.7**\n",
    "\n",
    "How many candies have caramel but not chocolate?\n",
    "\n",
    "<!--\n",
    "BEGIN QUESTION\n",
    "name: q27\n",
    "-->"
   ]
  },
  {
   "cell_type": "code",
   "execution_count": 83,
   "metadata": {
    "scrolled": true
   },
   "outputs": [],
   "source": [
    "candies_with_caramel_not_choco = ...\n",
    "candies_with_caramel_not_choco"
   ]
  },
  {
   "cell_type": "code",
   "execution_count": null,
   "metadata": {
    "deletable": false,
    "editable": false
   },
   "outputs": [],
   "source": [
    "grader.check(\"q27\")"
   ]
  },
  {
   "cell_type": "markdown",
   "metadata": {
    "deletable": false,
    "editable": false
   },
   "source": [
    "**Question 2.8**\n",
    "\n",
    "What is the name of the one candy that has the word \"candy\" as part of its name? \n",
    "\n",
    "<!--\n",
    "BEGIN QUESTION\n",
    "name: q28\n",
    "-->"
   ]
  },
  {
   "cell_type": "code",
   "execution_count": 85,
   "metadata": {},
   "outputs": [],
   "source": [
    "candy_name = ...\n",
    "candy_name"
   ]
  },
  {
   "cell_type": "code",
   "execution_count": null,
   "metadata": {
    "deletable": false,
    "editable": false
   },
   "outputs": [],
   "source": [
    "grader.check(\"q28\")"
   ]
  },
  {
   "cell_type": "markdown",
   "metadata": {
    "deletable": false,
    "editable": false
   },
   "source": [
    "**Question 2.9**\n",
    "\n",
    "Do chococlate candies or non-chocolate candies have a higher win percentage?\n",
    "Your answer should be 1 for chocolate candies or 0 for non-chocolate candies.\n",
    "\n",
    "<!--\n",
    "BEGIN QUESTION\n",
    "name: q29\n",
    "\n",
    "-->"
   ]
  },
  {
   "cell_type": "code",
   "execution_count": 87,
   "metadata": {},
   "outputs": [],
   "source": [
    "higher_winpercent_choc = ...\n",
    "higher_winpercent_choc"
   ]
  },
  {
   "cell_type": "code",
   "execution_count": null,
   "metadata": {
    "deletable": false,
    "editable": false
   },
   "outputs": [],
   "source": [
    "grader.check(\"q29\")"
   ]
  },
  {
   "cell_type": "markdown",
   "metadata": {
    "deletable": false,
    "editable": false
   },
   "source": [
    "**Question 2.10**\n",
    "\n",
    "Do chocolate candies have more hard candies or non-hard candies.\n",
    "Your answer should be 1 for hard candies or 0 for non-hard candies.\n",
    "\n",
    "<!--\n",
    "BEGIN QUESTION\n",
    "name: q210\n",
    "-->"
   ]
  },
  {
   "cell_type": "code",
   "execution_count": 89,
   "metadata": {},
   "outputs": [],
   "source": [
    "more_hard_or_soft = ...\n",
    "more_hard_or_soft"
   ]
  },
  {
   "cell_type": "code",
   "execution_count": null,
   "metadata": {
    "deletable": false,
    "editable": false
   },
   "outputs": [],
   "source": [
    "grader.check(\"q210\")"
   ]
  },
  {
   "cell_type": "code",
   "execution_count": 91,
   "metadata": {},
   "outputs": [],
   "source": [
    "# recall df\n",
    "candy"
   ]
  },
  {
   "cell_type": "markdown",
   "metadata": {
    "deletable": false,
    "editable": false
   },
   "source": [
    "**Question 2.11**\n",
    "\n",
    "Which candy has the most 1s in across all binary variables (Hint: Use ```.apply()```)\n",
    "\n",
    "<!--\n",
    "BEGIN QUESTION\n",
    "name: q211\n",
    "-->"
   ]
  },
  {
   "cell_type": "code",
   "execution_count": 92,
   "metadata": {},
   "outputs": [],
   "source": [
    "competitor_name = ...\n",
    "competitor_name"
   ]
  },
  {
   "cell_type": "code",
   "execution_count": null,
   "metadata": {
    "deletable": false,
    "editable": false
   },
   "outputs": [],
   "source": [
    "grader.check(\"q211\")"
   ]
  },
  {
   "cell_type": "code",
   "execution_count": 94,
   "metadata": {},
   "outputs": [],
   "source": [
    "grader.check_all()"
   ]
  },
  {
   "cell_type": "markdown",
   "metadata": {},
   "source": [
    "## More fun with Tables"
   ]
  },
  {
   "cell_type": "code",
   "execution_count": 95,
   "metadata": {},
   "outputs": [],
   "source": [
    "# recall the full data frame we've been working with\n",
    "candy"
   ]
  },
  {
   "cell_type": "markdown",
   "metadata": {},
   "source": [
    "# Building and Organizing DataFrames\n",
    "\n",
    "add/replace a column : ```df.assign(Name_of_Column=column_data)```\n",
    "\n",
    "drops a single column :  ```df.drop(columns=column_name)```\n",
    "\n",
    "drops every column in a list of columns : ```df.drop(columns=[col_1_name, ..., col_k_name])```\n",
    "\n",
    "move the index to a column : ```df.reset_index()```\n",
    "\n",
    "move the column to the index : ```df.set_index(column_name)```\n",
    "\n",
    "sort entire DataFrame by values in a column : ```df.sort_values(by=column_name)```\n"
   ]
  },
  {
   "cell_type": "code",
   "execution_count": 96,
   "metadata": {},
   "outputs": [],
   "source": [
    "# assign\n",
    "\n",
    "new_col_data = np.arange(candy.shape[0])\n",
    "candy.assign(new_col=new_col_data)"
   ]
  },
  {
   "cell_type": "code",
   "execution_count": 97,
   "metadata": {},
   "outputs": [],
   "source": [
    "# drop (single)\n",
    "\n",
    "candy.drop(columns='chocolate')"
   ]
  },
  {
   "cell_type": "code",
   "execution_count": 98,
   "metadata": {},
   "outputs": [],
   "source": [
    "# drop (multiple)\n",
    "\n",
    "candy.drop(columns=['chocolate','fruity','caramel','peanutyalmondy','nougat'])"
   ]
  },
  {
   "cell_type": "code",
   "execution_count": 99,
   "metadata": {},
   "outputs": [],
   "source": [
    "# reset index\n",
    "\n",
    "candy = candy.reset_index()\n",
    "candy"
   ]
  },
  {
   "cell_type": "code",
   "execution_count": 100,
   "metadata": {},
   "outputs": [],
   "source": [
    "# set index\n",
    "\n",
    "candy = candy.set_index('competitorname')\n",
    "candy"
   ]
  },
  {
   "cell_type": "code",
   "execution_count": 101,
   "metadata": {},
   "outputs": [],
   "source": [
    "# sort\n",
    "\n",
    "candy.sort_values(by=\"winpercent\")"
   ]
  },
  {
   "cell_type": "markdown",
   "metadata": {},
   "source": [
    "# Retrieving Information\n",
    "\n",
    "## DataFrame methods\n",
    "\n",
    "**Returns a Series**\n",
    "\n",
    "retrieve column : ```df.get(column_name)```\n",
    "\n",
    "**Returns a DataFrame**\n",
    "\n",
    "retrieve several columns : ```df.get([col_1_name, ..., col_k_name])```\n",
    "\n",
    "select row(s) by index position : ```df.take([pos_1, ..., pos_k])```\n",
    "\n",
    "select row(s) using Boolean array : ```df[bool_array]```\n",
    "\n",
    "**Returns other type**\n",
    "\n",
    "number of rows : ```df.shape[0]``` **number**\n",
    "\n",
    "number of columns : ```df.shape[1]``` **number**\n",
    "\n",
    "retrieve element in the index by its position : ```df.index[position]``` **index name**\n",
    "\n",
    "## Series methods\n",
    "\n",
    "**Returns an element**\n",
    "\n",
    "retrieve an element by the *row label* : ```ser.loc[label]```\n",
    "\n",
    "retrieve an element by its *index position* : ```ser.iloc[position]```"
   ]
  },
  {
   "cell_type": "code",
   "execution_count": 102,
   "metadata": {},
   "outputs": [],
   "source": [
    "# rows \n",
    "\n",
    "candy.shape[0]"
   ]
  },
  {
   "cell_type": "code",
   "execution_count": 103,
   "metadata": {},
   "outputs": [],
   "source": [
    "# columns\n",
    "\n",
    "candy.shape[1]"
   ]
  },
  {
   "cell_type": "code",
   "execution_count": 104,
   "metadata": {},
   "outputs": [],
   "source": [
    "# get \n",
    "\n",
    "candy.get(\"chocolate\") # Series"
   ]
  },
  {
   "cell_type": "code",
   "execution_count": 105,
   "metadata": {},
   "outputs": [],
   "source": [
    "# get \n",
    "\n",
    "candy.get([\"chocolate\", \"caramel\"]) # DataFrame"
   ]
  },
  {
   "cell_type": "code",
   "execution_count": 106,
   "metadata": {},
   "outputs": [],
   "source": [
    "# take\n",
    "\n",
    "candy.take([0])"
   ]
  },
  {
   "cell_type": "code",
   "execution_count": 107,
   "metadata": {},
   "outputs": [],
   "source": [
    "# take\n",
    "\n",
    "candy.take(np.arange(10))"
   ]
  },
  {
   "cell_type": "code",
   "execution_count": 108,
   "metadata": {},
   "outputs": [],
   "source": [
    "# bool access\n",
    "\n",
    "all_true = np.ones(candy.shape[0]).astype(bool) # must match number of rows in df!\n",
    "print(all_true)\n",
    "\n",
    "some_true = np.random.randint(2, size=candy.shape[0]).astype(bool) # must match number of rows in df!\n",
    "print(some_true)\n",
    "\n",
    "candy[some_true]"
   ]
  },
  {
   "cell_type": "code",
   "execution_count": 109,
   "metadata": {},
   "outputs": [],
   "source": [
    "# series by label\n",
    "\n",
    "win_series = candy.get(\"winpercent\")\n",
    "\n",
    "win_series.loc[\"Twizzlers\"]"
   ]
  },
  {
   "cell_type": "code",
   "execution_count": 110,
   "metadata": {},
   "outputs": [],
   "source": [
    "# series by position\n",
    "\n",
    "win_series.iloc[80]"
   ]
  },
  {
   "cell_type": "markdown",
   "metadata": {},
   "source": [
    "# More data : Fires in California"
   ]
  },
  {
   "cell_type": "code",
   "execution_count": 111,
   "metadata": {},
   "outputs": [],
   "source": [
    "calfire = bpd.read_csv('data/calfire-full.csv')\n",
    "calfire"
   ]
  },
  {
   "cell_type": "markdown",
   "metadata": {},
   "source": [
    "**Question 3.1**\n",
    "\n",
    "Create a new table with one column named count containing the number of fires in each county."
   ]
  },
  {
   "cell_type": "code",
   "execution_count": 112,
   "metadata": {},
   "outputs": [],
   "source": [
    "calfire_by_county = ...\n",
    "calfire_by_county"
   ]
  },
  {
   "cell_type": "markdown",
   "metadata": {},
   "source": [
    "**Question 3.2**\n",
    "\n",
    "What was the county with the largest number of fires?"
   ]
  },
  {
   "cell_type": "code",
   "execution_count": 113,
   "metadata": {},
   "outputs": [],
   "source": [
    "county_most_fires = ...\n",
    "county_most_fires"
   ]
  },
  {
   "cell_type": "code",
   "execution_count": null,
   "metadata": {
    "deletable": false,
    "editable": false
   },
   "outputs": [],
   "source": [
    "grader.check(\"q32\")"
   ]
  },
  {
   "cell_type": "markdown",
   "metadata": {},
   "source": [
    "**Question 3.3**\n",
    "\n",
    "How many fires were due to Arson?\n",
    "\n",
    "**Bonus**: try this in two different ways."
   ]
  },
  {
   "cell_type": "code",
   "execution_count": 115,
   "metadata": {},
   "outputs": [],
   "source": [
    "arson_fires = ...\n",
    "arson_fires"
   ]
  },
  {
   "cell_type": "code",
   "execution_count": null,
   "metadata": {
    "deletable": false,
    "editable": false
   },
   "outputs": [],
   "source": [
    "grader.check(\"q33\")"
   ]
  },
  {
   "cell_type": "code",
   "execution_count": 117,
   "metadata": {},
   "outputs": [],
   "source": []
  },
  {
   "cell_type": "code",
   "execution_count": 118,
   "metadata": {},
   "outputs": [],
   "source": [
    "grader.check_all()"
   ]
  },
  {
   "cell_type": "code",
   "execution_count": null,
   "metadata": {},
   "outputs": [],
   "source": []
  }
 ],
 "metadata": {
  "kernelspec": {
   "display_name": "Python 3",
   "language": "python",
   "name": "python3"
  },
  "language_info": {
   "codemirror_mode": {
    "name": "ipython",
    "version": 3
   },
   "file_extension": ".py",
   "mimetype": "text/x-python",
   "name": "python",
   "nbconvert_exporter": "python",
   "pygments_lexer": "ipython3",
   "version": "3.6.2"
  }
 },
 "nbformat": 4,
 "nbformat_minor": 1
}
