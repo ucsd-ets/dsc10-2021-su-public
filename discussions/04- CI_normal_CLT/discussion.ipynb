{
 "cells": [
  {
   "cell_type": "markdown",
   "metadata": {},
   "source": [
    "# DSC 10 Discussion Week 4\n",
    "\n",
    "<img src=\"data/panda_baby.jpg\" width=\"500\">"
   ]
  },
  {
   "cell_type": "markdown",
   "metadata": {},
   "source": [
    "# Bootstrapping - sampling within a sample\n",
    "- Problem : statistics about the data population are often unavailable, costly to acquire, unknown, etc.\n",
    "- Solution : utilize random sampling (and re-sampling) of available data to estimate population statistics\n",
    "    - The result of bootstrapping will be a distribution over sample statistics!\n",
    "    - Hopefully we'll see that these *sample statistics* $\\approx$ *population statistics*\n",
    "    \n",
    "### Bootstrapping basic procedure\n",
    "- Sample from the population\n",
    "- Re-sample from that same sample (make sure to have replace=True!)\n",
    "- Repeat\n",
    "- **Note** - after re-sampling, we will likely see duplicate data entries within a single sample, but that's okay! \n",
    "    - If we didn't have duplicates, then we would have the same exact data in every single sample (this would be bad!)\n",
    "\n",
    "# Bootstrapped Confidence Intervals\n",
    "- Goal : return a range of values that we are confident contain the true population statistic \n",
    "    - Bootstrapping gives us a distribution of sample statistics\n",
    "    - The true population statistic often lies within the bulk of that distribution \n",
    "- $X$% confidence interval \n",
    "    - Interpretation\n",
    "        - **YES**: $X$% of all bootstrapped sample statistics fall within that interval\n",
    "        - **YES**: ~$X$% of the time, the interval will capture the correct population statistic\n",
    "        - **YES**: I'm $X$% sure that the true population statistic is in the interval\n",
    "        - **NO**: the true population statistic has an $X$% change of being in the interval\n",
    "    - Computation\n",
    "        - Use $\\frac{100-X}{2}$ and $100-\\frac{100-X}{2}$ for lower and upper percentiles\n",
    "        \n",
    "### CIs for testing\n",
    "- Given P-value $p$ and null hypothesis \"population statistic = $a$\":\n",
    "    - Construct $(100-p)$ CI for populatiton statistic\n",
    "    - Reject null hypothesis if $a$ is not in the interval\n",
    "\n",
    "# Describing a Distribution : Mean and Spread\n",
    "- Center of a distribution \n",
    "    - *Mean* : balance point\n",
    "    - *Median* : half-way point (robust to outliers) \n",
    "- Spread of distribution \n",
    "    - *Range* : biggest - smallest\n",
    "    - *Standard deviation* : variability around the mean\n",
    "- Chebyshev's Inequality\n",
    "    - Proportion of values in the range \"average $\\pm\\ z$ SDs\" is ≥ $1-\\frac{1}{z^2}$\n",
    "- Looking forward\n",
    "    - We'll look at other types of distributions and ones that can be parameterized "
   ]
  },
  {
   "cell_type": "markdown",
   "metadata": {},
   "source": [
    "#### Extra\n",
    "- You can find additional help on these topics in the course [textbook](https://eldridgejm.github.io/dive_into_data_science/front.html).\n",
    "- [Here](https://ucsd-ets.github.io/dsc10-2020-fa/published/default/reference/babypandas-reference.pdf) is a pointer to that reference sheet we saw last time."
   ]
  },
  {
   "cell_type": "code",
   "execution_count": 1,
   "metadata": {},
   "outputs": [],
   "source": [
    "from scipy import stats\n",
    "import babypandas as bpd\n",
    "import numpy as np\n",
    "import matplotlib.pyplot as plt\n",
    "%matplotlib inline\n",
    "\n",
    "import otter\n",
    "grader = otter.Notebook()\n",
    "\n",
    "from notebook.services.config import ConfigManager\n",
    "\n",
    "cm = ConfigManager()\n",
    "cm.update(\n",
    "    \"livereveal\", {\n",
    "        'width': 1500,\n",
    "        'height': 700,\n",
    "        \"scroll\": True,\n",
    "})"
   ]
  },
  {
   "cell_type": "markdown",
   "metadata": {},
   "source": [
    "<div style=\"padding: 15px; border: 1px solid transparent; border-color: transparent; margin-bottom: 20px; border-radius: 4px; color: #3c763d; background-color: #dff0d8; border-color: #d6e9c6;\">\n",
    "\n",
    "# RECALL FROM LAST WEEK\n",
    "    \n",
    "Quick outline\n",
    "- data : life expectancy \n",
    "- population : all countries\n",
    "- sample : smaller random selection of countries\n",
    "- visualizations : histograms of life expectancy data and mean\n",
    "    \n",
    "</div>"
   ]
  },
  {
   "cell_type": "markdown",
   "metadata": {},
   "source": [
    "## Life expectancy data\n",
    "\n",
    "This data comes from the World Health Organization.  We can learn more about the meanings of the columns by looking here: https://www.kaggle.com/kumarajarshi/life-expectancy-who\n",
    "\n",
    "Let's travel back in time to the year 2015 and collect some data!  For the duration of this discussion, we're going to consider the following data to be our *\"population\"*.\n",
    "\n",
    "Let's take a look at it."
   ]
  },
  {
   "cell_type": "code",
   "execution_count": 2,
   "metadata": {},
   "outputs": [],
   "source": [
    "# load in all the data\n",
    "life_expectancy = bpd.read_csv(\"data/life_expectancy.csv\")\n",
    "\n",
    "# choose only data from 2015\n",
    "recent_data = life_expectancy[life_expectancy.get(\"Year\") == 2015]\n",
    "\n",
    "recent_data"
   ]
  },
  {
   "cell_type": "code",
   "execution_count": 3,
   "metadata": {},
   "outputs": [],
   "source": [
    "# compute population mean to compare\n",
    "\n",
    "pop_mean = recent_data.get('Life expectancy ').mean()\n",
    "pop_mean"
   ]
  },
  {
   "cell_type": "markdown",
   "metadata": {},
   "source": [
    "# Quick recap about sampling!\n",
    "\n",
    "Here we'll take a look at the same life expectancy data and do some sampling exercises."
   ]
  },
  {
   "cell_type": "code",
   "execution_count": 4,
   "metadata": {},
   "outputs": [],
   "source": [
    "# Let's visualize our population distribution.\n",
    "\n",
    "# Defining a function to create bins easily\n",
    "def get_bins(array, bin_size=1):\n",
    "    smallestNum = int(array.min())\n",
    "    \n",
    "    largestNum = int(array.max())\n",
    "    upperLimit = largestNum + bin_size + 1\n",
    "    \n",
    "    return np.arange(smallestNum, upperLimit, bin_size)"
   ]
  },
  {
   "cell_type": "code",
   "execution_count": 5,
   "metadata": {},
   "outputs": [],
   "source": [
    "measured = recent_data.get(\"Life expectancy \")\n",
    "\n",
    "#generate number of bins\n",
    "n_bins = get_bins(measured, 1) # <-- Try playing around with the bin size\n",
    "\n",
    "#lets plot the histogram\n",
    "recent_data.get('Life expectancy ').plot(kind='hist', bins=n_bins, density=True)"
   ]
  },
  {
   "cell_type": "markdown",
   "metadata": {},
   "source": [
    "## POPULATION DISTRIBUTION\n",
    "- life expectancy of all countries in our POPULATION (entire dataset)"
   ]
  },
  {
   "cell_type": "code",
   "execution_count": 6,
   "metadata": {},
   "outputs": [],
   "source": [
    "# different sample sizes\n",
    "\n",
    "num_samples = 50\n",
    "\n",
    "# num_samples = 40"
   ]
  },
  {
   "cell_type": "code",
   "execution_count": 7,
   "metadata": {},
   "outputs": [],
   "source": [
    "# How do we create a representative sample?\n",
    "collected = recent_data.sample(n=num_samples, replace=False)\n",
    "\n",
    "#we need new bin sizes\n",
    "n_bins = get_bins(collected.get('Life expectancy '),1)\n",
    "\n",
    "\n",
    "#lets plot the histogram\n",
    "plt.title(\"Sample Distribution\")\n",
    "collected.get('Life expectancy ').plot(kind='hist', bins=n_bins, density=True)\n",
    "# plt.show()"
   ]
  },
  {
   "cell_type": "markdown",
   "metadata": {},
   "source": [
    "## SAMPLE DISTRIBUTION\n",
    "- life expectancy of all countries in our SAMPLE (random selection of 15 countries)"
   ]
  },
  {
   "cell_type": "code",
   "execution_count": 8,
   "metadata": {},
   "outputs": [],
   "source": [
    "sample_mean = collected.get('Life expectancy ').mean()\n",
    "sample_mean\n",
    "\n",
    "# We can show our mean in relation to the sample:\n",
    "\n",
    "#plot the historgram again\n",
    "collected.get('Life expectancy ').plot(kind='hist', bins=n_bins, density=True)\n",
    "\n",
    "#draw the sample mean\n",
    "plt.title(\"Sample Mean\")\n",
    "plt.axvline(sample_mean, c='r')\n",
    "# plt.show()"
   ]
  },
  {
   "cell_type": "markdown",
   "metadata": {},
   "source": [
    "## SAMPLE MEAN\n",
    "- **mean** life expectancy of all countries in our SAMPLE (random selection of 40 countries)"
   ]
  },
  {
   "cell_type": "code",
   "execution_count": 9,
   "metadata": {},
   "outputs": [],
   "source": [
    "# Run this multiple time to see what changes.\n",
    "\n",
    "resampled = collected.sample(num_samples,replace=True)\n",
    "resampled_mean = resampled.get('Life expectancy ').mean()\n",
    "n_bins = get_bins(collected.get('Life expectancy '), 1)\n",
    "\n",
    "print(\"The resampled mean is:\\t\\t\", resampled_mean, \"\\nCompared to the original:\\t\", sample_mean)\n",
    "\n",
    "#plot the historgram again\n",
    "resampled.get('Life expectancy ').plot(kind='hist', bins=n_bins, density=True)\n",
    "\n",
    "#lets show the sampled_mean and resampled_mean\n",
    "plt.title(\"Resampled mean\")\n",
    "plt.axvline(resampled_mean, c='r')\n",
    "plt.axvline(sample_mean, c='b')\n",
    "# plt.show()"
   ]
  },
  {
   "cell_type": "markdown",
   "metadata": {},
   "source": [
    "## RESAMPLED MEAN\n",
    "- **mean** life expectancy of all countries in our NEW SAMPLE"
   ]
  },
  {
   "cell_type": "code",
   "execution_count": 10,
   "metadata": {},
   "outputs": [],
   "source": [
    "# bootstrapping loop\n",
    "\n",
    "sample_means = np.array([])\n",
    "\n",
    "for i in range(1000):\n",
    "    bootstrapped = collected.sample(num_samples,replace=True)\n",
    "    boot_mean = bootstrapped.get('Life expectancy ').mean()\n",
    "    sample_means = np.append(sample_means, boot_mean)"
   ]
  },
  {
   "cell_type": "code",
   "execution_count": 11,
   "metadata": {},
   "outputs": [],
   "source": [
    "plt.title(\"Distribution of Sample Means\")\n",
    "plt.hist(sample_means, bins=get_bins(sample_means, 0.5))\n",
    "# plt.show()"
   ]
  },
  {
   "cell_type": "markdown",
   "metadata": {},
   "source": [
    "## DISTRIBUTION OF SAMPLE MEANS\n",
    "- distribution of **mean** life expectancy from 1000 different samples (bootstrapping!)"
   ]
  },
  {
   "cell_type": "code",
   "execution_count": 12,
   "metadata": {},
   "outputs": [],
   "source": [
    "plt.hist(sample_means, bins=get_bins(sample_means, 0.5))\n",
    "plt.scatter(pop_mean, 0, color='red', s=80).set_zorder(2)"
   ]
  },
  {
   "cell_type": "markdown",
   "metadata": {},
   "source": [
    "## POPULATION MEAN TOO\n",
    "- comparing population mean to the distribution of sample means"
   ]
  },
  {
   "cell_type": "markdown",
   "metadata": {},
   "source": [
    "<div style=\"padding: 15px; border: 1px solid transparent; border-color: transparent; margin-bottom: 20px; border-radius: 4px; color: #3c763d; background-color: #dff0d8; border-color: #d6e9c6;\">\n",
    "\n",
    "### Everything above should hopefully be familiar from last week\n",
    "- if not [here](https://ucsd.zoom.us/rec/play/FNbiilaGa1BNkSAKGdIAIuBtvTMnua2wyZGWCKZ7SEj1l426mV18AkgUHnFTMypCepd5t5mm8cD85Ukp.dSsb2q67ubzlcB55?startTime=1605664878000&_x_zm_rtaid=0Oagfxv1TH6w3vwvZqPTbQ.1606170859635.ea29f4b90ffe94632dd6376dbf87eb23&_x_zm_rhtaid=235) is a link to last week's discussion!\n",
    "\n",
    "</div>"
   ]
  },
  {
   "cell_type": "markdown",
   "metadata": {},
   "source": [
    "# So now what? \n",
    "\n",
    "- What conclusions can we make about the **population mean** based on our distribution of sample means?"
   ]
  },
  {
   "cell_type": "markdown",
   "metadata": {},
   "source": [
    "# Confidence Intervals\n",
    "\n",
    "- We would like to come up with a range of values that contain X% of all bootstrapped sample means. \n",
    "- This interval corresponds to an X% confidence interval\n",
    "\n",
    "### How to do this?\n",
    "- We need our array of sample means and we need to compute a few percentiles based on what X% confidence interval we'd like to return"
   ]
  },
  {
   "cell_type": "markdown",
   "metadata": {},
   "source": [
    "# Question 1 \n",
    "Suppose we'd like to construct 90% and 82% Confidence Intervals over some statistic.\n",
    "\n",
    "What are the upper and lower percentiles we need in each case?"
   ]
  },
  {
   "cell_type": "code",
   "execution_count": 13,
   "metadata": {},
   "outputs": [],
   "source": [
    "# compute the lower percentile given a confidence interval\n",
    "def compute_lower_percentile(perc_conf):\n",
    "    \n",
    "    lower_perc = ...\n",
    "    \n",
    "    return lower_perc\n",
    "\n",
    "# compute the upper percentile given a confidence interval\n",
    "def compute_upper_percentile(perc_conf):\n",
    "    \n",
    "    upper_perc = ...\n",
    "    \n",
    "    return upper_perc"
   ]
  },
  {
   "cell_type": "code",
   "execution_count": 14,
   "metadata": {},
   "outputs": [],
   "source": [
    "lower_perc_90 = ...\n",
    "print(f\"Lower percentile for 90% C.I. : {lower_perc_90}\")\n",
    "\n",
    "upper_perc_90 = ...\n",
    "print(f\"Upper percentile for 90% C.I. : {upper_perc_90}\")"
   ]
  },
  {
   "cell_type": "code",
   "execution_count": 15,
   "metadata": {},
   "outputs": [],
   "source": [
    "lower_perc_82 = ...\n",
    "print(f\"Lower percentile for 82% C.I. : {lower_perc_82}\")\n",
    "\n",
    "upper_perc_82 = ...\n",
    "print(f\"Upper percentile for 82% C.I. : {upper_perc_82}\")"
   ]
  },
  {
   "cell_type": "markdown",
   "metadata": {},
   "source": [
    "# Question 2 \n",
    "\n",
    "Which of the two confidence intervals (90% or 82%) is larger? Why?"
   ]
  },
  {
   "cell_type": "code",
   "execution_count": 16,
   "metadata": {},
   "outputs": [],
   "source": [
    "# choose 90 or 82\n",
    " \n",
    "larger_ci = ...\n",
    "\n",
    "..."
   ]
  },
  {
   "cell_type": "markdown",
   "metadata": {},
   "source": [
    "# Question 3\n",
    "\n",
    "Compute the upper and lower bounds of a 95% confidence interval for our ```sample_means``` data from above."
   ]
  },
  {
   "cell_type": "code",
   "execution_count": 17,
   "metadata": {},
   "outputs": [],
   "source": [
    "def compute_ci(confidence_level, sample_means):\n",
    "\n",
    "    # What is the mean we're estimating?\n",
    "    mean = ...\n",
    "\n",
    "    # What are the percentiles?\n",
    "    # Use the functions we made above\n",
    "    lower_perc = ...\n",
    "    upper_perc = ...\n",
    "\n",
    "    # And then our lower and upper bounds?\n",
    "    lower_bound = ...\n",
    "    upper_bound = ...\n",
    "\n",
    "    # Printing it out so we can easily see our results.\n",
    "    print(\"\"\"\n",
    "    Mean:\\t{}\n",
    "\n",
    "    Lower Percentile:\\t{}\n",
    "    Upper Percentile:\\t{}\n",
    "\n",
    "    Lower Bound:\\t{}\n",
    "    Upper Bound:\\t{}\n",
    "\n",
    "    Confidence Level:\\t{}%\n",
    "    \"\"\".format(mean, lower_perc, upper_perc, lower_bound, upper_bound, confidence_level))\n",
    "    \n",
    "    return lower_bound, upper_bound"
   ]
  },
  {
   "cell_type": "code",
   "execution_count": 18,
   "metadata": {},
   "outputs": [],
   "source": [
    "confidence_level = ...\n",
    "\n",
    "# compute the ci\n",
    "..."
   ]
  },
  {
   "cell_type": "markdown",
   "metadata": {},
   "source": [
    "### Lets visualize the confidence interval on the histogram from earlier"
   ]
  },
  {
   "cell_type": "code",
   "execution_count": 19,
   "metadata": {},
   "outputs": [],
   "source": [
    "def plot_ci(ci, lower_bound, upper_bound, sample_means, pop_mean):\n",
    "    plt.title(f\"{ci}% confidence interval\")\n",
    "    plt.hist(sample_means, bins=get_bins(sample_means, 0.5))\n",
    "    plt.scatter(pop_mean, 0, color='red', s=80).set_zorder(3)\n",
    "    plt.plot([lower_bound, upper_bound], [0,0], color='lime', linewidth=4, zorder=2)"
   ]
  },
  {
   "cell_type": "code",
   "execution_count": 20,
   "metadata": {},
   "outputs": [],
   "source": [
    "plot_ci(confidence_level, lower_bound, upper_bound, sample_means, pop_mean)"
   ]
  },
  {
   "cell_type": "markdown",
   "metadata": {},
   "source": [
    "# Question 4\n",
    "\n",
    "Interpret what the confidence interval means in the context of this problem. "
   ]
  },
  {
   "cell_type": "code",
   "execution_count": 21,
   "metadata": {},
   "outputs": [],
   "source": [
    "..."
   ]
  },
  {
   "cell_type": "code",
   "execution_count": 22,
   "metadata": {},
   "outputs": [],
   "source": [
    "lower_bound"
   ]
  },
  {
   "cell_type": "code",
   "execution_count": 23,
   "metadata": {},
   "outputs": [],
   "source": [
    "upper_bound"
   ]
  },
  {
   "cell_type": "markdown",
   "metadata": {},
   "source": [
    "# Question 5\n",
    "\n",
    "Compute 100%, 80%, and 50% confidence intervals using the same ```sample_means``` and visualize the results of each."
   ]
  },
  {
   "cell_type": "code",
   "execution_count": 24,
   "metadata": {},
   "outputs": [],
   "source": [
    "# compute the bounds\n",
    "print(\"100% CI\")\n",
    "...\n",
    "\n",
    "print(\"80% CI\")\n",
    "...\n",
    "\n",
    "print(\"50% CI\")\n",
    "..."
   ]
  },
  {
   "cell_type": "code",
   "execution_count": 25,
   "metadata": {},
   "outputs": [],
   "source": [
    "# visualize the results\n",
    "plot_ci(100, lower_100, upper_100, sample_means, pop_mean)\n",
    "plot_ci(80, lower_80, upper_80, sample_means, pop_mean)\n",
    "plot_ci(50, lower_50, upper_50, sample_means, pop_mean)"
   ]
  },
  {
   "cell_type": "markdown",
   "metadata": {},
   "source": [
    "# Question 6\n",
    "\n",
    "Do any of the above confidence intervals (100%, 95%, 80%, 50%) NOT contain the true population mean?"
   ]
  },
  {
   "cell_type": "code",
   "execution_count": 26,
   "metadata": {},
   "outputs": [],
   "source": [
    "pop_mean"
   ]
  },
  {
   "cell_type": "code",
   "execution_count": 27,
   "metadata": {},
   "outputs": [],
   "source": [
    "# answer True or False\n",
    "exists_interval = ...\n",
    "exists_interval"
   ]
  },
  {
   "cell_type": "markdown",
   "metadata": {},
   "source": [
    "# Question 7\n",
    "\n",
    "Is it possible for the 80% confidence interval to contain the true population mean while the 95% confidence interval does not?"
   ]
  },
  {
   "cell_type": "code",
   "execution_count": 28,
   "metadata": {},
   "outputs": [],
   "source": [
    "# answer True or False\n",
    "possible = ...\n",
    "possible"
   ]
  },
  {
   "cell_type": "markdown",
   "metadata": {},
   "source": [
    "\n",
    "# Area Under the Curve"
   ]
  },
  {
   "cell_type": "markdown",
   "metadata": {},
   "source": [
    "Area under the curve normally follows Chebychev's Bounds:\n",
    "\n",
    "For all lists, and all numbers  z , the proportion of entries that are in the range \"average  $\\pm z$  SDs\" is at least $1 - \\frac{1}{z^{2}} $\n",
    "\n",
    "In other words, we can say that at least $1-\\frac{1}{z^2}$ of data from a sample must fall within $z$ standard deviations from the mean.\n",
    "\n",
    "How is this useful? We can actually use it to find the what proportion of entries lie within a certain standard deviation which allows us to compute the area under a curve easily.\n",
    "\n",
    "NOTE : Chebyshev's inequality holds for any shaped distribution!"
   ]
  },
  {
   "cell_type": "markdown",
   "metadata": {},
   "source": [
    "### Question 0.1"
   ]
  },
  {
   "cell_type": "markdown",
   "metadata": {},
   "source": [
    "What is the proportion of entries that are in the range average $\\pm 1$ SD "
   ]
  },
  {
   "cell_type": "code",
   "execution_count": 29,
   "metadata": {},
   "outputs": [],
   "source": [
    "cheby_area_pm_1 = ...\n",
    "cheby_area_pm_1"
   ]
  },
  {
   "cell_type": "markdown",
   "metadata": {},
   "source": [
    "### Question 0.2"
   ]
  },
  {
   "cell_type": "markdown",
   "metadata": {},
   "source": [
    "What is the proportion of entries that are in the range average $\\pm 2$ SD "
   ]
  },
  {
   "cell_type": "code",
   "execution_count": 30,
   "metadata": {},
   "outputs": [],
   "source": [
    "cheby_area_pm_2 = ...\n",
    "cheby_area_pm_2"
   ]
  },
  {
   "cell_type": "markdown",
   "metadata": {},
   "source": [
    "### Question 0.3"
   ]
  },
  {
   "cell_type": "markdown",
   "metadata": {},
   "source": [
    "What is the proportion of entries that are in the range average $\\pm 3$ SD "
   ]
  },
  {
   "cell_type": "code",
   "execution_count": 31,
   "metadata": {},
   "outputs": [],
   "source": [
    "cheby_area_pm_3 = ...\n",
    "cheby_area_pm_3"
   ]
  },
  {
   "cell_type": "markdown",
   "metadata": {},
   "source": [
    "## Area Under the Curve : Normal Distribution\n",
    "\n",
    "In the case of a normal distribution the area under the curve does increase much more due to certain properties of the normal distribution. \n",
    "Let us explore what the same bounds look like under normal distributions with the help of scipy.stats. \n",
    "\n",
    "We will use the stats.norm.cdf function which gives us the cumulative distribution function till a certain point. So if I say stats.norm.cdf(1) it will give me the area between all the points to the left of 1 in a normal curve.\n",
    "\n",
    "In general, are within $[a.b]$ is ```stats.norm.cdf(b) - stats.norm.cdf(a)```"
   ]
  },
  {
   "cell_type": "markdown",
   "metadata": {},
   "source": [
    "### Question 0.4"
   ]
  },
  {
   "cell_type": "markdown",
   "metadata": {},
   "source": [
    "What is the proportion of entries that are in the range average $\\pm 1$ SD under the normal curve"
   ]
  },
  {
   "cell_type": "code",
   "execution_count": 32,
   "metadata": {},
   "outputs": [],
   "source": [
    "normal_area_pm_1 = ...\n",
    "normal_area_pm_1"
   ]
  },
  {
   "cell_type": "markdown",
   "metadata": {},
   "source": [
    "### Question 0.5"
   ]
  },
  {
   "cell_type": "markdown",
   "metadata": {},
   "source": [
    "What is the proportion of entries that are in the range average $\\pm 2$ SD under the normal curve"
   ]
  },
  {
   "cell_type": "code",
   "execution_count": 33,
   "metadata": {},
   "outputs": [],
   "source": [
    "normal_area_pm_2 = ...\n",
    "normal_area_pm_2"
   ]
  },
  {
   "cell_type": "markdown",
   "metadata": {},
   "source": [
    "### Question 0.6"
   ]
  },
  {
   "cell_type": "markdown",
   "metadata": {},
   "source": [
    "What is the proportion of entries that are in the range average $\\pm 3$ SD under the normal curve"
   ]
  },
  {
   "cell_type": "code",
   "execution_count": 34,
   "metadata": {},
   "outputs": [],
   "source": [
    "normal_area_pm_3 = ...\n",
    "normal_area_pm_3"
   ]
  },
  {
   "cell_type": "code",
   "execution_count": 35,
   "metadata": {},
   "outputs": [],
   "source": [
    "# comparing AUC results\n",
    "\n",
    "print(f\"For ±1 SD --> Cheby. : {round(cheby_area_pm_1,3)}\\t Normal : {round(normal_area_pm_1,3)}\")\n",
    "print(f\"For ±2 SD --> Cheby. : {round(cheby_area_pm_2,3)}\\t Normal : {round(normal_area_pm_2,3)}\")\n",
    "print(f\"For ±3 SD --> Cheby. : {round(cheby_area_pm_3,3)}\\t Normal : {round(normal_area_pm_3,3)}\")"
   ]
  },
  {
   "cell_type": "markdown",
   "metadata": {},
   "source": [
    "Although it is completely valid, Chebyshev's inequality provides a much weaker lower bound to the proportion of data that lies within $z$ standard deviations from the mean."
   ]
  },
  {
   "cell_type": "markdown",
   "metadata": {},
   "source": [
    "# Central Limit Theorem"
   ]
  },
  {
   "cell_type": "markdown",
   "metadata": {},
   "source": [
    "The Central Limit Theorem says that the probability distribution of the sum or average of a large random sample drawn with replacement will be roughly normal, regardless of the distribution of the population from which the sample is drawn."
   ]
  },
  {
   "cell_type": "markdown",
   "metadata": {},
   "source": [
    "This is really useful since it can allow us to work with normal curves in most problems. \n",
    "\n",
    "Until now you have used this fact when computing the p value. When we say p value <= 0.05 we actually mean that our statistic is at least $\\pm 2$ SDs away from the normal mean which is pretty rare under a normal curve. In any other curve under the Chebychev bounds $\\pm 2$ SDs is much narrower (around 75%)."
   ]
  },
  {
   "cell_type": "code",
   "execution_count": 36,
   "metadata": {},
   "outputs": [],
   "source": [
    "# Let us introduce a random uniformly distributed dataset\n",
    "\n",
    "data = np.random.uniform(0, 20, 200)\n",
    "plt.hist(data)"
   ]
  },
  {
   "cell_type": "markdown",
   "metadata": {},
   "source": [
    "As you can see above we have a dataset that is clearly not normal. Let's try bootstrapping this and computing the mean"
   ]
  },
  {
   "cell_type": "code",
   "execution_count": 37,
   "metadata": {},
   "outputs": [],
   "source": [
    "num_simulations = 500\n",
    "sample_means = np.array([])\n",
    "for _ in range(num_simulations):\n",
    "    sample = np.random.choice(data, 200) # Note: Using .sample is better. I am working with a numpy array which is why I use this\n",
    "    mean_of_sample = np.mean(sample)\n",
    "    sample_means = np.append(sample_means, mean_of_sample)\n",
    "\n",
    "plt.hist(sample_means)"
   ]
  },
  {
   "cell_type": "markdown",
   "metadata": {},
   "source": [
    "This may be surprising, but our statistics are normally distributed!\n",
    "\n",
    "This is extremely useful since we can compute the p-value even with non-normal data as the distribution of the statistics are normal (as a result of the CLT)."
   ]
  },
  {
   "cell_type": "markdown",
   "metadata": {},
   "source": [
    "### Question 2.1"
   ]
  },
  {
   "cell_type": "markdown",
   "metadata": {},
   "source": [
    "What is the p value if we have an observed statistic of 9?"
   ]
  },
  {
   "cell_type": "code",
   "execution_count": 38,
   "metadata": {},
   "outputs": [],
   "source": [
    "p_value_with_obs_9 = ...\n",
    "p_value_with_obs_9"
   ]
  },
  {
   "cell_type": "markdown",
   "metadata": {},
   "source": [
    "### Question 2.2"
   ]
  },
  {
   "cell_type": "markdown",
   "metadata": {},
   "source": [
    "What is the p value if we have an observed statistic of 10?"
   ]
  },
  {
   "cell_type": "code",
   "execution_count": 39,
   "metadata": {},
   "outputs": [],
   "source": [
    "p_value_with_obs_10 = ...\n",
    "p_value_with_obs_10"
   ]
  },
  {
   "cell_type": "markdown",
   "metadata": {},
   "source": [
    "# Recall from last time...\n",
    "\n",
    "### Plot the distribution of sample means\n",
    "- Grab a sample\n",
    "- Use bootstrapping to sample from the sample\n",
    "- Compute the statistic for each bootstrapped sample\n",
    "- Plot them all"
   ]
  },
  {
   "cell_type": "markdown",
   "metadata": {},
   "source": [
    "## Population Mean"
   ]
  },
  {
   "cell_type": "code",
   "execution_count": 40,
   "metadata": {},
   "outputs": [],
   "source": [
    "# compute population mean to compare\n",
    "\n",
    "pop_data = recent_data.get('Life expectancy ')\n",
    "pop_mean = pop_data.mean()\n",
    "pop_mean"
   ]
  },
  {
   "cell_type": "markdown",
   "metadata": {},
   "source": [
    "# Population Distribution"
   ]
  },
  {
   "cell_type": "code",
   "execution_count": 41,
   "metadata": {},
   "outputs": [],
   "source": [
    "# Visualization help\n",
    "def get_bins(array, bin_size=1):\n",
    "    smallestNum = int(array.min())\n",
    "    \n",
    "    largestNum = int(array.max())\n",
    "    upperLimit = largestNum + bin_size + 1\n",
    "    \n",
    "    return np.arange(smallestNum, upperLimit, bin_size)\n",
    "\n",
    "plt.title(\"Population Distribution\")\n",
    "plt.hist(pop_data, bins=get_bins(pop_data,0.5))"
   ]
  },
  {
   "cell_type": "markdown",
   "metadata": {},
   "source": [
    "## The population distribution is clearly not a normal distribution"
   ]
  },
  {
   "cell_type": "markdown",
   "metadata": {},
   "source": [
    "# Distribution of Sample Means"
   ]
  },
  {
   "cell_type": "code",
   "execution_count": 42,
   "metadata": {},
   "outputs": [],
   "source": [
    "# Get a sample\n",
    "num_samples = 60\n",
    "collected = recent_data.sample(n=num_samples, replace=False)\n",
    "\n",
    "# Bootstrap\n",
    "sample_means = np.array([])\n",
    "\n",
    "for i in range(1000):\n",
    "    bootstrapped = collected.sample(num_samples,replace=True)\n",
    "    boot_mean = bootstrapped.get('Life expectancy ').mean()\n",
    "    sample_means = np.append(sample_means, boot_mean)\n",
    "    \n",
    "plt.title(\"Distribution of Sample Means (with Population Mean)\")\n",
    "plt.hist(sample_means, bins=get_bins(sample_means, 0.5))\n",
    "plt.scatter(pop_mean, 0, color='red', s=80).set_zorder(2)"
   ]
  },
  {
   "cell_type": "markdown",
   "metadata": {},
   "source": [
    "## However, the distribution of sample means is a normal distribution -- Thanks Central Limit Theorem!"
   ]
  },
  {
   "cell_type": "markdown",
   "metadata": {},
   "source": [
    "# Bootstrapped Confidence Intervals"
   ]
  },
  {
   "cell_type": "code",
   "execution_count": 43,
   "metadata": {},
   "outputs": [],
   "source": [
    "# compute the lower percentile given a confidence interval\n",
    "def compute_lower_percentile(perc_conf):\n",
    "    \n",
    "    lower_perc = (100-perc_conf)/2\n",
    "    \n",
    "    return lower_perc\n",
    "\n",
    "# compute the upper percentile given a confidence interval\n",
    "def compute_upper_percentile(perc_conf):\n",
    "    \n",
    "    upper_perc = 100 - (100-perc_conf)/2 \n",
    "    \n",
    "    return upper_perc\n",
    "\n",
    "def compute_ci(confidence_level, sample_means):\n",
    "\n",
    "    # What is the mean we're estimating?\n",
    "    mean = np.mean(sample_means) \n",
    "\n",
    "    # What are the percentiles?\n",
    "    # Use the functions we made above\n",
    "    lower_perc = compute_lower_percentile(confidence_level)\n",
    "    upper_perc = compute_upper_percentile(confidence_level)\n",
    "\n",
    "    # And then our lower and upper bounds?\n",
    "    lower_bound = np.percentile(sample_means, lower_perc) \n",
    "    upper_bound = np.percentile(sample_means, upper_perc) \n",
    "\n",
    "    # Printing it out so we can easily see our results.\n",
    "    print(\"\"\"\n",
    "    Mean:\\t{}\n",
    "\n",
    "    Lower Percentile:\\t{}\n",
    "    Upper Percentile:\\t{}\n",
    "\n",
    "    Lower Bound:\\t{}\n",
    "    Upper Bound:\\t{}\n",
    "\n",
    "    Confidence Level:\\t{}%\n",
    "    \"\"\".format(mean, lower_perc, upper_perc, lower_bound, upper_bound, confidence_level))\n",
    "    \n",
    "    return lower_bound, upper_bound\n",
    "\n",
    "lower_bound, upper_bound = compute_ci(95, sample_means)\n",
    "\n",
    "def plot_ci(ci, lower_bound, upper_bound, sample_means, pop_mean):\n",
    "    plt.title(f\"{ci}% confidence interval\")\n",
    "    plt.hist(sample_means, bins=get_bins(sample_means, 0.5), density=True)\n",
    "    plt.scatter(pop_mean, 0, color='red', s=80).set_zorder(3)\n",
    "    plt.plot([lower_bound, upper_bound], [0,0], color='lime', linewidth=4, zorder=2)\n",
    "    \n",
    "plot_ci(95, lower_bound, upper_bound, sample_means, pop_mean)"
   ]
  },
  {
   "cell_type": "markdown",
   "metadata": {},
   "source": [
    "# A bit of recap info...\n",
    "\n",
    "---\n",
    "- Our **POPULATION DISTRIBUTION** is unknown, and can be any shape.\n",
    "\n",
    "\n",
    "- A **SAMPLE DISTRIBUTION** should have a shape roughly similar to the population distribution.  \n",
    "(provided that the sample was large enough and was properly randomized)\n",
    "\n",
    "\n",
    "- A **SAMPLE MEAN** is just the mean of that sample distribution. This is just a single value.\n",
    "\n",
    "\n",
    "- We can collect a handful of sample means (or fake it by bootstrapping)\n",
    "\n",
    "\n",
    "- The **DISTRIBUTION OF SAMPLE MEANS** will resemble a normal distribution as the number of sample means increases.\n",
    "\n",
    "\n",
    "- The **CENTER/MEAN** of the distribution of sample means should be similar to the true population mean.  \n",
    "(provided that our original sample was proper)\n",
    "\n",
    "## So what does this all mean...\n",
    "\n",
    "---\n",
    "\n",
    "Since we know that a normal distribution will arise as the number of resamples increases, then do we really need to go through all the effort of running a bootstrap?\n",
    "\n",
    "Instead, we can rely on what we know about normal distributions!  The two defining features of a normal distribution are its center/mean and it's spread/standard deviation.\n",
    "\n",
    "Let us compute the **mean** and **standard deviation** of our **DISTRIBUTION OF SAMPLE MEANS** and parameterize a normal curve!\n"
   ]
  },
  {
   "cell_type": "code",
   "execution_count": 44,
   "metadata": {},
   "outputs": [],
   "source": [
    "from scipy.stats import norm\n",
    "\n",
    "# compute the mean\n",
    "sample_dist_mean = ...\n",
    "sample_dist_std = ...\n",
    "\n",
    "# set limits for plot\n",
    "start = sample_dist_mean-5*sample_dist_std\n",
    "stop = sample_dist_mean+5*sample_dist_std\n",
    "x = np.linspace(start, stop, 100)\n",
    "\n",
    "plt.title(\"Distribution of Sample Means (and Normal Curve)\")\n",
    "\n",
    "# plot histogram\n",
    "plt.hist(sample_means, bins=get_bins(sample_means, 0.5), density=True)\n",
    "\n",
    "# plot normal curve\n",
    "plt.plot(x, norm.pdf(x, sample_dist_mean, sample_dist_std), c='r')\n",
    "\n",
    "print(f\"Center (mean) : {round(sample_dist_mean,3)}\")\n",
    "print(f\"Spread (std) : {round(sample_dist_std,3)}\")"
   ]
  },
  {
   "cell_type": "markdown",
   "metadata": {},
   "source": [
    "### We now know the Mean and Standard Deviation of the normal curve associated with the distribution of sample means\n",
    "\n",
    "As you can see above, this normal curve is centered at our sample mean (70.609 years) and has a standard deviation of 1.118 years.\n",
    "\n",
    "However, we often want to standardize this distribution to be centered at 0 and have a standard deviation of 1.\n",
    "\n",
    "Standardizing distributions make it very easy to compare multiple normal distributions that originally had vastly different centers and spreads. It also makes it really easy to compute different statistics about the distribution.\n",
    "\n",
    "Let's take a look at how to do that now."
   ]
  },
  {
   "cell_type": "markdown",
   "metadata": {},
   "source": [
    "# Standard Normal Curve "
   ]
  },
  {
   "cell_type": "markdown",
   "metadata": {},
   "source": [
    "## CENTERING\n",
    "- Mean = 0"
   ]
  },
  {
   "cell_type": "code",
   "execution_count": 45,
   "metadata": {},
   "outputs": [],
   "source": [
    "# recall our sample of means\n",
    "print(f\"First 5 sample means : \\t\\t\\t{sample_means[:5]}\")\n",
    "print(f\"Center of sample distribution : \\t{round(sample_dist_mean,3)}\")\n",
    "print(f\"Std of sample distribution : \\t\\t{round(sample_dist_std,3)}\")"
   ]
  },
  {
   "cell_type": "code",
   "execution_count": 46,
   "metadata": {},
   "outputs": [],
   "source": [
    "# center the data to have mean = 0\n",
    "centered_sample_means = ...\n",
    "centered_sample_dist_mean = ...\n",
    "centered_sample_dist_std = ...\n",
    "\n",
    "print(f\"First 5 centered sample means : \\t\\t{centered_sample_means[:5]}\")\n",
    "print(f\"Center of centered sample distribution : \\t{round(centered_sample_dist_mean,3)}\")\n",
    "print(f\"Std of centered sample distribution : \\t\\t{round(centered_sample_dist_std,3)}\")"
   ]
  },
  {
   "cell_type": "code",
   "execution_count": 47,
   "metadata": {},
   "outputs": [],
   "source": [
    "# visualize \n",
    "plt.title(\"Distribution of Sample Means (Centered)\")\n",
    "plt.hist(centered_sample_means, bins=get_bins(centered_sample_means, 0.5), density=True)"
   ]
  },
  {
   "cell_type": "markdown",
   "metadata": {},
   "source": [
    "## SCALING\n",
    "- Standard Deviation = 1"
   ]
  },
  {
   "cell_type": "code",
   "execution_count": 48,
   "metadata": {},
   "outputs": [],
   "source": [
    "# scale the data to have std = 1\n",
    "centered_and_scaled_means = ...\n",
    "centered_and_scaled_sample_dist_mean = ...\n",
    "centered_and_scaled_sample_dist_std = ...\n",
    "\n",
    "print(f\"First 5 centered and scaled sample means : \\t\\t{centered_and_scaled_means[:5]}\")\n",
    "print(f\"Center of centered and scaled sample distribution : \\t{round(centered_and_scaled_sample_dist_mean,3)}\")\n",
    "print(f\"Std of centered and scaled sample distribution : \\t{round(centered_and_scaled_sample_dist_std,3)}\")"
   ]
  },
  {
   "cell_type": "code",
   "execution_count": 49,
   "metadata": {},
   "outputs": [],
   "source": [
    "# visualize \n",
    "plt.title(\"Distribution of Sample Means (Centered and Scaled)\")\n",
    "plt.hist(centered_sample_means, bins=get_bins(centered_and_scaled_means, 0.5), density=True)"
   ]
  },
  {
   "cell_type": "markdown",
   "metadata": {},
   "source": [
    "# Plot the normal curve"
   ]
  },
  {
   "cell_type": "code",
   "execution_count": 50,
   "metadata": {},
   "outputs": [],
   "source": [
    "# get the mean and std\n",
    "\n",
    "centered_and_scaled_sample_dist_mean = ...\n",
    "centered_and_scaled_sample_dist_std = ...\n",
    "\n",
    "# set limits for plot\n",
    "start = centered_and_scaled_sample_dist_mean-5*centered_and_scaled_sample_dist_std\n",
    "stop = centered_and_scaled_sample_dist_mean+5*centered_and_scaled_sample_dist_std\n",
    "x = np.linspace(start, stop, 100)\n",
    "\n",
    "plt.title(\"Distribution of Sample Means (and Normal Curve)\")\n",
    "\n",
    "# plot histogram\n",
    "plt.hist(centered_and_scaled_means, bins=get_bins(centered_and_scaled_means, 0.5), density=True)\n",
    "\n",
    "# plot normal curve\n",
    "plt.plot(x, norm.pdf(x, centered_and_scaled_sample_dist_mean, centered_and_scaled_sample_dist_std), c='r')\n",
    "\n",
    "print(f\"Center (mean) : {round(centered_and_scaled_sample_dist_mean,3)}\")\n",
    "print(f\"Spread (std) : {round(centered_and_scaled_sample_dist_std,3)}\")"
   ]
  },
  {
   "cell_type": "markdown",
   "metadata": {},
   "source": [
    "Now that we are looking at a normal distribution, let's talk about standard units and area.\n",
    "\n",
    "# Standard Units and Area\n",
    "- Define $z(x) = \\frac{x-\\text{mean}}{\\text{std}}$\n",
    "- $z(x)$ maps $x$ to standard units \n",
    "    - If a distribution is roughly normal, then the area between $a$ and $b$ is approx. equal to the area between $z(a)$ and $z(b)$"
   ]
  },
  {
   "cell_type": "markdown",
   "metadata": {},
   "source": [
    "## What proportion of countries have a life expectancy between 72 and 74 years?"
   ]
  },
  {
   "cell_type": "markdown",
   "metadata": {},
   "source": [
    "### Using Standard Units"
   ]
  },
  {
   "cell_type": "code",
   "execution_count": 51,
   "metadata": {},
   "outputs": [],
   "source": [
    "# define z(x)\n",
    "def z(x):\n",
    "    ..."
   ]
  },
  {
   "cell_type": "code",
   "execution_count": 52,
   "metadata": {},
   "outputs": [],
   "source": [
    "# define age bounds\n",
    "lower_age = 72\n",
    "upper_age = 74\n",
    "\n",
    "# comute standard units\n",
    "lower_standard = ...\n",
    "upper_standard = ...\n",
    "\n",
    "print(f\"Mean life expectancy : {round(sample_dist_mean,2)}\")\n",
    "\n",
    "print(f\"LOWER : {lower_age} years --> {round(lower_standard,2)} standard units --> {round(lower_standard,2)} stdev's above the mean\")\n",
    "print(f\"UPPER : {upper_age} years --> {round(upper_standard,2)} standard units --> {round(upper_standard,2)} stdev's above the mean\")"
   ]
  },
  {
   "cell_type": "code",
   "execution_count": 53,
   "metadata": {},
   "outputs": [],
   "source": [
    "# compute the area under the curve between\n",
    "approx_prop_standard = ...\n",
    "approx_prop_standard"
   ]
  },
  {
   "cell_type": "code",
   "execution_count": 54,
   "metadata": {},
   "outputs": [],
   "source": [
    "# plot area under curve\n",
    "\n",
    "plt.title(\"Area Under Curve (Standard)\")\n",
    "\n",
    "start = centered_and_scaled_sample_dist_mean-5*centered_and_scaled_sample_dist_std\n",
    "stop = centered_and_scaled_sample_dist_mean+5*centered_and_scaled_sample_dist_std\n",
    "x = np.linspace(start, stop, 100)\n",
    "y = norm.pdf(x, centered_and_scaled_sample_dist_mean, centered_and_scaled_sample_dist_std)\n",
    "\n",
    "# plot normal curve\n",
    "plt.plot(x, y, c='r')\n",
    "\n",
    "ix = (x>=lower_standard) & (x<=upper_standard)\n",
    "plt.fill_between(x[ix],y[ix],alpha=0.5)\n",
    "\n",
    "plt.axvline(lower_standard,color='C1')\n",
    "plt.axvline(upper_standard,color='C1')"
   ]
  },
  {
   "cell_type": "markdown",
   "metadata": {},
   "source": [
    "### Using Sample Distribution"
   ]
  },
  {
   "cell_type": "code",
   "execution_count": 55,
   "metadata": {},
   "outputs": [],
   "source": [
    "# compute proportion using distribution\n",
    "approx_prop_dist = ...\n",
    "approx_prop_dist"
   ]
  },
  {
   "cell_type": "code",
   "execution_count": 56,
   "metadata": {},
   "outputs": [],
   "source": [
    "# plot area under curve\n",
    "\n",
    "plt.title(\"Area Under Curve (Distribution)\")\n",
    "\n",
    "# plot histogram\n",
    "plt.hist(sample_means, bins=get_bins(sample_means, 0.5), density=True)\n",
    "\n",
    "ix = (x>=lower_age) & (x<=upper_age)\n",
    "plt.fill_between(x[ix],y[ix],alpha=0.5)\n",
    "\n",
    "plt.axvline(lower_age,color='C1')\n",
    "plt.axvline(upper_age,color='C1')"
   ]
  }
 ],
 "metadata": {
  "kernelspec": {
   "display_name": "Python 3",
   "language": "python",
   "name": "python3"
  },
  "language_info": {
   "codemirror_mode": {
    "name": "ipython",
    "version": 3
   },
   "file_extension": ".py",
   "mimetype": "text/x-python",
   "name": "python",
   "nbconvert_exporter": "python",
   "pygments_lexer": "ipython3",
   "version": "3.6.2"
  }
 },
 "nbformat": 4,
 "nbformat_minor": 2
}
