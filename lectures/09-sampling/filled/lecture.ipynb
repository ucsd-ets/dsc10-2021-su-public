{
 "cells": [
  {
   "cell_type": "code",
   "execution_count": 1,
   "metadata": {
    "slideshow": {
     "slide_type": "slide"
    }
   },
   "outputs": [
    {
     "name": "stdout",
     "output_type": "stream",
     "text": [
      "\n",
      "\n",
      "\n",
      "\n",
      "\n",
      "\n",
      "\n",
      "\n",
      "\n",
      "\n",
      "\n",
      "\n",
      "\n",
      "\n",
      "\n",
      "\n",
      "\n",
      "\n",
      "\n",
      "\n"
     ]
    }
   ],
   "source": [
    "#:\n",
    "import babypandas as bpd\n",
    "import numpy as np\n",
    "\n",
    "%matplotlib inline\n",
    "import matplotlib.pyplot as plt\n",
    "import warnings; warnings.simplefilter('ignore')\n",
    "\n",
    "plt.style.use('fivethirtyeight')\n",
    "\n",
    "for i in range(20):\n",
    "    print()"
   ]
  },
  {
   "cell_type": "markdown",
   "metadata": {
    "slideshow": {
     "slide_type": "slide"
    }
   },
   "source": [
    "# Lecture 09\n",
    "\n",
    "## Sampling"
   ]
  },
  {
   "cell_type": "markdown",
   "metadata": {
    "slideshow": {
     "slide_type": "slide"
    }
   },
   "source": [
    "## Announcements:\n",
    "\n",
    "- Sample exam posted (but be careful!)\n",
    "- Friday's discussion = review session"
   ]
  },
  {
   "cell_type": "markdown",
   "metadata": {
    "slideshow": {
     "slide_type": "slide"
    }
   },
   "source": [
    "## Sampling\n",
    "\n",
    "- What do people think of the new Star Wars movie?\n",
    "- We can't ask *everyone* in the **population** at large.\n",
    "- So we take a **sample**.\n",
    "- Central question: what does the opinion of the sample say about the population."
   ]
  },
  {
   "cell_type": "markdown",
   "metadata": {
    "slideshow": {
     "slide_type": "slide"
    }
   },
   "source": [
    "## Population and Sample\n",
    "\n",
    "- The **population** is the set of things being **sampled** from.\n",
    "- Examples: all moviegoers, the faces of a die."
   ]
  },
  {
   "cell_type": "markdown",
   "metadata": {
    "slideshow": {
     "slide_type": "slide"
    }
   },
   "source": [
    "## Types of sample\n",
    "\n",
    "### Deterministic sample:\n",
    "* Sampling scheme doesn’t involve chance\n",
    "\n",
    "### Probability (random) sample:\n",
    "* Involves chance\n",
    "* Before the sample is drawn, you can calculate the probability of selecting each subset of the **population**\n",
    "* Not all individuals need to have an equal chance of being selected"
   ]
  },
  {
   "cell_type": "markdown",
   "metadata": {
    "slideshow": {
     "slide_type": "slide"
    }
   },
   "source": [
    "### Example: deterministic sample\n",
    "\n",
    "Sample of students: take 50% of students, alphabetically by last name\n",
    "\n",
    "### Example: probability sample\n",
    "\n",
    "Sample of students: flip a coin for each student in class (heads, keep; tails, leave)"
   ]
  },
  {
   "cell_type": "markdown",
   "metadata": {
    "slideshow": {
     "slide_type": "slide"
    }
   },
   "source": [
    "### Example: a probability sample\n",
    "* Population: 3 individuals (A, B, C)\n",
    "* Select a sample of 2\n",
    "    - A chosen with probability 1\n",
    "    - Choose B or C based on coin toss\n",
    "* Possible samples: AB, AC, BC\n",
    "    - Chance of AB: ½\n",
    "    - Chance of AC: ½\n",
    "    - Chance of BC = 0"
   ]
  },
  {
   "cell_type": "markdown",
   "metadata": {
    "slideshow": {
     "slide_type": "slide"
    }
   },
   "source": [
    "## Example: movies"
   ]
  },
  {
   "cell_type": "code",
   "execution_count": 2,
   "metadata": {
    "slideshow": {
     "slide_type": "-"
    }
   },
   "outputs": [
    {
     "data": {
      "text/html": [
       "<div>\n",
       "<style scoped>\n",
       "    .dataframe tbody tr th:only-of-type {\n",
       "        vertical-align: middle;\n",
       "    }\n",
       "\n",
       "    .dataframe tbody tr th {\n",
       "        vertical-align: top;\n",
       "    }\n",
       "\n",
       "    .dataframe thead th {\n",
       "        text-align: right;\n",
       "    }\n",
       "</style>\n",
       "<table border=\"1\" class=\"dataframe\">\n",
       "  <thead>\n",
       "    <tr style=\"text-align: right;\">\n",
       "      <th></th>\n",
       "      <th>Studio</th>\n",
       "      <th>Gross</th>\n",
       "      <th>Gross (Adjusted)</th>\n",
       "      <th>Year</th>\n",
       "    </tr>\n",
       "    <tr>\n",
       "      <th>Title</th>\n",
       "      <th></th>\n",
       "      <th></th>\n",
       "      <th></th>\n",
       "      <th></th>\n",
       "    </tr>\n",
       "  </thead>\n",
       "  <tbody>\n",
       "    <tr>\n",
       "      <th>Star Wars: The Force Awakens</th>\n",
       "      <td>Buena Vista (Disney)</td>\n",
       "      <td>906723418</td>\n",
       "      <td>906723400</td>\n",
       "      <td>2015</td>\n",
       "    </tr>\n",
       "    <tr>\n",
       "      <th>Avatar</th>\n",
       "      <td>Fox</td>\n",
       "      <td>760507625</td>\n",
       "      <td>846120800</td>\n",
       "      <td>2009</td>\n",
       "    </tr>\n",
       "    <tr>\n",
       "      <th>Titanic</th>\n",
       "      <td>Paramount</td>\n",
       "      <td>658672302</td>\n",
       "      <td>1178627900</td>\n",
       "      <td>1997</td>\n",
       "    </tr>\n",
       "    <tr>\n",
       "      <th>Jurassic World</th>\n",
       "      <td>Universal</td>\n",
       "      <td>652270625</td>\n",
       "      <td>687728000</td>\n",
       "      <td>2015</td>\n",
       "    </tr>\n",
       "    <tr>\n",
       "      <th>Marvel's The Avengers</th>\n",
       "      <td>Buena Vista (Disney)</td>\n",
       "      <td>623357910</td>\n",
       "      <td>668866600</td>\n",
       "      <td>2012</td>\n",
       "    </tr>\n",
       "    <tr>\n",
       "      <th>...</th>\n",
       "      <td>...</td>\n",
       "      <td>...</td>\n",
       "      <td>...</td>\n",
       "      <td>...</td>\n",
       "    </tr>\n",
       "    <tr>\n",
       "      <th>The Caine Mutiny</th>\n",
       "      <td>Columbia</td>\n",
       "      <td>21750000</td>\n",
       "      <td>386173500</td>\n",
       "      <td>1954</td>\n",
       "    </tr>\n",
       "    <tr>\n",
       "      <th>The Bells of St. Mary's</th>\n",
       "      <td>RKO</td>\n",
       "      <td>21333333</td>\n",
       "      <td>545882400</td>\n",
       "      <td>1945</td>\n",
       "    </tr>\n",
       "    <tr>\n",
       "      <th>Duel in the Sun</th>\n",
       "      <td>Selz.</td>\n",
       "      <td>20408163</td>\n",
       "      <td>443877500</td>\n",
       "      <td>1946</td>\n",
       "    </tr>\n",
       "    <tr>\n",
       "      <th>Sergeant York</th>\n",
       "      <td>Warner Bros.</td>\n",
       "      <td>16361885</td>\n",
       "      <td>418671800</td>\n",
       "      <td>1941</td>\n",
       "    </tr>\n",
       "    <tr>\n",
       "      <th>The Four Horsemen of the Apocalypse</th>\n",
       "      <td>MPC</td>\n",
       "      <td>9183673</td>\n",
       "      <td>399489800</td>\n",
       "      <td>1921</td>\n",
       "    </tr>\n",
       "  </tbody>\n",
       "</table>\n",
       "<p>200 rows × 4 columns</p>\n",
       "</div>"
      ],
      "text/plain": [
       "                                                   Studio      Gross  \\\n",
       "Title                                                                  \n",
       "Star Wars: The Force Awakens         Buena Vista (Disney)  906723418   \n",
       "Avatar                                                Fox  760507625   \n",
       "Titanic                                         Paramount  658672302   \n",
       "Jurassic World                                  Universal  652270625   \n",
       "Marvel's The Avengers                Buena Vista (Disney)  623357910   \n",
       "...                                                   ...        ...   \n",
       "The Caine Mutiny                                 Columbia   21750000   \n",
       "The Bells of St. Mary's                               RKO   21333333   \n",
       "Duel in the Sun                                     Selz.   20408163   \n",
       "Sergeant York                                Warner Bros.   16361885   \n",
       "The Four Horsemen of the Apocalypse                   MPC    9183673   \n",
       "\n",
       "                                     Gross (Adjusted)  Year  \n",
       "Title                                                        \n",
       "Star Wars: The Force Awakens                906723400  2015  \n",
       "Avatar                                      846120800  2009  \n",
       "Titanic                                    1178627900  1997  \n",
       "Jurassic World                              687728000  2015  \n",
       "Marvel's The Avengers                       668866600  2012  \n",
       "...                                               ...   ...  \n",
       "The Caine Mutiny                            386173500  1954  \n",
       "The Bells of St. Mary's                     545882400  1945  \n",
       "Duel in the Sun                             443877500  1946  \n",
       "Sergeant York                               418671800  1941  \n",
       "The Four Horsemen of the Apocalypse         399489800  1921  \n",
       "\n",
       "[200 rows x 4 columns]"
      ]
     },
     "execution_count": 2,
     "metadata": {},
     "output_type": "execute_result"
    }
   ],
   "source": [
    "top = bpd.read_csv('data/top_movies.csv').set_index('Title')\n",
    "top"
   ]
  },
  {
   "cell_type": "markdown",
   "metadata": {
    "slideshow": {
     "slide_type": "slide"
    }
   },
   "source": [
    "### Example: deterministic or probabilistic sample?\n",
    "* a sample of 3 specific rows"
   ]
  },
  {
   "cell_type": "code",
   "execution_count": 3,
   "metadata": {},
   "outputs": [
    {
     "data": {
      "text/html": [
       "<div>\n",
       "<style scoped>\n",
       "    .dataframe tbody tr th:only-of-type {\n",
       "        vertical-align: middle;\n",
       "    }\n",
       "\n",
       "    .dataframe tbody tr th {\n",
       "        vertical-align: top;\n",
       "    }\n",
       "\n",
       "    .dataframe thead th {\n",
       "        text-align: right;\n",
       "    }\n",
       "</style>\n",
       "<table border=\"1\" class=\"dataframe\">\n",
       "  <thead>\n",
       "    <tr style=\"text-align: right;\">\n",
       "      <th></th>\n",
       "      <th>Studio</th>\n",
       "      <th>Gross</th>\n",
       "      <th>Gross (Adjusted)</th>\n",
       "      <th>Year</th>\n",
       "    </tr>\n",
       "    <tr>\n",
       "      <th>Title</th>\n",
       "      <th></th>\n",
       "      <th></th>\n",
       "      <th></th>\n",
       "      <th></th>\n",
       "    </tr>\n",
       "  </thead>\n",
       "  <tbody>\n",
       "    <tr>\n",
       "      <th>Jurassic World</th>\n",
       "      <td>Universal</td>\n",
       "      <td>652270625</td>\n",
       "      <td>687728000</td>\n",
       "      <td>2015</td>\n",
       "    </tr>\n",
       "    <tr>\n",
       "      <th>The Dark Knight</th>\n",
       "      <td>Warner Bros.</td>\n",
       "      <td>534858444</td>\n",
       "      <td>647761600</td>\n",
       "      <td>2008</td>\n",
       "    </tr>\n",
       "    <tr>\n",
       "      <th>Avengers: Age of Ultron</th>\n",
       "      <td>Buena Vista (Disney)</td>\n",
       "      <td>459005868</td>\n",
       "      <td>465684200</td>\n",
       "      <td>2015</td>\n",
       "    </tr>\n",
       "  </tbody>\n",
       "</table>\n",
       "</div>"
      ],
      "text/plain": [
       "                                       Studio      Gross  Gross (Adjusted)  \\\n",
       "Title                                                                        \n",
       "Jurassic World                      Universal  652270625         687728000   \n",
       "The Dark Knight                  Warner Bros.  534858444         647761600   \n",
       "Avengers: Age of Ultron  Buena Vista (Disney)  459005868         465684200   \n",
       "\n",
       "                         Year  \n",
       "Title                          \n",
       "Jurassic World           2015  \n",
       "The Dark Knight          2008  \n",
       "Avengers: Age of Ultron  2015  "
      ]
     },
     "execution_count": 3,
     "metadata": {},
     "output_type": "execute_result"
    }
   ],
   "source": [
    "top.take([3,5,8])"
   ]
  },
  {
   "cell_type": "markdown",
   "metadata": {
    "slideshow": {
     "slide_type": "slide"
    }
   },
   "source": [
    "### Example: deterministic or probabilistic sample?\n",
    "* a sample via a selection"
   ]
  },
  {
   "cell_type": "code",
   "execution_count": 4,
   "metadata": {},
   "outputs": [
    {
     "data": {
      "text/html": [
       "<div>\n",
       "<style scoped>\n",
       "    .dataframe tbody tr th:only-of-type {\n",
       "        vertical-align: middle;\n",
       "    }\n",
       "\n",
       "    .dataframe tbody tr th {\n",
       "        vertical-align: top;\n",
       "    }\n",
       "\n",
       "    .dataframe thead th {\n",
       "        text-align: right;\n",
       "    }\n",
       "</style>\n",
       "<table border=\"1\" class=\"dataframe\">\n",
       "  <thead>\n",
       "    <tr style=\"text-align: right;\">\n",
       "      <th></th>\n",
       "      <th>Studio</th>\n",
       "      <th>Gross</th>\n",
       "      <th>Gross (Adjusted)</th>\n",
       "      <th>Year</th>\n",
       "    </tr>\n",
       "    <tr>\n",
       "      <th>Title</th>\n",
       "      <th></th>\n",
       "      <th></th>\n",
       "      <th></th>\n",
       "      <th></th>\n",
       "    </tr>\n",
       "  </thead>\n",
       "  <tbody>\n",
       "    <tr>\n",
       "      <th>Harry Potter and the Deathly Hallows Part 2</th>\n",
       "      <td>Warner Bros.</td>\n",
       "      <td>381011219</td>\n",
       "      <td>417512200</td>\n",
       "      <td>2011</td>\n",
       "    </tr>\n",
       "    <tr>\n",
       "      <th>Harry Potter and the Sorcerer's Stone</th>\n",
       "      <td>Warner Bros.</td>\n",
       "      <td>317575550</td>\n",
       "      <td>486442900</td>\n",
       "      <td>2001</td>\n",
       "    </tr>\n",
       "    <tr>\n",
       "      <th>Indiana Jones and the Kingdom of the Crystal Skull</th>\n",
       "      <td>Paramount</td>\n",
       "      <td>317101119</td>\n",
       "      <td>384231200</td>\n",
       "      <td>2008</td>\n",
       "    </tr>\n",
       "    <tr>\n",
       "      <th>Harry Potter and the Half-Blood Prince</th>\n",
       "      <td>Warner Bros.</td>\n",
       "      <td>301959197</td>\n",
       "      <td>352098800</td>\n",
       "      <td>2009</td>\n",
       "    </tr>\n",
       "    <tr>\n",
       "      <th>Harry Potter and the Order of the Phoenix</th>\n",
       "      <td>Warner Bros.</td>\n",
       "      <td>292004738</td>\n",
       "      <td>369250200</td>\n",
       "      <td>2007</td>\n",
       "    </tr>\n",
       "    <tr>\n",
       "      <th>...</th>\n",
       "      <td>...</td>\n",
       "      <td>...</td>\n",
       "      <td>...</td>\n",
       "      <td>...</td>\n",
       "    </tr>\n",
       "    <tr>\n",
       "      <th>Snow White and the Seven Dreamworksarfs</th>\n",
       "      <td>Disney</td>\n",
       "      <td>184925486</td>\n",
       "      <td>948300000</td>\n",
       "      <td>1937</td>\n",
       "    </tr>\n",
       "    <tr>\n",
       "      <th>Indiana Jones and the Temple of Doom</th>\n",
       "      <td>Paramount</td>\n",
       "      <td>179870271</td>\n",
       "      <td>465735500</td>\n",
       "      <td>1984</td>\n",
       "    </tr>\n",
       "    <tr>\n",
       "      <th>Smokey and the Bandit</th>\n",
       "      <td>Universal</td>\n",
       "      <td>126737428</td>\n",
       "      <td>494446500</td>\n",
       "      <td>1977</td>\n",
       "    </tr>\n",
       "    <tr>\n",
       "      <th>Butch Cassidy and the Sundance Kid</th>\n",
       "      <td>Fox</td>\n",
       "      <td>102308889</td>\n",
       "      <td>613853300</td>\n",
       "      <td>1969</td>\n",
       "    </tr>\n",
       "    <tr>\n",
       "      <th>Lady and the Tramp</th>\n",
       "      <td>Disney</td>\n",
       "      <td>93602326</td>\n",
       "      <td>484893500</td>\n",
       "      <td>1955</td>\n",
       "    </tr>\n",
       "  </tbody>\n",
       "</table>\n",
       "<p>16 rows × 4 columns</p>\n",
       "</div>"
      ],
      "text/plain": [
       "                                                          Studio      Gross  \\\n",
       "Title                                                                         \n",
       "Harry Potter and the Deathly Hallows Part 2         Warner Bros.  381011219   \n",
       "Harry Potter and the Sorcerer's Stone               Warner Bros.  317575550   \n",
       "Indiana Jones and the Kingdom of the Crystal Skull     Paramount  317101119   \n",
       "Harry Potter and the Half-Blood Prince              Warner Bros.  301959197   \n",
       "Harry Potter and the Order of the Phoenix           Warner Bros.  292004738   \n",
       "...                                                          ...        ...   \n",
       "Snow White and the Seven Dreamworksarfs                   Disney  184925486   \n",
       "Indiana Jones and the Temple of Doom                   Paramount  179870271   \n",
       "Smokey and the Bandit                                  Universal  126737428   \n",
       "Butch Cassidy and the Sundance Kid                           Fox  102308889   \n",
       "Lady and the Tramp                                        Disney   93602326   \n",
       "\n",
       "                                                    Gross (Adjusted)  Year  \n",
       "Title                                                                       \n",
       "Harry Potter and the Deathly Hallows Part 2                417512200  2011  \n",
       "Harry Potter and the Sorcerer's Stone                      486442900  2001  \n",
       "Indiana Jones and the Kingdom of the Crystal Skull         384231200  2008  \n",
       "Harry Potter and the Half-Blood Prince                     352098800  2009  \n",
       "Harry Potter and the Order of the Phoenix                  369250200  2007  \n",
       "...                                                              ...   ...  \n",
       "Snow White and the Seven Dreamworksarfs                    948300000  1937  \n",
       "Indiana Jones and the Temple of Doom                       465735500  1984  \n",
       "Smokey and the Bandit                                      494446500  1977  \n",
       "Butch Cassidy and the Sundance Kid                         613853300  1969  \n",
       "Lady and the Tramp                                         484893500  1955  \n",
       "\n",
       "[16 rows x 4 columns]"
      ]
     },
     "execution_count": 4,
     "metadata": {},
     "output_type": "execute_result"
    }
   ],
   "source": [
    "top[top.index.str.contains('and the')]"
   ]
  },
  {
   "cell_type": "markdown",
   "metadata": {
    "slideshow": {
     "slide_type": "slide"
    }
   },
   "source": [
    "### Discussion question\n",
    "Is the following sampling scheme a deterministic or probabilistic sample?\n",
    "* Start with a random number; take every tenth row thereafter.\n",
    "\n",
    "|Option|Answer|\n",
    "|---|---|\n",
    "|A| Deterministic|\n",
    "|B| Probabilitstic|"
   ]
  },
  {
   "cell_type": "markdown",
   "metadata": {
    "slideshow": {
     "slide_type": "slide"
    }
   },
   "source": [
    "###  Answer\n",
    "* Start with a random number; take every tenth row thereafter.\n",
    "* Any given row is equally likely to be picked! (But not true for groups of rows!)"
   ]
  },
  {
   "cell_type": "code",
   "execution_count": 5,
   "metadata": {
    "slideshow": {
     "slide_type": "-"
    }
   },
   "outputs": [
    {
     "data": {
      "text/html": [
       "<div>\n",
       "<style scoped>\n",
       "    .dataframe tbody tr th:only-of-type {\n",
       "        vertical-align: middle;\n",
       "    }\n",
       "\n",
       "    .dataframe tbody tr th {\n",
       "        vertical-align: top;\n",
       "    }\n",
       "\n",
       "    .dataframe thead th {\n",
       "        text-align: right;\n",
       "    }\n",
       "</style>\n",
       "<table border=\"1\" class=\"dataframe\">\n",
       "  <thead>\n",
       "    <tr style=\"text-align: right;\">\n",
       "      <th></th>\n",
       "      <th>Studio</th>\n",
       "      <th>Gross</th>\n",
       "      <th>Gross (Adjusted)</th>\n",
       "      <th>Year</th>\n",
       "    </tr>\n",
       "    <tr>\n",
       "      <th>Title</th>\n",
       "      <th></th>\n",
       "      <th></th>\n",
       "      <th></th>\n",
       "      <th></th>\n",
       "    </tr>\n",
       "  </thead>\n",
       "  <tbody>\n",
       "    <tr>\n",
       "      <th>Avengers: Age of Ultron</th>\n",
       "      <td>Buena Vista (Disney)</td>\n",
       "      <td>459005868</td>\n",
       "      <td>465684200</td>\n",
       "      <td>2015</td>\n",
       "    </tr>\n",
       "    <tr>\n",
       "      <th>Spider-Man</th>\n",
       "      <td>Sony</td>\n",
       "      <td>403706375</td>\n",
       "      <td>604517300</td>\n",
       "      <td>2002</td>\n",
       "    </tr>\n",
       "    <tr>\n",
       "      <th>Despicable Me 2</th>\n",
       "      <td>Universal</td>\n",
       "      <td>368061265</td>\n",
       "      <td>407978700</td>\n",
       "      <td>2013</td>\n",
       "    </tr>\n",
       "    <tr>\n",
       "      <th>Guardians of the Galaxy</th>\n",
       "      <td>Buena Vista (Disney)</td>\n",
       "      <td>333176600</td>\n",
       "      <td>358244800</td>\n",
       "      <td>2014</td>\n",
       "    </tr>\n",
       "    <tr>\n",
       "      <th>Pirates of the Caribbean: At World's End</th>\n",
       "      <td>Buena Vista (Disney)</td>\n",
       "      <td>309420425</td>\n",
       "      <td>391272900</td>\n",
       "      <td>2007</td>\n",
       "    </tr>\n",
       "    <tr>\n",
       "      <th>...</th>\n",
       "      <td>...</td>\n",
       "      <td>...</td>\n",
       "      <td>...</td>\n",
       "      <td>...</td>\n",
       "    </tr>\n",
       "    <tr>\n",
       "      <th>Stir Crazy</th>\n",
       "      <td>Columbia</td>\n",
       "      <td>101300000</td>\n",
       "      <td>327624500</td>\n",
       "      <td>1980</td>\n",
       "    </tr>\n",
       "    <tr>\n",
       "      <th>A Star Is Born (1976)</th>\n",
       "      <td>Warner Bros.</td>\n",
       "      <td>80000000</td>\n",
       "      <td>326760600</td>\n",
       "      <td>1976</td>\n",
       "    </tr>\n",
       "    <tr>\n",
       "      <th>2001: A Space Odyssey</th>\n",
       "      <td>MGM</td>\n",
       "      <td>56954992</td>\n",
       "      <td>377027700</td>\n",
       "      <td>1968</td>\n",
       "    </tr>\n",
       "    <tr>\n",
       "      <th>Rear Window</th>\n",
       "      <td>Paramount</td>\n",
       "      <td>36764313</td>\n",
       "      <td>438086300</td>\n",
       "      <td>1954</td>\n",
       "    </tr>\n",
       "    <tr>\n",
       "      <th>Sergeant York</th>\n",
       "      <td>Warner Bros.</td>\n",
       "      <td>16361885</td>\n",
       "      <td>418671800</td>\n",
       "      <td>1941</td>\n",
       "    </tr>\n",
       "  </tbody>\n",
       "</table>\n",
       "<p>20 rows × 4 columns</p>\n",
       "</div>"
      ],
      "text/plain": [
       "                                                        Studio      Gross  \\\n",
       "Title                                                                       \n",
       "Avengers: Age of Ultron                   Buena Vista (Disney)  459005868   \n",
       "Spider-Man                                                Sony  403706375   \n",
       "Despicable Me 2                                      Universal  368061265   \n",
       "Guardians of the Galaxy                   Buena Vista (Disney)  333176600   \n",
       "Pirates of the Caribbean: At World's End  Buena Vista (Disney)  309420425   \n",
       "...                                                        ...        ...   \n",
       "Stir Crazy                                            Columbia  101300000   \n",
       "A Star Is Born (1976)                             Warner Bros.   80000000   \n",
       "2001: A Space Odyssey                                      MGM   56954992   \n",
       "Rear Window                                          Paramount   36764313   \n",
       "Sergeant York                                     Warner Bros.   16361885   \n",
       "\n",
       "                                          Gross (Adjusted)  Year  \n",
       "Title                                                             \n",
       "Avengers: Age of Ultron                          465684200  2015  \n",
       "Spider-Man                                       604517300  2002  \n",
       "Despicable Me 2                                  407978700  2013  \n",
       "Guardians of the Galaxy                          358244800  2014  \n",
       "Pirates of the Caribbean: At World's End         391272900  2007  \n",
       "...                                                    ...   ...  \n",
       "Stir Crazy                                       327624500  1980  \n",
       "A Star Is Born (1976)                            326760600  1976  \n",
       "2001: A Space Odyssey                            377027700  1968  \n",
       "Rear Window                                      438086300  1954  \n",
       "Sergeant York                                    418671800  1941  \n",
       "\n",
       "[20 rows x 4 columns]"
      ]
     },
     "execution_count": 5,
     "metadata": {},
     "output_type": "execute_result"
    }
   ],
   "source": [
    "start = np.random.choice(np.arange(10))\n",
    "top.take(np.arange(start, 200, 10))"
   ]
  },
  {
   "cell_type": "markdown",
   "metadata": {
    "slideshow": {
     "slide_type": "slide"
    }
   },
   "source": [
    "### Example: samples uniformly at random with(out) replacement\n",
    "* `.sample()` method\n",
    "* `replace=False` is default."
   ]
  },
  {
   "cell_type": "code",
   "execution_count": 6,
   "metadata": {},
   "outputs": [
    {
     "data": {
      "text/html": [
       "<div>\n",
       "<style scoped>\n",
       "    .dataframe tbody tr th:only-of-type {\n",
       "        vertical-align: middle;\n",
       "    }\n",
       "\n",
       "    .dataframe tbody tr th {\n",
       "        vertical-align: top;\n",
       "    }\n",
       "\n",
       "    .dataframe thead th {\n",
       "        text-align: right;\n",
       "    }\n",
       "</style>\n",
       "<table border=\"1\" class=\"dataframe\">\n",
       "  <thead>\n",
       "    <tr style=\"text-align: right;\">\n",
       "      <th></th>\n",
       "      <th>Studio</th>\n",
       "      <th>Gross</th>\n",
       "      <th>Gross (Adjusted)</th>\n",
       "      <th>Year</th>\n",
       "    </tr>\n",
       "    <tr>\n",
       "      <th>Title</th>\n",
       "      <th></th>\n",
       "      <th></th>\n",
       "      <th></th>\n",
       "      <th></th>\n",
       "    </tr>\n",
       "  </thead>\n",
       "  <tbody>\n",
       "    <tr>\n",
       "      <th>Iron Man 2</th>\n",
       "      <td>Paramount</td>\n",
       "      <td>312433331</td>\n",
       "      <td>341908200</td>\n",
       "      <td>2010</td>\n",
       "    </tr>\n",
       "    <tr>\n",
       "      <th>The Sting</th>\n",
       "      <td>Universal</td>\n",
       "      <td>156000000</td>\n",
       "      <td>775542900</td>\n",
       "      <td>1973</td>\n",
       "    </tr>\n",
       "    <tr>\n",
       "      <th>Pretty Woman</th>\n",
       "      <td>Buena Vista (Disney)</td>\n",
       "      <td>178406268</td>\n",
       "      <td>366934900</td>\n",
       "      <td>1990</td>\n",
       "    </tr>\n",
       "    <tr>\n",
       "      <th>The Lord of the Rings: The Return of the King</th>\n",
       "      <td>New Line</td>\n",
       "      <td>377845905</td>\n",
       "      <td>536265400</td>\n",
       "      <td>2003</td>\n",
       "    </tr>\n",
       "    <tr>\n",
       "      <th>Ghostbusters</th>\n",
       "      <td>Columbia</td>\n",
       "      <td>242212467</td>\n",
       "      <td>619211400</td>\n",
       "      <td>1984</td>\n",
       "    </tr>\n",
       "  </tbody>\n",
       "</table>\n",
       "</div>"
      ],
      "text/plain": [
       "                                                             Studio  \\\n",
       "Title                                                                 \n",
       "Iron Man 2                                                Paramount   \n",
       "The Sting                                                 Universal   \n",
       "Pretty Woman                                   Buena Vista (Disney)   \n",
       "The Lord of the Rings: The Return of the King              New Line   \n",
       "Ghostbusters                                               Columbia   \n",
       "\n",
       "                                                   Gross  Gross (Adjusted)  \\\n",
       "Title                                                                        \n",
       "Iron Man 2                                     312433331         341908200   \n",
       "The Sting                                      156000000         775542900   \n",
       "Pretty Woman                                   178406268         366934900   \n",
       "The Lord of the Rings: The Return of the King  377845905         536265400   \n",
       "Ghostbusters                                   242212467         619211400   \n",
       "\n",
       "                                               Year  \n",
       "Title                                                \n",
       "Iron Man 2                                     2010  \n",
       "The Sting                                      1973  \n",
       "Pretty Woman                                   1990  \n",
       "The Lord of the Rings: The Return of the King  2003  \n",
       "Ghostbusters                                   1984  "
      ]
     },
     "execution_count": 6,
     "metadata": {},
     "output_type": "execute_result"
    }
   ],
   "source": [
    "# without replacement\n",
    "top.sample(5)"
   ]
  },
  {
   "cell_type": "code",
   "execution_count": 7,
   "metadata": {},
   "outputs": [
    {
     "data": {
      "text/html": [
       "<div>\n",
       "<style scoped>\n",
       "    .dataframe tbody tr th:only-of-type {\n",
       "        vertical-align: middle;\n",
       "    }\n",
       "\n",
       "    .dataframe tbody tr th {\n",
       "        vertical-align: top;\n",
       "    }\n",
       "\n",
       "    .dataframe thead th {\n",
       "        text-align: right;\n",
       "    }\n",
       "</style>\n",
       "<table border=\"1\" class=\"dataframe\">\n",
       "  <thead>\n",
       "    <tr style=\"text-align: right;\">\n",
       "      <th></th>\n",
       "      <th>Studio</th>\n",
       "      <th>Gross</th>\n",
       "      <th>Gross (Adjusted)</th>\n",
       "      <th>Year</th>\n",
       "    </tr>\n",
       "    <tr>\n",
       "      <th>Title</th>\n",
       "      <th></th>\n",
       "      <th></th>\n",
       "      <th></th>\n",
       "      <th></th>\n",
       "    </tr>\n",
       "  </thead>\n",
       "  <tbody>\n",
       "    <tr>\n",
       "      <th>Toy Story</th>\n",
       "      <td>Buena Vista (Disney)</td>\n",
       "      <td>191796233</td>\n",
       "      <td>381654400</td>\n",
       "      <td>1995</td>\n",
       "    </tr>\n",
       "    <tr>\n",
       "      <th>Duel in the Sun</th>\n",
       "      <td>Selz.</td>\n",
       "      <td>20408163</td>\n",
       "      <td>443877500</td>\n",
       "      <td>1946</td>\n",
       "    </tr>\n",
       "    <tr>\n",
       "      <th>Duel in the Sun</th>\n",
       "      <td>Selz.</td>\n",
       "      <td>20408163</td>\n",
       "      <td>443877500</td>\n",
       "      <td>1946</td>\n",
       "    </tr>\n",
       "    <tr>\n",
       "      <th>Robin Hood: Prince of Thieves</th>\n",
       "      <td>Warner Bros.</td>\n",
       "      <td>165493908</td>\n",
       "      <td>341994500</td>\n",
       "      <td>1991</td>\n",
       "    </tr>\n",
       "    <tr>\n",
       "      <th>Thunderball</th>\n",
       "      <td>UA</td>\n",
       "      <td>63595658</td>\n",
       "      <td>650760000</td>\n",
       "      <td>1965</td>\n",
       "    </tr>\n",
       "  </tbody>\n",
       "</table>\n",
       "</div>"
      ],
      "text/plain": [
       "                                             Studio      Gross  \\\n",
       "Title                                                            \n",
       "Toy Story                      Buena Vista (Disney)  191796233   \n",
       "Duel in the Sun                               Selz.   20408163   \n",
       "Duel in the Sun                               Selz.   20408163   \n",
       "Robin Hood: Prince of Thieves          Warner Bros.  165493908   \n",
       "Thunderball                                      UA   63595658   \n",
       "\n",
       "                               Gross (Adjusted)  Year  \n",
       "Title                                                  \n",
       "Toy Story                             381654400  1995  \n",
       "Duel in the Sun                       443877500  1946  \n",
       "Duel in the Sun                       443877500  1946  \n",
       "Robin Hood: Prince of Thieves         341994500  1991  \n",
       "Thunderball                           650760000  1965  "
      ]
     },
     "execution_count": 7,
     "metadata": {},
     "output_type": "execute_result"
    }
   ],
   "source": [
    "# with replacement\n",
    "top.sample(5, replace=True)"
   ]
  },
  {
   "cell_type": "markdown",
   "metadata": {
    "slideshow": {
     "slide_type": "slide"
    }
   },
   "source": [
    "## Sample of Convenience\n",
    "* Example: sample consists of whoever walks by\n",
    "    - Just because you think you’re sampling “at random”, doesn’t mean you are.\n",
    "* If you can’t (in principle) figure out ahead of time \n",
    "    * what’s the population\n",
    "    * what’s the chance of selection, for each group in the population\n",
    "- then you don’t have a random sample!"
   ]
  },
  {
   "cell_type": "markdown",
   "metadata": {
    "slideshow": {
     "slide_type": "slide"
    }
   },
   "source": [
    "### Examples: sample of convenience\n",
    "\n",
    "* Voluntary internet surveys\n",
    "* Interviewing people on Library Walk\n",
    "* The first 100 visits to a website after an email campaign begins."
   ]
  },
  {
   "cell_type": "markdown",
   "metadata": {
    "slideshow": {
     "slide_type": "slide"
    }
   },
   "source": [
    "### Samples of convenience: pros and cons\n",
    "* Pros: \n",
    "    - Easy and inexpensive\n",
    "    - Most common type of sample\n",
    "* Cons: \n",
    "    - Results won't generalize to the population as a whole\n",
    "    - Results are likely biased"
   ]
  },
  {
   "cell_type": "markdown",
   "metadata": {
    "slideshow": {
     "slide_type": "slide"
    }
   },
   "source": [
    "### Example: sample of convenience\n",
    "\n",
    "* Study: determine the average age and sex of gamblers at a casino \n",
    "* Methodology: conducted for three hours on a weekday afternoon \n",
    "* Bias: Might overrepresent elderly people who have retired and underrepresented by people of working age"
   ]
  },
  {
   "cell_type": "markdown",
   "metadata": {
    "slideshow": {
     "slide_type": "slide"
    }
   },
   "source": [
    "# Distributions"
   ]
  },
  {
   "cell_type": "markdown",
   "metadata": {
    "slideshow": {
     "slide_type": "slide"
    }
   },
   "source": [
    "## Probability Distribution\n",
    "* Random quantity with various possible values\n",
    "* Example: what we see when we roll a die.\n",
    "* “Probability distribution”:\n",
    "    - All the possible values of the quantity\n",
    "    - The probability of each of those values"
   ]
  },
  {
   "cell_type": "markdown",
   "metadata": {
    "slideshow": {
     "slide_type": "slide"
    }
   },
   "source": [
    "## Example: probability distribution of die roll\n",
    "\n",
    "- Distribution is **uniform**."
   ]
  },
  {
   "cell_type": "code",
   "execution_count": 8,
   "metadata": {},
   "outputs": [
    {
     "data": {
      "text/html": [
       "<div>\n",
       "<style scoped>\n",
       "    .dataframe tbody tr th:only-of-type {\n",
       "        vertical-align: middle;\n",
       "    }\n",
       "\n",
       "    .dataframe tbody tr th {\n",
       "        vertical-align: top;\n",
       "    }\n",
       "\n",
       "    .dataframe thead th {\n",
       "        text-align: right;\n",
       "    }\n",
       "</style>\n",
       "<table border=\"1\" class=\"dataframe\">\n",
       "  <thead>\n",
       "    <tr style=\"text-align: right;\">\n",
       "      <th></th>\n",
       "      <th>face</th>\n",
       "    </tr>\n",
       "  </thead>\n",
       "  <tbody>\n",
       "    <tr>\n",
       "      <th>0</th>\n",
       "      <td>1</td>\n",
       "    </tr>\n",
       "    <tr>\n",
       "      <th>1</th>\n",
       "      <td>2</td>\n",
       "    </tr>\n",
       "    <tr>\n",
       "      <th>2</th>\n",
       "      <td>3</td>\n",
       "    </tr>\n",
       "    <tr>\n",
       "      <th>3</th>\n",
       "      <td>4</td>\n",
       "    </tr>\n",
       "    <tr>\n",
       "      <th>4</th>\n",
       "      <td>5</td>\n",
       "    </tr>\n",
       "    <tr>\n",
       "      <th>5</th>\n",
       "      <td>6</td>\n",
       "    </tr>\n",
       "  </tbody>\n",
       "</table>\n",
       "</div>"
      ],
      "text/plain": [
       "   face\n",
       "0     1\n",
       "1     2\n",
       "2     3\n",
       "3     4\n",
       "4     5\n",
       "5     6"
      ]
     },
     "execution_count": 8,
     "metadata": {},
     "output_type": "execute_result"
    }
   ],
   "source": [
    "die =  (\n",
    "    bpd.DataFrame()\n",
    "    .assign(face=np.arange(1, 7, 1))\n",
    ")\n",
    "die"
   ]
  },
  {
   "cell_type": "code",
   "execution_count": 9,
   "metadata": {},
   "outputs": [
    {
     "data": {
      "text/plain": [
       "<matplotlib.axes._subplots.AxesSubplot at 0x7fce08f62290>"
      ]
     },
     "execution_count": 9,
     "metadata": {},
     "output_type": "execute_result"
    },
    {
     "data": {
      "image/png": "[encoded data removed]",
      "text/plain": [
       "<Figure size 432x288 with 1 Axes>"
      ]
     },
     "metadata": {},
     "output_type": "display_data"
    }
   ],
   "source": [
    "bins =  np.arange(0.5, 6.6, 1)\n",
    "die.plot(kind='hist', y='face', bins=bins, density=True)"
   ]
  },
  {
   "cell_type": "markdown",
   "metadata": {
    "slideshow": {
     "slide_type": "slide"
    }
   },
   "source": [
    "## Empirical Distribution\n",
    "\n",
    "* Based on observations\n",
    "* Observations can be from repetitions of an experiment\n",
    "* “Empirical Distribution”\n",
    "    - All observed values\n",
    "    - The proportion of counts of each value"
   ]
  },
  {
   "cell_type": "markdown",
   "metadata": {
    "slideshow": {
     "slide_type": "slide"
    }
   },
   "source": [
    "### Example: Dice\n",
    "* Simulate a roll as a sample from a table\n",
    "* Rolling a die = sampling with replacement."
   ]
  },
  {
   "cell_type": "code",
   "execution_count": 10,
   "metadata": {},
   "outputs": [],
   "source": [
    "n = 10"
   ]
  },
  {
   "cell_type": "code",
   "execution_count": 11,
   "metadata": {},
   "outputs": [
    {
     "data": {
      "text/plain": [
       "<matplotlib.axes._subplots.AxesSubplot at 0x7fce06ed40d0>"
      ]
     },
     "execution_count": 11,
     "metadata": {},
     "output_type": "execute_result"
    },
    {
     "data": {
      "image/png": "[encoded data removed]",
      "text/plain": [
       "<Figure size 432x288 with 1 Axes>"
      ]
     },
     "metadata": {},
     "output_type": "display_data"
    }
   ],
   "source": [
    "die.sample(n=n, replace=True).plot(kind='hist', y='face', bins=bins, density=True)"
   ]
  },
  {
   "cell_type": "markdown",
   "metadata": {
    "slideshow": {
     "slide_type": "slide"
    }
   },
   "source": [
    "# Large Random Samples"
   ]
  },
  {
   "cell_type": "markdown",
   "metadata": {
    "slideshow": {
     "slide_type": "slide"
    }
   },
   "source": [
    "## Law of Averages\n",
    "\n",
    "If a chance experiment is repeated \n",
    "    - many times,\n",
    "    - independently,\n",
    "    - under the same conditions,\n",
    "    \n",
    "then the proportion of times that an event occurs gets closer to the theoretical probability of the event.\n"
   ]
  },
  {
   "cell_type": "markdown",
   "metadata": {
    "slideshow": {
     "slide_type": "fragment"
    }
   },
   "source": [
    "Example: As you roll a die repeatedly, the proportion of times you roll a 5 gets closer to 1/6."
   ]
  },
  {
   "cell_type": "markdown",
   "metadata": {
    "slideshow": {
     "slide_type": "slide"
    }
   },
   "source": [
    "## Large Random Samples\n",
    "\n",
    "If the sample size is large, then the empirical distribution of a uniform random sample matches the true distribution, with \"high probability\"."
   ]
  },
  {
   "cell_type": "markdown",
   "metadata": {
    "slideshow": {
     "slide_type": "slide"
    }
   },
   "source": [
    "### Example: distribution of flight delays\n",
    "\n",
    "* All United flights leaving SFO between 6/1/15 and 8/9/15."
   ]
  },
  {
   "cell_type": "code",
   "execution_count": 12,
   "metadata": {},
   "outputs": [
    {
     "data": {
      "text/html": [
       "<div>\n",
       "<style scoped>\n",
       "    .dataframe tbody tr th:only-of-type {\n",
       "        vertical-align: middle;\n",
       "    }\n",
       "\n",
       "    .dataframe tbody tr th {\n",
       "        vertical-align: top;\n",
       "    }\n",
       "\n",
       "    .dataframe thead th {\n",
       "        text-align: right;\n",
       "    }\n",
       "</style>\n",
       "<table border=\"1\" class=\"dataframe\">\n",
       "  <thead>\n",
       "    <tr style=\"text-align: right;\">\n",
       "      <th></th>\n",
       "      <th>Date</th>\n",
       "      <th>Flight Number</th>\n",
       "      <th>Destination</th>\n",
       "      <th>Delay</th>\n",
       "    </tr>\n",
       "  </thead>\n",
       "  <tbody>\n",
       "    <tr>\n",
       "      <th>0</th>\n",
       "      <td>6/1/15</td>\n",
       "      <td>73</td>\n",
       "      <td>HNL</td>\n",
       "      <td>257</td>\n",
       "    </tr>\n",
       "    <tr>\n",
       "      <th>1</th>\n",
       "      <td>6/1/15</td>\n",
       "      <td>217</td>\n",
       "      <td>EWR</td>\n",
       "      <td>28</td>\n",
       "    </tr>\n",
       "    <tr>\n",
       "      <th>2</th>\n",
       "      <td>6/1/15</td>\n",
       "      <td>237</td>\n",
       "      <td>STL</td>\n",
       "      <td>-3</td>\n",
       "    </tr>\n",
       "    <tr>\n",
       "      <th>3</th>\n",
       "      <td>6/1/15</td>\n",
       "      <td>250</td>\n",
       "      <td>SAN</td>\n",
       "      <td>0</td>\n",
       "    </tr>\n",
       "    <tr>\n",
       "      <th>4</th>\n",
       "      <td>6/1/15</td>\n",
       "      <td>267</td>\n",
       "      <td>PHL</td>\n",
       "      <td>64</td>\n",
       "    </tr>\n",
       "    <tr>\n",
       "      <th>...</th>\n",
       "      <td>...</td>\n",
       "      <td>...</td>\n",
       "      <td>...</td>\n",
       "      <td>...</td>\n",
       "    </tr>\n",
       "    <tr>\n",
       "      <th>13820</th>\n",
       "      <td>8/31/15</td>\n",
       "      <td>1978</td>\n",
       "      <td>LAS</td>\n",
       "      <td>-4</td>\n",
       "    </tr>\n",
       "    <tr>\n",
       "      <th>13821</th>\n",
       "      <td>8/31/15</td>\n",
       "      <td>1993</td>\n",
       "      <td>IAD</td>\n",
       "      <td>8</td>\n",
       "    </tr>\n",
       "    <tr>\n",
       "      <th>13822</th>\n",
       "      <td>8/31/15</td>\n",
       "      <td>1994</td>\n",
       "      <td>ORD</td>\n",
       "      <td>3</td>\n",
       "    </tr>\n",
       "    <tr>\n",
       "      <th>13823</th>\n",
       "      <td>8/31/15</td>\n",
       "      <td>2000</td>\n",
       "      <td>PHX</td>\n",
       "      <td>-1</td>\n",
       "    </tr>\n",
       "    <tr>\n",
       "      <th>13824</th>\n",
       "      <td>8/31/15</td>\n",
       "      <td>2013</td>\n",
       "      <td>EWR</td>\n",
       "      <td>-2</td>\n",
       "    </tr>\n",
       "  </tbody>\n",
       "</table>\n",
       "<p>13825 rows × 4 columns</p>\n",
       "</div>"
      ],
      "text/plain": [
       "          Date  Flight Number Destination  Delay\n",
       "0       6/1/15             73         HNL    257\n",
       "1       6/1/15            217         EWR     28\n",
       "2       6/1/15            237         STL     -3\n",
       "3       6/1/15            250         SAN      0\n",
       "4       6/1/15            267         PHL     64\n",
       "...        ...            ...         ...    ...\n",
       "13820  8/31/15           1978         LAS     -4\n",
       "13821  8/31/15           1993         IAD      8\n",
       "13822  8/31/15           1994         ORD      3\n",
       "13823  8/31/15           2000         PHX     -1\n",
       "13824  8/31/15           2013         EWR     -2\n",
       "\n",
       "[13825 rows x 4 columns]"
      ]
     },
     "execution_count": 12,
     "metadata": {},
     "output_type": "execute_result"
    }
   ],
   "source": [
    "united_full = bpd.read_csv('data/united_summer2015.csv')\n",
    "united_full"
   ]
  },
  {
   "cell_type": "markdown",
   "metadata": {
    "slideshow": {
     "slide_type": "slide"
    }
   },
   "source": [
    "## Only need delays..."
   ]
  },
  {
   "cell_type": "code",
   "execution_count": 13,
   "metadata": {},
   "outputs": [
    {
     "data": {
      "text/html": [
       "<div>\n",
       "<style scoped>\n",
       "    .dataframe tbody tr th:only-of-type {\n",
       "        vertical-align: middle;\n",
       "    }\n",
       "\n",
       "    .dataframe tbody tr th {\n",
       "        vertical-align: top;\n",
       "    }\n",
       "\n",
       "    .dataframe thead th {\n",
       "        text-align: right;\n",
       "    }\n",
       "</style>\n",
       "<table border=\"1\" class=\"dataframe\">\n",
       "  <thead>\n",
       "    <tr style=\"text-align: right;\">\n",
       "      <th></th>\n",
       "      <th>Delay</th>\n",
       "    </tr>\n",
       "  </thead>\n",
       "  <tbody>\n",
       "    <tr>\n",
       "      <th>0</th>\n",
       "      <td>257</td>\n",
       "    </tr>\n",
       "    <tr>\n",
       "      <th>1</th>\n",
       "      <td>28</td>\n",
       "    </tr>\n",
       "    <tr>\n",
       "      <th>2</th>\n",
       "      <td>-3</td>\n",
       "    </tr>\n",
       "    <tr>\n",
       "      <th>3</th>\n",
       "      <td>0</td>\n",
       "    </tr>\n",
       "    <tr>\n",
       "      <th>4</th>\n",
       "      <td>64</td>\n",
       "    </tr>\n",
       "    <tr>\n",
       "      <th>...</th>\n",
       "      <td>...</td>\n",
       "    </tr>\n",
       "    <tr>\n",
       "      <th>13820</th>\n",
       "      <td>-4</td>\n",
       "    </tr>\n",
       "    <tr>\n",
       "      <th>13821</th>\n",
       "      <td>8</td>\n",
       "    </tr>\n",
       "    <tr>\n",
       "      <th>13822</th>\n",
       "      <td>3</td>\n",
       "    </tr>\n",
       "    <tr>\n",
       "      <th>13823</th>\n",
       "      <td>-1</td>\n",
       "    </tr>\n",
       "    <tr>\n",
       "      <th>13824</th>\n",
       "      <td>-2</td>\n",
       "    </tr>\n",
       "  </tbody>\n",
       "</table>\n",
       "<p>13825 rows × 1 columns</p>\n",
       "</div>"
      ],
      "text/plain": [
       "       Delay\n",
       "0        257\n",
       "1         28\n",
       "2         -3\n",
       "3          0\n",
       "4         64\n",
       "...      ...\n",
       "13820     -4\n",
       "13821      8\n",
       "13822      3\n",
       "13823     -1\n",
       "13824     -2\n",
       "\n",
       "[13825 rows x 1 columns]"
      ]
     },
     "execution_count": 13,
     "metadata": {},
     "output_type": "execute_result"
    }
   ],
   "source": [
    "united = united_full.get(['Delay'])\n",
    "united"
   ]
  },
  {
   "cell_type": "markdown",
   "metadata": {
    "slideshow": {
     "slide_type": "slide"
    }
   },
   "source": [
    "### Empirical distribution of flight delays\n",
    "\n",
    "* Suppose we could only record delays for a few flights.\n",
    "* We will sample from the population of all United flights."
   ]
  },
  {
   "cell_type": "code",
   "execution_count": 14,
   "metadata": {},
   "outputs": [
    {
     "data": {
      "text/plain": [
       "<matplotlib.axes._subplots.AxesSubplot at 0x7fce063a2410>"
      ]
     },
     "execution_count": 14,
     "metadata": {},
     "output_type": "execute_result"
    },
    {
     "data": {
      "image/png": "[encoded data removed]",
      "text/plain": [
       "<Figure size 432x288 with 1 Axes>"
      ]
     },
     "metadata": {},
     "output_type": "display_data"
    }
   ],
   "source": [
    "# population distribution\n",
    "bins = np.arange(-20, 300, 10)\n",
    "united.plot(kind='hist', y='Delay', bins=bins, density=True)"
   ]
  },
  {
   "cell_type": "code",
   "execution_count": 15,
   "metadata": {},
   "outputs": [
    {
     "data": {
      "text/plain": [
       "<matplotlib.axes._subplots.AxesSubplot at 0x7fce06c9af10>"
      ]
     },
     "execution_count": 15,
     "metadata": {},
     "output_type": "execute_result"
    },
    {
     "data": {
      "image/png": "[encoded data removed]",
      "text/plain": [
       "<Figure size 432x288 with 1 Axes>"
      ]
     },
     "metadata": {},
     "output_type": "display_data"
    }
   ],
   "source": [
    "# empirical distribution\n",
    "N = 10**2\n",
    "united.sample(N, replace=True).plot(kind='hist', y='Delay', bins=bins, density=True)"
   ]
  },
  {
   "cell_type": "markdown",
   "metadata": {
    "slideshow": {
     "slide_type": "slide"
    }
   },
   "source": [
    "### Average Flight Delay\n",
    "\n",
    "- What is the average delay of United out of SFO?\n",
    "- We'd love to know the average delay of **population**, but we only have a **sample**.\n",
    "- How does the mean of the **sample** compare to the mean of the **population**?"
   ]
  },
  {
   "cell_type": "markdown",
   "metadata": {
    "slideshow": {
     "slide_type": "slide"
    }
   },
   "source": [
    "## Mean of the Population"
   ]
  },
  {
   "cell_type": "code",
   "execution_count": 16,
   "metadata": {},
   "outputs": [
    {
     "data": {
      "text/plain": [
       "16.658155515370705"
      ]
     },
     "execution_count": 16,
     "metadata": {},
     "output_type": "execute_result"
    }
   ],
   "source": [
    "# calculate the mean\n",
    "united_mean = united.get('Delay').mean()\n",
    "united_mean"
   ]
  },
  {
   "cell_type": "markdown",
   "metadata": {
    "slideshow": {
     "slide_type": "slide"
    }
   },
   "source": [
    "## Mean of the Large Random Sample\n",
    "\n",
    "- This is called the **sample mean**.\n",
    "- Because the sample is random, the **sample mean** is too!"
   ]
  },
  {
   "cell_type": "code",
   "execution_count": 17,
   "metadata": {},
   "outputs": [
    {
     "data": {
      "text/plain": [
       "12.54"
      ]
     },
     "execution_count": 17,
     "metadata": {},
     "output_type": "execute_result"
    }
   ],
   "source": [
    "united.sample(100).get('Delay').mean()"
   ]
  },
  {
   "cell_type": "markdown",
   "metadata": {
    "slideshow": {
     "slide_type": "slide"
    }
   },
   "source": [
    "## Mean of the Large Random Sample\n",
    "\n",
    "- As the sample gets bigger, the mean gets closer to the mean of the population."
   ]
  },
  {
   "cell_type": "code",
   "execution_count": 18,
   "metadata": {},
   "outputs": [
    {
     "name": "stdout",
     "output_type": "stream",
     "text": [
      "size of sample:  100 \t mean of sample:  20.23\n",
      "size of sample:  300 \t mean of sample:  18.416666666666668\n",
      "size of sample:  500 \t mean of sample:  16.854\n",
      "size of sample:  700 \t mean of sample:  16.298571428571428\n",
      "size of sample:  900 \t mean of sample:  16.75888888888889\n",
      "size of sample:  1100 \t mean of sample:  15.204545454545455\n",
      "size of sample:  1300 \t mean of sample:  15.404615384615385\n",
      "size of sample:  1500 \t mean of sample:  16.212\n",
      "size of sample:  1700 \t mean of sample:  15.617647058823529\n",
      "size of sample:  1900 \t mean of sample:  18.40105263157895\n",
      "size of sample:  2100 \t mean of sample:  17.565238095238094\n",
      "size of sample:  2300 \t mean of sample:  16.59\n",
      "size of sample:  2500 \t mean of sample:  14.7324\n",
      "size of sample:  2700 \t mean of sample:  16.161851851851853\n",
      "size of sample:  2900 \t mean of sample:  16.566896551724138\n",
      "size of sample:  3100 \t mean of sample:  16.18258064516129\n",
      "size of sample:  3300 \t mean of sample:  17.05272727272727\n",
      "size of sample:  3500 \t mean of sample:  16.891714285714286\n",
      "size of sample:  3700 \t mean of sample:  16.132972972972972\n",
      "size of sample:  3900 \t mean of sample:  16.059487179487178\n",
      "size of sample:  4100 \t mean of sample:  17.09170731707317\n",
      "size of sample:  4300 \t mean of sample:  15.93953488372093\n",
      "size of sample:  4500 \t mean of sample:  15.972444444444445\n",
      "size of sample:  4700 \t mean of sample:  16.52531914893617\n",
      "size of sample:  4900 \t mean of sample:  16.751632653061225\n",
      "size of sample:  5100 \t mean of sample:  17.056470588235292\n",
      "size of sample:  5300 \t mean of sample:  15.88\n",
      "size of sample:  5500 \t mean of sample:  16.798727272727273\n",
      "size of sample:  5700 \t mean of sample:  17.134035087719298\n",
      "size of sample:  5900 \t mean of sample:  16.949830508474577\n",
      "size of sample:  6100 \t mean of sample:  16.471639344262297\n",
      "size of sample:  6300 \t mean of sample:  16.469841269841268\n",
      "size of sample:  6500 \t mean of sample:  16.549230769230768\n",
      "size of sample:  6700 \t mean of sample:  16.419701492537314\n",
      "size of sample:  6900 \t mean of sample:  16.549710144927538\n",
      "size of sample:  7100 \t mean of sample:  16.841830985915493\n",
      "size of sample:  7300 \t mean of sample:  16.43986301369863\n",
      "size of sample:  7500 \t mean of sample:  16.755333333333333\n",
      "size of sample:  7700 \t mean of sample:  17.084935064935063\n",
      "size of sample:  7900 \t mean of sample:  17.08240506329114\n",
      "size of sample:  8100 \t mean of sample:  16.49395061728395\n",
      "size of sample:  8300 \t mean of sample:  16.500843373493975\n",
      "size of sample:  8500 \t mean of sample:  16.402823529411766\n",
      "size of sample:  8700 \t mean of sample:  16.934022988505745\n",
      "size of sample:  8900 \t mean of sample:  17.040112359550562\n",
      "size of sample:  9100 \t mean of sample:  16.919890109890108\n",
      "size of sample:  9300 \t mean of sample:  16.405591397849463\n",
      "size of sample:  9500 \t mean of sample:  16.57315789473684\n",
      "size of sample:  9700 \t mean of sample:  16.734742268041238\n",
      "size of sample:  9900 \t mean of sample:  16.72858585858586\n"
     ]
    }
   ],
   "source": [
    "# the mean of a lot of samples\n",
    "for n in np.arange(100, 10000, 200):\n",
    "    m = united.sample(int(n)).get('Delay').mean()\n",
    "    print('size of sample: ', n, '\\t', 'mean of sample: ', m)"
   ]
  },
  {
   "cell_type": "markdown",
   "metadata": {
    "slideshow": {
     "slide_type": "slide"
    }
   },
   "source": [
    "## How good is the **sample mean**?\n",
    "\n",
    "- Is it close to the population mean?\n",
    "- If the sample is small, high chance that sample mean is bad.\n",
    "- If the sample is big, small chance that sample mean is bad.\n"
   ]
  },
  {
   "cell_type": "markdown",
   "metadata": {
    "slideshow": {
     "slide_type": "slide"
    }
   },
   "source": [
    "## Small Random Sample\n",
    "\n",
    "<img src=\"data/bullseye-high.png\">"
   ]
  },
  {
   "cell_type": "markdown",
   "metadata": {
    "slideshow": {
     "slide_type": "slide"
    }
   },
   "source": [
    "## Big Random Sample\n",
    "\n",
    "<img src=\"data/bullseye-low.png\">"
   ]
  },
  {
   "cell_type": "markdown",
   "metadata": {
    "slideshow": {
     "slide_type": "slide"
    }
   },
   "source": [
    "### Distribution of sample means\n",
    "\n",
    "- Repeatedly draw a bunch of samples.\n",
    "- Record the mean of each & visualize.\n",
    "- Try different sample sizes."
   ]
  },
  {
   "cell_type": "code",
   "execution_count": 19,
   "metadata": {},
   "outputs": [
    {
     "data": {
      "image/png": "[encoded data removed]",
      "text/plain": [
       "<Figure size 432x288 with 1 Axes>"
      ]
     },
     "metadata": {},
     "output_type": "display_data"
    }
   ],
   "source": [
    "n_experiments = 2000\n",
    "means = np.array([])\n",
    "for n in np.arange(n_experiments):\n",
    "    m = united.sample(1000, replace=True).get('Delay').mean()\n",
    "    means = np.append(m, means)\n",
    "\n",
    "bpd.DataFrame().assign(means=means).plot(kind='hist', bins=np.arange(0,40,.5), density=True)\n",
    "plt.axvline(x=united_mean, c='r');"
   ]
  },
  {
   "cell_type": "markdown",
   "metadata": {
    "slideshow": {
     "slide_type": "slide"
    }
   },
   "source": [
    "### Distribution of means from uniform samples of flights from Denver\n",
    "* This sample is a probability sample.\n",
    "* Estimation of the mean is highly biased!"
   ]
  },
  {
   "cell_type": "code",
   "execution_count": 20,
   "metadata": {},
   "outputs": [
    {
     "data": {
      "image/png": "[encoded data removed]",
      "text/plain": [
       "<Figure size 432x288 with 1 Axes>"
      ]
     },
     "metadata": {},
     "output_type": "display_data"
    }
   ],
   "source": [
    "n_experiments = 10000\n",
    "means = np.array([])\n",
    "\n",
    "den = united_full[united_full.get('Destination') == 'DEN'].get(['Delay'])\n",
    "for n in np.arange(n_experiments):\n",
    "    m = den.sample(100, replace=True).get('Delay').mean()\n",
    "    means = np.append(m, means)\n",
    "\n",
    "bpd.DataFrame().assign(means=means).plot(kind='hist', bins=np.arange(0,40,.5), density=True)\n",
    "plt.axvline(x=united_mean, c='r');"
   ]
  },
  {
   "cell_type": "markdown",
   "metadata": {
    "slideshow": {
     "slide_type": "slide"
    }
   },
   "source": [
    "### Distribution of means from evenly-spaced random samples\n",
    "* This sample is a probability sample.\n",
    "* Why does the histogram look this way?"
   ]
  },
  {
   "cell_type": "code",
   "execution_count": 21,
   "metadata": {},
   "outputs": [
    {
     "data": {
      "image/png": "[encoded data removed]",
      "text/plain": [
       "<Figure size 432x288 with 1 Axes>"
      ]
     },
     "metadata": {},
     "output_type": "display_data"
    }
   ],
   "source": [
    "n_experiments = 2000\n",
    "means = np.array([])\n",
    "for n in np.arange(n_experiments):\n",
    "    start = np.random.choice(np.arange(20))\n",
    "    m = united.take(np.arange(start, united.shape[0], 50)).get('Delay').mean()\n",
    "    means = np.append(m, means)\n",
    "\n",
    "bpd.DataFrame().assign(means=means).plot(kind='hist', bins=np.arange(0,40,.5), density=True)\n",
    "plt.axvline(x=united_mean, c='r');"
   ]
  },
  {
   "cell_type": "markdown",
   "metadata": {
    "slideshow": {
     "slide_type": "slide"
    }
   },
   "source": [
    "### Distribution of means from repeated samples of the first 100 rows\n",
    "* Low variation and very high bias!"
   ]
  },
  {
   "cell_type": "code",
   "execution_count": 22,
   "metadata": {},
   "outputs": [
    {
     "data": {
      "image/png": "[encoded data removed]",
      "text/plain": [
       "<Figure size 432x288 with 1 Axes>"
      ]
     },
     "metadata": {},
     "output_type": "display_data"
    }
   ],
   "source": [
    "n_experiments = 2000\n",
    "means = np.array([])\n",
    "for n in np.arange(n_experiments):\n",
    "    start = np.random.choice(np.arange(20))\n",
    "    m = united.take(np.arange(100)).get('Delay').mean()\n",
    "    means = np.append(m, means)\n",
    "\n",
    "bpd.DataFrame().assign(means=means).plot(kind='hist', bins=np.arange(0,40,.5), density=True)\n",
    "plt.axvline(x=united_mean, c='r');"
   ]
  },
  {
   "cell_type": "markdown",
   "metadata": {
    "slideshow": {
     "slide_type": "slide"
    }
   },
   "source": [
    "## Law of Averages and Estimating Probabilities\n",
    "\n",
    "### Rolling a die $N$ times"
   ]
  },
  {
   "cell_type": "markdown",
   "metadata": {
    "slideshow": {
     "slide_type": "slide"
    }
   },
   "source": [
    "### Discussion Question\n",
    "\n",
    "If you roll a die 4 times. What's P(at least one 6)?\n",
    "\n",
    "|Option|Answer|\n",
    "|---|---|\n",
    "|A| $5/6$|\n",
    "|B| $1-5/6$|\n",
    "|C| $1-(5/6)^4$|\n",
    "|D| $1-(1/6)^4$|\n",
    "|E| None of the above|\n"
   ]
  },
  {
   "cell_type": "markdown",
   "metadata": {
    "slideshow": {
     "slide_type": "slide"
    }
   },
   "source": [
    "### Answer for 4 rolls\n",
    "* P(at least one 6) = 1 - P(no 6) = 1 - (5/6)\\**4"
   ]
  },
  {
   "cell_type": "markdown",
   "metadata": {
    "slideshow": {
     "slide_type": "fragment"
    }
   },
   "source": [
    "### Answer for N rolls\n",
    "* P(at least one 6) = 1 - P(no 6) = 1 - (5/6)\\**N"
   ]
  },
  {
   "cell_type": "markdown",
   "metadata": {
    "slideshow": {
     "slide_type": "slide"
    }
   },
   "source": [
    "### Plot the true distribution for each N"
   ]
  },
  {
   "cell_type": "code",
   "execution_count": 23,
   "metadata": {},
   "outputs": [
    {
     "data": {
      "text/plain": [
       "<matplotlib.axes._subplots.AxesSubplot at 0x7fce067d3dd0>"
      ]
     },
     "execution_count": 23,
     "metadata": {},
     "output_type": "execute_result"
    },
    {
     "data": {
      "image/png": "[encoded data removed]",
      "text/plain": [
       "<Figure size 432x288 with 1 Axes>"
      ]
     },
     "metadata": {},
     "output_type": "display_data"
    }
   ],
   "source": [
    "# chance of getting at least one six\n",
    "rolls = np.arange(1, 51)\n",
    "at_least_one = bpd.DataFrame().assign(n_rolls=rolls, chance=1-(5/6)**rolls)\n",
    "at_least_one.plot(kind='scatter', x='n_rolls', y='chance')"
   ]
  },
  {
   "cell_type": "markdown",
   "metadata": {
    "slideshow": {
     "slide_type": "slide"
    }
   },
   "source": [
    "### Simulate the probability for N=20\n",
    "* What is the chance of getting at least one 6 in 20 rolls?"
   ]
  },
  {
   "cell_type": "code",
   "execution_count": 24,
   "metadata": {},
   "outputs": [
    {
     "data": {
      "text/plain": [
       "array([3, 6, 1, 4, 2, 6, 1, 5, 5, 3, 2, 3, 2, 3, 6, 1, 4, 5, 1, 3])"
      ]
     },
     "execution_count": 24,
     "metadata": {},
     "output_type": "execute_result"
    }
   ],
   "source": [
    "faces = np.arange(1, 7)\n",
    "outcomes = np.random.choice(faces, 20) # pick random number from faces, 20 times\n",
    "outcomes"
   ]
  },
  {
   "cell_type": "code",
   "execution_count": 25,
   "metadata": {},
   "outputs": [
    {
     "data": {
      "text/plain": [
       "3"
      ]
     },
     "execution_count": 25,
     "metadata": {},
     "output_type": "execute_result"
    }
   ],
   "source": [
    "# number of positive outcomes\n",
    "np.count_nonzero(outcomes == 6)"
   ]
  },
  {
   "cell_type": "code",
   "execution_count": 26,
   "metadata": {
    "slideshow": {
     "slide_type": "slide"
    }
   },
   "outputs": [
    {
     "data": {
      "text/plain": [
       "0.9742"
      ]
     },
     "execution_count": 26,
     "metadata": {},
     "output_type": "execute_result"
    }
   ],
   "source": [
    "rolled6 = 0\n",
    "trials = 100000\n",
    "for i in np.arange(trials):\n",
    "    outcomes = np.random.choice(faces, 20)\n",
    "    if np.count_nonzero(outcomes == 6) >=1:\n",
    "        rolled6 = rolled6 + 1\n",
    "        \n",
    "#estimate the probability\n",
    "rolled6/trials"
   ]
  },
  {
   "cell_type": "markdown",
   "metadata": {
    "slideshow": {
     "slide_type": "slide"
    }
   },
   "source": [
    "### Simulate the probability for N=20\n",
    "* wrap the experiment in a function\n",
    "* run the experiment many times"
   ]
  },
  {
   "cell_type": "code",
   "execution_count": 27,
   "metadata": {},
   "outputs": [
    {
     "data": {
      "text/plain": [
       "0.959"
      ]
     },
     "execution_count": 27,
     "metadata": {},
     "output_type": "execute_result"
    }
   ],
   "source": [
    "def roll_20(trials):\n",
    "    rolled6 = 0\n",
    "    for i in np.arange(trials):\n",
    "        outcomes = np.random.choice(faces, 20)\n",
    "        if np.count_nonzero(outcomes == 6) >=1:\n",
    "            rolled6 = rolled6 + 1\n",
    "\n",
    "    return rolled6/trials\n",
    "\n",
    "roll_20(1000)"
   ]
  },
  {
   "cell_type": "code",
   "execution_count": 28,
   "metadata": {
    "slideshow": {
     "slide_type": "slide"
    }
   },
   "outputs": [],
   "source": [
    "estimates = np.array([])\n",
    "for i in np.arange(500):\n",
    "    estimates = np.append(roll_20(1000), estimates)\n",
    "    \n",
    "probs = bpd.DataFrame().assign(estimates=estimates)"
   ]
  },
  {
   "cell_type": "code",
   "execution_count": 29,
   "metadata": {},
   "outputs": [
    {
     "data": {
      "image/png": "[encoded data removed]",
      "text/plain": [
       "<Figure size 432x288 with 1 Axes>"
      ]
     },
     "metadata": {},
     "output_type": "display_data"
    }
   ],
   "source": [
    "probs.plot(kind='hist', density=True, bins=np.linspace(.95, .99, 15))\n",
    "true_prob = 1 - (5/6)**20\n",
    "\n",
    "plt.axvline(x=true_prob, c='r');"
   ]
  }
 ],
 "metadata": {
  "celltoolbar": "Slideshow",
  "kernelspec": {
   "display_name": "Python 3",
   "language": "python",
   "name": "python3"
  },
  "language_info": {
   "codemirror_mode": {
    "name": "ipython",
    "version": 3
   },
   "file_extension": ".py",
   "mimetype": "text/x-python",
   "name": "python",
   "nbconvert_exporter": "python",
   "pygments_lexer": "ipython3",
   "version": "3.7.6"
  },
  "livereveal": {
   "scroll": true,
   "transition": "none"
  }
 },
 "nbformat": 4,
 "nbformat_minor": 2
}
