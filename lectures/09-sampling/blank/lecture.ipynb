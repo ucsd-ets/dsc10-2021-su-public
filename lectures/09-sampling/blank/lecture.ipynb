{
 "cells": [
  {
   "cell_type": "code",
   "execution_count": 1,
   "metadata": {
    "slideshow": {
     "slide_type": "slide"
    }
   },
   "outputs": [],
   "source": [
    "#:\n",
    "import babypandas as bpd\n",
    "import numpy as np\n",
    "\n",
    "%matplotlib inline\n",
    "import matplotlib.pyplot as plt\n",
    "import warnings; warnings.simplefilter('ignore')\n",
    "\n",
    "plt.style.use('fivethirtyeight')\n",
    "\n",
    "for i in range(20):\n",
    "    print()"
   ]
  },
  {
   "cell_type": "markdown",
   "metadata": {
    "slideshow": {
     "slide_type": "slide"
    }
   },
   "source": [
    "# Lecture 09\n",
    "\n",
    "## Sampling"
   ]
  },
  {
   "cell_type": "markdown",
   "metadata": {
    "slideshow": {
     "slide_type": "slide"
    }
   },
   "source": [
    "## Announcements:\n",
    "\n",
    "- Sample exam posted (but be careful!)\n",
    "- Friday's discussion = review session"
   ]
  },
  {
   "cell_type": "markdown",
   "metadata": {
    "slideshow": {
     "slide_type": "slide"
    }
   },
   "source": [
    "## Sampling\n",
    "\n",
    "- What do people think of the new Star Wars movie?\n",
    "- We can't ask *everyone* in the **population** at large.\n",
    "- So we take a **sample**.\n",
    "- Central question: what does the opinion of the sample say about the population."
   ]
  },
  {
   "cell_type": "markdown",
   "metadata": {
    "slideshow": {
     "slide_type": "slide"
    }
   },
   "source": [
    "## Population and Sample\n",
    "\n",
    "- The **population** is the set of things being **sampled** from.\n",
    "- Examples: all moviegoers, the faces of a die."
   ]
  },
  {
   "cell_type": "markdown",
   "metadata": {
    "slideshow": {
     "slide_type": "slide"
    }
   },
   "source": [
    "## Types of sample\n",
    "\n",
    "### Deterministic sample:\n",
    "* Sampling scheme doesn’t involve chance\n",
    "\n",
    "### Probability (random) sample:\n",
    "* Involves chance\n",
    "* Before the sample is drawn, you can calculate the probability of selecting each subset of the **population**\n",
    "* Not all individuals need to have an equal chance of being selected"
   ]
  },
  {
   "cell_type": "markdown",
   "metadata": {
    "slideshow": {
     "slide_type": "slide"
    }
   },
   "source": [
    "### Example: deterministic sample\n",
    "\n",
    "Sample of students: take 50% of students, alphabetically by last name\n",
    "\n",
    "### Example: probability sample\n",
    "\n",
    "Sample of students: flip a coin for each student in class (heads, keep; tails, leave)"
   ]
  },
  {
   "cell_type": "markdown",
   "metadata": {
    "slideshow": {
     "slide_type": "slide"
    }
   },
   "source": [
    "### Example: a probability sample\n",
    "* Population: 3 individuals (A, B, C)\n",
    "* Select a sample of 2\n",
    "    - A chosen with probability 1\n",
    "    - Choose B or C based on coin toss\n",
    "* Possible samples: AB, AC, BC\n",
    "    - Chance of AB: ½\n",
    "    - Chance of AC: ½\n",
    "    - Chance of BC = 0"
   ]
  },
  {
   "cell_type": "markdown",
   "metadata": {
    "slideshow": {
     "slide_type": "slide"
    }
   },
   "source": [
    "## Example: movies"
   ]
  },
  {
   "cell_type": "code",
   "execution_count": 2,
   "metadata": {
    "slideshow": {
     "slide_type": "-"
    }
   },
   "outputs": [],
   "source": [
    "top = bpd.read_csv('data/top_movies.csv').set_index('Title')\n",
    "top"
   ]
  },
  {
   "cell_type": "markdown",
   "metadata": {
    "slideshow": {
     "slide_type": "slide"
    }
   },
   "source": [
    "### Example: deterministic or probabilistic sample?\n",
    "* a sample of 3 specific rows"
   ]
  },
  {
   "cell_type": "code",
   "execution_count": 3,
   "metadata": {},
   "outputs": [],
   "source": [
    "top.take([3,5,8])"
   ]
  },
  {
   "cell_type": "markdown",
   "metadata": {
    "slideshow": {
     "slide_type": "slide"
    }
   },
   "source": [
    "### Example: deterministic or probabilistic sample?\n",
    "* a sample via a selection"
   ]
  },
  {
   "cell_type": "code",
   "execution_count": 4,
   "metadata": {},
   "outputs": [],
   "source": [
    "top[top.index.str.contains('and the')]"
   ]
  },
  {
   "cell_type": "markdown",
   "metadata": {
    "slideshow": {
     "slide_type": "slide"
    }
   },
   "source": [
    "### Discussion question\n",
    "Is the following sampling scheme a deterministic or probabilistic sample?\n",
    "* Start with a random number; take every tenth row thereafter.\n",
    "\n",
    "|Option|Answer|\n",
    "|---|---|\n",
    "|A| Deterministic|\n",
    "|B| Probabilitstic|"
   ]
  },
  {
   "cell_type": "markdown",
   "metadata": {
    "slideshow": {
     "slide_type": "slide"
    }
   },
   "source": [
    "###  Answer\n",
    "* Start with a random number; take every tenth row thereafter.\n",
    "* Any given row is equally likely to be picked! (But not true for groups of rows!)"
   ]
  },
  {
   "cell_type": "code",
   "execution_count": 5,
   "metadata": {
    "slideshow": {
     "slide_type": "-"
    }
   },
   "outputs": [],
   "source": [
    "start = np.random.choice(np.arange(10))\n",
    "top.take(np.arange(start, 200, 10))"
   ]
  },
  {
   "cell_type": "markdown",
   "metadata": {
    "slideshow": {
     "slide_type": "slide"
    }
   },
   "source": [
    "### Example: samples uniformly at random with(out) replacement\n",
    "* `.sample()` method\n",
    "* `replace=False` is default."
   ]
  },
  {
   "cell_type": "code",
   "execution_count": 6,
   "metadata": {},
   "outputs": [],
   "source": [
    "# without replacement\n",
    "top.sample(5)"
   ]
  },
  {
   "cell_type": "code",
   "execution_count": 7,
   "metadata": {},
   "outputs": [],
   "source": [
    "# with replacement\n",
    "top.sample(5, replace=True)"
   ]
  },
  {
   "cell_type": "markdown",
   "metadata": {
    "slideshow": {
     "slide_type": "slide"
    }
   },
   "source": [
    "## Sample of Convenience\n",
    "* Example: sample consists of whoever walks by\n",
    "    - Just because you think you’re sampling “at random”, doesn’t mean you are.\n",
    "* If you can’t (in principle) figure out ahead of time \n",
    "    * what’s the population\n",
    "    * what’s the chance of selection, for each group in the population\n",
    "- then you don’t have a random sample!"
   ]
  },
  {
   "cell_type": "markdown",
   "metadata": {
    "slideshow": {
     "slide_type": "slide"
    }
   },
   "source": [
    "### Examples: sample of convenience\n",
    "\n",
    "* Voluntary internet surveys\n",
    "* Interviewing people on Library Walk\n",
    "* The first 100 visits to a website after an email campaign begins."
   ]
  },
  {
   "cell_type": "markdown",
   "metadata": {
    "slideshow": {
     "slide_type": "slide"
    }
   },
   "source": [
    "### Samples of convenience: pros and cons\n",
    "* Pros: \n",
    "    - Easy and inexpensive\n",
    "    - Most common type of sample\n",
    "* Cons: \n",
    "    - Results won't generalize to the population as a whole\n",
    "    - Results are likely biased"
   ]
  },
  {
   "cell_type": "markdown",
   "metadata": {
    "slideshow": {
     "slide_type": "slide"
    }
   },
   "source": [
    "### Example: sample of convenience\n",
    "\n",
    "* Study: determine the average age and sex of gamblers at a casino \n",
    "* Methodology: conducted for three hours on a weekday afternoon \n",
    "* Bias: Might overrepresent elderly people who have retired and underrepresented by people of working age"
   ]
  },
  {
   "cell_type": "markdown",
   "metadata": {
    "slideshow": {
     "slide_type": "slide"
    }
   },
   "source": [
    "# Distributions"
   ]
  },
  {
   "cell_type": "markdown",
   "metadata": {
    "slideshow": {
     "slide_type": "slide"
    }
   },
   "source": [
    "## Probability Distribution\n",
    "* Random quantity with various possible values\n",
    "* Example: what we see when we roll a die.\n",
    "* “Probability distribution”:\n",
    "    - All the possible values of the quantity\n",
    "    - The probability of each of those values"
   ]
  },
  {
   "cell_type": "markdown",
   "metadata": {
    "slideshow": {
     "slide_type": "slide"
    }
   },
   "source": [
    "## Example: probability distribution of die roll\n",
    "\n",
    "- Distribution is **uniform**."
   ]
  },
  {
   "cell_type": "code",
   "execution_count": 8,
   "metadata": {},
   "outputs": [],
   "source": [
    "die =  (\n",
    "    bpd.DataFrame()\n",
    "    .assign(face=np.arange(1, 7, 1))\n",
    ")\n",
    "die"
   ]
  },
  {
   "cell_type": "code",
   "execution_count": 9,
   "metadata": {},
   "outputs": [],
   "source": [
    "bins =  np.arange(0.5, 6.6, 1)\n",
    "die.plot(kind='hist', y='face', bins=bins, density=True)"
   ]
  },
  {
   "cell_type": "markdown",
   "metadata": {
    "slideshow": {
     "slide_type": "slide"
    }
   },
   "source": [
    "## Empirical Distribution\n",
    "\n",
    "* Based on observations\n",
    "* Observations can be from repetitions of an experiment\n",
    "* “Empirical Distribution”\n",
    "    - All observed values\n",
    "    - The proportion of counts of each value"
   ]
  },
  {
   "cell_type": "markdown",
   "metadata": {
    "slideshow": {
     "slide_type": "slide"
    }
   },
   "source": [
    "### Example: Dice\n",
    "* Simulate a roll as a sample from a table\n",
    "* Rolling a die = sampling with replacement."
   ]
  },
  {
   "cell_type": "code",
   "execution_count": 10,
   "metadata": {},
   "outputs": [],
   "source": [
    "n = 10"
   ]
  },
  {
   "cell_type": "code",
   "execution_count": 11,
   "metadata": {},
   "outputs": [],
   "source": [
    "die.sample(n=n, replace=True).plot(kind='hist', y='face', bins=bins, density=True)"
   ]
  },
  {
   "cell_type": "markdown",
   "metadata": {
    "slideshow": {
     "slide_type": "slide"
    }
   },
   "source": [
    "# Large Random Samples"
   ]
  },
  {
   "cell_type": "markdown",
   "metadata": {
    "slideshow": {
     "slide_type": "slide"
    }
   },
   "source": [
    "## Law of Averages\n",
    "\n",
    "If a chance experiment is repeated \n",
    "    - many times,\n",
    "    - independently,\n",
    "    - under the same conditions,\n",
    "    \n",
    "then the proportion of times that an event occurs gets closer to the theoretical probability of the event.\n"
   ]
  },
  {
   "cell_type": "markdown",
   "metadata": {
    "slideshow": {
     "slide_type": "fragment"
    }
   },
   "source": [
    "Example: As you roll a die repeatedly, the proportion of times you roll a 5 gets closer to 1/6."
   ]
  },
  {
   "cell_type": "markdown",
   "metadata": {
    "slideshow": {
     "slide_type": "slide"
    }
   },
   "source": [
    "## Large Random Samples\n",
    "\n",
    "If the sample size is large, then the empirical distribution of a uniform random sample matches the true distribution, with \"high probability\"."
   ]
  },
  {
   "cell_type": "markdown",
   "metadata": {
    "slideshow": {
     "slide_type": "slide"
    }
   },
   "source": [
    "### Example: distribution of flight delays\n",
    "\n",
    "* All United flights leaving SFO between 6/1/15 and 8/9/15."
   ]
  },
  {
   "cell_type": "code",
   "execution_count": 12,
   "metadata": {},
   "outputs": [],
   "source": [
    "united_full = bpd.read_csv('data/united_summer2015.csv')\n",
    "united_full"
   ]
  },
  {
   "cell_type": "markdown",
   "metadata": {
    "slideshow": {
     "slide_type": "slide"
    }
   },
   "source": [
    "## Only need delays..."
   ]
  },
  {
   "cell_type": "code",
   "execution_count": 13,
   "metadata": {},
   "outputs": [],
   "source": [
    "united = united_full.get(['Delay'])\n",
    "united"
   ]
  },
  {
   "cell_type": "markdown",
   "metadata": {
    "slideshow": {
     "slide_type": "slide"
    }
   },
   "source": [
    "### Empirical distribution of flight delays\n",
    "\n",
    "* Suppose we could only record delays for a few flights.\n",
    "* We will sample from the population of all United flights."
   ]
  },
  {
   "cell_type": "code",
   "execution_count": 14,
   "metadata": {},
   "outputs": [],
   "source": [
    "# population distribution\n",
    "bins = np.arange(-20, 300, 10)\n",
    "united.plot(kind='hist', y='Delay', bins=bins, density=True)"
   ]
  },
  {
   "cell_type": "code",
   "execution_count": 15,
   "metadata": {},
   "outputs": [],
   "source": [
    "# empirical distribution\n",
    "N = 10**2\n",
    "united.sample(N, replace=True).plot(kind='hist', y='Delay', bins=bins, density=True)"
   ]
  },
  {
   "cell_type": "markdown",
   "metadata": {
    "slideshow": {
     "slide_type": "slide"
    }
   },
   "source": [
    "### Average Flight Delay\n",
    "\n",
    "- What is the average delay of United out of SFO?\n",
    "- We'd love to know the average delay of **population**, but we only have a **sample**.\n",
    "- How does the mean of the **sample** compare to the mean of the **population**?"
   ]
  },
  {
   "cell_type": "markdown",
   "metadata": {
    "slideshow": {
     "slide_type": "slide"
    }
   },
   "source": [
    "## Mean of the Population"
   ]
  },
  {
   "cell_type": "code",
   "execution_count": 16,
   "metadata": {},
   "outputs": [],
   "source": [
    "# calculate the mean\n",
    "united_mean = united.get('Delay').mean()\n",
    "united_mean"
   ]
  },
  {
   "cell_type": "markdown",
   "metadata": {
    "slideshow": {
     "slide_type": "slide"
    }
   },
   "source": [
    "## Mean of the Large Random Sample\n",
    "\n",
    "- This is called the **sample mean**.\n",
    "- Because the sample is random, the **sample mean** is too!"
   ]
  },
  {
   "cell_type": "code",
   "execution_count": 17,
   "metadata": {},
   "outputs": [],
   "source": [
    "united.sample(100).get('Delay').mean()"
   ]
  },
  {
   "cell_type": "markdown",
   "metadata": {
    "slideshow": {
     "slide_type": "slide"
    }
   },
   "source": [
    "## Mean of the Large Random Sample\n",
    "\n",
    "- As the sample gets bigger, the mean gets closer to the mean of the population."
   ]
  },
  {
   "cell_type": "code",
   "execution_count": 18,
   "metadata": {},
   "outputs": [],
   "source": [
    "# the mean of a lot of samples\n",
    "for n in np.arange(100, 10000, 200):\n",
    "    m = united.sample(int(n)).get('Delay').mean()\n",
    "    print('size of sample: ', n, '\\t', 'mean of sample: ', m)"
   ]
  },
  {
   "cell_type": "markdown",
   "metadata": {
    "slideshow": {
     "slide_type": "slide"
    }
   },
   "source": [
    "## How good is the **sample mean**?\n",
    "\n",
    "- Is it close to the population mean?\n",
    "- If the sample is small, high chance that sample mean is bad.\n",
    "- If the sample is big, small chance that sample mean is bad.\n"
   ]
  },
  {
   "cell_type": "markdown",
   "metadata": {
    "slideshow": {
     "slide_type": "slide"
    }
   },
   "source": [
    "## Small Random Sample\n",
    "\n",
    "<img src=\"data/bullseye-high.png\">"
   ]
  },
  {
   "cell_type": "markdown",
   "metadata": {
    "slideshow": {
     "slide_type": "slide"
    }
   },
   "source": [
    "## Big Random Sample\n",
    "\n",
    "<img src=\"data/bullseye-low.png\">"
   ]
  },
  {
   "cell_type": "markdown",
   "metadata": {
    "slideshow": {
     "slide_type": "slide"
    }
   },
   "source": [
    "### Distribution of sample means\n",
    "\n",
    "- Repeatedly draw a bunch of samples.\n",
    "- Record the mean of each & visualize.\n",
    "- Try different sample sizes."
   ]
  },
  {
   "cell_type": "code",
   "execution_count": 19,
   "metadata": {},
   "outputs": [],
   "source": [
    "n_experiments = 2000\n",
    "means = np.array([])\n",
    "for n in np.arange(n_experiments):\n",
    "    m = united.sample(1000, replace=True).get('Delay').mean()\n",
    "    means = np.append(m, means)\n",
    "\n",
    "bpd.DataFrame().assign(means=means).plot(kind='hist', bins=np.arange(0,40,.5), density=True)\n",
    "plt.axvline(x=united_mean, c='r');"
   ]
  },
  {
   "cell_type": "markdown",
   "metadata": {
    "slideshow": {
     "slide_type": "slide"
    }
   },
   "source": [
    "### Distribution of means from uniform samples of flights from Denver\n",
    "* This sample is a probability sample.\n",
    "* Estimation of the mean is highly biased!"
   ]
  },
  {
   "cell_type": "code",
   "execution_count": 20,
   "metadata": {},
   "outputs": [],
   "source": [
    "n_experiments = 10000\n",
    "means = np.array([])\n",
    "\n",
    "den = united_full[united_full.get('Destination') == 'DEN'].get(['Delay'])\n",
    "for n in np.arange(n_experiments):\n",
    "    m = den.sample(100, replace=True).get('Delay').mean()\n",
    "    means = np.append(m, means)\n",
    "\n",
    "bpd.DataFrame().assign(means=means).plot(kind='hist', bins=np.arange(0,40,.5), density=True)\n",
    "plt.axvline(x=united_mean, c='r');"
   ]
  },
  {
   "cell_type": "markdown",
   "metadata": {
    "slideshow": {
     "slide_type": "slide"
    }
   },
   "source": [
    "### Distribution of means from evenly-spaced random samples\n",
    "* This sample is a probability sample.\n",
    "* Why does the histogram look this way?"
   ]
  },
  {
   "cell_type": "code",
   "execution_count": 21,
   "metadata": {},
   "outputs": [],
   "source": [
    "n_experiments = 2000\n",
    "means = np.array([])\n",
    "for n in np.arange(n_experiments):\n",
    "    start = np.random.choice(np.arange(20))\n",
    "    m = united.take(np.arange(start, united.shape[0], 50)).get('Delay').mean()\n",
    "    means = np.append(m, means)\n",
    "\n",
    "bpd.DataFrame().assign(means=means).plot(kind='hist', bins=np.arange(0,40,.5), density=True)\n",
    "plt.axvline(x=united_mean, c='r');"
   ]
  },
  {
   "cell_type": "markdown",
   "metadata": {
    "slideshow": {
     "slide_type": "slide"
    }
   },
   "source": [
    "### Distribution of means from repeated samples of the first 100 rows\n",
    "* Low variation and very high bias!"
   ]
  },
  {
   "cell_type": "code",
   "execution_count": 22,
   "metadata": {},
   "outputs": [],
   "source": [
    "n_experiments = 2000\n",
    "means = np.array([])\n",
    "for n in np.arange(n_experiments):\n",
    "    start = np.random.choice(np.arange(20))\n",
    "    m = united.take(np.arange(100)).get('Delay').mean()\n",
    "    means = np.append(m, means)\n",
    "\n",
    "bpd.DataFrame().assign(means=means).plot(kind='hist', bins=np.arange(0,40,.5), density=True)\n",
    "plt.axvline(x=united_mean, c='r');"
   ]
  },
  {
   "cell_type": "markdown",
   "metadata": {
    "slideshow": {
     "slide_type": "slide"
    }
   },
   "source": [
    "## Law of Averages and Estimating Probabilities\n",
    "\n",
    "### Rolling a die $N$ times"
   ]
  },
  {
   "cell_type": "markdown",
   "metadata": {
    "slideshow": {
     "slide_type": "slide"
    }
   },
   "source": [
    "### Discussion Question\n",
    "\n",
    "If you roll a die 4 times. What's P(at least one 6)?\n",
    "\n",
    "|Option|Answer|\n",
    "|---|---|\n",
    "|A| $5/6$|\n",
    "|B| $1-5/6$|\n",
    "|C| $1-(5/6)^4$|\n",
    "|D| $1-(1/6)^4$|\n",
    "|E| None of the above|\n"
   ]
  },
  {
   "cell_type": "markdown",
   "metadata": {
    "slideshow": {
     "slide_type": "slide"
    }
   },
   "source": [
    "### Answer for 4 rolls\n",
    "* P(at least one 6) = 1 - P(no 6) = 1 - (5/6)\\**4"
   ]
  },
  {
   "cell_type": "markdown",
   "metadata": {
    "slideshow": {
     "slide_type": "fragment"
    }
   },
   "source": [
    "### Answer for N rolls\n",
    "* P(at least one 6) = 1 - P(no 6) = 1 - (5/6)\\**N"
   ]
  },
  {
   "cell_type": "markdown",
   "metadata": {
    "slideshow": {
     "slide_type": "slide"
    }
   },
   "source": [
    "### Plot the true distribution for each N"
   ]
  },
  {
   "cell_type": "code",
   "execution_count": 23,
   "metadata": {},
   "outputs": [],
   "source": [
    "# chance of getting at least one six\n",
    "rolls = np.arange(1, 51)\n",
    "at_least_one = bpd.DataFrame().assign(n_rolls=rolls, chance=1-(5/6)**rolls)\n",
    "at_least_one.plot(kind='scatter', x='n_rolls', y='chance')"
   ]
  },
  {
   "cell_type": "markdown",
   "metadata": {
    "slideshow": {
     "slide_type": "slide"
    }
   },
   "source": [
    "### Simulate the probability for N=20\n",
    "* What is the chance of getting at least one 6 in 20 rolls?"
   ]
  },
  {
   "cell_type": "code",
   "execution_count": 24,
   "metadata": {},
   "outputs": [],
   "source": [
    "faces = np.arange(1, 7)\n",
    "outcomes = np.random.choice(faces, 20) # pick random number from faces, 20 times\n",
    "outcomes"
   ]
  },
  {
   "cell_type": "code",
   "execution_count": 25,
   "metadata": {},
   "outputs": [],
   "source": [
    "# number of positive outcomes\n",
    "np.count_nonzero(outcomes == 6)"
   ]
  },
  {
   "cell_type": "code",
   "execution_count": 26,
   "metadata": {
    "slideshow": {
     "slide_type": "slide"
    }
   },
   "outputs": [],
   "source": [
    "rolled6 = 0\n",
    "trials = 100000\n",
    "for i in np.arange(trials):\n",
    "    outcomes = np.random.choice(faces, 20)\n",
    "    if np.count_nonzero(outcomes == 6) >=1:\n",
    "        rolled6 = rolled6 + 1\n",
    "        \n",
    "#estimate the probability\n",
    "rolled6/trials"
   ]
  },
  {
   "cell_type": "markdown",
   "metadata": {
    "slideshow": {
     "slide_type": "slide"
    }
   },
   "source": [
    "### Simulate the probability for N=20\n",
    "* wrap the experiment in a function\n",
    "* run the experiment many times"
   ]
  },
  {
   "cell_type": "code",
   "execution_count": 27,
   "metadata": {},
   "outputs": [],
   "source": [
    "def roll_20(trials):\n",
    "    rolled6 = 0\n",
    "    for i in np.arange(trials):\n",
    "        outcomes = np.random.choice(faces, 20)\n",
    "        if np.count_nonzero(outcomes == 6) >=1:\n",
    "            rolled6 = rolled6 + 1\n",
    "\n",
    "    return rolled6/trials\n",
    "\n",
    "roll_20(1000)"
   ]
  },
  {
   "cell_type": "code",
   "execution_count": 28,
   "metadata": {
    "slideshow": {
     "slide_type": "slide"
    }
   },
   "outputs": [],
   "source": [
    "estimates = np.array([])\n",
    "for i in np.arange(500):\n",
    "    estimates = np.append(roll_20(1000), estimates)\n",
    "    \n",
    "probs = bpd.DataFrame().assign(estimates=estimates)"
   ]
  },
  {
   "cell_type": "code",
   "execution_count": 29,
   "metadata": {},
   "outputs": [],
   "source": [
    "probs.plot(kind='hist', density=True, bins=np.linspace(.95, .99, 15))\n",
    "true_prob = 1 - (5/6)**20\n",
    "\n",
    "plt.axvline(x=true_prob, c='r');"
   ]
  }
 ],
 "metadata": {
  "celltoolbar": "Slideshow",
  "kernelspec": {
   "display_name": "Python 3",
   "language": "python",
   "name": "python3"
  },
  "language_info": {
   "codemirror_mode": {
    "name": "ipython",
    "version": 3
   },
   "file_extension": ".py",
   "mimetype": "text/x-python",
   "name": "python",
   "nbconvert_exporter": "python",
   "pygments_lexer": "ipython3",
   "version": "3.7.6"
  },
  "livereveal": {
   "scroll": true,
   "transition": "none"
  }
 },
 "nbformat": 4,
 "nbformat_minor": 2
}
