{
 "cells": [
  {
   "cell_type": "code",
   "execution_count": 1,
   "metadata": {},
   "outputs": [],
   "source": [
    "import babypandas as bpd\n",
    "\n",
    "from notebook.services.config import ConfigManager\n",
    "cm = ConfigManager()\n",
    "cm.update('livereveal', {\n",
    "        'width': 1024,\n",
    "        'height': 768,\n",
    "        'scroll': True,\n",
    "})"
   ]
  },
  {
   "cell_type": "markdown",
   "metadata": {
    "slideshow": {
     "slide_type": "slide"
    }
   },
   "source": [
    "# Lecture 3: Arrays and Tables"
   ]
  },
  {
   "cell_type": "markdown",
   "metadata": {
    "slideshow": {
     "slide_type": "slide"
    }
   },
   "source": [
    "# How do we store *sequences*?\n",
    "\n",
    "For instance:\n",
    "- all temperatures in month of January\n",
    "- the age of every user on Facebook\n",
    "- the salary of every NBA player"
   ]
  },
  {
   "cell_type": "markdown",
   "metadata": {
    "slideshow": {
     "slide_type": "slide"
    }
   },
   "source": [
    "## Each as own variable?"
   ]
  },
  {
   "cell_type": "code",
   "execution_count": 2,
   "metadata": {},
   "outputs": [],
   "source": [
    "temperature_on_jan_01 = 68\n",
    "temperature_on_jan_02 = 72\n",
    "temperature_on_jan_03 = 65\n",
    "temperature_on_jan_04 = 64\n",
    "temperature_on_jan_05 = 62\n",
    "temperature_on_jan_06 = 61\n",
    "temperature_on_jan_07 = 59\n",
    "temperature_on_jan_08 = 64\n",
    "temperature_on_jan_09 = 64\n",
    "temperature_on_jan_10 = 63\n",
    "temperature_on_jan_11 = 65\n",
    "temperature_on_jan_12 = 62"
   ]
  },
  {
   "cell_type": "markdown",
   "metadata": {},
   "source": [
    "```\n",
    "avg_temperature = 1/12 * (\n",
    "    temperature_on_jan_01\n",
    "    + temperature_on_jan_02\n",
    "    + temperature_on_jan_03\n",
    "    + ...)\n",
    "```"
   ]
  },
  {
   "cell_type": "markdown",
   "metadata": {
    "slideshow": {
     "slide_type": "slide"
    }
   },
   "source": [
    "## Python's `list`s\n",
    "\n",
    "- To create a `list`, place commas between things and surround with square brackets:"
   ]
  },
  {
   "cell_type": "code",
   "execution_count": 3,
   "metadata": {},
   "outputs": [],
   "source": [
    "temperature_list = [68, 72, 65, 64, 62, 61, 59, 64, 64, 63, 65, 62]\n",
    "temperature_list"
   ]
  },
  {
   "cell_type": "code",
   "execution_count": 4,
   "metadata": {},
   "outputs": [],
   "source": [
    "temperature_list = [temperature_on_jan_01, 72, 65, temperature_on_jan_04, 62, 61, 59, 64, 64, 63, 65, 62]\n",
    "temperature_list"
   ]
  },
  {
   "cell_type": "markdown",
   "metadata": {
    "slideshow": {
     "slide_type": "slide"
    }
   },
   "source": [
    "## `list`s make working with sequences easy"
   ]
  },
  {
   "cell_type": "code",
   "execution_count": 5,
   "metadata": {},
   "outputs": [],
   "source": [
    "# compute the average temperature using `sum`\n",
    "sum(temperature_list) / len(temperature_list)"
   ]
  },
  {
   "cell_type": "markdown",
   "metadata": {
    "slideshow": {
     "slide_type": "slide"
    }
   },
   "source": [
    "## The Problem\n",
    "\n",
    "- Lists are sloowwww\n",
    "- Not a big deal when there aren't many entries\n",
    "- A big problem when there are millions/billions of entries"
   ]
  },
  {
   "cell_type": "markdown",
   "metadata": {
    "slideshow": {
     "slide_type": "slide"
    }
   },
   "source": [
    "# Arrays\n",
    "* Like lists, but faster.\n",
    "* Slightly less easy to work with.\n",
    "* Provided by a package called `numpy`"
   ]
  },
  {
   "cell_type": "code",
   "execution_count": 6,
   "metadata": {
    "slideshow": {
     "slide_type": "-"
    }
   },
   "outputs": [],
   "source": [
    "import numpy as np"
   ]
  },
  {
   "cell_type": "markdown",
   "metadata": {
    "slideshow": {
     "slide_type": "slide"
    }
   },
   "source": [
    "## Creating arrays\n",
    "\n",
    "- To create an array, pass a list to the `np.array` function\n",
    "- Remember the square brackets!"
   ]
  },
  {
   "cell_type": "code",
   "execution_count": 7,
   "metadata": {},
   "outputs": [],
   "source": [
    "temperature_array = np.array([68, 72, 65, 64, 62, 61, 59, 64, 64, 63, 65, 62])\n",
    "temperature_array"
   ]
  },
  {
   "cell_type": "code",
   "execution_count": 8,
   "metadata": {},
   "outputs": [],
   "source": [
    "np.array(temperature_list)"
   ]
  },
  {
   "cell_type": "markdown",
   "metadata": {
    "slideshow": {
     "slide_type": "slide"
    }
   },
   "source": [
    "## Accessing elements of arrays\n",
    "\n",
    "- The things inside of an array are called its *elements*\n",
    "- To get a particular element, use `[]`:"
   ]
  },
  {
   "cell_type": "code",
   "execution_count": 9,
   "metadata": {},
   "outputs": [],
   "source": [
    "temperature_array"
   ]
  },
  {
   "cell_type": "code",
   "execution_count": 10,
   "metadata": {},
   "outputs": [],
   "source": [
    "temperature_array[3]"
   ]
  },
  {
   "cell_type": "markdown",
   "metadata": {
    "slideshow": {
     "slide_type": "slide"
    }
   },
   "source": [
    "## Warning!\n",
    "\n",
    "- Python (like most languages) starts counting from 0, not 1!"
   ]
  },
  {
   "cell_type": "code",
   "execution_count": 11,
   "metadata": {},
   "outputs": [],
   "source": [
    "# get the first element of the array\n",
    "temperature_array[0]"
   ]
  },
  {
   "cell_type": "markdown",
   "metadata": {
    "slideshow": {
     "slide_type": "slide"
    }
   },
   "source": [
    "## Out-of-bounds errors"
   ]
  },
  {
   "cell_type": "code",
   "execution_count": 12,
   "metadata": {},
   "outputs": [],
   "source": [
    "temperature_array[42]"
   ]
  },
  {
   "cell_type": "markdown",
   "metadata": {
    "slideshow": {
     "slide_type": "slide"
    }
   },
   "source": [
    "## Array/Number arithmetic\n",
    "\n",
    "- `numpy` arrays make it easy to do the same thing to every element"
   ]
  },
  {
   "cell_type": "code",
   "execution_count": 13,
   "metadata": {},
   "outputs": [],
   "source": [
    "temperature_array"
   ]
  },
  {
   "cell_type": "code",
   "execution_count": 14,
   "metadata": {},
   "outputs": [],
   "source": [
    "# increase all temperatures by 3 degrees\n",
    "temperature_array + 3"
   ]
  },
  {
   "cell_type": "code",
   "execution_count": 15,
   "metadata": {},
   "outputs": [],
   "source": [
    "# halve all temperatures\n",
    "temperature_array / 2"
   ]
  },
  {
   "cell_type": "code",
   "execution_count": 16,
   "metadata": {},
   "outputs": [],
   "source": [
    "# convert all temperatures to Celsius\n",
    "(5/9) * (temperature_array - 32)"
   ]
  },
  {
   "cell_type": "markdown",
   "metadata": {
    "slideshow": {
     "slide_type": "slide"
    }
   },
   "source": [
    "## Array/Array arithmetic\n",
    "\n",
    "- two arrays of the same size can be added, subtracted, multiplied, etc.\n",
    "- the arithmetic happens *elementwise*"
   ]
  },
  {
   "cell_type": "code",
   "execution_count": 17,
   "metadata": {},
   "outputs": [],
   "source": [
    "a1 = np.array([1,2,3])\n",
    "a2 = np.array([4,5,6])"
   ]
  },
  {
   "cell_type": "code",
   "execution_count": 18,
   "metadata": {},
   "outputs": [],
   "source": [
    "a1"
   ]
  },
  {
   "cell_type": "code",
   "execution_count": 19,
   "metadata": {},
   "outputs": [],
   "source": [
    "a2"
   ]
  },
  {
   "cell_type": "code",
   "execution_count": 20,
   "metadata": {},
   "outputs": [],
   "source": [
    "a1 + a2"
   ]
  },
  {
   "cell_type": "code",
   "execution_count": 21,
   "metadata": {},
   "outputs": [],
   "source": [
    "a1 - a2"
   ]
  },
  {
   "cell_type": "code",
   "execution_count": 22,
   "metadata": {},
   "outputs": [],
   "source": [
    "a1 * a2"
   ]
  },
  {
   "cell_type": "markdown",
   "metadata": {
    "slideshow": {
     "slide_type": "slide"
    }
   },
   "source": [
    "## Arrays for basic statistics: newborn birth weight"
   ]
  },
  {
   "cell_type": "code",
   "execution_count": 23,
   "metadata": {},
   "outputs": [],
   "source": [
    "#: four girls with weight in kg: g1 = 3.405, g2 = 3.207, g3 = 2.42, g4 = 3.984\n",
    "\n",
    "g1 = 3.405 \n",
    "g2 = 3.207\n",
    "g3 = 2.42\n",
    "g4 = 3.984\n",
    "\n",
    "# average weight of a newborn girl (in kg): 3.3\n",
    "girl_av_weight = 3.3"
   ]
  },
  {
   "cell_type": "markdown",
   "metadata": {
    "slideshow": {
     "slide_type": "slide"
    }
   },
   "source": [
    "### Load the weights into an array of floats"
   ]
  },
  {
   "cell_type": "code",
   "execution_count": 24,
   "metadata": {},
   "outputs": [],
   "source": [
    "weights_kg_g = np.array([g1, g2, g3, g4]) \n",
    "\n",
    "weights_kg_g"
   ]
  },
  {
   "cell_type": "markdown",
   "metadata": {
    "slideshow": {
     "slide_type": "slide"
    }
   },
   "source": [
    "### Calculate the deviation of weights from the average weight\n",
    "* Subtracting a number from an array subtracts the number from each element."
   ]
  },
  {
   "cell_type": "code",
   "execution_count": 25,
   "metadata": {},
   "outputs": [],
   "source": [
    "weights_kg_g - girl_av_weight"
   ]
  },
  {
   "cell_type": "markdown",
   "metadata": {
    "slideshow": {
     "slide_type": "slide"
    }
   },
   "source": [
    "### Convert the weights to pounds (2.2 kg/lb)"
   ]
  },
  {
   "cell_type": "code",
   "execution_count": 26,
   "metadata": {},
   "outputs": [],
   "source": [
    "weights_lbs_g = weights_kg_g * 2.2\n",
    "weights_lbs_g"
   ]
  },
  {
   "cell_type": "markdown",
   "metadata": {
    "slideshow": {
     "slide_type": "slide"
    }
   },
   "source": [
    "### How many girls are recorded in the array?\n",
    "\n",
    "- The function `len()` returns the length of an array (or list)."
   ]
  },
  {
   "cell_type": "code",
   "execution_count": 27,
   "metadata": {},
   "outputs": [],
   "source": [
    "len(weights_lbs_g)"
   ]
  },
  {
   "cell_type": "markdown",
   "metadata": {
    "slideshow": {
     "slide_type": "slide"
    }
   },
   "source": [
    "## Arrays for basic statistics: daily temperatures"
   ]
  },
  {
   "cell_type": "markdown",
   "metadata": {
    "slideshow": {
     "slide_type": "slide"
    }
   },
   "source": [
    "### Below is an array of daily high temperatures in San Diego from August 2018"
   ]
  },
  {
   "cell_type": "code",
   "execution_count": 28,
   "metadata": {},
   "outputs": [],
   "source": [
    "temps = np.array([86, 85, 85, 84, 85, 86, 91, 89, 90, 88, 88, 85, 83, 82, 79, 81, 82,\n",
    "                   83, 82, 79, 81, 83, 83, 79, 80, 80, 79, 80, 82, 82, 80])"
   ]
  },
  {
   "cell_type": "markdown",
   "metadata": {},
   "source": [
    "Numbers of days temperatures are collected in August:"
   ]
  },
  {
   "cell_type": "code",
   "execution_count": 29,
   "metadata": {},
   "outputs": [],
   "source": [
    "len(temps)"
   ]
  },
  {
   "cell_type": "markdown",
   "metadata": {
    "slideshow": {
     "slide_type": "slide"
    }
   },
   "source": [
    "### temperature statistics (mean, min, max)\n",
    "\n",
    "- Arrays have handy methods for common tasks"
   ]
  },
  {
   "cell_type": "code",
   "execution_count": 30,
   "metadata": {},
   "outputs": [],
   "source": [
    "..."
   ]
  },
  {
   "cell_type": "code",
   "execution_count": 31,
   "metadata": {},
   "outputs": [],
   "source": [
    "temps.mean() # build the mean method"
   ]
  },
  {
   "cell_type": "code",
   "execution_count": 32,
   "metadata": {},
   "outputs": [],
   "source": [
    "max(temps) # builtin functions work on array"
   ]
  },
  {
   "cell_type": "code",
   "execution_count": 33,
   "metadata": {},
   "outputs": [],
   "source": [
    "temps.max() # the array has it's own min/max method (faster)"
   ]
  },
  {
   "cell_type": "markdown",
   "metadata": {
    "slideshow": {
     "slide_type": "slide"
    }
   },
   "source": [
    "# Ranges\n",
    "\n",
    "- We often find ourselves needing to make arrays like this:"
   ]
  },
  {
   "cell_type": "code",
   "execution_count": 34,
   "metadata": {},
   "outputs": [],
   "source": [
    "days_in_january = np.array([\n",
    "    1, 2, 3, 4, 5, 6, 7, 8, 9, 10, 11, 12, \n",
    "    13, 14, 15, 16, 17, 18, 19, 20, 21, 22, \n",
    "    23, 24, 25, 26, 27, 28, 29, 30, 31\n",
    "])"
   ]
  },
  {
   "cell_type": "markdown",
   "metadata": {
    "slideshow": {
     "slide_type": "slide"
    }
   },
   "source": [
    "# Ranges\n",
    "* A range is an array of consecutive numbers\n",
    "* ```np.arange(end)```: An array of increasing integers from 0 up to (and excluding!) end\n",
    "* ```np.arange(start, end)```: An array of increasing integers from start up to (excluding!) end\n",
    "* ```np.arange(start, end, step)```: A range with step between consecutive values\n",
    "* The range always includes start but excludes end (i.e. a half-open interval)"
   ]
  },
  {
   "cell_type": "code",
   "execution_count": 35,
   "metadata": {},
   "outputs": [],
   "source": [
    "np.arange(5)"
   ]
  },
  {
   "cell_type": "code",
   "execution_count": 36,
   "metadata": {},
   "outputs": [],
   "source": [
    "np.arange(3, 9)"
   ]
  },
  {
   "cell_type": "code",
   "execution_count": 37,
   "metadata": {},
   "outputs": [],
   "source": [
    "np.arange(3, 30, 5)"
   ]
  },
  {
   "cell_type": "code",
   "execution_count": 38,
   "metadata": {},
   "outputs": [],
   "source": [
    "np.arange(-3, 2, 0.5)"
   ]
  },
  {
   "cell_type": "code",
   "execution_count": 39,
   "metadata": {},
   "outputs": [],
   "source": [
    "np.arange(1, -3)"
   ]
  },
  {
   "cell_type": "markdown",
   "metadata": {
    "slideshow": {
     "slide_type": "slide"
    }
   },
   "source": [
    "## Discussion Question\n",
    "\n",
    "On the first day of January, you are paid 1 cent. Every day thereafter, your pay doubles: on the 2nd day it is 2 cents, on the 3rd it is 4 cents, on the 4th it is 8 cents, and so on.\n",
    "\n",
    "January has 31 days.\n",
    "\n",
    "Which of these expressions calculates the total amount of money you'll make in January (in dollars)?\n",
    "\n",
    "- A) `(2**(np.arange(31) * .01)).sum()`\n",
    "- B) `(2**(np.arange(32) * .01)).sum()`\n",
    "- C) `((2**np.arange(31)) * .01).sum()`\n",
    "- D) `((2**np.arange(32)) * .01).sum()`"
   ]
  },
  {
   "cell_type": "markdown",
   "metadata": {},
   "source": [
    "_Type your answer here, replacing this text._"
   ]
  },
  {
   "cell_type": "code",
   "execution_count": 40,
   "metadata": {
    "slideshow": {
     "slide_type": "-"
    }
   },
   "outputs": [],
   "source": [
    "..."
   ]
  },
  {
   "cell_type": "code",
   "execution_count": 41,
   "metadata": {},
   "outputs": [],
   "source": [
    "..."
   ]
  },
  {
   "cell_type": "code",
   "execution_count": 42,
   "metadata": {},
   "outputs": [],
   "source": [
    "..."
   ]
  },
  {
   "cell_type": "markdown",
   "metadata": {
    "slideshow": {
     "slide_type": "slide"
    }
   },
   "source": [
    "## (Optional) Speed Comparison, list vs array"
   ]
  },
  {
   "cell_type": "code",
   "execution_count": 43,
   "metadata": {},
   "outputs": [],
   "source": [
    "n = 1_000_000\n",
    "lst = list(range(n))\n",
    "arr = np.arange(n)"
   ]
  },
  {
   "cell_type": "code",
   "execution_count": 54,
   "metadata": {},
   "outputs": [],
   "source": [
    "sum(lst)"
   ]
  },
  {
   "cell_type": "code",
   "execution_count": 55,
   "metadata": {},
   "outputs": [],
   "source": [
    "arr.sum()"
   ]
  },
  {
   "cell_type": "code",
   "execution_count": 56,
   "metadata": {},
   "outputs": [],
   "source": [
    "%%timeit\n",
    "_ = sum(lst)"
   ]
  },
  {
   "cell_type": "code",
   "execution_count": 57,
   "metadata": {},
   "outputs": [],
   "source": [
    "%%timeit \n",
    "_ = arr.sum()"
   ]
  },
  {
   "cell_type": "code",
   "execution_count": 100,
   "metadata": {},
   "outputs": [],
   "source": [
    "# compute ratio\n",
    "..."
   ]
  },
  {
   "cell_type": "markdown",
   "metadata": {
    "slideshow": {
     "slide_type": "slide"
    }
   },
   "source": [
    "# Tables\n",
    "\n",
    "<img width=75% src=\"./data/imdb.png\"/>"
   ]
  },
  {
   "cell_type": "markdown",
   "metadata": {
    "slideshow": {
     "slide_type": "slide"
    }
   },
   "source": [
    "## How do we store *tabular data*?\n",
    "\n",
    "- Could have an array for title, another for rating, another for year, etc.\n",
    "- But this is not convenient.\n",
    "- Instead, we use something called a *DataFrame*"
   ]
  },
  {
   "cell_type": "code",
   "execution_count": 59,
   "metadata": {
    "slideshow": {
     "slide_type": "slide"
    }
   },
   "outputs": [],
   "source": [
    "bpd.read_csv('data/imdb.csv')"
   ]
  },
  {
   "cell_type": "markdown",
   "metadata": {
    "slideshow": {
     "slide_type": "slide"
    }
   },
   "source": [
    "## `pandas`\n",
    "\n",
    "- DataFrames are provided by a package called `pandas`\n",
    "- `pandas` is *the* tool for doing data science in Python\n",
    "    - downloaded $380,000$ times *yesterday*\n",
    "    - last month: 14 million downloads"
   ]
  },
  {
   "cell_type": "markdown",
   "metadata": {
    "slideshow": {
     "slide_type": "slide"
    }
   },
   "source": [
    "## But `pandas` is not so cute...\n",
    "\n",
    "<img height=100% src=\"./data/angrypanda.jpg\"/>"
   ]
  },
  {
   "cell_type": "markdown",
   "metadata": {
    "slideshow": {
     "slide_type": "slide"
    }
   },
   "source": [
    "## Instead\n",
    "\n",
    "- We at UCSD have created a smaller, nicer version of `pandas`\n",
    "- Keeps important stuff, throws out the rest.\n",
    "- Easier to learn, but is still valid `pandas` code."
   ]
  },
  {
   "cell_type": "markdown",
   "metadata": {
    "slideshow": {
     "slide_type": "slide"
    }
   },
   "source": [
    "## We call it `babypandas`\n",
    "\n",
    "<img height=75% src=\"./data/babypanda.jpg\"/>"
   ]
  },
  {
   "cell_type": "markdown",
   "metadata": {
    "slideshow": {
     "slide_type": "slide"
    }
   },
   "source": [
    "## Importing `babypandas`"
   ]
  },
  {
   "cell_type": "code",
   "execution_count": 60,
   "metadata": {},
   "outputs": [],
   "source": [
    "import babypandas as bpd"
   ]
  },
  {
   "cell_type": "markdown",
   "metadata": {
    "slideshow": {
     "slide_type": "slide"
    }
   },
   "source": [
    "## Table Structure\n",
    "\n",
    "- Tables have *columns* and *rows*\n",
    "- Can think of each column as an array\n",
    "- Every column has a label: \"Votes\", \"Rating\", etc.\n",
    "- Every row does too: 0, 1, 2, 3"
   ]
  },
  {
   "cell_type": "code",
   "execution_count": 61,
   "metadata": {},
   "outputs": [],
   "source": [
    "movies = bpd.read_csv('data/imdb.csv').take(np.arange(4))\n",
    "movies"
   ]
  },
  {
   "cell_type": "markdown",
   "metadata": {
    "slideshow": {
     "slide_type": "slide"
    }
   },
   "source": [
    "## The Index\n",
    "\n",
    "- Together, the row labels are called the *index*.\n",
    "- It's not a separate column!"
   ]
  },
  {
   "cell_type": "code",
   "execution_count": 62,
   "metadata": {},
   "outputs": [],
   "source": [
    "movies"
   ]
  },
  {
   "cell_type": "markdown",
   "metadata": {
    "slideshow": {
     "slide_type": "slide"
    }
   },
   "source": [
    "## Setting a new index\n",
    "\n",
    "- Can set a better index using `.set_index(column_name)`\n",
    "- Row labels should (ideally) be unique identifiers.\n",
    "- Returns a copy!\n",
    "- Looks nicer, but also really useful."
   ]
  },
  {
   "cell_type": "code",
   "execution_count": 63,
   "metadata": {},
   "outputs": [],
   "source": [
    "movies_by_name = movies.set_index('Title')\n",
    "movies_by_name"
   ]
  },
  {
   "cell_type": "markdown",
   "metadata": {
    "slideshow": {
     "slide_type": "slide"
    }
   },
   "source": [
    "## The index is an array"
   ]
  },
  {
   "cell_type": "code",
   "execution_count": 64,
   "metadata": {},
   "outputs": [],
   "source": [
    "movies_by_name"
   ]
  },
  {
   "cell_type": "code",
   "execution_count": 65,
   "metadata": {},
   "outputs": [],
   "source": [
    "movies_by_name.index"
   ]
  },
  {
   "cell_type": "markdown",
   "metadata": {
    "slideshow": {
     "slide_type": "slide"
    }
   },
   "source": [
    "## Discussion Question\n",
    "\n",
    "Which of these will return `Léon`?\n",
    "\n",
    "- A) `movies_by_name['Title'][3]`\n",
    "- B) `movies_by_name['Title'][4]`\n",
    "- C) `movies_by_name.index[3]`\n",
    "- D) `movies_by_name.index[4]`"
   ]
  },
  {
   "cell_type": "markdown",
   "metadata": {},
   "source": [
    "_Type your answer here, replacing this text._"
   ]
  },
  {
   "cell_type": "code",
   "execution_count": 101,
   "metadata": {},
   "outputs": [],
   "source": [
    "..."
   ]
  },
  {
   "cell_type": "markdown",
   "metadata": {
    "slideshow": {
     "slide_type": "slide"
    }
   },
   "source": [
    "# NBA Salaries"
   ]
  },
  {
   "cell_type": "markdown",
   "metadata": {
    "slideshow": {
     "slide_type": "-"
    }
   },
   "source": [
    "- The file `nba_salaries.csv` contains all salaries from 2015-2016 NBA season.\n",
    "- CSV: *Comma-separated values*"
   ]
  },
  {
   "cell_type": "code",
   "execution_count": 69,
   "metadata": {},
   "outputs": [],
   "source": [
    "print(open('data/nba_salaries.csv').read())"
   ]
  },
  {
   "cell_type": "markdown",
   "metadata": {
    "slideshow": {
     "slide_type": "slide"
    }
   },
   "source": [
    "## Reading a CSV\n",
    "\n",
    "- We can read a CSV using `bpd.read_csv()`. Give it name of the file."
   ]
  },
  {
   "cell_type": "code",
   "execution_count": 70,
   "metadata": {},
   "outputs": [],
   "source": [
    "salaries = bpd.read_csv('data/nba_salaries.csv')\n",
    "salaries"
   ]
  },
  {
   "cell_type": "markdown",
   "metadata": {
    "slideshow": {
     "slide_type": "slide"
    }
   },
   "source": [
    "## Discussion Question\n",
    "\n",
    "What would be a good column to use as the index?\n",
    "\n",
    "- A) PLAYER\n",
    "- B) POSITION\n",
    "- C) TEAM\n",
    "- D) 2015_SALARY\n",
    "\n",
    "Is there something we should be worried about?"
   ]
  },
  {
   "cell_type": "markdown",
   "metadata": {},
   "source": [
    "_Type your answer here, replacing this text._"
   ]
  },
  {
   "cell_type": "markdown",
   "metadata": {
    "slideshow": {
     "slide_type": "slide"
    }
   },
   "source": [
    "## Setting the index"
   ]
  },
  {
   "cell_type": "code",
   "execution_count": 71,
   "metadata": {},
   "outputs": [],
   "source": [
    "salaries_by_player = salaries.set_index('PLAYER')\n",
    "salaries_by_player"
   ]
  },
  {
   "cell_type": "markdown",
   "metadata": {
    "slideshow": {
     "slide_type": "slide"
    }
   },
   "source": [
    "### Shape of a table:\n",
    "\n",
    "- `.shape` returns the number of rows and number of columns\n",
    "- Access each with `[]`:"
   ]
  },
  {
   "cell_type": "code",
   "execution_count": 72,
   "metadata": {},
   "outputs": [],
   "source": [
    "salaries_by_player.shape"
   ]
  },
  {
   "cell_type": "code",
   "execution_count": 73,
   "metadata": {},
   "outputs": [],
   "source": [
    "salaries_by_player.shape[0]"
   ]
  },
  {
   "cell_type": "code",
   "execution_count": 74,
   "metadata": {},
   "outputs": [],
   "source": [
    "salaries_by_player.shape[1]"
   ]
  },
  {
   "cell_type": "markdown",
   "metadata": {
    "slideshow": {
     "slide_type": "slide"
    }
   },
   "source": [
    "## Use Case: Adjust for Inflation"
   ]
  },
  {
   "cell_type": "markdown",
   "metadata": {},
   "source": [
    "- These salaries are old. We should adjust for inflation\n",
    "- $\\$1.00$ in 2015 = $\\$1.09$ in 2020\n",
    "- Workflow:\n",
    "    - get the column of salaries\n",
    "    - multiply every element by 1.09\n",
    "    - add new column to table"
   ]
  },
  {
   "cell_type": "markdown",
   "metadata": {
    "slideshow": {
     "slide_type": "slide"
    }
   },
   "source": [
    "### Step 1) Getting a column\n",
    "\n",
    "- We can get a column from a dataframe using `.get(column_name)`:\n",
    "- Warning: case sensitive!\n",
    "- The result looks like a 1-column DataFrame, but is actually a *Series*"
   ]
  },
  {
   "cell_type": "code",
   "execution_count": 75,
   "metadata": {},
   "outputs": [],
   "source": [
    "salaries_by_player.get(\"2015_SALARY\")"
   ]
  },
  {
   "cell_type": "markdown",
   "metadata": {
    "slideshow": {
     "slide_type": "slide"
    }
   },
   "source": [
    "### Digression: Series\n",
    "\n",
    "- A *Series* is like an array, but with an index\n",
    "- In particular, supports arithmetic"
   ]
  },
  {
   "cell_type": "code",
   "execution_count": 76,
   "metadata": {},
   "outputs": [],
   "source": [
    "salaries_by_player.get(\"2015_SALARY\")"
   ]
  },
  {
   "cell_type": "code",
   "execution_count": 77,
   "metadata": {},
   "outputs": [],
   "source": [
    "# Step 2) Adjust the salaries for inflation\n",
    "salaries_by_player.get(\"2015_SALARY\") * 1.09"
   ]
  },
  {
   "cell_type": "markdown",
   "metadata": {
    "slideshow": {
     "slide_type": "slide"
    }
   },
   "source": [
    "### Step 3) Add adjusted salaries to table\n",
    "\n",
    "- Use `.assign(Name_of_column=data_in_array)` to assign an array (or series, or list) to a table.\n",
    "- **Warning!** No quotes around `Name_of_column`\n",
    "- Creates a new dataframe! Must save to variable."
   ]
  },
  {
   "cell_type": "code",
   "execution_count": 78,
   "metadata": {},
   "outputs": [],
   "source": [
    "salaries_by_player.assign(\n",
    "    ADJUSTED_SALARY=salaries_by_player.get(\"2015_SALARY\") * 1.09\n",
    ")"
   ]
  },
  {
   "cell_type": "code",
   "execution_count": 79,
   "metadata": {},
   "outputs": [],
   "source": [
    "salaries_by_player"
   ]
  },
  {
   "cell_type": "code",
   "execution_count": 80,
   "metadata": {},
   "outputs": [],
   "source": [
    "adjusted_salaries = salaries_by_player.assign(\n",
    "    ADJUSTED_SALARY=salaries_by_player.get(\"2015_SALARY\") * 1.09\n",
    ")\n",
    "adjusted_salaries"
   ]
  },
  {
   "cell_type": "markdown",
   "metadata": {
    "slideshow": {
     "slide_type": "slide"
    }
   },
   "source": [
    "## Use Case: Getting a particular player's salary\n",
    "\n",
    "- How much did LeBron James make in 2015 (adjusted for inflation)?"
   ]
  },
  {
   "cell_type": "code",
   "execution_count": 81,
   "metadata": {},
   "outputs": [],
   "source": [
    "# this is a Series!\n",
    "adjusted_salaries.get('ADJUSTED_SALARY')"
   ]
  },
  {
   "cell_type": "markdown",
   "metadata": {
    "slideshow": {
     "slide_type": "slide"
    }
   },
   "source": [
    "## Accessing a Series by row label: `.loc`\n",
    "\n",
    "- Use `.loc[]` to *access* an element of the series with a particular row label"
   ]
  },
  {
   "cell_type": "code",
   "execution_count": 82,
   "metadata": {},
   "outputs": [],
   "source": [
    "adjusted_salaries.get('ADJUSTED_SALARY').loc['LeBron James']"
   ]
  },
  {
   "cell_type": "markdown",
   "metadata": {
    "slideshow": {
     "slide_type": "slide"
    }
   },
   "source": [
    "## How to get a particular element from a table:\n",
    "\n",
    "1. `.get()` the column label\n",
    "2. `.loc[]` the row label\n",
    "\n",
    "In this class, we'll always get column, then row (but row, then column is also possible).\n",
    "\n",
    " Example: What position does LeBron play?"
   ]
  },
  {
   "cell_type": "code",
   "execution_count": 83,
   "metadata": {},
   "outputs": [],
   "source": [
    "adjusted_salaries.get('POSITION').loc['LeBron James']"
   ]
  },
  {
   "cell_type": "markdown",
   "metadata": {
    "slideshow": {
     "slide_type": "slide"
    }
   },
   "source": [
    "## Use Case: Salary Analysis\n",
    "\n",
    "- What was the biggest/smallest salary? What was the average salary?\n",
    "- *Series* have helpful methods, like `.min()`, `.max()`, `.mean()`, etc."
   ]
  },
  {
   "cell_type": "code",
   "execution_count": 84,
   "metadata": {},
   "outputs": [],
   "source": [
    "adjusted_salaries.get('ADJUSTED_SALARY').min()"
   ]
  },
  {
   "cell_type": "code",
   "execution_count": 85,
   "metadata": {},
   "outputs": [],
   "source": [
    "adjusted_salaries.get('ADJUSTED_SALARY').max()"
   ]
  },
  {
   "cell_type": "code",
   "execution_count": 86,
   "metadata": {},
   "outputs": [],
   "source": [
    "adjusted_salaries.get('ADJUSTED_SALARY').mean()"
   ]
  },
  {
   "cell_type": "markdown",
   "metadata": {
    "slideshow": {
     "slide_type": "slide"
    }
   },
   "source": [
    "## Use Case: *Who* had the biggest salary?\n",
    "\n",
    "- Strategy: Sort the table by salary and take the name at the top"
   ]
  },
  {
   "cell_type": "markdown",
   "metadata": {
    "slideshow": {
     "slide_type": "slide"
    }
   },
   "source": [
    "### Step 1) Sort the table\n",
    "\n",
    "- Use the `.sort_values(by=column_name)` method to sort.\n",
    "- **Notice:** Creates a new table.\n",
    "- Everything works as expected, but we wanted *descending* order."
   ]
  },
  {
   "cell_type": "code",
   "execution_count": 87,
   "metadata": {},
   "outputs": [],
   "source": [
    "adjusted_salaries.sort_values(by='ADJUSTED_SALARY')"
   ]
  },
  {
   "cell_type": "markdown",
   "metadata": {
    "slideshow": {
     "slide_type": "slide"
    }
   },
   "source": [
    "### Step 1) Sorting the table in *descending* order\n",
    "\n",
    "- Use `.sort_values(by=column_name, ascending=False)` to sort in *descending* order"
   ]
  },
  {
   "cell_type": "code",
   "execution_count": 88,
   "metadata": {},
   "outputs": [],
   "source": [
    "highest_salaries = adjusted_salaries.sort_values(by='ADJUSTED_SALARY', ascending=False)\n",
    "highest_salaries"
   ]
  },
  {
   "cell_type": "markdown",
   "metadata": {
    "slideshow": {
     "slide_type": "slide"
    }
   },
   "source": [
    "### Step 2) Get the *name* of the person with the highest salary\n",
    "\n",
    "- We saw that is was Kobe, but how do we get the name using code?\n",
    "- Remember, the index is an array"
   ]
  },
  {
   "cell_type": "code",
   "execution_count": 89,
   "metadata": {},
   "outputs": [],
   "source": [
    "highest_salaries.index[0]"
   ]
  },
  {
   "cell_type": "markdown",
   "metadata": {
    "slideshow": {
     "slide_type": "slide"
    }
   },
   "source": [
    "## Use Case: What team did the person with the third-lowest salary play for?\n",
    "\n",
    "- We have the tools, but its a little tricky. Can you think of a strategy?"
   ]
  },
  {
   "cell_type": "markdown",
   "metadata": {
    "slideshow": {
     "slide_type": "slide"
    }
   },
   "source": [
    "## Strategy #1\n",
    "\n",
    "1. Sort the table in ascending order using `.sort_values(by='ADJUSTED_SALARY')`\n",
    "2. Get the name of the person using `.index[2]` (remember starts at 0)\n",
    "3. Use `.get('TEAM').loc[their_name]` to get their team name.\n",
    "\n"
   ]
  },
  {
   "cell_type": "code",
   "execution_count": 90,
   "metadata": {},
   "outputs": [],
   "source": [
    "lowest_salaries = adjusted_salaries.sort_values(by='ADJUSTED_SALARY')\n",
    "lowest_salaries"
   ]
  },
  {
   "cell_type": "code",
   "execution_count": 91,
   "metadata": {},
   "outputs": [],
   "source": [
    "name = lowest_salaries.index[2]\n",
    "name"
   ]
  },
  {
   "cell_type": "code",
   "execution_count": 92,
   "metadata": {},
   "outputs": [],
   "source": [
    "lowest_salaries.get('TEAM').loc[name]"
   ]
  },
  {
   "cell_type": "markdown",
   "metadata": {
    "slideshow": {
     "slide_type": "slide"
    }
   },
   "source": [
    "## Another Approach\n",
    "\n",
    "- To get the third element using `.loc[]`, we first had to find its label.\n",
    "- Can we just get the 3rd element without knowing the label?\n",
    "- Yes, with `.iloc[]`:"
   ]
  },
  {
   "cell_type": "code",
   "execution_count": 93,
   "metadata": {},
   "outputs": [],
   "source": [
    "lowest_salaries.get('TEAM')"
   ]
  },
  {
   "cell_type": "code",
   "execution_count": 94,
   "metadata": {},
   "outputs": [],
   "source": [
    "lowest_salaries.get('TEAM').loc['Jordan McRae']"
   ]
  },
  {
   "cell_type": "code",
   "execution_count": 95,
   "metadata": {},
   "outputs": [],
   "source": [
    "lowest_salaries.get('TEAM').iloc[2]"
   ]
  },
  {
   "cell_type": "markdown",
   "metadata": {
    "slideshow": {
     "slide_type": "slide"
    }
   },
   "source": [
    "## Strategy #2\n",
    "\n",
    "1. Sort the table in ascending order using `.sort_values(by='ADJUSTED_SALARY')`, as before.\n",
    "2. Use `.get('TEAM').iloc[2]` to get their team name."
   ]
  },
  {
   "cell_type": "code",
   "execution_count": 96,
   "metadata": {},
   "outputs": [],
   "source": [
    "adjusted_salaries.sort_values(by='ADJUSTED_SALARY').get('TEAM').iloc[2]"
   ]
  },
  {
   "cell_type": "markdown",
   "metadata": {
    "slideshow": {
     "slide_type": "slide"
    }
   },
   "source": [
    "## Summary of accessing a Series\n",
    "\n",
    "- There are two ways to get an element of a series:\n",
    "    - `.loc[]` uses the row label\n",
    "    - `.iloc[]` uses the integer position\n",
    "- Usually `.loc` is more convenient"
   ]
  },
  {
   "cell_type": "markdown",
   "metadata": {
    "slideshow": {
     "slide_type": "slide"
    }
   },
   "source": [
    "## Note\n",
    "\n",
    "- Sometimes the integer position and row label are the same\n",
    "- This happens by default with `bpd.read_csv`:"
   ]
  },
  {
   "cell_type": "code",
   "execution_count": 97,
   "metadata": {},
   "outputs": [],
   "source": [
    "bpd.read_csv('data/nba_salaries.csv')"
   ]
  },
  {
   "cell_type": "code",
   "execution_count": 98,
   "metadata": {},
   "outputs": [],
   "source": [
    "bpd.read_csv('data/nba_salaries.csv').get('PLAYER').loc[3]"
   ]
  },
  {
   "cell_type": "code",
   "execution_count": 99,
   "metadata": {},
   "outputs": [],
   "source": [
    "bpd.read_csv('data/nba_salaries.csv').get('PLAYER').iloc[3]"
   ]
  },
  {
   "cell_type": "markdown",
   "metadata": {
    "slideshow": {
     "slide_type": "slide"
    }
   },
   "source": [
    "# More Questions\n",
    "\n",
    "- What is the total payroll of the Cleveland Cavaliers?\n",
    "- How many players make over 10 million?\n",
    "- Who is the highest paid center (C)?"
   ]
  }
 ],
 "metadata": {
  "celltoolbar": "Slideshow",
  "kernelspec": {
   "display_name": "Python 3",
   "language": "python",
   "name": "python3"
  },
  "language_info": {
   "codemirror_mode": {
    "name": "ipython",
    "version": 3
   },
   "file_extension": ".py",
   "mimetype": "text/x-python",
   "name": "python",
   "nbconvert_exporter": "python",
   "pygments_lexer": "ipython3",
   "version": "3.7.6"
  }
 },
 "nbformat": 4,
 "nbformat_minor": 2
}
