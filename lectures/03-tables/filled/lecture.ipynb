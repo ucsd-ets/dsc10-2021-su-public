{
 "cells": [
  {
   "cell_type": "code",
   "execution_count": 1,
   "metadata": {},
   "outputs": [
    {
     "data": {
      "text/plain": [
       "{'width': 1024, 'height': 768, 'scroll': True}"
      ]
     },
     "execution_count": 1,
     "metadata": {},
     "output_type": "execute_result"
    }
   ],
   "source": [
    "import babypandas as bpd\n",
    "\n",
    "from notebook.services.config import ConfigManager\n",
    "cm = ConfigManager()\n",
    "cm.update('livereveal', {\n",
    "        'width': 1024,\n",
    "        'height': 768,\n",
    "        'scroll': True,\n",
    "})"
   ]
  },
  {
   "cell_type": "markdown",
   "metadata": {
    "slideshow": {
     "slide_type": "slide"
    }
   },
   "source": [
    "# Lecture 3: Arrays and Tables"
   ]
  },
  {
   "cell_type": "markdown",
   "metadata": {
    "slideshow": {
     "slide_type": "slide"
    }
   },
   "source": [
    "# How do we store *sequences*?\n",
    "\n",
    "For instance:\n",
    "- all temperatures in month of January\n",
    "- the age of every user on Facebook\n",
    "- the salary of every NBA player"
   ]
  },
  {
   "cell_type": "markdown",
   "metadata": {
    "slideshow": {
     "slide_type": "slide"
    }
   },
   "source": [
    "## Each as own variable?"
   ]
  },
  {
   "cell_type": "code",
   "execution_count": 2,
   "metadata": {},
   "outputs": [],
   "source": [
    "temperature_on_jan_01 = 68\n",
    "temperature_on_jan_02 = 72\n",
    "temperature_on_jan_03 = 65\n",
    "temperature_on_jan_04 = 64\n",
    "temperature_on_jan_05 = 62\n",
    "temperature_on_jan_06 = 61\n",
    "temperature_on_jan_07 = 59\n",
    "temperature_on_jan_08 = 64\n",
    "temperature_on_jan_09 = 64\n",
    "temperature_on_jan_10 = 63\n",
    "temperature_on_jan_11 = 65\n",
    "temperature_on_jan_12 = 62"
   ]
  },
  {
   "cell_type": "markdown",
   "metadata": {},
   "source": [
    "```\n",
    "avg_temperature = 1/12 * (\n",
    "    temperature_on_jan_01\n",
    "    + temperature_on_jan_02\n",
    "    + temperature_on_jan_03\n",
    "    + ...)\n",
    "```"
   ]
  },
  {
   "cell_type": "markdown",
   "metadata": {
    "slideshow": {
     "slide_type": "slide"
    }
   },
   "source": [
    "## Python's `list`s\n",
    "\n",
    "- To create a `list`, place commas between things and surround with square brackets:"
   ]
  },
  {
   "cell_type": "code",
   "execution_count": 3,
   "metadata": {},
   "outputs": [
    {
     "data": {
      "text/plain": [
       "[68, 72, 65, 64, 62, 61, 59, 64, 64, 63, 65, 62]"
      ]
     },
     "execution_count": 3,
     "metadata": {},
     "output_type": "execute_result"
    }
   ],
   "source": [
    "temperature_list = [68, 72, 65, 64, 62, 61, 59, 64, 64, 63, 65, 62]\n",
    "temperature_list"
   ]
  },
  {
   "cell_type": "code",
   "execution_count": 4,
   "metadata": {},
   "outputs": [
    {
     "data": {
      "text/plain": [
       "[68, 72, 65, 64, 62, 61, 59, 64, 64, 63, 65, 62]"
      ]
     },
     "execution_count": 4,
     "metadata": {},
     "output_type": "execute_result"
    }
   ],
   "source": [
    "temperature_list = [temperature_on_jan_01, 72, 65, temperature_on_jan_04, 62, 61, 59, 64, 64, 63, 65, 62]\n",
    "temperature_list"
   ]
  },
  {
   "cell_type": "markdown",
   "metadata": {
    "slideshow": {
     "slide_type": "slide"
    }
   },
   "source": [
    "## `list`s make working with sequences easy"
   ]
  },
  {
   "cell_type": "code",
   "execution_count": 5,
   "metadata": {},
   "outputs": [
    {
     "data": {
      "text/plain": [
       "64.08333333333333"
      ]
     },
     "execution_count": 5,
     "metadata": {},
     "output_type": "execute_result"
    }
   ],
   "source": [
    "# compute the average temperature using `sum`\n",
    "sum(temperature_list) / len(temperature_list)"
   ]
  },
  {
   "cell_type": "markdown",
   "metadata": {
    "slideshow": {
     "slide_type": "slide"
    }
   },
   "source": [
    "## The Problem\n",
    "\n",
    "- Lists are sloowwww\n",
    "- Not a big deal when there aren't many entries\n",
    "- A big problem when there are millions/billions of entries"
   ]
  },
  {
   "cell_type": "markdown",
   "metadata": {
    "slideshow": {
     "slide_type": "slide"
    }
   },
   "source": [
    "# Arrays\n",
    "* Like lists, but faster.\n",
    "* Slightly less easy to work with.\n",
    "* Provided by a package called `numpy`"
   ]
  },
  {
   "cell_type": "code",
   "execution_count": 6,
   "metadata": {
    "slideshow": {
     "slide_type": "-"
    }
   },
   "outputs": [],
   "source": [
    "import numpy as np"
   ]
  },
  {
   "cell_type": "markdown",
   "metadata": {
    "slideshow": {
     "slide_type": "slide"
    }
   },
   "source": [
    "## Creating arrays\n",
    "\n",
    "- To create an array, pass a list to the `np.array` function\n",
    "- Remember the square brackets!"
   ]
  },
  {
   "cell_type": "code",
   "execution_count": 7,
   "metadata": {},
   "outputs": [
    {
     "data": {
      "text/plain": [
       "array([68, 72, 65, 64, 62, 61, 59, 64, 64, 63, 65, 62])"
      ]
     },
     "execution_count": 7,
     "metadata": {},
     "output_type": "execute_result"
    }
   ],
   "source": [
    "temperature_array = np.array([68, 72, 65, 64, 62, 61, 59, 64, 64, 63, 65, 62])\n",
    "temperature_array"
   ]
  },
  {
   "cell_type": "code",
   "execution_count": 8,
   "metadata": {},
   "outputs": [
    {
     "data": {
      "text/plain": [
       "array([68, 72, 65, 64, 62, 61, 59, 64, 64, 63, 65, 62])"
      ]
     },
     "execution_count": 8,
     "metadata": {},
     "output_type": "execute_result"
    }
   ],
   "source": [
    "np.array(temperature_list)"
   ]
  },
  {
   "cell_type": "markdown",
   "metadata": {
    "slideshow": {
     "slide_type": "slide"
    }
   },
   "source": [
    "## Accessing elements of arrays\n",
    "\n",
    "- The things inside of an array are called its *elements*\n",
    "- To get a particular element, use `[]`:"
   ]
  },
  {
   "cell_type": "code",
   "execution_count": 9,
   "metadata": {},
   "outputs": [
    {
     "data": {
      "text/plain": [
       "array([68, 72, 65, 64, 62, 61, 59, 64, 64, 63, 65, 62])"
      ]
     },
     "execution_count": 9,
     "metadata": {},
     "output_type": "execute_result"
    }
   ],
   "source": [
    "temperature_array"
   ]
  },
  {
   "cell_type": "code",
   "execution_count": 10,
   "metadata": {},
   "outputs": [
    {
     "data": {
      "text/plain": [
       "64"
      ]
     },
     "execution_count": 10,
     "metadata": {},
     "output_type": "execute_result"
    }
   ],
   "source": [
    "temperature_array[3]"
   ]
  },
  {
   "cell_type": "markdown",
   "metadata": {
    "slideshow": {
     "slide_type": "slide"
    }
   },
   "source": [
    "## Warning!\n",
    "\n",
    "- Python (like most languages) starts counting from 0, not 1!"
   ]
  },
  {
   "cell_type": "code",
   "execution_count": 11,
   "metadata": {},
   "outputs": [
    {
     "data": {
      "text/plain": [
       "68"
      ]
     },
     "execution_count": 11,
     "metadata": {},
     "output_type": "execute_result"
    }
   ],
   "source": [
    "# get the first element of the array\n",
    "temperature_array[0]"
   ]
  },
  {
   "cell_type": "markdown",
   "metadata": {
    "slideshow": {
     "slide_type": "slide"
    }
   },
   "source": [
    "## Out-of-bounds errors"
   ]
  },
  {
   "cell_type": "code",
   "execution_count": 12,
   "metadata": {},
   "outputs": [
    {
     "ename": "IndexError",
     "evalue": "index 42 is out of bounds for axis 0 with size 12",
     "output_type": "error",
     "traceback": [
      "\u001b[0;31m---------------------------------------------------------------------------\u001b[0m",
      "\u001b[0;31mIndexError\u001b[0m                                Traceback (most recent call last)",
      "\u001b[0;32m<ipython-input-12-4e11cb4510d9>\u001b[0m in \u001b[0;36m<module>\u001b[0;34m\u001b[0m\n\u001b[0;32m----> 1\u001b[0;31m \u001b[0mtemperature_array\u001b[0m\u001b[0;34m[\u001b[0m\u001b[0;36m42\u001b[0m\u001b[0;34m]\u001b[0m\u001b[0;34m\u001b[0m\u001b[0;34m\u001b[0m\u001b[0m\n\u001b[0m",
      "\u001b[0;31mIndexError\u001b[0m: index 42 is out of bounds for axis 0 with size 12"
     ]
    }
   ],
   "source": [
    "temperature_array[42]"
   ]
  },
  {
   "cell_type": "markdown",
   "metadata": {
    "slideshow": {
     "slide_type": "slide"
    }
   },
   "source": [
    "## Array/Number arithmetic\n",
    "\n",
    "- `numpy` arrays make it easy to do the same thing to every element"
   ]
  },
  {
   "cell_type": "code",
   "execution_count": 13,
   "metadata": {},
   "outputs": [
    {
     "data": {
      "text/plain": [
       "array([68, 72, 65, 64, 62, 61, 59, 64, 64, 63, 65, 62])"
      ]
     },
     "execution_count": 13,
     "metadata": {},
     "output_type": "execute_result"
    }
   ],
   "source": [
    "temperature_array"
   ]
  },
  {
   "cell_type": "code",
   "execution_count": 14,
   "metadata": {},
   "outputs": [
    {
     "data": {
      "text/plain": [
       "array([71, 75, 68, 67, 65, 64, 62, 67, 67, 66, 68, 65])"
      ]
     },
     "execution_count": 14,
     "metadata": {},
     "output_type": "execute_result"
    }
   ],
   "source": [
    "# increase all temperatures by 3 degrees\n",
    "temperature_array + 3"
   ]
  },
  {
   "cell_type": "code",
   "execution_count": 15,
   "metadata": {},
   "outputs": [
    {
     "data": {
      "text/plain": [
       "array([34. , 36. , 32.5, 32. , 31. , 30.5, 29.5, 32. , 32. , 31.5, 32.5,\n",
       "       31. ])"
      ]
     },
     "execution_count": 15,
     "metadata": {},
     "output_type": "execute_result"
    }
   ],
   "source": [
    "# halve all temperatures\n",
    "temperature_array / 2"
   ]
  },
  {
   "cell_type": "code",
   "execution_count": 16,
   "metadata": {},
   "outputs": [
    {
     "data": {
      "text/plain": [
       "array([20.        , 22.22222222, 18.33333333, 17.77777778, 16.66666667,\n",
       "       16.11111111, 15.        , 17.77777778, 17.77777778, 17.22222222,\n",
       "       18.33333333, 16.66666667])"
      ]
     },
     "execution_count": 16,
     "metadata": {},
     "output_type": "execute_result"
    }
   ],
   "source": [
    "# convert all temperatures to Celsius\n",
    "(5/9) * (temperature_array - 32)"
   ]
  },
  {
   "cell_type": "markdown",
   "metadata": {
    "slideshow": {
     "slide_type": "slide"
    }
   },
   "source": [
    "## Array/Array arithmetic\n",
    "\n",
    "- two arrays of the same size can be added, subtracted, multiplied, etc.\n",
    "- the arithmetic happens *elementwise*"
   ]
  },
  {
   "cell_type": "code",
   "execution_count": 17,
   "metadata": {},
   "outputs": [],
   "source": [
    "a1 = np.array([1,2,3])\n",
    "a2 = np.array([4,5,6])"
   ]
  },
  {
   "cell_type": "code",
   "execution_count": 18,
   "metadata": {},
   "outputs": [
    {
     "data": {
      "text/plain": [
       "array([1, 2, 3])"
      ]
     },
     "execution_count": 18,
     "metadata": {},
     "output_type": "execute_result"
    }
   ],
   "source": [
    "a1"
   ]
  },
  {
   "cell_type": "code",
   "execution_count": 19,
   "metadata": {},
   "outputs": [
    {
     "data": {
      "text/plain": [
       "array([4, 5, 6])"
      ]
     },
     "execution_count": 19,
     "metadata": {},
     "output_type": "execute_result"
    }
   ],
   "source": [
    "a2"
   ]
  },
  {
   "cell_type": "code",
   "execution_count": 20,
   "metadata": {},
   "outputs": [
    {
     "data": {
      "text/plain": [
       "array([5, 7, 9])"
      ]
     },
     "execution_count": 20,
     "metadata": {},
     "output_type": "execute_result"
    }
   ],
   "source": [
    "a1 + a2"
   ]
  },
  {
   "cell_type": "code",
   "execution_count": 21,
   "metadata": {},
   "outputs": [
    {
     "data": {
      "text/plain": [
       "array([-3, -3, -3])"
      ]
     },
     "execution_count": 21,
     "metadata": {},
     "output_type": "execute_result"
    }
   ],
   "source": [
    "a1 - a2"
   ]
  },
  {
   "cell_type": "code",
   "execution_count": 22,
   "metadata": {},
   "outputs": [
    {
     "data": {
      "text/plain": [
       "array([ 4, 10, 18])"
      ]
     },
     "execution_count": 22,
     "metadata": {},
     "output_type": "execute_result"
    }
   ],
   "source": [
    "a1 * a2"
   ]
  },
  {
   "cell_type": "markdown",
   "metadata": {
    "slideshow": {
     "slide_type": "slide"
    }
   },
   "source": [
    "## Arrays for basic statistics: newborn birth weight"
   ]
  },
  {
   "cell_type": "code",
   "execution_count": 23,
   "metadata": {},
   "outputs": [],
   "source": [
    "#: four girls with weight in kg: g1 = 3.405, g2 = 3.207, g3 = 2.42, g4 = 3.984\n",
    "\n",
    "g1 = 3.405 \n",
    "g2 = 3.207\n",
    "g3 = 2.42\n",
    "g4 = 3.984\n",
    "\n",
    "# average weight of a newborn girl (in kg): 3.3\n",
    "girl_av_weight = 3.3"
   ]
  },
  {
   "cell_type": "markdown",
   "metadata": {
    "slideshow": {
     "slide_type": "slide"
    }
   },
   "source": [
    "### Load the weights into an array of floats"
   ]
  },
  {
   "cell_type": "code",
   "execution_count": 24,
   "metadata": {},
   "outputs": [
    {
     "data": {
      "text/plain": [
       "array([3.405, 3.207, 2.42 , 3.984])"
      ]
     },
     "execution_count": 24,
     "metadata": {},
     "output_type": "execute_result"
    }
   ],
   "source": [
    "weights_kg_g = np.array([g1, g2, g3, g4]) \n",
    "\n",
    "weights_kg_g"
   ]
  },
  {
   "cell_type": "markdown",
   "metadata": {
    "slideshow": {
     "slide_type": "slide"
    }
   },
   "source": [
    "### Calculate the deviation of weights from the average weight\n",
    "* Subtracting a number from an array subtracts the number from each element."
   ]
  },
  {
   "cell_type": "code",
   "execution_count": 25,
   "metadata": {},
   "outputs": [
    {
     "data": {
      "text/plain": [
       "array([ 0.105, -0.093, -0.88 ,  0.684])"
      ]
     },
     "execution_count": 25,
     "metadata": {},
     "output_type": "execute_result"
    }
   ],
   "source": [
    "weights_kg_g - girl_av_weight"
   ]
  },
  {
   "cell_type": "markdown",
   "metadata": {
    "slideshow": {
     "slide_type": "slide"
    }
   },
   "source": [
    "### Convert the weights to pounds (2.2 kg/lb)"
   ]
  },
  {
   "cell_type": "code",
   "execution_count": 26,
   "metadata": {},
   "outputs": [
    {
     "data": {
      "text/plain": [
       "array([7.491 , 7.0554, 5.324 , 8.7648])"
      ]
     },
     "execution_count": 26,
     "metadata": {},
     "output_type": "execute_result"
    }
   ],
   "source": [
    "weights_lbs_g = weights_kg_g * 2.2\n",
    "weights_lbs_g"
   ]
  },
  {
   "cell_type": "markdown",
   "metadata": {
    "slideshow": {
     "slide_type": "slide"
    }
   },
   "source": [
    "### How many girls are recorded in the array?\n",
    "\n",
    "- The function `len()` returns the length of an array (or list)."
   ]
  },
  {
   "cell_type": "code",
   "execution_count": 27,
   "metadata": {},
   "outputs": [
    {
     "data": {
      "text/plain": [
       "4"
      ]
     },
     "execution_count": 27,
     "metadata": {},
     "output_type": "execute_result"
    }
   ],
   "source": [
    "len(weights_lbs_g)"
   ]
  },
  {
   "cell_type": "markdown",
   "metadata": {
    "slideshow": {
     "slide_type": "slide"
    }
   },
   "source": [
    "## Arrays for basic statistics: daily temperatures"
   ]
  },
  {
   "cell_type": "markdown",
   "metadata": {
    "slideshow": {
     "slide_type": "slide"
    }
   },
   "source": [
    "### Below is an array of daily high temperatures in San Diego from August 2018"
   ]
  },
  {
   "cell_type": "code",
   "execution_count": 28,
   "metadata": {},
   "outputs": [],
   "source": [
    "temps = np.array([86, 85, 85, 84, 85, 86, 91, 89, 90, 88, 88, 85, 83, 82, 79, 81, 82,\n",
    "                   83, 82, 79, 81, 83, 83, 79, 80, 80, 79, 80, 82, 82, 80])"
   ]
  },
  {
   "cell_type": "markdown",
   "metadata": {},
   "source": [
    "Numbers of days temperatures are collected in August:"
   ]
  },
  {
   "cell_type": "code",
   "execution_count": 29,
   "metadata": {},
   "outputs": [
    {
     "data": {
      "text/plain": [
       "31"
      ]
     },
     "execution_count": 29,
     "metadata": {},
     "output_type": "execute_result"
    }
   ],
   "source": [
    "len(temps)"
   ]
  },
  {
   "cell_type": "markdown",
   "metadata": {
    "slideshow": {
     "slide_type": "slide"
    }
   },
   "source": [
    "### temperature statistics (mean, min, max)\n",
    "\n",
    "- Arrays have handy methods for common tasks"
   ]
  },
  {
   "cell_type": "code",
   "execution_count": 30,
   "metadata": {},
   "outputs": [
    {
     "data": {
      "text/plain": [
       "83.29032258064517"
      ]
     },
     "execution_count": 30,
     "metadata": {},
     "output_type": "execute_result"
    }
   ],
   "source": [
    "temps.sum() / len(temps)  # SOLUTION"
   ]
  },
  {
   "cell_type": "code",
   "execution_count": 31,
   "metadata": {},
   "outputs": [
    {
     "data": {
      "text/plain": [
       "83.29032258064517"
      ]
     },
     "execution_count": 31,
     "metadata": {},
     "output_type": "execute_result"
    }
   ],
   "source": [
    "temps.mean() # build the mean method"
   ]
  },
  {
   "cell_type": "code",
   "execution_count": 32,
   "metadata": {},
   "outputs": [
    {
     "data": {
      "text/plain": [
       "91"
      ]
     },
     "execution_count": 32,
     "metadata": {},
     "output_type": "execute_result"
    }
   ],
   "source": [
    "max(temps) # builtin functions work on array"
   ]
  },
  {
   "cell_type": "code",
   "execution_count": 33,
   "metadata": {},
   "outputs": [
    {
     "data": {
      "text/plain": [
       "91"
      ]
     },
     "execution_count": 33,
     "metadata": {},
     "output_type": "execute_result"
    }
   ],
   "source": [
    "temps.max() # the array has it's own min/max method (faster)"
   ]
  },
  {
   "cell_type": "markdown",
   "metadata": {
    "slideshow": {
     "slide_type": "slide"
    }
   },
   "source": [
    "# Ranges\n",
    "\n",
    "- We often find ourselves needing to make arrays like this:"
   ]
  },
  {
   "cell_type": "code",
   "execution_count": 34,
   "metadata": {},
   "outputs": [],
   "source": [
    "days_in_january = np.array([\n",
    "    1, 2, 3, 4, 5, 6, 7, 8, 9, 10, 11, 12, \n",
    "    13, 14, 15, 16, 17, 18, 19, 20, 21, 22, \n",
    "    23, 24, 25, 26, 27, 28, 29, 30, 31\n",
    "])"
   ]
  },
  {
   "cell_type": "markdown",
   "metadata": {
    "slideshow": {
     "slide_type": "slide"
    }
   },
   "source": [
    "# Ranges\n",
    "* A range is an array of consecutive numbers\n",
    "* ```np.arange(end)```: An array of increasing integers from 0 up to (and excluding!) end\n",
    "* ```np.arange(start, end)```: An array of increasing integers from start up to (excluding!) end\n",
    "* ```np.arange(start, end, step)```: A range with step between consecutive values\n",
    "* The range always includes start but excludes end (i.e. a half-open interval)"
   ]
  },
  {
   "cell_type": "code",
   "execution_count": 35,
   "metadata": {},
   "outputs": [
    {
     "data": {
      "text/plain": [
       "array([0, 1, 2, 3, 4])"
      ]
     },
     "execution_count": 35,
     "metadata": {},
     "output_type": "execute_result"
    }
   ],
   "source": [
    "np.arange(5)"
   ]
  },
  {
   "cell_type": "code",
   "execution_count": 36,
   "metadata": {},
   "outputs": [
    {
     "data": {
      "text/plain": [
       "array([3, 4, 5, 6, 7, 8])"
      ]
     },
     "execution_count": 36,
     "metadata": {},
     "output_type": "execute_result"
    }
   ],
   "source": [
    "np.arange(3, 9)"
   ]
  },
  {
   "cell_type": "code",
   "execution_count": 37,
   "metadata": {},
   "outputs": [
    {
     "data": {
      "text/plain": [
       "array([ 3,  8, 13, 18, 23, 28])"
      ]
     },
     "execution_count": 37,
     "metadata": {},
     "output_type": "execute_result"
    }
   ],
   "source": [
    "np.arange(3, 30, 5)"
   ]
  },
  {
   "cell_type": "code",
   "execution_count": 38,
   "metadata": {},
   "outputs": [
    {
     "data": {
      "text/plain": [
       "array([-3. , -2.5, -2. , -1.5, -1. , -0.5,  0. ,  0.5,  1. ,  1.5])"
      ]
     },
     "execution_count": 38,
     "metadata": {},
     "output_type": "execute_result"
    }
   ],
   "source": [
    "np.arange(-3, 2, 0.5)"
   ]
  },
  {
   "cell_type": "code",
   "execution_count": 39,
   "metadata": {},
   "outputs": [
    {
     "data": {
      "text/plain": [
       "array([], dtype=int64)"
      ]
     },
     "execution_count": 39,
     "metadata": {},
     "output_type": "execute_result"
    }
   ],
   "source": [
    "np.arange(1, -3)"
   ]
  },
  {
   "cell_type": "markdown",
   "metadata": {
    "slideshow": {
     "slide_type": "slide"
    }
   },
   "source": [
    "## Discussion Question\n",
    "\n",
    "On the first day of January, you are paid 1 cent. Every day thereafter, your pay doubles: on the 2nd day it is 2 cents, on the 3rd it is 4 cents, on the 4th it is 8 cents, and so on.\n",
    "\n",
    "January has 31 days.\n",
    "\n",
    "Which of these expressions calculates the total amount of money you'll make in January (in dollars)?\n",
    "\n",
    "- A) `(2**(np.arange(31) * .01)).sum()`\n",
    "- B) `(2**(np.arange(32) * .01)).sum()`\n",
    "- C) `((2**np.arange(31)) * .01).sum()`\n",
    "- D) `((2**np.arange(32)) * .01).sum()`"
   ]
  },
  {
   "cell_type": "markdown",
   "metadata": {},
   "source": [
    "_Type your answer here, replacing this text._"
   ]
  },
  {
   "cell_type": "markdown",
   "metadata": {
    "slideshow": {
     "slide_type": "slide"
    }
   },
   "source": [
    "**Solution**: (C)"
   ]
  },
  {
   "cell_type": "code",
   "execution_count": 40,
   "metadata": {
    "slideshow": {
     "slide_type": "-"
    }
   },
   "outputs": [
    {
     "data": {
      "text/plain": [
       "array([ 0,  1,  2,  3,  4,  5,  6,  7,  8,  9, 10, 11, 12, 13, 14, 15, 16,\n",
       "       17, 18, 19, 20, 21, 22, 23, 24, 25, 26, 27, 28, 29, 30])"
      ]
     },
     "execution_count": 40,
     "metadata": {},
     "output_type": "execute_result"
    }
   ],
   "source": [
    "np.arange(31) # SOLUTION"
   ]
  },
  {
   "cell_type": "code",
   "execution_count": 41,
   "metadata": {},
   "outputs": [
    {
     "data": {
      "text/plain": [
       "array([         1,          2,          4,          8,         16,\n",
       "               32,         64,        128,        256,        512,\n",
       "             1024,       2048,       4096,       8192,      16384,\n",
       "            32768,      65536,     131072,     262144,     524288,\n",
       "          1048576,    2097152,    4194304,    8388608,   16777216,\n",
       "         33554432,   67108864,  134217728,  268435456,  536870912,\n",
       "       1073741824])"
      ]
     },
     "execution_count": 41,
     "metadata": {},
     "output_type": "execute_result"
    }
   ],
   "source": [
    "2**np.arange(31) # SOLUTION"
   ]
  },
  {
   "cell_type": "code",
   "execution_count": 42,
   "metadata": {},
   "outputs": [
    {
     "data": {
      "text/plain": [
       "array([1.00000000e-02, 2.00000000e-02, 4.00000000e-02, 8.00000000e-02,\n",
       "       1.60000000e-01, 3.20000000e-01, 6.40000000e-01, 1.28000000e+00,\n",
       "       2.56000000e+00, 5.12000000e+00, 1.02400000e+01, 2.04800000e+01,\n",
       "       4.09600000e+01, 8.19200000e+01, 1.63840000e+02, 3.27680000e+02,\n",
       "       6.55360000e+02, 1.31072000e+03, 2.62144000e+03, 5.24288000e+03,\n",
       "       1.04857600e+04, 2.09715200e+04, 4.19430400e+04, 8.38860800e+04,\n",
       "       1.67772160e+05, 3.35544320e+05, 6.71088640e+05, 1.34217728e+06,\n",
       "       2.68435456e+06, 5.36870912e+06, 1.07374182e+07])"
      ]
     },
     "execution_count": 42,
     "metadata": {},
     "output_type": "execute_result"
    }
   ],
   "source": [
    "2**np.arange(31) * .01 # SOLUTION"
   ]
  },
  {
   "cell_type": "markdown",
   "metadata": {
    "slideshow": {
     "slide_type": "slide"
    }
   },
   "source": [
    "## (Optional) Speed Comparison, list vs array"
   ]
  },
  {
   "cell_type": "code",
   "execution_count": 43,
   "metadata": {},
   "outputs": [],
   "source": [
    "n = 1_000_000\n",
    "lst = list(range(n))\n",
    "arr = np.arange(n)"
   ]
  },
  {
   "cell_type": "code",
   "execution_count": 54,
   "metadata": {},
   "outputs": [
    {
     "data": {
      "text/plain": [
       "499999500000"
      ]
     },
     "execution_count": 54,
     "metadata": {},
     "output_type": "execute_result"
    }
   ],
   "source": [
    "sum(lst)"
   ]
  },
  {
   "cell_type": "code",
   "execution_count": 55,
   "metadata": {},
   "outputs": [
    {
     "data": {
      "text/plain": [
       "499999500000"
      ]
     },
     "execution_count": 55,
     "metadata": {},
     "output_type": "execute_result"
    }
   ],
   "source": [
    "arr.sum()"
   ]
  },
  {
   "cell_type": "code",
   "execution_count": 56,
   "metadata": {},
   "outputs": [
    {
     "name": "stdout",
     "output_type": "stream",
     "text": [
      "7.17 ms ± 150 µs per loop (mean ± std. dev. of 7 runs, 100 loops each)\n"
     ]
    }
   ],
   "source": [
    "%%timeit\n",
    "_ = sum(lst)"
   ]
  },
  {
   "cell_type": "code",
   "execution_count": 57,
   "metadata": {},
   "outputs": [
    {
     "name": "stdout",
     "output_type": "stream",
     "text": [
      "534 µs ± 14.3 µs per loop (mean ± std. dev. of 7 runs, 1000 loops each)\n"
     ]
    }
   ],
   "source": [
    "%%timeit \n",
    "_ = arr.sum()"
   ]
  },
  {
   "cell_type": "code",
   "execution_count": 100,
   "metadata": {},
   "outputs": [
    {
     "data": {
      "text/plain": [
       "0.07447698744769873"
      ]
     },
     "execution_count": 100,
     "metadata": {},
     "output_type": "execute_result"
    }
   ],
   "source": [
    "# compute ratio\n",
    "(534e-6) / (7.17e-3) # SOLUTION"
   ]
  },
  {
   "cell_type": "markdown",
   "metadata": {
    "slideshow": {
     "slide_type": "slide"
    }
   },
   "source": [
    "# Tables\n",
    "\n",
    "<img width=75% src=\"./data/imdb.png\"/>"
   ]
  },
  {
   "cell_type": "markdown",
   "metadata": {
    "slideshow": {
     "slide_type": "slide"
    }
   },
   "source": [
    "## How do we store *tabular data*?\n",
    "\n",
    "- Could have an array for title, another for rating, another for year, etc.\n",
    "- But this is not convenient.\n",
    "- Instead, we use something called a *DataFrame*"
   ]
  },
  {
   "cell_type": "code",
   "execution_count": 59,
   "metadata": {
    "slideshow": {
     "slide_type": "slide"
    }
   },
   "outputs": [
    {
     "data": {
      "text/html": [
       "<div>\n",
       "<style scoped>\n",
       "    .dataframe tbody tr th:only-of-type {\n",
       "        vertical-align: middle;\n",
       "    }\n",
       "\n",
       "    .dataframe tbody tr th {\n",
       "        vertical-align: top;\n",
       "    }\n",
       "\n",
       "    .dataframe thead th {\n",
       "        text-align: right;\n",
       "    }\n",
       "</style>\n",
       "<table border=\"1\" class=\"dataframe\">\n",
       "  <thead>\n",
       "    <tr style=\"text-align: right;\">\n",
       "      <th></th>\n",
       "      <th>Votes</th>\n",
       "      <th>Rating</th>\n",
       "      <th>Title</th>\n",
       "      <th>Year</th>\n",
       "      <th>Decade</th>\n",
       "    </tr>\n",
       "  </thead>\n",
       "  <tbody>\n",
       "    <tr>\n",
       "      <th>0</th>\n",
       "      <td>88355</td>\n",
       "      <td>8.4</td>\n",
       "      <td>M</td>\n",
       "      <td>1931</td>\n",
       "      <td>1930</td>\n",
       "    </tr>\n",
       "    <tr>\n",
       "      <th>1</th>\n",
       "      <td>132823</td>\n",
       "      <td>8.3</td>\n",
       "      <td>Singin' in the Rain</td>\n",
       "      <td>1952</td>\n",
       "      <td>1950</td>\n",
       "    </tr>\n",
       "    <tr>\n",
       "      <th>2</th>\n",
       "      <td>74178</td>\n",
       "      <td>8.3</td>\n",
       "      <td>All About Eve</td>\n",
       "      <td>1950</td>\n",
       "      <td>1950</td>\n",
       "    </tr>\n",
       "    <tr>\n",
       "      <th>3</th>\n",
       "      <td>635139</td>\n",
       "      <td>8.6</td>\n",
       "      <td>Léon</td>\n",
       "      <td>1994</td>\n",
       "      <td>1990</td>\n",
       "    </tr>\n",
       "    <tr>\n",
       "      <th>4</th>\n",
       "      <td>145514</td>\n",
       "      <td>8.2</td>\n",
       "      <td>The Elephant Man</td>\n",
       "      <td>1980</td>\n",
       "      <td>1980</td>\n",
       "    </tr>\n",
       "    <tr>\n",
       "      <th>...</th>\n",
       "      <td>...</td>\n",
       "      <td>...</td>\n",
       "      <td>...</td>\n",
       "      <td>...</td>\n",
       "      <td>...</td>\n",
       "    </tr>\n",
       "    <tr>\n",
       "      <th>245</th>\n",
       "      <td>1078416</td>\n",
       "      <td>8.7</td>\n",
       "      <td>Forrest Gump</td>\n",
       "      <td>1994</td>\n",
       "      <td>1990</td>\n",
       "    </tr>\n",
       "    <tr>\n",
       "      <th>246</th>\n",
       "      <td>31003</td>\n",
       "      <td>8.1</td>\n",
       "      <td>Le salaire de la peur</td>\n",
       "      <td>1953</td>\n",
       "      <td>1950</td>\n",
       "    </tr>\n",
       "    <tr>\n",
       "      <th>247</th>\n",
       "      <td>167076</td>\n",
       "      <td>8.2</td>\n",
       "      <td>3 Idiots</td>\n",
       "      <td>2009</td>\n",
       "      <td>2000</td>\n",
       "    </tr>\n",
       "    <tr>\n",
       "      <th>248</th>\n",
       "      <td>91689</td>\n",
       "      <td>8.1</td>\n",
       "      <td>Network</td>\n",
       "      <td>1976</td>\n",
       "      <td>1970</td>\n",
       "    </tr>\n",
       "    <tr>\n",
       "      <th>249</th>\n",
       "      <td>589477</td>\n",
       "      <td>8.3</td>\n",
       "      <td>Eternal Sunshine of the Spotless Mind</td>\n",
       "      <td>2004</td>\n",
       "      <td>2000</td>\n",
       "    </tr>\n",
       "  </tbody>\n",
       "</table>\n",
       "<p>250 rows × 5 columns</p>\n",
       "</div>"
      ],
      "text/plain": [
       "       Votes  Rating                                  Title  Year  Decade\n",
       "0      88355     8.4                                      M  1931    1930\n",
       "1     132823     8.3                    Singin' in the Rain  1952    1950\n",
       "2      74178     8.3                          All About Eve  1950    1950\n",
       "3     635139     8.6                                   Léon  1994    1990\n",
       "4     145514     8.2                       The Elephant Man  1980    1980\n",
       "..       ...     ...                                    ...   ...     ...\n",
       "245  1078416     8.7                           Forrest Gump  1994    1990\n",
       "246    31003     8.1                  Le salaire de la peur  1953    1950\n",
       "247   167076     8.2                               3 Idiots  2009    2000\n",
       "248    91689     8.1                                Network  1976    1970\n",
       "249   589477     8.3  Eternal Sunshine of the Spotless Mind  2004    2000\n",
       "\n",
       "[250 rows x 5 columns]"
      ]
     },
     "execution_count": 59,
     "metadata": {},
     "output_type": "execute_result"
    }
   ],
   "source": [
    "bpd.read_csv('data/imdb.csv')"
   ]
  },
  {
   "cell_type": "markdown",
   "metadata": {
    "slideshow": {
     "slide_type": "slide"
    }
   },
   "source": [
    "## `pandas`\n",
    "\n",
    "- DataFrames are provided by a package called `pandas`\n",
    "- `pandas` is *the* tool for doing data science in Python\n",
    "    - downloaded $380,000$ times *yesterday*\n",
    "    - last month: 14 million downloads"
   ]
  },
  {
   "cell_type": "markdown",
   "metadata": {
    "slideshow": {
     "slide_type": "slide"
    }
   },
   "source": [
    "## But `pandas` is not so cute...\n",
    "\n",
    "<img height=100% src=\"./data/angrypanda.jpg\"/>"
   ]
  },
  {
   "cell_type": "markdown",
   "metadata": {
    "slideshow": {
     "slide_type": "slide"
    }
   },
   "source": [
    "## Instead\n",
    "\n",
    "- We at UCSD have created a smaller, nicer version of `pandas`\n",
    "- Keeps important stuff, throws out the rest.\n",
    "- Easier to learn, but is still valid `pandas` code."
   ]
  },
  {
   "cell_type": "markdown",
   "metadata": {
    "slideshow": {
     "slide_type": "slide"
    }
   },
   "source": [
    "## We call it `babypandas`\n",
    "\n",
    "<img height=75% src=\"./data/babypanda.jpg\"/>"
   ]
  },
  {
   "cell_type": "markdown",
   "metadata": {
    "slideshow": {
     "slide_type": "slide"
    }
   },
   "source": [
    "## Importing `babypandas`"
   ]
  },
  {
   "cell_type": "code",
   "execution_count": 60,
   "metadata": {},
   "outputs": [],
   "source": [
    "import babypandas as bpd"
   ]
  },
  {
   "cell_type": "markdown",
   "metadata": {
    "slideshow": {
     "slide_type": "slide"
    }
   },
   "source": [
    "## Table Structure\n",
    "\n",
    "- Tables have *columns* and *rows*\n",
    "- Can think of each column as an array\n",
    "- Every column has a label: \"Votes\", \"Rating\", etc.\n",
    "- Every row does too: 0, 1, 2, 3"
   ]
  },
  {
   "cell_type": "code",
   "execution_count": 61,
   "metadata": {},
   "outputs": [
    {
     "data": {
      "text/html": [
       "<div>\n",
       "<style scoped>\n",
       "    .dataframe tbody tr th:only-of-type {\n",
       "        vertical-align: middle;\n",
       "    }\n",
       "\n",
       "    .dataframe tbody tr th {\n",
       "        vertical-align: top;\n",
       "    }\n",
       "\n",
       "    .dataframe thead th {\n",
       "        text-align: right;\n",
       "    }\n",
       "</style>\n",
       "<table border=\"1\" class=\"dataframe\">\n",
       "  <thead>\n",
       "    <tr style=\"text-align: right;\">\n",
       "      <th></th>\n",
       "      <th>Votes</th>\n",
       "      <th>Rating</th>\n",
       "      <th>Title</th>\n",
       "      <th>Year</th>\n",
       "      <th>Decade</th>\n",
       "    </tr>\n",
       "  </thead>\n",
       "  <tbody>\n",
       "    <tr>\n",
       "      <th>0</th>\n",
       "      <td>88355</td>\n",
       "      <td>8.4</td>\n",
       "      <td>M</td>\n",
       "      <td>1931</td>\n",
       "      <td>1930</td>\n",
       "    </tr>\n",
       "    <tr>\n",
       "      <th>1</th>\n",
       "      <td>132823</td>\n",
       "      <td>8.3</td>\n",
       "      <td>Singin' in the Rain</td>\n",
       "      <td>1952</td>\n",
       "      <td>1950</td>\n",
       "    </tr>\n",
       "    <tr>\n",
       "      <th>2</th>\n",
       "      <td>74178</td>\n",
       "      <td>8.3</td>\n",
       "      <td>All About Eve</td>\n",
       "      <td>1950</td>\n",
       "      <td>1950</td>\n",
       "    </tr>\n",
       "    <tr>\n",
       "      <th>3</th>\n",
       "      <td>635139</td>\n",
       "      <td>8.6</td>\n",
       "      <td>Léon</td>\n",
       "      <td>1994</td>\n",
       "      <td>1990</td>\n",
       "    </tr>\n",
       "  </tbody>\n",
       "</table>\n",
       "</div>"
      ],
      "text/plain": [
       "    Votes  Rating                Title  Year  Decade\n",
       "0   88355     8.4                    M  1931    1930\n",
       "1  132823     8.3  Singin' in the Rain  1952    1950\n",
       "2   74178     8.3        All About Eve  1950    1950\n",
       "3  635139     8.6                 Léon  1994    1990"
      ]
     },
     "execution_count": 61,
     "metadata": {},
     "output_type": "execute_result"
    }
   ],
   "source": [
    "movies = bpd.read_csv('data/imdb.csv').take(np.arange(4))\n",
    "movies"
   ]
  },
  {
   "cell_type": "markdown",
   "metadata": {
    "slideshow": {
     "slide_type": "slide"
    }
   },
   "source": [
    "## The Index\n",
    "\n",
    "- Together, the row labels are called the *index*.\n",
    "- It's not a separate column!"
   ]
  },
  {
   "cell_type": "code",
   "execution_count": 62,
   "metadata": {},
   "outputs": [
    {
     "data": {
      "text/html": [
       "<div>\n",
       "<style scoped>\n",
       "    .dataframe tbody tr th:only-of-type {\n",
       "        vertical-align: middle;\n",
       "    }\n",
       "\n",
       "    .dataframe tbody tr th {\n",
       "        vertical-align: top;\n",
       "    }\n",
       "\n",
       "    .dataframe thead th {\n",
       "        text-align: right;\n",
       "    }\n",
       "</style>\n",
       "<table border=\"1\" class=\"dataframe\">\n",
       "  <thead>\n",
       "    <tr style=\"text-align: right;\">\n",
       "      <th></th>\n",
       "      <th>Votes</th>\n",
       "      <th>Rating</th>\n",
       "      <th>Title</th>\n",
       "      <th>Year</th>\n",
       "      <th>Decade</th>\n",
       "    </tr>\n",
       "  </thead>\n",
       "  <tbody>\n",
       "    <tr>\n",
       "      <th>0</th>\n",
       "      <td>88355</td>\n",
       "      <td>8.4</td>\n",
       "      <td>M</td>\n",
       "      <td>1931</td>\n",
       "      <td>1930</td>\n",
       "    </tr>\n",
       "    <tr>\n",
       "      <th>1</th>\n",
       "      <td>132823</td>\n",
       "      <td>8.3</td>\n",
       "      <td>Singin' in the Rain</td>\n",
       "      <td>1952</td>\n",
       "      <td>1950</td>\n",
       "    </tr>\n",
       "    <tr>\n",
       "      <th>2</th>\n",
       "      <td>74178</td>\n",
       "      <td>8.3</td>\n",
       "      <td>All About Eve</td>\n",
       "      <td>1950</td>\n",
       "      <td>1950</td>\n",
       "    </tr>\n",
       "    <tr>\n",
       "      <th>3</th>\n",
       "      <td>635139</td>\n",
       "      <td>8.6</td>\n",
       "      <td>Léon</td>\n",
       "      <td>1994</td>\n",
       "      <td>1990</td>\n",
       "    </tr>\n",
       "  </tbody>\n",
       "</table>\n",
       "</div>"
      ],
      "text/plain": [
       "    Votes  Rating                Title  Year  Decade\n",
       "0   88355     8.4                    M  1931    1930\n",
       "1  132823     8.3  Singin' in the Rain  1952    1950\n",
       "2   74178     8.3        All About Eve  1950    1950\n",
       "3  635139     8.6                 Léon  1994    1990"
      ]
     },
     "execution_count": 62,
     "metadata": {},
     "output_type": "execute_result"
    }
   ],
   "source": [
    "movies"
   ]
  },
  {
   "cell_type": "markdown",
   "metadata": {
    "slideshow": {
     "slide_type": "slide"
    }
   },
   "source": [
    "## Setting a new index\n",
    "\n",
    "- Can set a better index using `.set_index(column_name)`\n",
    "- Row labels should (ideally) be unique identifiers.\n",
    "- Returns a copy!\n",
    "- Looks nicer, but also really useful."
   ]
  },
  {
   "cell_type": "code",
   "execution_count": 63,
   "metadata": {},
   "outputs": [
    {
     "data": {
      "text/html": [
       "<div>\n",
       "<style scoped>\n",
       "    .dataframe tbody tr th:only-of-type {\n",
       "        vertical-align: middle;\n",
       "    }\n",
       "\n",
       "    .dataframe tbody tr th {\n",
       "        vertical-align: top;\n",
       "    }\n",
       "\n",
       "    .dataframe thead th {\n",
       "        text-align: right;\n",
       "    }\n",
       "</style>\n",
       "<table border=\"1\" class=\"dataframe\">\n",
       "  <thead>\n",
       "    <tr style=\"text-align: right;\">\n",
       "      <th></th>\n",
       "      <th>Votes</th>\n",
       "      <th>Rating</th>\n",
       "      <th>Year</th>\n",
       "      <th>Decade</th>\n",
       "    </tr>\n",
       "    <tr>\n",
       "      <th>Title</th>\n",
       "      <th></th>\n",
       "      <th></th>\n",
       "      <th></th>\n",
       "      <th></th>\n",
       "    </tr>\n",
       "  </thead>\n",
       "  <tbody>\n",
       "    <tr>\n",
       "      <th>M</th>\n",
       "      <td>88355</td>\n",
       "      <td>8.4</td>\n",
       "      <td>1931</td>\n",
       "      <td>1930</td>\n",
       "    </tr>\n",
       "    <tr>\n",
       "      <th>Singin' in the Rain</th>\n",
       "      <td>132823</td>\n",
       "      <td>8.3</td>\n",
       "      <td>1952</td>\n",
       "      <td>1950</td>\n",
       "    </tr>\n",
       "    <tr>\n",
       "      <th>All About Eve</th>\n",
       "      <td>74178</td>\n",
       "      <td>8.3</td>\n",
       "      <td>1950</td>\n",
       "      <td>1950</td>\n",
       "    </tr>\n",
       "    <tr>\n",
       "      <th>Léon</th>\n",
       "      <td>635139</td>\n",
       "      <td>8.6</td>\n",
       "      <td>1994</td>\n",
       "      <td>1990</td>\n",
       "    </tr>\n",
       "  </tbody>\n",
       "</table>\n",
       "</div>"
      ],
      "text/plain": [
       "                      Votes  Rating  Year  Decade\n",
       "Title                                            \n",
       "M                     88355     8.4  1931    1930\n",
       "Singin' in the Rain  132823     8.3  1952    1950\n",
       "All About Eve         74178     8.3  1950    1950\n",
       "Léon                 635139     8.6  1994    1990"
      ]
     },
     "execution_count": 63,
     "metadata": {},
     "output_type": "execute_result"
    }
   ],
   "source": [
    "movies_by_name = movies.set_index('Title')\n",
    "movies_by_name"
   ]
  },
  {
   "cell_type": "markdown",
   "metadata": {
    "slideshow": {
     "slide_type": "slide"
    }
   },
   "source": [
    "## The index is an array"
   ]
  },
  {
   "cell_type": "code",
   "execution_count": 64,
   "metadata": {},
   "outputs": [
    {
     "data": {
      "text/html": [
       "<div>\n",
       "<style scoped>\n",
       "    .dataframe tbody tr th:only-of-type {\n",
       "        vertical-align: middle;\n",
       "    }\n",
       "\n",
       "    .dataframe tbody tr th {\n",
       "        vertical-align: top;\n",
       "    }\n",
       "\n",
       "    .dataframe thead th {\n",
       "        text-align: right;\n",
       "    }\n",
       "</style>\n",
       "<table border=\"1\" class=\"dataframe\">\n",
       "  <thead>\n",
       "    <tr style=\"text-align: right;\">\n",
       "      <th></th>\n",
       "      <th>Votes</th>\n",
       "      <th>Rating</th>\n",
       "      <th>Year</th>\n",
       "      <th>Decade</th>\n",
       "    </tr>\n",
       "    <tr>\n",
       "      <th>Title</th>\n",
       "      <th></th>\n",
       "      <th></th>\n",
       "      <th></th>\n",
       "      <th></th>\n",
       "    </tr>\n",
       "  </thead>\n",
       "  <tbody>\n",
       "    <tr>\n",
       "      <th>M</th>\n",
       "      <td>88355</td>\n",
       "      <td>8.4</td>\n",
       "      <td>1931</td>\n",
       "      <td>1930</td>\n",
       "    </tr>\n",
       "    <tr>\n",
       "      <th>Singin' in the Rain</th>\n",
       "      <td>132823</td>\n",
       "      <td>8.3</td>\n",
       "      <td>1952</td>\n",
       "      <td>1950</td>\n",
       "    </tr>\n",
       "    <tr>\n",
       "      <th>All About Eve</th>\n",
       "      <td>74178</td>\n",
       "      <td>8.3</td>\n",
       "      <td>1950</td>\n",
       "      <td>1950</td>\n",
       "    </tr>\n",
       "    <tr>\n",
       "      <th>Léon</th>\n",
       "      <td>635139</td>\n",
       "      <td>8.6</td>\n",
       "      <td>1994</td>\n",
       "      <td>1990</td>\n",
       "    </tr>\n",
       "  </tbody>\n",
       "</table>\n",
       "</div>"
      ],
      "text/plain": [
       "                      Votes  Rating  Year  Decade\n",
       "Title                                            \n",
       "M                     88355     8.4  1931    1930\n",
       "Singin' in the Rain  132823     8.3  1952    1950\n",
       "All About Eve         74178     8.3  1950    1950\n",
       "Léon                 635139     8.6  1994    1990"
      ]
     },
     "execution_count": 64,
     "metadata": {},
     "output_type": "execute_result"
    }
   ],
   "source": [
    "movies_by_name"
   ]
  },
  {
   "cell_type": "code",
   "execution_count": 65,
   "metadata": {},
   "outputs": [
    {
     "data": {
      "text/plain": [
       "Index(['M', 'Singin' in the Rain', 'All About Eve', 'Léon'], dtype='object', name='Title')"
      ]
     },
     "execution_count": 65,
     "metadata": {},
     "output_type": "execute_result"
    }
   ],
   "source": [
    "movies_by_name.index"
   ]
  },
  {
   "cell_type": "markdown",
   "metadata": {
    "slideshow": {
     "slide_type": "slide"
    }
   },
   "source": [
    "## Discussion Question\n",
    "\n",
    "Which of these will return `Léon`?\n",
    "\n",
    "- A) `movies_by_name['Title'][3]`\n",
    "- B) `movies_by_name['Title'][4]`\n",
    "- C) `movies_by_name.index[3]`\n",
    "- D) `movies_by_name.index[4]`"
   ]
  },
  {
   "cell_type": "markdown",
   "metadata": {},
   "source": [
    "_Type your answer here, replacing this text._"
   ]
  },
  {
   "cell_type": "markdown",
   "metadata": {
    "slideshow": {
     "slide_type": "slide"
    }
   },
   "source": [
    "**Solution**: (C)"
   ]
  },
  {
   "cell_type": "code",
   "execution_count": 101,
   "metadata": {},
   "outputs": [
    {
     "data": {
      "text/plain": [
       "'Léon'"
      ]
     },
     "execution_count": 101,
     "metadata": {},
     "output_type": "execute_result"
    }
   ],
   "source": [
    "movies_by_name.index[3] # SOLUTION"
   ]
  },
  {
   "cell_type": "markdown",
   "metadata": {
    "slideshow": {
     "slide_type": "slide"
    }
   },
   "source": [
    "# NBA Salaries"
   ]
  },
  {
   "cell_type": "markdown",
   "metadata": {
    "slideshow": {
     "slide_type": "-"
    }
   },
   "source": [
    "- The file `nba_salaries.csv` contains all salaries from 2015-2016 NBA season.\n",
    "- CSV: *Comma-separated values*"
   ]
  },
  {
   "cell_type": "code",
   "execution_count": 69,
   "metadata": {},
   "outputs": [
    {
     "name": "stdout",
     "output_type": "stream",
     "text": [
      "PLAYER,POSITION,TEAM,2015_SALARY\n",
      "Paul Millsap,PF,Atlanta Hawks,18.671659\n",
      "Al Horford,C,Atlanta Hawks,12.0\n",
      "Tiago Splitter,C,Atlanta Hawks,9.75625\n",
      "Jeff Teague,PG,Atlanta Hawks,8.0\n",
      "Kyle Korver,SG,Atlanta Hawks,5.746479\n",
      "Thabo Sefolosha,SF,Atlanta Hawks,4.0\n",
      "Mike Scott,PF,Atlanta Hawks,3.333333\n",
      "Kent Bazemore,SF,Atlanta Hawks,2.0\n",
      "Dennis Schroder,PG,Atlanta Hawks,1.7634\n",
      "Tim Hardaway Jr.,SG,Atlanta Hawks,1.3045200000000001\n",
      "Walter Tavares,C,Atlanta Hawks,1.0\n",
      "Jason Richardson,SG,Atlanta Hawks,0.947276\n",
      "Lamar Patterson,SG,Atlanta Hawks,0.525093\n",
      "Terran Petteway,SG,Atlanta Hawks,0.525093\n",
      "Avery Bradley,PG,Boston Celtics,7.730337\n",
      "Isaiah Thomas,PG,Boston Celtics,6.912869000000001\n",
      "Jae Crowder,SF,Boston Celtics,6.796117\n",
      "Jonas Jerebko,PF,Boston Celtics,5.0\n",
      "Marcus Smart,PG,Boston Celtics,3.4310400000000003\n",
      "Evan Turner,SG,Boston Celtics,3.42551\n",
      "Tyler Zeller,C,Boston Celtics,2.616975\n",
      "Jared Sullinger,C,Boston Celtics,2.56926\n",
      "Kelly Olynyk,C,Boston Celtics,2.1651599999999998\n",
      "Perry Jones,SF,Boston Celtics,2.038206\n",
      "Terry Rozier,PG,Boston Celtics,1.8243599999999998\n",
      "James Young,SG,Boston Celtics,1.74984\n",
      "Zoran Dragic,SG,Boston Celtics,1.706225\n",
      "Jordan Mickey,PF,Boston Celtics,1.17096\n",
      "R.J. Hunter,SG,Boston Celtics,1.1486399999999999\n",
      "Joe Johnson,SF,Brooklyn Nets,24.894863\n",
      "Thaddeus Young,PF,Brooklyn Nets,11.235955\n",
      "Jarrett Jack,PG,Brooklyn Nets,6.3\n",
      "Bojan Bogdanovic,SG,Brooklyn Nets,3.42551\n",
      "Sergey Karasev,SG,Brooklyn Nets,1.59984\n",
      "Wayne Ellington,SG,Brooklyn Nets,1.5\n",
      "Shane Larkin,PG,Brooklyn Nets,1.5\n",
      "Andrea Bargnani,C,Brooklyn Nets,1.362897\n",
      "Rondae Hollis-Jefferson,SG,Brooklyn Nets,1.33548\n",
      "Earl Clark,SF,Brooklyn Nets,1.185784\n",
      "Chris McCullough,PF,Brooklyn Nets,1.14024\n",
      "Thomas Robinson,PF,Brooklyn Nets,0.981348\n",
      "Markel Brown,SG,Brooklyn Nets,0.845059\n",
      "Al Jefferson,C,Charlotte Hornets,13.5\n",
      "Nicolas Batum,SG,Charlotte Hornets,13.125306\n",
      "Kemba Walker,PG,Charlotte Hornets,12.0\n",
      "Marvin Williams,PF,Charlotte Hornets,7.0\n",
      "Michael Kidd-Gilchrist,SF,Charlotte Hornets,6.331404\n",
      "Spencer Hawes,PF,Charlotte Hornets,6.110034\n",
      "Courtney Lee,SG,Charlotte Hornets,5.675\n",
      "Cody Zeller,C,Charlotte Hornets,4.2042\n",
      "Jeremy Lamb,SG,Charlotte Hornets,3.0343560000000003\n",
      "Brian Roberts,PG,Charlotte Hornets,2.85494\n",
      "Frank Kaminsky III,C,Charlotte Hornets,2.61252\n",
      "Jeremy Lin,PG,Charlotte Hornets,2.1390000000000002\n",
      "P.J. Hairston,SF,Charlotte Hornets,1.20144\n",
      "Damien Wilkins,SG,Charlotte Hornets,0.947276\n",
      "Jorge Gutierrez,PG,Charlotte Hornets,0.947276\n",
      "Tyler Hansbrough,PF,Charlotte Hornets,0.947276\n",
      "Troy Daniels,SG,Charlotte Hornets,0.947276\n",
      "Aaron Harrison,SG,Charlotte Hornets,0.525093\n",
      "Derrick Rose,PG,Chicago Bulls,20.093064000000002\n",
      "Jimmy Butler,SG,Chicago Bulls,16.4075\n",
      "Joakim Noah,C,Chicago Bulls,13.4\n",
      "Pau Gasol,C,Chicago Bulls,7.448760000000001\n",
      "Nikola Mirotic,PF,Chicago Bulls,5.543725\n",
      "Mike Dunleavy,SG,Chicago Bulls,4.5\n",
      "Kirk Hinrich,SG,Chicago Bulls,2.85494\n",
      "Doug McDermott,SF,Chicago Bulls,2.38044\n",
      "Aaron Brooks,PG,Chicago Bulls,2.25\n",
      "Tony Snell,SF,Chicago Bulls,1.53588\n",
      "Bobby Portis,PF,Chicago Bulls,1.39116\n",
      "E'Twaun Moore,SG,Chicago Bulls,1.015421\n",
      "LeBron James,SF,Cleveland Cavaliers,22.9705\n",
      "Kevin Love,PF,Cleveland Cavaliers,19.689\n",
      "Kyrie Irving,PG,Cleveland Cavaliers,16.407501\n",
      "Tristan Thompson,C,Cleveland Cavaliers,14.26087\n",
      "Brendan Haywood,C,Cleveland Cavaliers,10.5225\n",
      "Iman Shumpert,SG,Cleveland Cavaliers,8.988764999999999\n",
      "Timofey Mozgov,C,Cleveland Cavaliers,4.95\n",
      "Mo Williams,PG,Cleveland Cavaliers,2.1\n",
      "Sasha Kaun,C,Cleveland Cavaliers,1.276\n",
      "Matthew Dellavedova,PG,Cleveland Cavaliers,1.147276\n",
      "David Lee,PF,Dallas Mavericks,15.49368\n",
      "Chandler Parsons,SF,Dallas Mavericks,15.3615\n",
      "Dirk Nowitzki,PF,Dallas Mavericks,8.333333999999999\n",
      "Deron Williams,PG,Dallas Mavericks,5.3789739999999995\n",
      "Zaza Pachulia,C,Dallas Mavericks,5.2\n",
      "J.J. Barea,PG,Dallas Mavericks,4.29\n",
      "Devin Harris,PG,Dallas Mavericks,4.053446\n",
      "Raymond Felton,PG,Dallas Mavericks,3.9503129999999995\n",
      "Justin Anderson,SG,Dallas Mavericks,1.449\n",
      "JaVale McGee,C,Dallas Mavericks,1.270964\n",
      "John Jenkins,SG,Dallas Mavericks,0.981348\n",
      "Danilo Gallinari,SF,Denver Nuggets,14.0\n",
      "Kenneth Faried,PF,Denver Nuggets,11.235955\n",
      "Wilson Chandler,SF,Denver Nuggets,10.449438\n",
      "JJ Hickson,C,Denver Nuggets,5.6135\n",
      "Jameer Nelson,PG,Denver Nuggets,4.345\n",
      "Will Barton,SF,Denver Nuggets,3.5333330000000003\n",
      "Emmanuel Mudiay,PG,Denver Nuggets,3.10224\n",
      "Darrell Arthur,PF,Denver Nuggets,2.8139999999999996\n",
      "Jusuf Nurkic,C,Denver Nuggets,1.8419999999999999\n",
      "Joffrey Lauvergne,C,Denver Nuggets,1.7097189999999998\n",
      "Gary Harris,SG,Denver Nuggets,1.5844799999999999\n",
      "Nikola Jokic,C,Denver Nuggets,1.3\n",
      "Kostas Papanikolaou,SF,Denver Nuggets,0.800321\n",
      "Sean Kilpatrick,SG,Denver Nuggets,0.09941799999999999\n",
      "Reggie Jackson,PG,Detroit Pistons,13.913044000000001\n",
      "Aron Baynes,C,Detroit Pistons,6.5\n",
      "Jodie Meeks,SG,Detroit Pistons,6.27\n",
      "Andre Drummond,C,Detroit Pistons,3.272091\n",
      "Kentavious Caldwell-Pope,SG,Detroit Pistons,2.8917599999999997\n",
      "Stanley Johnson,SF,Detroit Pistons,2.84196\n",
      "Joel Anthony,C,Detroit Pistons,2.5\n",
      "Danny Granger,SF,Detroit Pistons,2.170465\n",
      "Reggie Bullock,SF,Detroit Pistons,1.25244\n",
      "Darrun Hilliard,SF,Detroit Pistons,0.6\n",
      "Klay Thompson,SG,Golden State Warriors,15.501\n",
      "Draymond Green,PF,Golden State Warriors,14.26087\n",
      "Andrew Bogut,C,Golden State Warriors,13.8\n",
      "Andre Iguodala,SF,Golden State Warriors,11.710456\n",
      "Stephen Curry,PG,Golden State Warriors,11.370786\n",
      "Jason Thompson,PF,Golden State Warriors,7.008475\n",
      "Shaun Livingston,PG,Golden State Warriors,5.543725\n",
      "Harrison Barnes,SF,Golden State Warriors,3.8733980000000003\n",
      "Marreese Speights,C,Golden State Warriors,3.815\n",
      "Leandro Barbosa,SG,Golden State Warriors,2.5\n",
      "Festus Ezeli,C,Golden State Warriors,2.0087479999999998\n",
      "Brandon Rush,SF,Golden State Warriors,1.270964\n",
      "Kevon Looney,SF,Golden State Warriors,1.13196\n",
      "Anderson Varejao,PF,Golden State Warriors,0.28975500000000004\n",
      "Dwight Howard,C,Houston Rockets,22.359364000000003\n",
      "James Harden,SG,Houston Rockets,15.756438000000001\n",
      "Ty Lawson,PG,Houston Rockets,12.404494999999999\n",
      "Corey Brewer,SG,Houston Rockets,8.229375\n",
      "Trevor Ariza,SF,Houston Rockets,8.19303\n",
      "Patrick Beverley,PG,Houston Rockets,6.486486\n",
      "K.J. McDaniels,SG,Houston Rockets,3.189794\n",
      "Terrence Jones,PF,Houston Rockets,2.48953\n",
      "Donatas Motiejunas,PF,Houston Rockets,2.288205\n",
      "Sam Dekker,SF,Houston Rockets,1.6464\n",
      "Clint Capela,PF,Houston Rockets,1.24272\n",
      "Montrezl Harrell,PF,Houston Rockets,1.0\n",
      "Paul George,SF,Indiana Pacers,17.120106\n",
      "Monta Ellis,SG,Indiana Pacers,10.3\n",
      "Rodney Stuckey,PG,Indiana Pacers,7.0\n",
      "Chase Budinger,SF,Indiana Pacers,5.0\n",
      "C.J. Miles,SF,Indiana Pacers,4.394225\n",
      "Lavoy Allen,PF,Indiana Pacers,4.05\n",
      "Jordan Hill,C,Indiana Pacers,4.0\n",
      "Ian Mahinmi,C,Indiana Pacers,4.0\n",
      "Myles Turner,PF,Indiana Pacers,2.35776\n",
      "Solomon Hill,SF,Indiana Pacers,1.3588799999999999\n",
      "Glenn Robinson III,SG,Indiana Pacers,1.1\n",
      "Rakeem Christmas,PF,Indiana Pacers,1.007026\n",
      "Joe Young,PG,Indiana Pacers,1.007026\n",
      "Chris Paul,PG,Los Angeles Clippers,21.468695\n",
      "Blake Griffin,PF,Los Angeles Clippers,18.907726\n",
      "J.J. Redick,SG,Los Angeles Clippers,7.085\n",
      "Jamal Crawford,SG,Los Angeles Clippers,5.675\n",
      "Paul Pierce,SF,Los Angeles Clippers,3.3760000000000003\n",
      "Austin Rivers,PG,Los Angeles Clippers,3.110796\n",
      "C.J. Wilcox,SG,Los Angeles Clippers,1.1596799999999998\n",
      "Cole Aldrich,C,Los Angeles Clippers,1.100602\n",
      "Wesley Johnson,SF,Los Angeles Clippers,1.100602\n",
      "Jordan Hamilton,SG,Los Angeles Clippers,1.015421\n",
      "Lester Hudson,SG,Los Angeles Clippers,1.015421\n",
      "Pablo Prigioni,PG,Los Angeles Clippers,0.9477260000000001\n",
      "Jeff Ayres,PF,Los Angeles Clippers,0.111444\n",
      "Kobe Bryant,SF,Los Angeles Lakers,25.0\n",
      "Roy Hibbert,C,Los Angeles Lakers,15.592217000000002\n",
      "Louis Williams,SG,Los Angeles Lakers,7.0\n",
      "Nick Young,SF,Los Angeles Lakers,5.219169\n",
      "D'Angelo Russell,PG,Los Angeles Lakers,5.10312\n",
      "Julius Randle,PF,Los Angeles Lakers,3.1322400000000004\n",
      "Brandon Bass,PF,Los Angeles Lakers,3.0\n",
      "Ryan Kelly,PF,Los Angeles Lakers,1.72425\n",
      "Larry Nance Jr.,PF,Los Angeles Lakers,1.1556\n",
      "Robert Sacre,C,Los Angeles Lakers,0.981348\n",
      "Anthony Brown,SF,Los Angeles Lakers,0.7\n",
      "Marc Gasol,C,Memphis Grizzlies,19.688\n",
      "Zach Randolph,PF,Memphis Grizzlies,9.638555\n",
      "Mike Conley,PG,Memphis Grizzlies,9.588426\n",
      "Jeff Green,SF,Memphis Grizzlies,9.45\n",
      "Lance Stephenson,SF,Memphis Grizzlies,9.0\n",
      "Brandan Wright,PF,Memphis Grizzlies,5.4639999999999995\n",
      "Tony Allen,SG,Memphis Grizzlies,5.158539\n",
      "Chris Andersen,PF,Memphis Grizzlies,5.0\n",
      "Mario Chalmers,PG,Memphis Grizzlies,4.3\n",
      "Vince Carter,SG,Memphis Grizzlies,4.088019\n",
      "Matt Barnes,SF,Memphis Grizzlies,3.5425\n",
      "Beno Udrih,PG,Memphis Grizzlies,2.170465\n",
      "Jordan Adams,SG,Memphis Grizzlies,1.4046\n",
      "Jarell Martin,PF,Memphis Grizzlies,1.23084\n",
      "JaMychal Green,PF,Memphis Grizzlies,0.845059\n",
      "Russ Smith,PG,Memphis Grizzlies,0.845059\n",
      "James Ennis,SF,Memphis Grizzlies,0.845059\n",
      "Jarnell Stokes,PF,Memphis Grizzlies,0.845059\n",
      "Jarrid Famous,PF,Memphis Grizzlies,0.525093\n",
      "Ryan Hollins,C,Memphis Grizzlies,0.111444\n",
      "Elliot Williams,SG,Memphis Grizzlies,0.055722\n",
      "Chris Bosh,PF,Miami Heat,22.192729999999997\n",
      "Dwyane Wade,SG,Miami Heat,20.0\n",
      "Goran Dragic,PG,Miami Heat,14.783\n",
      "Luol Deng,SF,Miami Heat,10.151612\n",
      "Josh McRoberts,PF,Miami Heat,5.543725\n",
      "Udonis Haslem,PF,Miami Heat,2.85494\n",
      "Justise Winslow,SF,Miami Heat,2.48172\n",
      "Henry Walker,SF,Miami Heat,1.100602\n",
      "Tyler Johnson,SG,Miami Heat,0.845059\n",
      "Greg Whittington,SF,Miami Heat,0.525093\n",
      "Josh Richardson,SG,Miami Heat,0.525093\n",
      "Corey Hawkins,PG,Miami Heat,0.525093\n",
      "Khris Middleton,SG,Milwaukee Bucks,14.7\n",
      "O.J. Mayo,SG,Milwaukee Bucks,8.0\n",
      "Greivis Vasquez,PG,Milwaukee Bucks,6.6\n",
      "Jabari Parker,PF,Milwaukee Bucks,5.15244\n",
      "Jerryd Bayless,PG,Milwaukee Bucks,3.0\n",
      "John Henson,PF,Milwaukee Bucks,2.943221\n",
      "Michael Carter-Williams,PG,Milwaukee Bucks,2.3990400000000003\n",
      "Miles Plumlee,C,Milwaukee Bucks,2.109294\n",
      "Giannis Antetokounmpo,SF,Milwaukee Bucks,1.95396\n",
      "Rashad Vaughn,SG,Milwaukee Bucks,1.7330400000000001\n",
      "Tyler Ennis,PG,Milwaukee Bucks,1.6623599999999998\n",
      "Chris Copeland,SF,Milwaukee Bucks,1.15\n",
      "Damien Inglis,SF,Milwaukee Bucks,0.855\n",
      "Ricky Rubio,PG,Minnesota Timberwolves,12.7\n",
      "Nikola Pekovic,C,Minnesota Timberwolves,12.1\n",
      "Kevin Garnett,PF,Minnesota Timberwolves,8.5\n",
      "Kevin Martin,SG,Minnesota Timberwolves,7.085\n",
      "Andrew Wiggins,SG,Minnesota Timberwolves,5.75868\n",
      "Karl-Anthony Towns,C,Minnesota Timberwolves,5.7036\n",
      "Nemanja Bjelica,PF,Minnesota Timberwolves,3.9500010000000003\n",
      "Zach LaVine,PG,Minnesota Timberwolves,2.14836\n",
      "Shabazz Muhammad,SF,Minnesota Timberwolves,2.05692\n",
      "Adreian Payne,PF,Minnesota Timberwolves,1.9388400000000001\n",
      "Gorgui Dieng,C,Minnesota Timberwolves,1.47444\n",
      "Tyus Jones,PG,Minnesota Timberwolves,1.2820799999999999\n",
      "Damjan Rudez,SF,Minnesota Timberwolves,1.1495\n",
      "Eric Gordon,SG,New Orleans Pelicans,15.514031\n",
      "Tyreke Evans,SG,New Orleans Pelicans,10.734586\n",
      "Jrue Holiday,PG,New Orleans Pelicans,10.595507000000001\n",
      "Omer Asik,C,New Orleans Pelicans,9.213483\n",
      "Ryan Anderson,PF,New Orleans Pelicans,8.5\n",
      "Anthony Davis,PF,New Orleans Pelicans,7.07073\n",
      "Alexis Ajinca,C,New Orleans Pelicans,4.389607\n",
      "Quincy Pondexter,SF,New Orleans Pelicans,3.3820230000000002\n",
      "Norris Cole,PG,New Orleans Pelicans,3.036927\n",
      "Dante Cunningham,PF,New Orleans Pelicans,2.85\n",
      "Alonzo Gee,SF,New Orleans Pelicans,1.32\n",
      "Toney Douglas,PG,New Orleans Pelicans,1.164858\n",
      "Luke Babbitt,SF,New Orleans Pelicans,1.100602\n",
      "Kendrick Perkins,C,New Orleans Pelicans,0.947276\n",
      "Bo McCalebb,PG,New Orleans Pelicans,0.525093\n",
      "Bryce Dejean-Jones,SG,New Orleans Pelicans,0.169883\n",
      "Carmelo Anthony,SF,New York Knicks,22.875\n",
      "Robin Lopez,C,New York Knicks,12.65\n",
      "Arron Afflalo,SG,New York Knicks,8.0\n",
      "Jose Calderon,PG,New York Knicks,7.402812\n",
      "Kristaps Porzingis,PF,New York Knicks,4.13172\n",
      "Derrick Williams,PF,New York Knicks,4.0\n",
      "Kyle O'Quinn,PF,New York Knicks,3.75\n",
      "Lance Thomas,SF,New York Knicks,1.636842\n",
      "Lou Amundson,PF,New York Knicks,1.635476\n",
      "Jerian Grant,PG,New York Knicks,1.57236\n",
      "Jimmer Fredette,PG,New York Knicks,0.8748370000000001\n",
      "Langston Galloway,SG,New York Knicks,0.845059\n",
      "Thanasis Antetokounmpo,SF,New York Knicks,0.030888\n",
      "Kevin Durant,SF,Oklahoma City Thunder,20.158622\n",
      "Russell Westbrook,PG,Oklahoma City Thunder,16.744218\n",
      "Enes Kanter,C,Oklahoma City Thunder,16.4075\n",
      "Serge Ibaka,PF,Oklahoma City Thunder,12.25\n",
      "Dion Waiters,SG,Oklahoma City Thunder,5.1384300000000005\n",
      "Kyle Singler,SF,Oklahoma City Thunder,4.5\n",
      "Nick Collison,PF,Oklahoma City Thunder,3.75\n",
      "Anthony Morrow,SG,Oklahoma City Thunder,3.344\n",
      "Randy Foye,SG,Oklahoma City Thunder,3.135\n",
      "D.J. Augustin,PG,Oklahoma City Thunder,3.0\n",
      "Steven Adams,C,Oklahoma City Thunder,2.27904\n",
      "Cameron Payne,PG,Oklahoma City Thunder,2.02152\n",
      "Mitch McGary,PF,Oklahoma City Thunder,1.46304\n",
      "Andre Roberson,SG,Oklahoma City Thunder,1.2108\n",
      "Josh Huestis,SF,Oklahoma City Thunder,1.14024\n",
      "Steve Novak,SF,Oklahoma City Thunder,0.28975500000000004\n",
      "Tobias Harris,SF,Orlando Magic,16.0\n",
      "Nikola Vucevic,C,Orlando Magic,11.25\n",
      "Brandon Jennings,PG,Orlando Magic,8.344497\n",
      "Channing Frye,PF,Orlando Magic,8.193029\n",
      "Ersan Ilyasova,PF,Orlando Magic,7.9\n",
      "Victor Oladipo,SG,Orlando Magic,5.19252\n",
      "Jason Smith,PF,Orlando Magic,4.3\n",
      "Aaron Gordon,PF,Orlando Magic,4.17168\n",
      "Mario Hezonja,SG,Orlando Magic,3.74148\n",
      "Elfrid Payton,PG,Orlando Magic,2.50572\n",
      "Andrew Nicholson,PF,Orlando Magic,2.380593\n",
      "Evan Fournier,SG,Orlando Magic,2.288205\n",
      "Shabazz Napier,PG,Orlando Magic,1.29444\n",
      "Keith Appling,PG,Orlando Magic,0.061776\n",
      "Gerald Wallace,SF,Philadelphia 76ers,10.105855\n",
      "Carl Landry,PF,Philadelphia 76ers,6.5\n",
      "Joel Embiid,C,Philadelphia 76ers,4.6269599999999995\n",
      "Jahlil Okafor,C,Philadelphia 76ers,4.58268\n",
      "Nerlens Noel,PF,Philadelphia 76ers,3.4578\n",
      "Nik Stauskas,SG,Philadelphia 76ers,2.86944\n",
      "Furkan Aldemir,PF,Philadelphia 76ers,2.836768\n",
      "Tony Wroten,SG,Philadelphia 76ers,2.179353\n",
      "Kendall Marshall,PG,Philadelphia 76ers,2.144772\n",
      "Richaun Holmes,PF,Philadelphia 76ers,1.0741690000000002\n",
      "Robert Covington,SF,Philadelphia 76ers,1.0\n",
      "Jerami Grant,SF,Philadelphia 76ers,0.845059\n",
      "JaKarr Sampson,SG,Philadelphia 76ers,0.25848899999999997\n",
      "Eric Bledsoe,PG,Phoenix Suns,13.5\n",
      "Tyson Chandler,C,Phoenix Suns,13.0\n",
      "Mirza Teletovic,PF,Phoenix Suns,5.5\n",
      "P.J. Tucker,SF,Phoenix Suns,5.5\n",
      "Alex Len,C,Phoenix Suns,3.80712\n",
      "Devin Booker,SG,Phoenix Suns,2.12784\n",
      "T.J. Warren,SF,Phoenix Suns,2.04108\n",
      "Archie Goodwin,SG,Phoenix Suns,1.16016\n",
      "Jon Leuer,PF,Phoenix Suns,1.035\n",
      "Jerel McNeal,SG,Phoenix Suns,0.981348\n",
      "Terrico White,SG,Phoenix Suns,0.845059\n",
      "Bryce Cotton,PG,Phoenix Suns,0.700902\n",
      "Lorenzo Brown,PG,Phoenix Suns,0.111444\n",
      "Orlando Johnson,SG,Phoenix Suns,0.055722\n",
      "Phil Pressey,PG,Phoenix Suns,0.055722\n",
      "Jordan McRae,SG,Phoenix Suns,0.049708999999999996\n",
      "Cory Jefferson,PF,Phoenix Suns,0.049708999999999996\n",
      "Al-Farouq Aminu,SF,Portland Trail Blazers,8.042895\n",
      "Ed Davis,C,Portland Trail Blazers,6.980802000000001\n",
      "Gerald Henderson,SG,Portland Trail Blazers,6.0\n",
      "Chris Kaman,C,Portland Trail Blazers,5.016\n",
      "Damian Lillard,PG,Portland Trail Blazers,4.236287\n",
      "Meyers Leonard,PF,Portland Trail Blazers,3.0758799999999997\n",
      "Maurice Harkless,SF,Portland Trail Blazers,2.894059\n",
      "Noah Vonleh,PF,Portland Trail Blazers,2.6377200000000003\n",
      "C.J. McCollum,SG,Portland Trail Blazers,2.52516\n",
      "Mason Plumlee,C,Portland Trail Blazers,1.4155200000000001\n",
      "Allen Crabbe,SG,Portland Trail Blazers,0.947276\n",
      "Pat Connaughton,SG,Portland Trail Blazers,0.625093\n",
      "Luis Montero,SG,Portland Trail Blazers,0.525093\n",
      "Cliff Alexander,PF,Portland Trail Blazers,0.525093\n",
      "DeMarcus Cousins,C,Sacramento Kings,15.85195\n",
      "Rudy Gay,SF,Sacramento Kings,12.403101\n",
      "Rajon Rondo,PG,Sacramento Kings,9.5\n",
      "Kosta Koufos,C,Sacramento Kings,7.7\n",
      "Marco Belinelli,SG,Sacramento Kings,6.060606\n",
      "Darren Collison,PG,Sacramento Kings,5.013559\n",
      "Willie Cauley-Stein,C,Sacramento Kings,3.39828\n",
      "Ben McLemore,SG,Sacramento Kings,3.1566\n",
      "Omri Casspi,SF,Sacramento Kings,2.836186\n",
      "Caron Butler,SF,Sacramento Kings,1.449187\n",
      "James Anderson,SG,Sacramento Kings,1.015421\n",
      "LaMarcus Aldridge,PF,San Antonio Spurs,19.689\n",
      "Kawhi Leonard,SF,San Antonio Spurs,16.4075\n",
      "Tony Parker,PG,San Antonio Spurs,13.4375\n",
      "Danny Green,SG,San Antonio Spurs,10.0\n",
      "Boris Diaw,C,San Antonio Spurs,7.5\n",
      "Tim Duncan,C,San Antonio Spurs,5.25\n",
      "Patty Mills,PG,San Antonio Spurs,3.5789470000000003\n",
      "Manu Ginobili,SG,San Antonio Spurs,2.8139999999999996\n",
      "David West,PF,San Antonio Spurs,1.499187\n",
      "Boban Marjanovic,C,San Antonio Spurs,1.2\n",
      "Reggie Williams,SF,San Antonio Spurs,1.185784\n",
      "Kyle Anderson,SF,San Antonio Spurs,1.14288\n",
      "Ray McCallum,PG,San Antonio Spurs,0.947276\n",
      "DeMarre Carroll,SF,Toronto Raptors,13.6\n",
      "Kyle Lowry,PG,Toronto Raptors,12.0\n",
      "DeMar DeRozan,SG,Toronto Raptors,10.05\n",
      "Cory Joseph,PG,Toronto Raptors,7.0\n",
      "Patrick Patterson,PF,Toronto Raptors,6.268675\n",
      "Jonas Valanciunas,C,Toronto Raptors,4.660482\n",
      "Terrence Ross,SF,Toronto Raptors,3.5539169999999998\n",
      "Luis Scola,PF,Toronto Raptors,2.9\n",
      "Bismack Biyombo,C,Toronto Raptors,2.8139999999999996\n",
      "Luke Ridnour,PG,Toronto Raptors,2.75\n",
      "James Johnson,PF,Toronto Raptors,2.5\n",
      "Lucas Nogueira,C,Toronto Raptors,1.8419999999999999\n",
      "Bruno Caboclo,SF,Toronto Raptors,1.524\n",
      "Delon Wright,PG,Toronto Raptors,1.50936\n",
      "Norman Powell,SG,Toronto Raptors,0.65\n",
      "Shannon Scott,PG,Toronto Raptors,0.525093\n",
      "Ronald Roberts Jr.,PF,Toronto Raptors,0.525093\n",
      "Gordon Hayward,SF,Utah Jazz,15.40957\n",
      "Alec Burks,SG,Utah Jazz,9.463484\n",
      "Trevor Booker,PF,Utah Jazz,4.775\n",
      "Dante Exum,PG,Utah Jazz,3.7777199999999995\n",
      "Tibor Pleiss,C,Utah Jazz,2.9\n",
      "Trey Burke,PG,Utah Jazz,2.65824\n",
      "Shelvin Mack,PG,Utah Jazz,2.433333\n",
      "Trey Lyles,PF,Utah Jazz,2.2398\n",
      "Joe Ingles,SF,Utah Jazz,2.05\n",
      "Rodney Hood,SG,Utah Jazz,1.3484399999999999\n",
      "Rudy Gobert,C,Utah Jazz,1.17588\n",
      "Chris Johnson,SF,Utah Jazz,0.981348\n",
      "Grant Jerrett,PF,Utah Jazz,0.947276\n",
      "Jeff Withey,C,Utah Jazz,0.947276\n",
      "Raul Neto,PG,Utah Jazz,0.9\n",
      "Treveon Graham,SG,Utah Jazz,0.525093\n",
      "Erick Green,PG,Utah Jazz,0.09941799999999999\n",
      "John Wall,PG,Washington Wizards,15.85195\n",
      "Nene Hilario,C,Washington Wizards,13.0\n",
      "Marcin Gortat,C,Washington Wizards,11.217391000000001\n",
      "Markieff Morris,PF,Washington Wizards,8.0\n",
      "Bradley Beal,SG,Washington Wizards,5.694674\n",
      "Martell Webster,SF,Washington Wizards,5.6135\n",
      "Otto Porter Jr.,SF,Washington Wizards,4.66296\n",
      "Kris Humphries,PF,Washington Wizards,4.44\n",
      "Jared Dudley,SF,Washington Wizards,4.375\n",
      "Alan Anderson,SG,Washington Wizards,4.0\n",
      "Drew Gooden,PF,Washington Wizards,3.3\n",
      "Ramon Sessions,PG,Washington Wizards,2.170465\n",
      "Gary Neal,PG,Washington Wizards,2.1390000000000002\n",
      "DeJuan Blair,C,Washington Wizards,2.0\n",
      "Kelly Oubre Jr.,SF,Washington Wizards,1.9202400000000002\n",
      "Garrett Temple,SG,Washington Wizards,1.100602\n",
      "Jarell Eddie,SG,Washington Wizards,0.561716\n",
      "\n"
     ]
    }
   ],
   "source": [
    "print(open('data/nba_salaries.csv').read())"
   ]
  },
  {
   "cell_type": "markdown",
   "metadata": {
    "slideshow": {
     "slide_type": "slide"
    }
   },
   "source": [
    "## Reading a CSV\n",
    "\n",
    "- We can read a CSV using `bpd.read_csv()`. Give it name of the file."
   ]
  },
  {
   "cell_type": "code",
   "execution_count": 70,
   "metadata": {},
   "outputs": [
    {
     "data": {
      "text/html": [
       "<div>\n",
       "<style scoped>\n",
       "    .dataframe tbody tr th:only-of-type {\n",
       "        vertical-align: middle;\n",
       "    }\n",
       "\n",
       "    .dataframe tbody tr th {\n",
       "        vertical-align: top;\n",
       "    }\n",
       "\n",
       "    .dataframe thead th {\n",
       "        text-align: right;\n",
       "    }\n",
       "</style>\n",
       "<table border=\"1\" class=\"dataframe\">\n",
       "  <thead>\n",
       "    <tr style=\"text-align: right;\">\n",
       "      <th></th>\n",
       "      <th>PLAYER</th>\n",
       "      <th>POSITION</th>\n",
       "      <th>TEAM</th>\n",
       "      <th>2015_SALARY</th>\n",
       "    </tr>\n",
       "  </thead>\n",
       "  <tbody>\n",
       "    <tr>\n",
       "      <th>0</th>\n",
       "      <td>Paul Millsap</td>\n",
       "      <td>PF</td>\n",
       "      <td>Atlanta Hawks</td>\n",
       "      <td>18.671659</td>\n",
       "    </tr>\n",
       "    <tr>\n",
       "      <th>1</th>\n",
       "      <td>Al Horford</td>\n",
       "      <td>C</td>\n",
       "      <td>Atlanta Hawks</td>\n",
       "      <td>12.000000</td>\n",
       "    </tr>\n",
       "    <tr>\n",
       "      <th>2</th>\n",
       "      <td>Tiago Splitter</td>\n",
       "      <td>C</td>\n",
       "      <td>Atlanta Hawks</td>\n",
       "      <td>9.756250</td>\n",
       "    </tr>\n",
       "    <tr>\n",
       "      <th>3</th>\n",
       "      <td>Jeff Teague</td>\n",
       "      <td>PG</td>\n",
       "      <td>Atlanta Hawks</td>\n",
       "      <td>8.000000</td>\n",
       "    </tr>\n",
       "    <tr>\n",
       "      <th>4</th>\n",
       "      <td>Kyle Korver</td>\n",
       "      <td>SG</td>\n",
       "      <td>Atlanta Hawks</td>\n",
       "      <td>5.746479</td>\n",
       "    </tr>\n",
       "    <tr>\n",
       "      <th>...</th>\n",
       "      <td>...</td>\n",
       "      <td>...</td>\n",
       "      <td>...</td>\n",
       "      <td>...</td>\n",
       "    </tr>\n",
       "    <tr>\n",
       "      <th>412</th>\n",
       "      <td>Gary Neal</td>\n",
       "      <td>PG</td>\n",
       "      <td>Washington Wizards</td>\n",
       "      <td>2.139000</td>\n",
       "    </tr>\n",
       "    <tr>\n",
       "      <th>413</th>\n",
       "      <td>DeJuan Blair</td>\n",
       "      <td>C</td>\n",
       "      <td>Washington Wizards</td>\n",
       "      <td>2.000000</td>\n",
       "    </tr>\n",
       "    <tr>\n",
       "      <th>414</th>\n",
       "      <td>Kelly Oubre Jr.</td>\n",
       "      <td>SF</td>\n",
       "      <td>Washington Wizards</td>\n",
       "      <td>1.920240</td>\n",
       "    </tr>\n",
       "    <tr>\n",
       "      <th>415</th>\n",
       "      <td>Garrett Temple</td>\n",
       "      <td>SG</td>\n",
       "      <td>Washington Wizards</td>\n",
       "      <td>1.100602</td>\n",
       "    </tr>\n",
       "    <tr>\n",
       "      <th>416</th>\n",
       "      <td>Jarell Eddie</td>\n",
       "      <td>SG</td>\n",
       "      <td>Washington Wizards</td>\n",
       "      <td>0.561716</td>\n",
       "    </tr>\n",
       "  </tbody>\n",
       "</table>\n",
       "<p>417 rows × 4 columns</p>\n",
       "</div>"
      ],
      "text/plain": [
       "              PLAYER POSITION                TEAM  2015_SALARY\n",
       "0       Paul Millsap       PF       Atlanta Hawks    18.671659\n",
       "1         Al Horford        C       Atlanta Hawks    12.000000\n",
       "2     Tiago Splitter        C       Atlanta Hawks     9.756250\n",
       "3        Jeff Teague       PG       Atlanta Hawks     8.000000\n",
       "4        Kyle Korver       SG       Atlanta Hawks     5.746479\n",
       "..               ...      ...                 ...          ...\n",
       "412        Gary Neal       PG  Washington Wizards     2.139000\n",
       "413     DeJuan Blair        C  Washington Wizards     2.000000\n",
       "414  Kelly Oubre Jr.       SF  Washington Wizards     1.920240\n",
       "415   Garrett Temple       SG  Washington Wizards     1.100602\n",
       "416     Jarell Eddie       SG  Washington Wizards     0.561716\n",
       "\n",
       "[417 rows x 4 columns]"
      ]
     },
     "execution_count": 70,
     "metadata": {},
     "output_type": "execute_result"
    }
   ],
   "source": [
    "salaries = bpd.read_csv('data/nba_salaries.csv')\n",
    "salaries"
   ]
  },
  {
   "cell_type": "markdown",
   "metadata": {
    "slideshow": {
     "slide_type": "slide"
    }
   },
   "source": [
    "## Discussion Question\n",
    "\n",
    "What would be a good column to use as the index?\n",
    "\n",
    "- A) PLAYER\n",
    "- B) POSITION\n",
    "- C) TEAM\n",
    "- D) 2015_SALARY\n",
    "\n",
    "Is there something we should be worried about?"
   ]
  },
  {
   "cell_type": "markdown",
   "metadata": {},
   "source": [
    "_Type your answer here, replacing this text._"
   ]
  },
  {
   "cell_type": "markdown",
   "metadata": {
    "slideshow": {
     "slide_type": "slide"
    }
   },
   "source": [
    "**Solution**: (A)\n",
    "\n",
    "- We'll use the player name.\n",
    "- But we should be careful that two players don't have the same name."
   ]
  },
  {
   "cell_type": "markdown",
   "metadata": {
    "slideshow": {
     "slide_type": "slide"
    }
   },
   "source": [
    "## Setting the index"
   ]
  },
  {
   "cell_type": "code",
   "execution_count": 71,
   "metadata": {},
   "outputs": [
    {
     "data": {
      "text/html": [
       "<div>\n",
       "<style scoped>\n",
       "    .dataframe tbody tr th:only-of-type {\n",
       "        vertical-align: middle;\n",
       "    }\n",
       "\n",
       "    .dataframe tbody tr th {\n",
       "        vertical-align: top;\n",
       "    }\n",
       "\n",
       "    .dataframe thead th {\n",
       "        text-align: right;\n",
       "    }\n",
       "</style>\n",
       "<table border=\"1\" class=\"dataframe\">\n",
       "  <thead>\n",
       "    <tr style=\"text-align: right;\">\n",
       "      <th></th>\n",
       "      <th>POSITION</th>\n",
       "      <th>TEAM</th>\n",
       "      <th>2015_SALARY</th>\n",
       "    </tr>\n",
       "    <tr>\n",
       "      <th>PLAYER</th>\n",
       "      <th></th>\n",
       "      <th></th>\n",
       "      <th></th>\n",
       "    </tr>\n",
       "  </thead>\n",
       "  <tbody>\n",
       "    <tr>\n",
       "      <th>Paul Millsap</th>\n",
       "      <td>PF</td>\n",
       "      <td>Atlanta Hawks</td>\n",
       "      <td>18.671659</td>\n",
       "    </tr>\n",
       "    <tr>\n",
       "      <th>Al Horford</th>\n",
       "      <td>C</td>\n",
       "      <td>Atlanta Hawks</td>\n",
       "      <td>12.000000</td>\n",
       "    </tr>\n",
       "    <tr>\n",
       "      <th>Tiago Splitter</th>\n",
       "      <td>C</td>\n",
       "      <td>Atlanta Hawks</td>\n",
       "      <td>9.756250</td>\n",
       "    </tr>\n",
       "    <tr>\n",
       "      <th>Jeff Teague</th>\n",
       "      <td>PG</td>\n",
       "      <td>Atlanta Hawks</td>\n",
       "      <td>8.000000</td>\n",
       "    </tr>\n",
       "    <tr>\n",
       "      <th>Kyle Korver</th>\n",
       "      <td>SG</td>\n",
       "      <td>Atlanta Hawks</td>\n",
       "      <td>5.746479</td>\n",
       "    </tr>\n",
       "    <tr>\n",
       "      <th>...</th>\n",
       "      <td>...</td>\n",
       "      <td>...</td>\n",
       "      <td>...</td>\n",
       "    </tr>\n",
       "    <tr>\n",
       "      <th>Gary Neal</th>\n",
       "      <td>PG</td>\n",
       "      <td>Washington Wizards</td>\n",
       "      <td>2.139000</td>\n",
       "    </tr>\n",
       "    <tr>\n",
       "      <th>DeJuan Blair</th>\n",
       "      <td>C</td>\n",
       "      <td>Washington Wizards</td>\n",
       "      <td>2.000000</td>\n",
       "    </tr>\n",
       "    <tr>\n",
       "      <th>Kelly Oubre Jr.</th>\n",
       "      <td>SF</td>\n",
       "      <td>Washington Wizards</td>\n",
       "      <td>1.920240</td>\n",
       "    </tr>\n",
       "    <tr>\n",
       "      <th>Garrett Temple</th>\n",
       "      <td>SG</td>\n",
       "      <td>Washington Wizards</td>\n",
       "      <td>1.100602</td>\n",
       "    </tr>\n",
       "    <tr>\n",
       "      <th>Jarell Eddie</th>\n",
       "      <td>SG</td>\n",
       "      <td>Washington Wizards</td>\n",
       "      <td>0.561716</td>\n",
       "    </tr>\n",
       "  </tbody>\n",
       "</table>\n",
       "<p>417 rows × 3 columns</p>\n",
       "</div>"
      ],
      "text/plain": [
       "                POSITION                TEAM  2015_SALARY\n",
       "PLAYER                                                   \n",
       "Paul Millsap          PF       Atlanta Hawks    18.671659\n",
       "Al Horford             C       Atlanta Hawks    12.000000\n",
       "Tiago Splitter         C       Atlanta Hawks     9.756250\n",
       "Jeff Teague           PG       Atlanta Hawks     8.000000\n",
       "Kyle Korver           SG       Atlanta Hawks     5.746479\n",
       "...                  ...                 ...          ...\n",
       "Gary Neal             PG  Washington Wizards     2.139000\n",
       "DeJuan Blair           C  Washington Wizards     2.000000\n",
       "Kelly Oubre Jr.       SF  Washington Wizards     1.920240\n",
       "Garrett Temple        SG  Washington Wizards     1.100602\n",
       "Jarell Eddie          SG  Washington Wizards     0.561716\n",
       "\n",
       "[417 rows x 3 columns]"
      ]
     },
     "execution_count": 71,
     "metadata": {},
     "output_type": "execute_result"
    }
   ],
   "source": [
    "salaries_by_player = salaries.set_index('PLAYER')\n",
    "salaries_by_player"
   ]
  },
  {
   "cell_type": "markdown",
   "metadata": {
    "slideshow": {
     "slide_type": "slide"
    }
   },
   "source": [
    "### Shape of a table:\n",
    "\n",
    "- `.shape` returns the number of rows and number of columns\n",
    "- Access each with `[]`:"
   ]
  },
  {
   "cell_type": "code",
   "execution_count": 72,
   "metadata": {},
   "outputs": [
    {
     "data": {
      "text/plain": [
       "(417, 3)"
      ]
     },
     "execution_count": 72,
     "metadata": {},
     "output_type": "execute_result"
    }
   ],
   "source": [
    "salaries_by_player.shape"
   ]
  },
  {
   "cell_type": "code",
   "execution_count": 73,
   "metadata": {},
   "outputs": [
    {
     "data": {
      "text/plain": [
       "417"
      ]
     },
     "execution_count": 73,
     "metadata": {},
     "output_type": "execute_result"
    }
   ],
   "source": [
    "salaries_by_player.shape[0]"
   ]
  },
  {
   "cell_type": "code",
   "execution_count": 74,
   "metadata": {},
   "outputs": [
    {
     "data": {
      "text/plain": [
       "3"
      ]
     },
     "execution_count": 74,
     "metadata": {},
     "output_type": "execute_result"
    }
   ],
   "source": [
    "salaries_by_player.shape[1]"
   ]
  },
  {
   "cell_type": "markdown",
   "metadata": {
    "slideshow": {
     "slide_type": "slide"
    }
   },
   "source": [
    "## Use Case: Adjust for Inflation"
   ]
  },
  {
   "cell_type": "markdown",
   "metadata": {},
   "source": [
    "- These salaries are old. We should adjust for inflation\n",
    "- $\\$1.00$ in 2015 = $\\$1.09$ in 2020\n",
    "- Workflow:\n",
    "    - get the column of salaries\n",
    "    - multiply every element by 1.09\n",
    "    - add new column to table"
   ]
  },
  {
   "cell_type": "markdown",
   "metadata": {
    "slideshow": {
     "slide_type": "slide"
    }
   },
   "source": [
    "### Step 1) Getting a column\n",
    "\n",
    "- We can get a column from a dataframe using `.get(column_name)`:\n",
    "- Warning: case sensitive!\n",
    "- The result looks like a 1-column DataFrame, but is actually a *Series*"
   ]
  },
  {
   "cell_type": "code",
   "execution_count": 75,
   "metadata": {},
   "outputs": [
    {
     "data": {
      "text/plain": [
       "PLAYER\n",
       "Paul Millsap       18.671659\n",
       "Al Horford         12.000000\n",
       "Tiago Splitter      9.756250\n",
       "Jeff Teague         8.000000\n",
       "Kyle Korver         5.746479\n",
       "                     ...    \n",
       "Gary Neal           2.139000\n",
       "DeJuan Blair        2.000000\n",
       "Kelly Oubre Jr.     1.920240\n",
       "Garrett Temple      1.100602\n",
       "Jarell Eddie        0.561716\n",
       "Name: 2015_SALARY, Length: 417, dtype: float64"
      ]
     },
     "execution_count": 75,
     "metadata": {},
     "output_type": "execute_result"
    }
   ],
   "source": [
    "salaries_by_player.get(\"2015_SALARY\")"
   ]
  },
  {
   "cell_type": "markdown",
   "metadata": {
    "slideshow": {
     "slide_type": "slide"
    }
   },
   "source": [
    "### Digression: Series\n",
    "\n",
    "- A *Series* is like an array, but with an index\n",
    "- In particular, supports arithmetic"
   ]
  },
  {
   "cell_type": "code",
   "execution_count": 76,
   "metadata": {},
   "outputs": [
    {
     "data": {
      "text/plain": [
       "PLAYER\n",
       "Paul Millsap       18.671659\n",
       "Al Horford         12.000000\n",
       "Tiago Splitter      9.756250\n",
       "Jeff Teague         8.000000\n",
       "Kyle Korver         5.746479\n",
       "                     ...    \n",
       "Gary Neal           2.139000\n",
       "DeJuan Blair        2.000000\n",
       "Kelly Oubre Jr.     1.920240\n",
       "Garrett Temple      1.100602\n",
       "Jarell Eddie        0.561716\n",
       "Name: 2015_SALARY, Length: 417, dtype: float64"
      ]
     },
     "execution_count": 76,
     "metadata": {},
     "output_type": "execute_result"
    }
   ],
   "source": [
    "salaries_by_player.get(\"2015_SALARY\")"
   ]
  },
  {
   "cell_type": "code",
   "execution_count": 77,
   "metadata": {},
   "outputs": [
    {
     "data": {
      "text/plain": [
       "PLAYER\n",
       "Paul Millsap       20.352108\n",
       "Al Horford         13.080000\n",
       "Tiago Splitter     10.634313\n",
       "Jeff Teague         8.720000\n",
       "Kyle Korver         6.263662\n",
       "                     ...    \n",
       "Gary Neal           2.331510\n",
       "DeJuan Blair        2.180000\n",
       "Kelly Oubre Jr.     2.093062\n",
       "Garrett Temple      1.199656\n",
       "Jarell Eddie        0.612270\n",
       "Name: 2015_SALARY, Length: 417, dtype: float64"
      ]
     },
     "execution_count": 77,
     "metadata": {},
     "output_type": "execute_result"
    }
   ],
   "source": [
    "# Step 2) Adjust the salaries for inflation\n",
    "salaries_by_player.get(\"2015_SALARY\") * 1.09"
   ]
  },
  {
   "cell_type": "markdown",
   "metadata": {
    "slideshow": {
     "slide_type": "slide"
    }
   },
   "source": [
    "### Step 3) Add adjusted salaries to table\n",
    "\n",
    "- Use `.assign(Name_of_column=data_in_array)` to assign an array (or series, or list) to a table.\n",
    "- **Warning!** No quotes around `Name_of_column`\n",
    "- Creates a new dataframe! Must save to variable."
   ]
  },
  {
   "cell_type": "code",
   "execution_count": 78,
   "metadata": {},
   "outputs": [
    {
     "data": {
      "text/html": [
       "<div>\n",
       "<style scoped>\n",
       "    .dataframe tbody tr th:only-of-type {\n",
       "        vertical-align: middle;\n",
       "    }\n",
       "\n",
       "    .dataframe tbody tr th {\n",
       "        vertical-align: top;\n",
       "    }\n",
       "\n",
       "    .dataframe thead th {\n",
       "        text-align: right;\n",
       "    }\n",
       "</style>\n",
       "<table border=\"1\" class=\"dataframe\">\n",
       "  <thead>\n",
       "    <tr style=\"text-align: right;\">\n",
       "      <th></th>\n",
       "      <th>POSITION</th>\n",
       "      <th>TEAM</th>\n",
       "      <th>2015_SALARY</th>\n",
       "      <th>ADJUSTED_SALARY</th>\n",
       "    </tr>\n",
       "    <tr>\n",
       "      <th>PLAYER</th>\n",
       "      <th></th>\n",
       "      <th></th>\n",
       "      <th></th>\n",
       "      <th></th>\n",
       "    </tr>\n",
       "  </thead>\n",
       "  <tbody>\n",
       "    <tr>\n",
       "      <th>Paul Millsap</th>\n",
       "      <td>PF</td>\n",
       "      <td>Atlanta Hawks</td>\n",
       "      <td>18.671659</td>\n",
       "      <td>20.352108</td>\n",
       "    </tr>\n",
       "    <tr>\n",
       "      <th>Al Horford</th>\n",
       "      <td>C</td>\n",
       "      <td>Atlanta Hawks</td>\n",
       "      <td>12.000000</td>\n",
       "      <td>13.080000</td>\n",
       "    </tr>\n",
       "    <tr>\n",
       "      <th>Tiago Splitter</th>\n",
       "      <td>C</td>\n",
       "      <td>Atlanta Hawks</td>\n",
       "      <td>9.756250</td>\n",
       "      <td>10.634313</td>\n",
       "    </tr>\n",
       "    <tr>\n",
       "      <th>Jeff Teague</th>\n",
       "      <td>PG</td>\n",
       "      <td>Atlanta Hawks</td>\n",
       "      <td>8.000000</td>\n",
       "      <td>8.720000</td>\n",
       "    </tr>\n",
       "    <tr>\n",
       "      <th>Kyle Korver</th>\n",
       "      <td>SG</td>\n",
       "      <td>Atlanta Hawks</td>\n",
       "      <td>5.746479</td>\n",
       "      <td>6.263662</td>\n",
       "    </tr>\n",
       "    <tr>\n",
       "      <th>...</th>\n",
       "      <td>...</td>\n",
       "      <td>...</td>\n",
       "      <td>...</td>\n",
       "      <td>...</td>\n",
       "    </tr>\n",
       "    <tr>\n",
       "      <th>Gary Neal</th>\n",
       "      <td>PG</td>\n",
       "      <td>Washington Wizards</td>\n",
       "      <td>2.139000</td>\n",
       "      <td>2.331510</td>\n",
       "    </tr>\n",
       "    <tr>\n",
       "      <th>DeJuan Blair</th>\n",
       "      <td>C</td>\n",
       "      <td>Washington Wizards</td>\n",
       "      <td>2.000000</td>\n",
       "      <td>2.180000</td>\n",
       "    </tr>\n",
       "    <tr>\n",
       "      <th>Kelly Oubre Jr.</th>\n",
       "      <td>SF</td>\n",
       "      <td>Washington Wizards</td>\n",
       "      <td>1.920240</td>\n",
       "      <td>2.093062</td>\n",
       "    </tr>\n",
       "    <tr>\n",
       "      <th>Garrett Temple</th>\n",
       "      <td>SG</td>\n",
       "      <td>Washington Wizards</td>\n",
       "      <td>1.100602</td>\n",
       "      <td>1.199656</td>\n",
       "    </tr>\n",
       "    <tr>\n",
       "      <th>Jarell Eddie</th>\n",
       "      <td>SG</td>\n",
       "      <td>Washington Wizards</td>\n",
       "      <td>0.561716</td>\n",
       "      <td>0.612270</td>\n",
       "    </tr>\n",
       "  </tbody>\n",
       "</table>\n",
       "<p>417 rows × 4 columns</p>\n",
       "</div>"
      ],
      "text/plain": [
       "                POSITION                TEAM  2015_SALARY  ADJUSTED_SALARY\n",
       "PLAYER                                                                    \n",
       "Paul Millsap          PF       Atlanta Hawks    18.671659        20.352108\n",
       "Al Horford             C       Atlanta Hawks    12.000000        13.080000\n",
       "Tiago Splitter         C       Atlanta Hawks     9.756250        10.634313\n",
       "Jeff Teague           PG       Atlanta Hawks     8.000000         8.720000\n",
       "Kyle Korver           SG       Atlanta Hawks     5.746479         6.263662\n",
       "...                  ...                 ...          ...              ...\n",
       "Gary Neal             PG  Washington Wizards     2.139000         2.331510\n",
       "DeJuan Blair           C  Washington Wizards     2.000000         2.180000\n",
       "Kelly Oubre Jr.       SF  Washington Wizards     1.920240         2.093062\n",
       "Garrett Temple        SG  Washington Wizards     1.100602         1.199656\n",
       "Jarell Eddie          SG  Washington Wizards     0.561716         0.612270\n",
       "\n",
       "[417 rows x 4 columns]"
      ]
     },
     "execution_count": 78,
     "metadata": {},
     "output_type": "execute_result"
    }
   ],
   "source": [
    "salaries_by_player.assign(\n",
    "    ADJUSTED_SALARY=salaries_by_player.get(\"2015_SALARY\") * 1.09\n",
    ")"
   ]
  },
  {
   "cell_type": "code",
   "execution_count": 79,
   "metadata": {},
   "outputs": [
    {
     "data": {
      "text/html": [
       "<div>\n",
       "<style scoped>\n",
       "    .dataframe tbody tr th:only-of-type {\n",
       "        vertical-align: middle;\n",
       "    }\n",
       "\n",
       "    .dataframe tbody tr th {\n",
       "        vertical-align: top;\n",
       "    }\n",
       "\n",
       "    .dataframe thead th {\n",
       "        text-align: right;\n",
       "    }\n",
       "</style>\n",
       "<table border=\"1\" class=\"dataframe\">\n",
       "  <thead>\n",
       "    <tr style=\"text-align: right;\">\n",
       "      <th></th>\n",
       "      <th>POSITION</th>\n",
       "      <th>TEAM</th>\n",
       "      <th>2015_SALARY</th>\n",
       "    </tr>\n",
       "    <tr>\n",
       "      <th>PLAYER</th>\n",
       "      <th></th>\n",
       "      <th></th>\n",
       "      <th></th>\n",
       "    </tr>\n",
       "  </thead>\n",
       "  <tbody>\n",
       "    <tr>\n",
       "      <th>Paul Millsap</th>\n",
       "      <td>PF</td>\n",
       "      <td>Atlanta Hawks</td>\n",
       "      <td>18.671659</td>\n",
       "    </tr>\n",
       "    <tr>\n",
       "      <th>Al Horford</th>\n",
       "      <td>C</td>\n",
       "      <td>Atlanta Hawks</td>\n",
       "      <td>12.000000</td>\n",
       "    </tr>\n",
       "    <tr>\n",
       "      <th>Tiago Splitter</th>\n",
       "      <td>C</td>\n",
       "      <td>Atlanta Hawks</td>\n",
       "      <td>9.756250</td>\n",
       "    </tr>\n",
       "    <tr>\n",
       "      <th>Jeff Teague</th>\n",
       "      <td>PG</td>\n",
       "      <td>Atlanta Hawks</td>\n",
       "      <td>8.000000</td>\n",
       "    </tr>\n",
       "    <tr>\n",
       "      <th>Kyle Korver</th>\n",
       "      <td>SG</td>\n",
       "      <td>Atlanta Hawks</td>\n",
       "      <td>5.746479</td>\n",
       "    </tr>\n",
       "    <tr>\n",
       "      <th>...</th>\n",
       "      <td>...</td>\n",
       "      <td>...</td>\n",
       "      <td>...</td>\n",
       "    </tr>\n",
       "    <tr>\n",
       "      <th>Gary Neal</th>\n",
       "      <td>PG</td>\n",
       "      <td>Washington Wizards</td>\n",
       "      <td>2.139000</td>\n",
       "    </tr>\n",
       "    <tr>\n",
       "      <th>DeJuan Blair</th>\n",
       "      <td>C</td>\n",
       "      <td>Washington Wizards</td>\n",
       "      <td>2.000000</td>\n",
       "    </tr>\n",
       "    <tr>\n",
       "      <th>Kelly Oubre Jr.</th>\n",
       "      <td>SF</td>\n",
       "      <td>Washington Wizards</td>\n",
       "      <td>1.920240</td>\n",
       "    </tr>\n",
       "    <tr>\n",
       "      <th>Garrett Temple</th>\n",
       "      <td>SG</td>\n",
       "      <td>Washington Wizards</td>\n",
       "      <td>1.100602</td>\n",
       "    </tr>\n",
       "    <tr>\n",
       "      <th>Jarell Eddie</th>\n",
       "      <td>SG</td>\n",
       "      <td>Washington Wizards</td>\n",
       "      <td>0.561716</td>\n",
       "    </tr>\n",
       "  </tbody>\n",
       "</table>\n",
       "<p>417 rows × 3 columns</p>\n",
       "</div>"
      ],
      "text/plain": [
       "                POSITION                TEAM  2015_SALARY\n",
       "PLAYER                                                   \n",
       "Paul Millsap          PF       Atlanta Hawks    18.671659\n",
       "Al Horford             C       Atlanta Hawks    12.000000\n",
       "Tiago Splitter         C       Atlanta Hawks     9.756250\n",
       "Jeff Teague           PG       Atlanta Hawks     8.000000\n",
       "Kyle Korver           SG       Atlanta Hawks     5.746479\n",
       "...                  ...                 ...          ...\n",
       "Gary Neal             PG  Washington Wizards     2.139000\n",
       "DeJuan Blair           C  Washington Wizards     2.000000\n",
       "Kelly Oubre Jr.       SF  Washington Wizards     1.920240\n",
       "Garrett Temple        SG  Washington Wizards     1.100602\n",
       "Jarell Eddie          SG  Washington Wizards     0.561716\n",
       "\n",
       "[417 rows x 3 columns]"
      ]
     },
     "execution_count": 79,
     "metadata": {},
     "output_type": "execute_result"
    }
   ],
   "source": [
    "salaries_by_player"
   ]
  },
  {
   "cell_type": "code",
   "execution_count": 80,
   "metadata": {},
   "outputs": [
    {
     "data": {
      "text/html": [
       "<div>\n",
       "<style scoped>\n",
       "    .dataframe tbody tr th:only-of-type {\n",
       "        vertical-align: middle;\n",
       "    }\n",
       "\n",
       "    .dataframe tbody tr th {\n",
       "        vertical-align: top;\n",
       "    }\n",
       "\n",
       "    .dataframe thead th {\n",
       "        text-align: right;\n",
       "    }\n",
       "</style>\n",
       "<table border=\"1\" class=\"dataframe\">\n",
       "  <thead>\n",
       "    <tr style=\"text-align: right;\">\n",
       "      <th></th>\n",
       "      <th>POSITION</th>\n",
       "      <th>TEAM</th>\n",
       "      <th>2015_SALARY</th>\n",
       "      <th>ADJUSTED_SALARY</th>\n",
       "    </tr>\n",
       "    <tr>\n",
       "      <th>PLAYER</th>\n",
       "      <th></th>\n",
       "      <th></th>\n",
       "      <th></th>\n",
       "      <th></th>\n",
       "    </tr>\n",
       "  </thead>\n",
       "  <tbody>\n",
       "    <tr>\n",
       "      <th>Paul Millsap</th>\n",
       "      <td>PF</td>\n",
       "      <td>Atlanta Hawks</td>\n",
       "      <td>18.671659</td>\n",
       "      <td>20.352108</td>\n",
       "    </tr>\n",
       "    <tr>\n",
       "      <th>Al Horford</th>\n",
       "      <td>C</td>\n",
       "      <td>Atlanta Hawks</td>\n",
       "      <td>12.000000</td>\n",
       "      <td>13.080000</td>\n",
       "    </tr>\n",
       "    <tr>\n",
       "      <th>Tiago Splitter</th>\n",
       "      <td>C</td>\n",
       "      <td>Atlanta Hawks</td>\n",
       "      <td>9.756250</td>\n",
       "      <td>10.634313</td>\n",
       "    </tr>\n",
       "    <tr>\n",
       "      <th>Jeff Teague</th>\n",
       "      <td>PG</td>\n",
       "      <td>Atlanta Hawks</td>\n",
       "      <td>8.000000</td>\n",
       "      <td>8.720000</td>\n",
       "    </tr>\n",
       "    <tr>\n",
       "      <th>Kyle Korver</th>\n",
       "      <td>SG</td>\n",
       "      <td>Atlanta Hawks</td>\n",
       "      <td>5.746479</td>\n",
       "      <td>6.263662</td>\n",
       "    </tr>\n",
       "    <tr>\n",
       "      <th>...</th>\n",
       "      <td>...</td>\n",
       "      <td>...</td>\n",
       "      <td>...</td>\n",
       "      <td>...</td>\n",
       "    </tr>\n",
       "    <tr>\n",
       "      <th>Gary Neal</th>\n",
       "      <td>PG</td>\n",
       "      <td>Washington Wizards</td>\n",
       "      <td>2.139000</td>\n",
       "      <td>2.331510</td>\n",
       "    </tr>\n",
       "    <tr>\n",
       "      <th>DeJuan Blair</th>\n",
       "      <td>C</td>\n",
       "      <td>Washington Wizards</td>\n",
       "      <td>2.000000</td>\n",
       "      <td>2.180000</td>\n",
       "    </tr>\n",
       "    <tr>\n",
       "      <th>Kelly Oubre Jr.</th>\n",
       "      <td>SF</td>\n",
       "      <td>Washington Wizards</td>\n",
       "      <td>1.920240</td>\n",
       "      <td>2.093062</td>\n",
       "    </tr>\n",
       "    <tr>\n",
       "      <th>Garrett Temple</th>\n",
       "      <td>SG</td>\n",
       "      <td>Washington Wizards</td>\n",
       "      <td>1.100602</td>\n",
       "      <td>1.199656</td>\n",
       "    </tr>\n",
       "    <tr>\n",
       "      <th>Jarell Eddie</th>\n",
       "      <td>SG</td>\n",
       "      <td>Washington Wizards</td>\n",
       "      <td>0.561716</td>\n",
       "      <td>0.612270</td>\n",
       "    </tr>\n",
       "  </tbody>\n",
       "</table>\n",
       "<p>417 rows × 4 columns</p>\n",
       "</div>"
      ],
      "text/plain": [
       "                POSITION                TEAM  2015_SALARY  ADJUSTED_SALARY\n",
       "PLAYER                                                                    \n",
       "Paul Millsap          PF       Atlanta Hawks    18.671659        20.352108\n",
       "Al Horford             C       Atlanta Hawks    12.000000        13.080000\n",
       "Tiago Splitter         C       Atlanta Hawks     9.756250        10.634313\n",
       "Jeff Teague           PG       Atlanta Hawks     8.000000         8.720000\n",
       "Kyle Korver           SG       Atlanta Hawks     5.746479         6.263662\n",
       "...                  ...                 ...          ...              ...\n",
       "Gary Neal             PG  Washington Wizards     2.139000         2.331510\n",
       "DeJuan Blair           C  Washington Wizards     2.000000         2.180000\n",
       "Kelly Oubre Jr.       SF  Washington Wizards     1.920240         2.093062\n",
       "Garrett Temple        SG  Washington Wizards     1.100602         1.199656\n",
       "Jarell Eddie          SG  Washington Wizards     0.561716         0.612270\n",
       "\n",
       "[417 rows x 4 columns]"
      ]
     },
     "execution_count": 80,
     "metadata": {},
     "output_type": "execute_result"
    }
   ],
   "source": [
    "adjusted_salaries = salaries_by_player.assign(\n",
    "    ADJUSTED_SALARY=salaries_by_player.get(\"2015_SALARY\") * 1.09\n",
    ")\n",
    "adjusted_salaries"
   ]
  },
  {
   "cell_type": "markdown",
   "metadata": {
    "slideshow": {
     "slide_type": "slide"
    }
   },
   "source": [
    "## Use Case: Getting a particular player's salary\n",
    "\n",
    "- How much did LeBron James make in 2015 (adjusted for inflation)?"
   ]
  },
  {
   "cell_type": "code",
   "execution_count": 81,
   "metadata": {},
   "outputs": [
    {
     "data": {
      "text/plain": [
       "PLAYER\n",
       "Paul Millsap       20.352108\n",
       "Al Horford         13.080000\n",
       "Tiago Splitter     10.634313\n",
       "Jeff Teague         8.720000\n",
       "Kyle Korver         6.263662\n",
       "                     ...    \n",
       "Gary Neal           2.331510\n",
       "DeJuan Blair        2.180000\n",
       "Kelly Oubre Jr.     2.093062\n",
       "Garrett Temple      1.199656\n",
       "Jarell Eddie        0.612270\n",
       "Name: ADJUSTED_SALARY, Length: 417, dtype: float64"
      ]
     },
     "execution_count": 81,
     "metadata": {},
     "output_type": "execute_result"
    }
   ],
   "source": [
    "# this is a Series!\n",
    "adjusted_salaries.get('ADJUSTED_SALARY')"
   ]
  },
  {
   "cell_type": "markdown",
   "metadata": {
    "slideshow": {
     "slide_type": "slide"
    }
   },
   "source": [
    "## Accessing a Series by row label: `.loc`\n",
    "\n",
    "- Use `.loc[]` to *access* an element of the series with a particular row label"
   ]
  },
  {
   "cell_type": "code",
   "execution_count": 82,
   "metadata": {},
   "outputs": [
    {
     "data": {
      "text/plain": [
       "25.037845000000004"
      ]
     },
     "execution_count": 82,
     "metadata": {},
     "output_type": "execute_result"
    }
   ],
   "source": [
    "adjusted_salaries.get('ADJUSTED_SALARY').loc['LeBron James']"
   ]
  },
  {
   "cell_type": "markdown",
   "metadata": {
    "slideshow": {
     "slide_type": "slide"
    }
   },
   "source": [
    "## How to get a particular element from a table:\n",
    "\n",
    "1. `.get()` the column label\n",
    "2. `.loc[]` the row label\n",
    "\n",
    "In this class, we'll always get column, then row (but row, then column is also possible).\n",
    "\n",
    " Example: What position does LeBron play?"
   ]
  },
  {
   "cell_type": "code",
   "execution_count": 83,
   "metadata": {},
   "outputs": [
    {
     "data": {
      "text/plain": [
       "'SF'"
      ]
     },
     "execution_count": 83,
     "metadata": {},
     "output_type": "execute_result"
    }
   ],
   "source": [
    "adjusted_salaries.get('POSITION').loc['LeBron James']"
   ]
  },
  {
   "cell_type": "markdown",
   "metadata": {
    "slideshow": {
     "slide_type": "slide"
    }
   },
   "source": [
    "## Use Case: Salary Analysis\n",
    "\n",
    "- What was the biggest/smallest salary? What was the average salary?\n",
    "- *Series* have helpful methods, like `.min()`, `.max()`, `.mean()`, etc."
   ]
  },
  {
   "cell_type": "code",
   "execution_count": 84,
   "metadata": {},
   "outputs": [
    {
     "data": {
      "text/plain": [
       "0.033667920000000004"
      ]
     },
     "execution_count": 84,
     "metadata": {},
     "output_type": "execute_result"
    }
   ],
   "source": [
    "adjusted_salaries.get('ADJUSTED_SALARY').min()"
   ]
  },
  {
   "cell_type": "code",
   "execution_count": 85,
   "metadata": {},
   "outputs": [
    {
     "data": {
      "text/plain": [
       "27.250000000000004"
      ]
     },
     "execution_count": 85,
     "metadata": {},
     "output_type": "execute_result"
    }
   ],
   "source": [
    "adjusted_salaries.get('ADJUSTED_SALARY').max()"
   ]
  },
  {
   "cell_type": "code",
   "execution_count": 86,
   "metadata": {},
   "outputs": [
    {
     "data": {
      "text/plain": [
       "5.531547785395679"
      ]
     },
     "execution_count": 86,
     "metadata": {},
     "output_type": "execute_result"
    }
   ],
   "source": [
    "adjusted_salaries.get('ADJUSTED_SALARY').mean()"
   ]
  },
  {
   "cell_type": "markdown",
   "metadata": {
    "slideshow": {
     "slide_type": "slide"
    }
   },
   "source": [
    "## Use Case: *Who* had the biggest salary?\n",
    "\n",
    "- Strategy: Sort the table by salary and take the name at the top"
   ]
  },
  {
   "cell_type": "markdown",
   "metadata": {
    "slideshow": {
     "slide_type": "slide"
    }
   },
   "source": [
    "### Step 1) Sort the table\n",
    "\n",
    "- Use the `.sort_values(by=column_name)` method to sort.\n",
    "- **Notice:** Creates a new table.\n",
    "- Everything works as expected, but we wanted *descending* order."
   ]
  },
  {
   "cell_type": "code",
   "execution_count": 87,
   "metadata": {},
   "outputs": [
    {
     "data": {
      "text/html": [
       "<div>\n",
       "<style scoped>\n",
       "    .dataframe tbody tr th:only-of-type {\n",
       "        vertical-align: middle;\n",
       "    }\n",
       "\n",
       "    .dataframe tbody tr th {\n",
       "        vertical-align: top;\n",
       "    }\n",
       "\n",
       "    .dataframe thead th {\n",
       "        text-align: right;\n",
       "    }\n",
       "</style>\n",
       "<table border=\"1\" class=\"dataframe\">\n",
       "  <thead>\n",
       "    <tr style=\"text-align: right;\">\n",
       "      <th></th>\n",
       "      <th>POSITION</th>\n",
       "      <th>TEAM</th>\n",
       "      <th>2015_SALARY</th>\n",
       "      <th>ADJUSTED_SALARY</th>\n",
       "    </tr>\n",
       "    <tr>\n",
       "      <th>PLAYER</th>\n",
       "      <th></th>\n",
       "      <th></th>\n",
       "      <th></th>\n",
       "      <th></th>\n",
       "    </tr>\n",
       "  </thead>\n",
       "  <tbody>\n",
       "    <tr>\n",
       "      <th>Thanasis Antetokounmpo</th>\n",
       "      <td>SF</td>\n",
       "      <td>New York Knicks</td>\n",
       "      <td>0.030888</td>\n",
       "      <td>0.033668</td>\n",
       "    </tr>\n",
       "    <tr>\n",
       "      <th>Cory Jefferson</th>\n",
       "      <td>PF</td>\n",
       "      <td>Phoenix Suns</td>\n",
       "      <td>0.049709</td>\n",
       "      <td>0.054183</td>\n",
       "    </tr>\n",
       "    <tr>\n",
       "      <th>Jordan McRae</th>\n",
       "      <td>SG</td>\n",
       "      <td>Phoenix Suns</td>\n",
       "      <td>0.049709</td>\n",
       "      <td>0.054183</td>\n",
       "    </tr>\n",
       "    <tr>\n",
       "      <th>Orlando Johnson</th>\n",
       "      <td>SG</td>\n",
       "      <td>Phoenix Suns</td>\n",
       "      <td>0.055722</td>\n",
       "      <td>0.060737</td>\n",
       "    </tr>\n",
       "    <tr>\n",
       "      <th>Phil Pressey</th>\n",
       "      <td>PG</td>\n",
       "      <td>Phoenix Suns</td>\n",
       "      <td>0.055722</td>\n",
       "      <td>0.060737</td>\n",
       "    </tr>\n",
       "    <tr>\n",
       "      <th>...</th>\n",
       "      <td>...</td>\n",
       "      <td>...</td>\n",
       "      <td>...</td>\n",
       "      <td>...</td>\n",
       "    </tr>\n",
       "    <tr>\n",
       "      <th>Dwight Howard</th>\n",
       "      <td>C</td>\n",
       "      <td>Houston Rockets</td>\n",
       "      <td>22.359364</td>\n",
       "      <td>24.371707</td>\n",
       "    </tr>\n",
       "    <tr>\n",
       "      <th>Carmelo Anthony</th>\n",
       "      <td>SF</td>\n",
       "      <td>New York Knicks</td>\n",
       "      <td>22.875000</td>\n",
       "      <td>24.933750</td>\n",
       "    </tr>\n",
       "    <tr>\n",
       "      <th>LeBron James</th>\n",
       "      <td>SF</td>\n",
       "      <td>Cleveland Cavaliers</td>\n",
       "      <td>22.970500</td>\n",
       "      <td>25.037845</td>\n",
       "    </tr>\n",
       "    <tr>\n",
       "      <th>Joe Johnson</th>\n",
       "      <td>SF</td>\n",
       "      <td>Brooklyn Nets</td>\n",
       "      <td>24.894863</td>\n",
       "      <td>27.135401</td>\n",
       "    </tr>\n",
       "    <tr>\n",
       "      <th>Kobe Bryant</th>\n",
       "      <td>SF</td>\n",
       "      <td>Los Angeles Lakers</td>\n",
       "      <td>25.000000</td>\n",
       "      <td>27.250000</td>\n",
       "    </tr>\n",
       "  </tbody>\n",
       "</table>\n",
       "<p>417 rows × 4 columns</p>\n",
       "</div>"
      ],
      "text/plain": [
       "                       POSITION                 TEAM  2015_SALARY  \\\n",
       "PLAYER                                                              \n",
       "Thanasis Antetokounmpo       SF      New York Knicks     0.030888   \n",
       "Cory Jefferson               PF         Phoenix Suns     0.049709   \n",
       "Jordan McRae                 SG         Phoenix Suns     0.049709   \n",
       "Orlando Johnson              SG         Phoenix Suns     0.055722   \n",
       "Phil Pressey                 PG         Phoenix Suns     0.055722   \n",
       "...                         ...                  ...          ...   \n",
       "Dwight Howard                 C      Houston Rockets    22.359364   \n",
       "Carmelo Anthony              SF      New York Knicks    22.875000   \n",
       "LeBron James                 SF  Cleveland Cavaliers    22.970500   \n",
       "Joe Johnson                  SF        Brooklyn Nets    24.894863   \n",
       "Kobe Bryant                  SF   Los Angeles Lakers    25.000000   \n",
       "\n",
       "                        ADJUSTED_SALARY  \n",
       "PLAYER                                   \n",
       "Thanasis Antetokounmpo         0.033668  \n",
       "Cory Jefferson                 0.054183  \n",
       "Jordan McRae                   0.054183  \n",
       "Orlando Johnson                0.060737  \n",
       "Phil Pressey                   0.060737  \n",
       "...                                 ...  \n",
       "Dwight Howard                 24.371707  \n",
       "Carmelo Anthony               24.933750  \n",
       "LeBron James                  25.037845  \n",
       "Joe Johnson                   27.135401  \n",
       "Kobe Bryant                   27.250000  \n",
       "\n",
       "[417 rows x 4 columns]"
      ]
     },
     "execution_count": 87,
     "metadata": {},
     "output_type": "execute_result"
    }
   ],
   "source": [
    "adjusted_salaries.sort_values(by='ADJUSTED_SALARY')"
   ]
  },
  {
   "cell_type": "markdown",
   "metadata": {
    "slideshow": {
     "slide_type": "slide"
    }
   },
   "source": [
    "### Step 1) Sorting the table in *descending* order\n",
    "\n",
    "- Use `.sort_values(by=column_name, ascending=False)` to sort in *descending* order"
   ]
  },
  {
   "cell_type": "code",
   "execution_count": 88,
   "metadata": {},
   "outputs": [
    {
     "data": {
      "text/html": [
       "<div>\n",
       "<style scoped>\n",
       "    .dataframe tbody tr th:only-of-type {\n",
       "        vertical-align: middle;\n",
       "    }\n",
       "\n",
       "    .dataframe tbody tr th {\n",
       "        vertical-align: top;\n",
       "    }\n",
       "\n",
       "    .dataframe thead th {\n",
       "        text-align: right;\n",
       "    }\n",
       "</style>\n",
       "<table border=\"1\" class=\"dataframe\">\n",
       "  <thead>\n",
       "    <tr style=\"text-align: right;\">\n",
       "      <th></th>\n",
       "      <th>POSITION</th>\n",
       "      <th>TEAM</th>\n",
       "      <th>2015_SALARY</th>\n",
       "      <th>ADJUSTED_SALARY</th>\n",
       "    </tr>\n",
       "    <tr>\n",
       "      <th>PLAYER</th>\n",
       "      <th></th>\n",
       "      <th></th>\n",
       "      <th></th>\n",
       "      <th></th>\n",
       "    </tr>\n",
       "  </thead>\n",
       "  <tbody>\n",
       "    <tr>\n",
       "      <th>Kobe Bryant</th>\n",
       "      <td>SF</td>\n",
       "      <td>Los Angeles Lakers</td>\n",
       "      <td>25.000000</td>\n",
       "      <td>27.250000</td>\n",
       "    </tr>\n",
       "    <tr>\n",
       "      <th>Joe Johnson</th>\n",
       "      <td>SF</td>\n",
       "      <td>Brooklyn Nets</td>\n",
       "      <td>24.894863</td>\n",
       "      <td>27.135401</td>\n",
       "    </tr>\n",
       "    <tr>\n",
       "      <th>LeBron James</th>\n",
       "      <td>SF</td>\n",
       "      <td>Cleveland Cavaliers</td>\n",
       "      <td>22.970500</td>\n",
       "      <td>25.037845</td>\n",
       "    </tr>\n",
       "    <tr>\n",
       "      <th>Carmelo Anthony</th>\n",
       "      <td>SF</td>\n",
       "      <td>New York Knicks</td>\n",
       "      <td>22.875000</td>\n",
       "      <td>24.933750</td>\n",
       "    </tr>\n",
       "    <tr>\n",
       "      <th>Dwight Howard</th>\n",
       "      <td>C</td>\n",
       "      <td>Houston Rockets</td>\n",
       "      <td>22.359364</td>\n",
       "      <td>24.371707</td>\n",
       "    </tr>\n",
       "    <tr>\n",
       "      <th>...</th>\n",
       "      <td>...</td>\n",
       "      <td>...</td>\n",
       "      <td>...</td>\n",
       "      <td>...</td>\n",
       "    </tr>\n",
       "    <tr>\n",
       "      <th>Elliot Williams</th>\n",
       "      <td>SG</td>\n",
       "      <td>Memphis Grizzlies</td>\n",
       "      <td>0.055722</td>\n",
       "      <td>0.060737</td>\n",
       "    </tr>\n",
       "    <tr>\n",
       "      <th>Orlando Johnson</th>\n",
       "      <td>SG</td>\n",
       "      <td>Phoenix Suns</td>\n",
       "      <td>0.055722</td>\n",
       "      <td>0.060737</td>\n",
       "    </tr>\n",
       "    <tr>\n",
       "      <th>Cory Jefferson</th>\n",
       "      <td>PF</td>\n",
       "      <td>Phoenix Suns</td>\n",
       "      <td>0.049709</td>\n",
       "      <td>0.054183</td>\n",
       "    </tr>\n",
       "    <tr>\n",
       "      <th>Jordan McRae</th>\n",
       "      <td>SG</td>\n",
       "      <td>Phoenix Suns</td>\n",
       "      <td>0.049709</td>\n",
       "      <td>0.054183</td>\n",
       "    </tr>\n",
       "    <tr>\n",
       "      <th>Thanasis Antetokounmpo</th>\n",
       "      <td>SF</td>\n",
       "      <td>New York Knicks</td>\n",
       "      <td>0.030888</td>\n",
       "      <td>0.033668</td>\n",
       "    </tr>\n",
       "  </tbody>\n",
       "</table>\n",
       "<p>417 rows × 4 columns</p>\n",
       "</div>"
      ],
      "text/plain": [
       "                       POSITION                 TEAM  2015_SALARY  \\\n",
       "PLAYER                                                              \n",
       "Kobe Bryant                  SF   Los Angeles Lakers    25.000000   \n",
       "Joe Johnson                  SF        Brooklyn Nets    24.894863   \n",
       "LeBron James                 SF  Cleveland Cavaliers    22.970500   \n",
       "Carmelo Anthony              SF      New York Knicks    22.875000   \n",
       "Dwight Howard                 C      Houston Rockets    22.359364   \n",
       "...                         ...                  ...          ...   \n",
       "Elliot Williams              SG    Memphis Grizzlies     0.055722   \n",
       "Orlando Johnson              SG         Phoenix Suns     0.055722   \n",
       "Cory Jefferson               PF         Phoenix Suns     0.049709   \n",
       "Jordan McRae                 SG         Phoenix Suns     0.049709   \n",
       "Thanasis Antetokounmpo       SF      New York Knicks     0.030888   \n",
       "\n",
       "                        ADJUSTED_SALARY  \n",
       "PLAYER                                   \n",
       "Kobe Bryant                   27.250000  \n",
       "Joe Johnson                   27.135401  \n",
       "LeBron James                  25.037845  \n",
       "Carmelo Anthony               24.933750  \n",
       "Dwight Howard                 24.371707  \n",
       "...                                 ...  \n",
       "Elliot Williams                0.060737  \n",
       "Orlando Johnson                0.060737  \n",
       "Cory Jefferson                 0.054183  \n",
       "Jordan McRae                   0.054183  \n",
       "Thanasis Antetokounmpo         0.033668  \n",
       "\n",
       "[417 rows x 4 columns]"
      ]
     },
     "execution_count": 88,
     "metadata": {},
     "output_type": "execute_result"
    }
   ],
   "source": [
    "highest_salaries = adjusted_salaries.sort_values(by='ADJUSTED_SALARY', ascending=False)\n",
    "highest_salaries"
   ]
  },
  {
   "cell_type": "markdown",
   "metadata": {
    "slideshow": {
     "slide_type": "slide"
    }
   },
   "source": [
    "### Step 2) Get the *name* of the person with the highest salary\n",
    "\n",
    "- We saw that is was Kobe, but how do we get the name using code?\n",
    "- Remember, the index is an array"
   ]
  },
  {
   "cell_type": "code",
   "execution_count": 89,
   "metadata": {},
   "outputs": [
    {
     "data": {
      "text/plain": [
       "'Kobe Bryant'"
      ]
     },
     "execution_count": 89,
     "metadata": {},
     "output_type": "execute_result"
    }
   ],
   "source": [
    "highest_salaries.index[0]"
   ]
  },
  {
   "cell_type": "markdown",
   "metadata": {
    "slideshow": {
     "slide_type": "slide"
    }
   },
   "source": [
    "## Use Case: What team did the person with the third-lowest salary play for?\n",
    "\n",
    "- We have the tools, but its a little tricky. Can you think of a strategy?"
   ]
  },
  {
   "cell_type": "markdown",
   "metadata": {
    "slideshow": {
     "slide_type": "slide"
    }
   },
   "source": [
    "## Strategy #1\n",
    "\n",
    "1. Sort the table in ascending order using `.sort_values(by='ADJUSTED_SALARY')`\n",
    "2. Get the name of the person using `.index[2]` (remember starts at 0)\n",
    "3. Use `.get('TEAM').loc[their_name]` to get their team name.\n",
    "\n"
   ]
  },
  {
   "cell_type": "code",
   "execution_count": 90,
   "metadata": {},
   "outputs": [
    {
     "data": {
      "text/html": [
       "<div>\n",
       "<style scoped>\n",
       "    .dataframe tbody tr th:only-of-type {\n",
       "        vertical-align: middle;\n",
       "    }\n",
       "\n",
       "    .dataframe tbody tr th {\n",
       "        vertical-align: top;\n",
       "    }\n",
       "\n",
       "    .dataframe thead th {\n",
       "        text-align: right;\n",
       "    }\n",
       "</style>\n",
       "<table border=\"1\" class=\"dataframe\">\n",
       "  <thead>\n",
       "    <tr style=\"text-align: right;\">\n",
       "      <th></th>\n",
       "      <th>POSITION</th>\n",
       "      <th>TEAM</th>\n",
       "      <th>2015_SALARY</th>\n",
       "      <th>ADJUSTED_SALARY</th>\n",
       "    </tr>\n",
       "    <tr>\n",
       "      <th>PLAYER</th>\n",
       "      <th></th>\n",
       "      <th></th>\n",
       "      <th></th>\n",
       "      <th></th>\n",
       "    </tr>\n",
       "  </thead>\n",
       "  <tbody>\n",
       "    <tr>\n",
       "      <th>Thanasis Antetokounmpo</th>\n",
       "      <td>SF</td>\n",
       "      <td>New York Knicks</td>\n",
       "      <td>0.030888</td>\n",
       "      <td>0.033668</td>\n",
       "    </tr>\n",
       "    <tr>\n",
       "      <th>Cory Jefferson</th>\n",
       "      <td>PF</td>\n",
       "      <td>Phoenix Suns</td>\n",
       "      <td>0.049709</td>\n",
       "      <td>0.054183</td>\n",
       "    </tr>\n",
       "    <tr>\n",
       "      <th>Jordan McRae</th>\n",
       "      <td>SG</td>\n",
       "      <td>Phoenix Suns</td>\n",
       "      <td>0.049709</td>\n",
       "      <td>0.054183</td>\n",
       "    </tr>\n",
       "    <tr>\n",
       "      <th>Orlando Johnson</th>\n",
       "      <td>SG</td>\n",
       "      <td>Phoenix Suns</td>\n",
       "      <td>0.055722</td>\n",
       "      <td>0.060737</td>\n",
       "    </tr>\n",
       "    <tr>\n",
       "      <th>Phil Pressey</th>\n",
       "      <td>PG</td>\n",
       "      <td>Phoenix Suns</td>\n",
       "      <td>0.055722</td>\n",
       "      <td>0.060737</td>\n",
       "    </tr>\n",
       "    <tr>\n",
       "      <th>...</th>\n",
       "      <td>...</td>\n",
       "      <td>...</td>\n",
       "      <td>...</td>\n",
       "      <td>...</td>\n",
       "    </tr>\n",
       "    <tr>\n",
       "      <th>Dwight Howard</th>\n",
       "      <td>C</td>\n",
       "      <td>Houston Rockets</td>\n",
       "      <td>22.359364</td>\n",
       "      <td>24.371707</td>\n",
       "    </tr>\n",
       "    <tr>\n",
       "      <th>Carmelo Anthony</th>\n",
       "      <td>SF</td>\n",
       "      <td>New York Knicks</td>\n",
       "      <td>22.875000</td>\n",
       "      <td>24.933750</td>\n",
       "    </tr>\n",
       "    <tr>\n",
       "      <th>LeBron James</th>\n",
       "      <td>SF</td>\n",
       "      <td>Cleveland Cavaliers</td>\n",
       "      <td>22.970500</td>\n",
       "      <td>25.037845</td>\n",
       "    </tr>\n",
       "    <tr>\n",
       "      <th>Joe Johnson</th>\n",
       "      <td>SF</td>\n",
       "      <td>Brooklyn Nets</td>\n",
       "      <td>24.894863</td>\n",
       "      <td>27.135401</td>\n",
       "    </tr>\n",
       "    <tr>\n",
       "      <th>Kobe Bryant</th>\n",
       "      <td>SF</td>\n",
       "      <td>Los Angeles Lakers</td>\n",
       "      <td>25.000000</td>\n",
       "      <td>27.250000</td>\n",
       "    </tr>\n",
       "  </tbody>\n",
       "</table>\n",
       "<p>417 rows × 4 columns</p>\n",
       "</div>"
      ],
      "text/plain": [
       "                       POSITION                 TEAM  2015_SALARY  \\\n",
       "PLAYER                                                              \n",
       "Thanasis Antetokounmpo       SF      New York Knicks     0.030888   \n",
       "Cory Jefferson               PF         Phoenix Suns     0.049709   \n",
       "Jordan McRae                 SG         Phoenix Suns     0.049709   \n",
       "Orlando Johnson              SG         Phoenix Suns     0.055722   \n",
       "Phil Pressey                 PG         Phoenix Suns     0.055722   \n",
       "...                         ...                  ...          ...   \n",
       "Dwight Howard                 C      Houston Rockets    22.359364   \n",
       "Carmelo Anthony              SF      New York Knicks    22.875000   \n",
       "LeBron James                 SF  Cleveland Cavaliers    22.970500   \n",
       "Joe Johnson                  SF        Brooklyn Nets    24.894863   \n",
       "Kobe Bryant                  SF   Los Angeles Lakers    25.000000   \n",
       "\n",
       "                        ADJUSTED_SALARY  \n",
       "PLAYER                                   \n",
       "Thanasis Antetokounmpo         0.033668  \n",
       "Cory Jefferson                 0.054183  \n",
       "Jordan McRae                   0.054183  \n",
       "Orlando Johnson                0.060737  \n",
       "Phil Pressey                   0.060737  \n",
       "...                                 ...  \n",
       "Dwight Howard                 24.371707  \n",
       "Carmelo Anthony               24.933750  \n",
       "LeBron James                  25.037845  \n",
       "Joe Johnson                   27.135401  \n",
       "Kobe Bryant                   27.250000  \n",
       "\n",
       "[417 rows x 4 columns]"
      ]
     },
     "execution_count": 90,
     "metadata": {},
     "output_type": "execute_result"
    }
   ],
   "source": [
    "lowest_salaries = adjusted_salaries.sort_values(by='ADJUSTED_SALARY')\n",
    "lowest_salaries"
   ]
  },
  {
   "cell_type": "code",
   "execution_count": 91,
   "metadata": {},
   "outputs": [
    {
     "data": {
      "text/plain": [
       "'Jordan McRae'"
      ]
     },
     "execution_count": 91,
     "metadata": {},
     "output_type": "execute_result"
    }
   ],
   "source": [
    "name = lowest_salaries.index[2]\n",
    "name"
   ]
  },
  {
   "cell_type": "code",
   "execution_count": 92,
   "metadata": {},
   "outputs": [
    {
     "data": {
      "text/plain": [
       "'Phoenix Suns'"
      ]
     },
     "execution_count": 92,
     "metadata": {},
     "output_type": "execute_result"
    }
   ],
   "source": [
    "lowest_salaries.get('TEAM').loc[name]"
   ]
  },
  {
   "cell_type": "markdown",
   "metadata": {
    "slideshow": {
     "slide_type": "slide"
    }
   },
   "source": [
    "## Another Approach\n",
    "\n",
    "- To get the third element using `.loc[]`, we first had to find its label.\n",
    "- Can we just get the 3rd element without knowing the label?\n",
    "- Yes, with `.iloc[]`:"
   ]
  },
  {
   "cell_type": "code",
   "execution_count": 93,
   "metadata": {},
   "outputs": [
    {
     "data": {
      "text/plain": [
       "PLAYER\n",
       "Thanasis Antetokounmpo        New York Knicks\n",
       "Cory Jefferson                   Phoenix Suns\n",
       "Jordan McRae                     Phoenix Suns\n",
       "Orlando Johnson                  Phoenix Suns\n",
       "Phil Pressey                     Phoenix Suns\n",
       "                                 ...         \n",
       "Dwight Howard                 Houston Rockets\n",
       "Carmelo Anthony               New York Knicks\n",
       "LeBron James              Cleveland Cavaliers\n",
       "Joe Johnson                     Brooklyn Nets\n",
       "Kobe Bryant                Los Angeles Lakers\n",
       "Name: TEAM, Length: 417, dtype: object"
      ]
     },
     "execution_count": 93,
     "metadata": {},
     "output_type": "execute_result"
    }
   ],
   "source": [
    "lowest_salaries.get('TEAM')"
   ]
  },
  {
   "cell_type": "code",
   "execution_count": 94,
   "metadata": {},
   "outputs": [
    {
     "data": {
      "text/plain": [
       "'Phoenix Suns'"
      ]
     },
     "execution_count": 94,
     "metadata": {},
     "output_type": "execute_result"
    }
   ],
   "source": [
    "lowest_salaries.get('TEAM').loc['Jordan McRae']"
   ]
  },
  {
   "cell_type": "code",
   "execution_count": 95,
   "metadata": {},
   "outputs": [
    {
     "data": {
      "text/plain": [
       "'Phoenix Suns'"
      ]
     },
     "execution_count": 95,
     "metadata": {},
     "output_type": "execute_result"
    }
   ],
   "source": [
    "lowest_salaries.get('TEAM').iloc[2]"
   ]
  },
  {
   "cell_type": "markdown",
   "metadata": {
    "slideshow": {
     "slide_type": "slide"
    }
   },
   "source": [
    "## Strategy #2\n",
    "\n",
    "1. Sort the table in ascending order using `.sort_values(by='ADJUSTED_SALARY')`, as before.\n",
    "2. Use `.get('TEAM').iloc[2]` to get their team name."
   ]
  },
  {
   "cell_type": "code",
   "execution_count": 96,
   "metadata": {},
   "outputs": [
    {
     "data": {
      "text/plain": [
       "'Phoenix Suns'"
      ]
     },
     "execution_count": 96,
     "metadata": {},
     "output_type": "execute_result"
    }
   ],
   "source": [
    "adjusted_salaries.sort_values(by='ADJUSTED_SALARY').get('TEAM').iloc[2]"
   ]
  },
  {
   "cell_type": "markdown",
   "metadata": {
    "slideshow": {
     "slide_type": "slide"
    }
   },
   "source": [
    "## Summary of accessing a Series\n",
    "\n",
    "- There are two ways to get an element of a series:\n",
    "    - `.loc[]` uses the row label\n",
    "    - `.iloc[]` uses the integer position\n",
    "- Usually `.loc` is more convenient"
   ]
  },
  {
   "cell_type": "markdown",
   "metadata": {
    "slideshow": {
     "slide_type": "slide"
    }
   },
   "source": [
    "## Note\n",
    "\n",
    "- Sometimes the integer position and row label are the same\n",
    "- This happens by default with `bpd.read_csv`:"
   ]
  },
  {
   "cell_type": "code",
   "execution_count": 97,
   "metadata": {},
   "outputs": [
    {
     "data": {
      "text/html": [
       "<div>\n",
       "<style scoped>\n",
       "    .dataframe tbody tr th:only-of-type {\n",
       "        vertical-align: middle;\n",
       "    }\n",
       "\n",
       "    .dataframe tbody tr th {\n",
       "        vertical-align: top;\n",
       "    }\n",
       "\n",
       "    .dataframe thead th {\n",
       "        text-align: right;\n",
       "    }\n",
       "</style>\n",
       "<table border=\"1\" class=\"dataframe\">\n",
       "  <thead>\n",
       "    <tr style=\"text-align: right;\">\n",
       "      <th></th>\n",
       "      <th>PLAYER</th>\n",
       "      <th>POSITION</th>\n",
       "      <th>TEAM</th>\n",
       "      <th>2015_SALARY</th>\n",
       "    </tr>\n",
       "  </thead>\n",
       "  <tbody>\n",
       "    <tr>\n",
       "      <th>0</th>\n",
       "      <td>Paul Millsap</td>\n",
       "      <td>PF</td>\n",
       "      <td>Atlanta Hawks</td>\n",
       "      <td>18.671659</td>\n",
       "    </tr>\n",
       "    <tr>\n",
       "      <th>1</th>\n",
       "      <td>Al Horford</td>\n",
       "      <td>C</td>\n",
       "      <td>Atlanta Hawks</td>\n",
       "      <td>12.000000</td>\n",
       "    </tr>\n",
       "    <tr>\n",
       "      <th>2</th>\n",
       "      <td>Tiago Splitter</td>\n",
       "      <td>C</td>\n",
       "      <td>Atlanta Hawks</td>\n",
       "      <td>9.756250</td>\n",
       "    </tr>\n",
       "    <tr>\n",
       "      <th>3</th>\n",
       "      <td>Jeff Teague</td>\n",
       "      <td>PG</td>\n",
       "      <td>Atlanta Hawks</td>\n",
       "      <td>8.000000</td>\n",
       "    </tr>\n",
       "    <tr>\n",
       "      <th>4</th>\n",
       "      <td>Kyle Korver</td>\n",
       "      <td>SG</td>\n",
       "      <td>Atlanta Hawks</td>\n",
       "      <td>5.746479</td>\n",
       "    </tr>\n",
       "    <tr>\n",
       "      <th>...</th>\n",
       "      <td>...</td>\n",
       "      <td>...</td>\n",
       "      <td>...</td>\n",
       "      <td>...</td>\n",
       "    </tr>\n",
       "    <tr>\n",
       "      <th>412</th>\n",
       "      <td>Gary Neal</td>\n",
       "      <td>PG</td>\n",
       "      <td>Washington Wizards</td>\n",
       "      <td>2.139000</td>\n",
       "    </tr>\n",
       "    <tr>\n",
       "      <th>413</th>\n",
       "      <td>DeJuan Blair</td>\n",
       "      <td>C</td>\n",
       "      <td>Washington Wizards</td>\n",
       "      <td>2.000000</td>\n",
       "    </tr>\n",
       "    <tr>\n",
       "      <th>414</th>\n",
       "      <td>Kelly Oubre Jr.</td>\n",
       "      <td>SF</td>\n",
       "      <td>Washington Wizards</td>\n",
       "      <td>1.920240</td>\n",
       "    </tr>\n",
       "    <tr>\n",
       "      <th>415</th>\n",
       "      <td>Garrett Temple</td>\n",
       "      <td>SG</td>\n",
       "      <td>Washington Wizards</td>\n",
       "      <td>1.100602</td>\n",
       "    </tr>\n",
       "    <tr>\n",
       "      <th>416</th>\n",
       "      <td>Jarell Eddie</td>\n",
       "      <td>SG</td>\n",
       "      <td>Washington Wizards</td>\n",
       "      <td>0.561716</td>\n",
       "    </tr>\n",
       "  </tbody>\n",
       "</table>\n",
       "<p>417 rows × 4 columns</p>\n",
       "</div>"
      ],
      "text/plain": [
       "              PLAYER POSITION                TEAM  2015_SALARY\n",
       "0       Paul Millsap       PF       Atlanta Hawks    18.671659\n",
       "1         Al Horford        C       Atlanta Hawks    12.000000\n",
       "2     Tiago Splitter        C       Atlanta Hawks     9.756250\n",
       "3        Jeff Teague       PG       Atlanta Hawks     8.000000\n",
       "4        Kyle Korver       SG       Atlanta Hawks     5.746479\n",
       "..               ...      ...                 ...          ...\n",
       "412        Gary Neal       PG  Washington Wizards     2.139000\n",
       "413     DeJuan Blair        C  Washington Wizards     2.000000\n",
       "414  Kelly Oubre Jr.       SF  Washington Wizards     1.920240\n",
       "415   Garrett Temple       SG  Washington Wizards     1.100602\n",
       "416     Jarell Eddie       SG  Washington Wizards     0.561716\n",
       "\n",
       "[417 rows x 4 columns]"
      ]
     },
     "execution_count": 97,
     "metadata": {},
     "output_type": "execute_result"
    }
   ],
   "source": [
    "bpd.read_csv('data/nba_salaries.csv')"
   ]
  },
  {
   "cell_type": "code",
   "execution_count": 98,
   "metadata": {},
   "outputs": [
    {
     "data": {
      "text/plain": [
       "'Jeff Teague'"
      ]
     },
     "execution_count": 98,
     "metadata": {},
     "output_type": "execute_result"
    }
   ],
   "source": [
    "bpd.read_csv('data/nba_salaries.csv').get('PLAYER').loc[3]"
   ]
  },
  {
   "cell_type": "code",
   "execution_count": 99,
   "metadata": {},
   "outputs": [
    {
     "data": {
      "text/plain": [
       "'Jeff Teague'"
      ]
     },
     "execution_count": 99,
     "metadata": {},
     "output_type": "execute_result"
    }
   ],
   "source": [
    "bpd.read_csv('data/nba_salaries.csv').get('PLAYER').iloc[3]"
   ]
  },
  {
   "cell_type": "markdown",
   "metadata": {
    "slideshow": {
     "slide_type": "slide"
    }
   },
   "source": [
    "# More Questions\n",
    "\n",
    "- What is the total payroll of the Cleveland Cavaliers?\n",
    "- How many players make over 10 million?\n",
    "- Who is the highest paid center (C)?"
   ]
  }
 ],
 "metadata": {
  "celltoolbar": "Slideshow",
  "kernelspec": {
   "display_name": "Python 3",
   "language": "python",
   "name": "python3"
  },
  "language_info": {
   "codemirror_mode": {
    "name": "ipython",
    "version": 3
   },
   "file_extension": ".py",
   "mimetype": "text/x-python",
   "name": "python",
   "nbconvert_exporter": "python",
   "pygments_lexer": "ipython3",
   "version": "3.7.6"
  }
 },
 "nbformat": 4,
 "nbformat_minor": 2
}
