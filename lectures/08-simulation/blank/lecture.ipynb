{
 "cells": [
  {
   "cell_type": "code",
   "execution_count": 1,
   "metadata": {},
   "outputs": [],
   "source": [
    "#: the usual suspects\n",
    "import babypandas as bpd\n",
    "import numpy as np\n",
    "\n",
    "%matplotlib inline\n",
    "import matplotlib.pyplot as plt\n",
    "plt.style.use('fivethirtyeight')"
   ]
  },
  {
   "cell_type": "markdown",
   "metadata": {
    "slideshow": {
     "slide_type": "slide"
    }
   },
   "source": [
    "# Probability and Simulation"
   ]
  },
  {
   "cell_type": "markdown",
   "metadata": {
    "slideshow": {
     "slide_type": "slide"
    }
   },
   "source": [
    "### Swain vs. Alabama, 1965\n",
    "* Talladega County, Alabama\n",
    "* Robert Swain, black man convicted of crime\n",
    "* Appeal: one factor was all-white jury\n",
    "* Only men 21 years or older were allowed to serve\n",
    "* 26% of this population were black\n",
    "* Swain’s jury panel consisted of 100 men\n",
    "* 8 men on the panel were black\n"
   ]
  },
  {
   "cell_type": "markdown",
   "metadata": {
    "slideshow": {
     "slide_type": "slide"
    }
   },
   "source": [
    "### Supreme Court Ruling\n",
    "\n",
    "* About disparities between the percentages in the eligible population and the jury panel, the Supreme Court wrote:\n",
    "\n",
    "> \"... the overall percentage disparity has been small and reflects no studied attempt to include or exclude a specified number of Negroes”\n",
    "\n",
    "* The Supreme Court denied Robert Swain’s appeal\n",
    "* What's the probability that the disparity was due to chance?\n",
    "* If it's small, something is up."
   ]
  },
  {
   "cell_type": "markdown",
   "metadata": {
    "slideshow": {
     "slide_type": "slide"
    }
   },
   "source": [
    "## Probability Theory\n",
    "\n",
    "- Some things in life *seem* random. E.g., coin flip.\n",
    "- The *probability* of seeing \"Heads\" is 50%.\n",
    "- Probability: if we flipped coin infinitely many times, the 50% of outcomes would be heads."
   ]
  },
  {
   "cell_type": "markdown",
   "metadata": {
    "slideshow": {
     "slide_type": "slide"
    }
   },
   "source": [
    "## Terminology\n",
    "\n",
    "- **Experiment**: The thing whose result is random.\n",
    "    - e.g., rolling a die.\n",
    "    - e.g., flipping a coin twice.\n",
    "- **Outcome**: The result of an experiment.\n",
    "    - e.g., the possible outcomes of rolling a 6-sided die are 1, 2, 3, 4, 5, 6\n",
    "    - e.g., the possible outcomes of flipping a coin twice are HH, HT, TH, TT\n",
    "- **Event**: A set of outcomes.\n",
    "    - e.g., the event that the die lands on a even number is the collection of outcomes {2, 4, 6}.\n",
    "    - e.g., the event that there was at least one head in two flips: {HH, HT, TH}"
   ]
  },
  {
   "cell_type": "markdown",
   "metadata": {
    "slideshow": {
     "slide_type": "slide"
    }
   },
   "source": [
    "## Terminology\n",
    "\n",
    "- **Probability**: A number between 0 and 1 which describes likelihood of event.\n",
    "    - 1 if that event always happens\n",
    "    - 0 if that event never happens\n",
    "    - Notation: if $X$ is an event, $P(X)$ is the probability of the event."
   ]
  },
  {
   "cell_type": "markdown",
   "metadata": {
    "slideshow": {
     "slide_type": "slide"
    }
   },
   "source": [
    "## Equally-likely outcomes\n",
    "\n",
    "- If all outcomes are equally likely, computing probabilities is done by counting:\n",
    "\n",
    "$$\n",
    "P(A) = \\frac{\n",
    "    \\text{# of outcomes that make $A$ happen}\n",
    "}{\n",
    "    \\text{total # of outcomes}\n",
    "}\n",
    "$$"
   ]
  },
  {
   "cell_type": "markdown",
   "metadata": {
    "slideshow": {
     "slide_type": "slide"
    }
   },
   "source": [
    "## Discussion question\n",
    "\n",
    "I have three cards: red, blue, and green. What is the chance that I choose a card at random, and it is green, then -- without putting it back -- I choose another card at random and it is red?\n",
    "\n",
    "- A) 1/9\n",
    "- B) 1/6\n",
    "- C) 1/3\n",
    "- D) 2/3\n",
    "- E) None of the above."
   ]
  },
  {
   "cell_type": "markdown",
   "metadata": {
    "slideshow": {
     "slide_type": "slide"
    }
   },
   "source": [
    "## Discussion question solved\n",
    "\n",
    "- The possible outcomes are: RG, RB, GR, GB, BR, BG.\n",
    "- The outcomes are equally-likely.\n",
    "- There is only one outcome which makes the event happen: GR.\n",
    "- Hence the probability is $1/6$."
   ]
  },
  {
   "cell_type": "markdown",
   "metadata": {
    "slideshow": {
     "slide_type": "slide"
    }
   },
   "source": [
    "## Conditional probabilities\n",
    "\n",
    "- Two events $A$ and $B$ can both happen.\n",
    "    - e.g.: $A$ is event \"roll is 3 or less\", $B$ is event \"roll is even\"\n",
    "- Suppose that we know $A$ has happened, but we don't know if $B$ has.\n",
    "- The conditional probability of $B$ given $A$ is:\n",
    "\n",
    "$$\n",
    "P(B \\text{ given } A)\n",
    "= \\frac{\n",
    "    \\text{# of outcomes satisfying both $A$ and $B$}\n",
    "}{\n",
    "    \\text{# of outcomes satisfying $A$}\n",
    "}\n",
    "$$"
   ]
  },
  {
   "cell_type": "markdown",
   "metadata": {
    "slideshow": {
     "slide_type": "slide"
    }
   },
   "source": [
    "## Discussion question\n",
    "\n",
    "$$\n",
    "P(B \\text{ given } A)\n",
    "= \\frac{\n",
    "    \\text{# of outcomes satisfying both $A$ and $B$}\n",
    "}{\n",
    "    \\text{# of outcomes satisfying $A$}\n",
    "}\n",
    "$$\n",
    "\n",
    "I roll a six-sided die and don't tell you what the result is, but I tell you that it is less than or equal to three. What is the probability that the result is even?\n",
    "\n",
    "- A) 1/2\n",
    "- B) 1/3\n",
    "- C) 1/4\n",
    "- D) None of the above."
   ]
  },
  {
   "cell_type": "markdown",
   "metadata": {
    "slideshow": {
     "slide_type": "slide"
    }
   },
   "source": [
    "## Discussion problem solved\n",
    "\n",
    "$$\n",
    "P(B \\text{ given } A)\n",
    "= \\frac{\n",
    "    \\text{# of outcomes satisfying both $A$ and $B$}\n",
    "}{\n",
    "    \\text{# of outcomes satisfying $A$}\n",
    "}\n",
    "$$\n",
    "\n",
    "- There are three outcomes where the roll is three or less: 1, 2, 3\n",
    "- There are is only one outcome where both $A$ and $B$ happen: 2\n",
    "- So $P(B \\text{ given } A) = 1/ 3$"
   ]
  },
  {
   "cell_type": "markdown",
   "metadata": {
    "slideshow": {
     "slide_type": "slide"
    }
   },
   "source": [
    "## Probability that two events both happen\n",
    "\n",
    "$$\n",
    "P(A \\text{ and } B) = \\frac{\n",
    "    \\text{# of outcomes satisfying $A$ and $B$ both}\n",
    "}{\n",
    "    \\text{total # of outcomes}\n",
    "}\n",
    "$$\n",
    "\n",
    "What is the probability that the roll is even and $\\leq$ three?\n",
    "\n",
    "- Only 1 outcome satisfies: rolling a two.\n",
    "- Six total outcomes.\n",
    "- Probability is $1/6$."
   ]
  },
  {
   "cell_type": "markdown",
   "metadata": {
    "slideshow": {
     "slide_type": "slide"
    }
   },
   "source": [
    "## Probability that two events both happen: equivalent formula\n",
    "\n",
    "$$\n",
    "    P(A \\text{ and } B)\n",
    "    =\n",
    "    P(A \\text{ given } B) \\cdot P(B)\n",
    "$$\n",
    "\n",
    "What is the probability that the roll is even and $\\leq$ three?\n",
    "\n",
    "- We saw probability of even given $\\leq$ three: 1/3\n",
    "- Probability of $\\leq 1/3$ is 1/2.\n",
    "- Probability is $1/3 \\cdot 1/2 = 1/6$."
   ]
  },
  {
   "cell_type": "markdown",
   "metadata": {
    "slideshow": {
     "slide_type": "slide"
    }
   },
   "source": [
    "## What if $B$ isn't affected by $A$?\n",
    "\n",
    "- We have found that $P(A \\text{ and } B) = P(A \\text{ given } B)\\cdot P(B)$.\n",
    "- Sometimes $P(A \\text{ given } B) = P(A)$. Then $P(A \\text{ and } B) = P(A) \\cdot P(B)$\n",
    "- Example: Suppose we flip a fair coin three times.\n",
    "    - The probability that the second flip is heads doesn't depend on the result of the first flip.\n",
    "- What is the probability of getting tails three times in a row?\n",
    "    - $1/2 \\cdot 1/2 \\cdot 1/2 = 1/8$"
   ]
  },
  {
   "cell_type": "markdown",
   "metadata": {
    "slideshow": {
     "slide_type": "slide"
    }
   },
   "source": [
    "## Probability of either of two events happening\n",
    "\n",
    "$$\n",
    "P(A \\text{ or } B) = \\frac{\n",
    "    \\text{# of outcomes satisfying either $A$ or $B$}\n",
    "    }{\n",
    "    \\text{total # of outcomes}\n",
    "    }\n",
    "$$"
   ]
  },
  {
   "cell_type": "markdown",
   "metadata": {
    "slideshow": {
     "slide_type": "slide"
    }
   },
   "source": [
    "## Mutual exclusivity\n",
    "\n",
    "- Suppose that if $A$ happens, then $B$ doesn't, and if $B$ happens then $A$ doesn't.\n",
    "- Then the # of outcomes satisfying either A or B is just:\n",
    "$$\n",
    "    (\\text{# of outcomes satisfying $A$})\n",
    "    +\n",
    "    (\\text{# of outcomes satisfying $B$})\n",
    "$$\n",
    "- So **if** $A$ and $B$ are mutually exclusive:\n",
    "\n",
    "$$\n",
    "\\begin{align*}\n",
    "    P(A \\text{ or } B) \n",
    "    &= \\frac{\n",
    "        \\text{# of outcomes satisfying either $A$ or $B$}\n",
    "        }{\n",
    "        \\text{total # of outcomes}\n",
    "        }\n",
    "        \\\\[1em]\n",
    "    &= \\frac{\n",
    "            (\\text{# of outcomes satisfying $A$})\n",
    "            +\n",
    "            (\\text{# of outcomes satisfying $B$})\n",
    "        }{\n",
    "        \\text{total # of outcomes}\n",
    "        }\n",
    "        \\\\[1em]\n",
    "    &= \\frac{\n",
    "            (\\text{# of outcomes satisfying $A$})\n",
    "        }{\n",
    "        \\text{total # of outcomes}\n",
    "        }\n",
    "        +\n",
    "        \\frac{\n",
    "            (\\text{# of outcomes satisfying $B$})\n",
    "        }{\n",
    "        \\text{total # of outcomes}\n",
    "        }\n",
    "    \\\\[1em]\n",
    "    &= P(A) + P(B)\n",
    "\\end{align*}\n",
    "$$"
   ]
  },
  {
   "cell_type": "markdown",
   "metadata": {
    "slideshow": {
     "slide_type": "slide"
    }
   },
   "source": [
    "## Probability that an event *doesn't* happen\n",
    "\n",
    "- The probability that $A$ doesn't happen is just $1 - P(A)$.\n",
    "- Example:\n",
    "    - If the probability of a sunny day is 0.85, then the probability of a non-sunny day is 0.15."
   ]
  },
  {
   "cell_type": "markdown",
   "metadata": {
    "slideshow": {
     "slide_type": "slide"
    }
   },
   "source": [
    "## Discussion question\n",
    "\n",
    "Every time I call my grandma, the probability that she answers her phone is 1/3. If I call my grandma three times today, what is the chance that I will talk to her at least once?\n",
    "\n",
    "- A) 1/3\n",
    "- B) 2/3\n",
    "- C) 1/2\n",
    "- D) 1\n",
    "- E) None of the above."
   ]
  },
  {
   "cell_type": "markdown",
   "metadata": {
    "slideshow": {
     "slide_type": "slide"
    }
   },
   "source": [
    "## Discussion question solved\n",
    "\n",
    "- We calculate the probability that she doesn't answer her phone in three tries.\n",
    "- $2/3 \\cdot 2/3 \\cdot 2/3 = 8/27$.\n",
    "- But we want the probability of her answering *at least* once. So we subtract this from one.\n",
    "- $1 - 8/27 = 19/27$; none of the above!"
   ]
  },
  {
   "cell_type": "markdown",
   "metadata": {
    "slideshow": {
     "slide_type": "slide"
    }
   },
   "source": [
    "# Simulation\n",
    "\n",
    "## Finding probabilities with computers"
   ]
  },
  {
   "cell_type": "markdown",
   "metadata": {
    "slideshow": {
     "slide_type": "slide"
    }
   },
   "source": [
    "## Simulation\n",
    "\n",
    "- What is the probability of getting 60 or more heads if I flip 100 coins?\n",
    "- Approximation through simulation:\n",
    "    1. Figure out how to do one experiment (i.e., flip 100 coins).\n",
    "    2. Run the experiment a bunch of times.\n",
    "    3. Find the fraction of times where number of heads >= 60."
   ]
  },
  {
   "cell_type": "markdown",
   "metadata": {
    "slideshow": {
     "slide_type": "slide"
    }
   },
   "source": [
    "## Making a random choice (e.g., flipping a coin)\n",
    "\n",
    "- `np.random.choice(options)`\n",
    "- Return a random element."
   ]
  },
  {
   "cell_type": "code",
   "execution_count": 2,
   "metadata": {},
   "outputs": [],
   "source": [
    "# simulate a coin flip\n",
    "np.random.choice(['Heads', 'Tails'])"
   ]
  },
  {
   "cell_type": "markdown",
   "metadata": {
    "slideshow": {
     "slide_type": "slide"
    }
   },
   "source": [
    "## Making multiple random choices\n",
    "\n",
    "- `np.random.choice(options, n)`"
   ]
  },
  {
   "cell_type": "code",
   "execution_count": 3,
   "metadata": {},
   "outputs": [],
   "source": [
    "#: simulate 10 coin flips\n",
    "np.random.choice(['Heads', 'Tails'], 10)"
   ]
  },
  {
   "cell_type": "markdown",
   "metadata": {
    "slideshow": {
     "slide_type": "slide"
    }
   },
   "source": [
    "## Replacement vs. without replacement\n",
    "\n",
    "- By default, this selects *with* replacement.\n",
    "- That is, after making selection, that option is still available.\n",
    "- If an option can only be selected once, select *without* replacement."
   ]
  },
  {
   "cell_type": "code",
   "execution_count": 4,
   "metadata": {},
   "outputs": [],
   "source": [
    "#: make a random team, without replacement\n",
    "people = ['Winona', 'Xanthippe', 'Yvonne', 'Zelda']\n",
    "np.random.choice(people, 3, replace=False)"
   ]
  },
  {
   "cell_type": "markdown",
   "metadata": {
    "slideshow": {
     "slide_type": "slide"
    }
   },
   "source": [
    "# Simulation"
   ]
  },
  {
   "cell_type": "markdown",
   "metadata": {
    "slideshow": {
     "slide_type": "slide"
    }
   },
   "source": [
    "## Flipping coins\n",
    "\n",
    "- What is the probability of getting 60 or more heads if I flip 100 coins?\n",
    "- Approximation through simulation:\n",
    "    1. Figure out how to do one experiment (i.e., flip 100 coins).\n",
    "    2. Run the experiment a bunch of times.\n",
    "    3. Find the fraction of times where number of heads >= 60."
   ]
  },
  {
   "cell_type": "markdown",
   "metadata": {
    "slideshow": {
     "slide_type": "slide"
    }
   },
   "source": [
    "## Running the experiment once...\n",
    "\n",
    "- Use `np.random.choice` to flip 100 coins\n",
    "- Use `np.count_nonzero` to count number of heads.\n",
    "    - Counts number of entries which are `True`."
   ]
  },
  {
   "cell_type": "code",
   "execution_count": 5,
   "metadata": {},
   "outputs": [],
   "source": [
    "coins = np.random.choice(['Heads', 'Tails'], 100)\n",
    "coins"
   ]
  },
  {
   "cell_type": "code",
   "execution_count": 6,
   "metadata": {},
   "outputs": [],
   "source": [
    "coins == 'Heads'"
   ]
  },
  {
   "cell_type": "markdown",
   "metadata": {
    "slideshow": {
     "slide_type": "slide"
    }
   },
   "source": [
    "## Put it into a function\n",
    "\n",
    "Make it easier to run the experiment again."
   ]
  },
  {
   "cell_type": "code",
   "execution_count": 7,
   "metadata": {},
   "outputs": [],
   "source": [
    "def coin_experiment():\n",
    "    coins = np.random.choice(['Heads', 'Tails'], 100)\n",
    "    return np.count_nonzero(coins == 'Heads')"
   ]
  },
  {
   "cell_type": "code",
   "execution_count": 8,
   "metadata": {},
   "outputs": [],
   "source": [
    "coin_experiment()"
   ]
  },
  {
   "cell_type": "markdown",
   "metadata": {
    "slideshow": {
     "slide_type": "slide"
    }
   },
   "source": [
    "## Repeating the experiment\n",
    "\n",
    "- We can repeat this process many times by using a `for`-loop\n",
    "- Need to store the results in an array... use `np.append`!"
   ]
  },
  {
   "cell_type": "code",
   "execution_count": 9,
   "metadata": {},
   "outputs": [],
   "source": [
    "# make head_counts array\n",
    "n_repetitions = 10000\n",
    "\n",
    "head_counts = np.array([])\n",
    "\n",
    "for i in np.arange(n_repetitions):\n",
    "    head_count = coin_experiment()\n",
    "    head_counts = np.append(head_counts, head_count)"
   ]
  },
  {
   "cell_type": "code",
   "execution_count": 10,
   "metadata": {},
   "outputs": [],
   "source": [
    "# in how many trials was the number of heads >= 60?\n",
    "at_least_60 = np.count_nonzero(head_counts >= 60)\n",
    "at_least_60"
   ]
  },
  {
   "cell_type": "code",
   "execution_count": 11,
   "metadata": {},
   "outputs": [],
   "source": [
    "# what is this as a proportion?\n",
    "at_least_60 / n_repetitions"
   ]
  },
  {
   "cell_type": "markdown",
   "metadata": {
    "slideshow": {
     "slide_type": "slide"
    }
   },
   "source": [
    "## Visualizing the distribution"
   ]
  },
  {
   "cell_type": "code",
   "execution_count": 12,
   "metadata": {},
   "outputs": [],
   "source": [
    "#: visualize distribution of trial results\n",
    "bpd.DataFrame().assign(\n",
    "    Number_of_Heads=head_counts\n",
    ").plot(kind='hist', bins=np.arange(30.5,70), density=True)\n",
    "# plt.axvline(60, color='C1')"
   ]
  },
  {
   "cell_type": "markdown",
   "metadata": {
    "slideshow": {
     "slide_type": "slide"
    }
   },
   "source": [
    "## The \"Monty Hall\" Problem\n",
    "\n",
    "<img src=\"data/monty_1.svg\" width=75% />"
   ]
  },
  {
   "cell_type": "markdown",
   "metadata": {},
   "source": [
    "<img src=\"data/monty_2.svg\" width=75% />"
   ]
  },
  {
   "cell_type": "markdown",
   "metadata": {},
   "source": [
    "<img src=\"data/monty_3.svg\" width=75% />"
   ]
  },
  {
   "cell_type": "markdown",
   "metadata": {
    "slideshow": {
     "slide_type": "slide"
    }
   },
   "source": [
    "## Discussion question\n",
    "\n",
    "- You originally selected door #2.\n",
    "- The host reveals door #3 to have a goat behind it.\n",
    "- You should:\n",
    "\n",
    "    - A) keep with door number #2; it has just as high a chance of winning as door #1.\n",
    "    - B) switch to door number #1; it has a higher chance of winning than door #2."
   ]
  },
  {
   "cell_type": "markdown",
   "metadata": {
    "slideshow": {
     "slide_type": "slide"
    }
   },
   "source": [
    "## Let's see\n",
    "\n",
    "- We'll compute:\n",
    "    - probability of winning if we switch.\n",
    "    - probability of winning if we stay.\n",
    "        - it's just 1 - (probability of winning if we switch)\n",
    "- Whichever strategy has higher probability of winning is best."
   ]
  },
  {
   "cell_type": "markdown",
   "metadata": {
    "slideshow": {
     "slide_type": "slide"
    }
   },
   "source": [
    "# Simulate\n",
    "\n",
    "- *Simulate* the Monty Hall problem many times to *estimate* probability.\n",
    "\n",
    "    1. Figure out how to simulate one game of Monty Hall.\n",
    "    2. Play a bunch of games.\n",
    "    3. Count the proportion of wins for each strategy (stay or switch)."
   ]
  },
  {
   "cell_type": "markdown",
   "metadata": {
    "slideshow": {
     "slide_type": "slide"
    }
   },
   "source": [
    "## 1) Simulate a single game\n",
    "\n",
    "When a contestant picks their door, there are three equally-likely outcomes:\n",
    "\n",
    "1. Goat #1\n",
    "2. Goat #2\n",
    "3. Car"
   ]
  },
  {
   "cell_type": "code",
   "execution_count": 13,
   "metadata": {},
   "outputs": [],
   "source": [
    "behind_picked_door = np.random.choice(['Car', 'Goat 1', 'Goat 2'])\n",
    "behind_picked_door"
   ]
  },
  {
   "cell_type": "markdown",
   "metadata": {
    "slideshow": {
     "slide_type": "slide"
    }
   },
   "source": [
    "## 1) Simulate a single game\n",
    "\n",
    "Suppose we can see what is behind their door (but the contestant can't).\n",
    "\n",
    "- If it is a car, they will win if they stay.\n",
    "- If it is a goat, they will win if they switch."
   ]
  },
  {
   "cell_type": "markdown",
   "metadata": {
    "slideshow": {
     "slide_type": "slide"
    }
   },
   "source": [
    "## 1) Simulate a single game\n"
   ]
  },
  {
   "cell_type": "code",
   "execution_count": 14,
   "metadata": {},
   "outputs": [],
   "source": [
    "#- determine winning_strategy ('Stay' or 'Switch') based on what is behind_picked_door\n",
    "if behind_picked_door == 'Car':\n",
    "    winning_strategy = 'Stay'\n",
    "else:\n",
    "    # a goat was behind the picked door.\n",
    "    # Monty will reveal the other goat. \n",
    "    # Switching wins:\n",
    "    winning_strategy = 'Switch'"
   ]
  },
  {
   "cell_type": "markdown",
   "metadata": {
    "slideshow": {
     "slide_type": "slide"
    }
   },
   "source": [
    "## 1) Simulate a single game\n",
    "\n",
    "Turn it into a function to make it easier to repeat:"
   ]
  },
  {
   "cell_type": "code",
   "execution_count": 15,
   "metadata": {},
   "outputs": [],
   "source": [
    "def simulate_monty_hall():\n",
    "    behind_picked_door = np.random.choice(['Car', 'Goat 1', 'Goat 2'])\n",
    "    \n",
    "    if behind_picked_door == 'Car':\n",
    "        winning_strategy = 'Stay'\n",
    "    else:\n",
    "        winning_strategy = 'Switch'\n",
    "        \n",
    "    print(behind_picked_door, 'was behind the door. Winning strategy:', winning_strategy)\n",
    "    return winning_strategy"
   ]
  },
  {
   "cell_type": "code",
   "execution_count": 16,
   "metadata": {},
   "outputs": [],
   "source": [
    "simulate_monty_hall()"
   ]
  },
  {
   "cell_type": "markdown",
   "metadata": {
    "slideshow": {
     "slide_type": "slide"
    }
   },
   "source": [
    "## 2) Play a bunch of times"
   ]
  },
  {
   "cell_type": "code",
   "execution_count": 17,
   "metadata": {},
   "outputs": [],
   "source": [
    "n_repetitions = 100\n",
    "\n",
    "for i in np.arange(n_repetitions):\n",
    "    simulate_monty_hall()"
   ]
  },
  {
   "cell_type": "markdown",
   "metadata": {
    "slideshow": {
     "slide_type": "slide"
    }
   },
   "source": [
    "## 2) Play a bunch of times\n",
    "\n",
    "We should save the winning strategies. Use `np.append`:"
   ]
  },
  {
   "cell_type": "code",
   "execution_count": 18,
   "metadata": {},
   "outputs": [],
   "source": [
    "#: many simulations\n",
    "\n",
    "n_repetitions = 10000\n",
    "\n",
    "winning_strategies = np.array([])\n",
    "for i in np.arange(n_repetitions):\n",
    "    winning_strategy = simulate_monty_hall()\n",
    "    winning_strategies = np.append(winning_strategies, winning_strategy)"
   ]
  },
  {
   "cell_type": "markdown",
   "metadata": {},
   "source": [
    "## 3) Count the proportion of wins for each strategy (stay or switch)."
   ]
  },
  {
   "cell_type": "code",
   "execution_count": 19,
   "metadata": {},
   "outputs": [],
   "source": [
    "winning_strategies"
   ]
  },
  {
   "cell_type": "code",
   "execution_count": 20,
   "metadata": {},
   "outputs": [],
   "source": [
    "np.count_nonzero(winning_strategies == 'Switch')"
   ]
  },
  {
   "cell_type": "code",
   "execution_count": 21,
   "metadata": {},
   "outputs": [],
   "source": [
    "np.count_nonzero(winning_strategies == 'Switch') / n_repetitions"
   ]
  },
  {
   "cell_type": "markdown",
   "metadata": {
    "slideshow": {
     "slide_type": "slide"
    }
   },
   "source": [
    "## Marilyn vos Savant's column\n",
    "\n",
    "\n",
    "<div style=\"display: flex; margin-top: .5in\">\n",
    "<div style=\"width: 45%;\">\n",
    "    <ul>\n",
    "        <li>vos Savant asked the question in <i>Parade</i> magazine.</li>\n",
    "        <li>She stated the correct answer: <i>switch</i>.</li>\n",
    "        <li>Received over 10,000 letters in disagreement.</li>\n",
    "        <li>Over 1,000 letters from people with Ph.D.s</li>\n",
    "    </ul>\n",
    "</div>\n",
    "<div style=\"width: 50%;\">\n",
    "    <img src=\"data/vos_savant.jpg\" width=75%>\n",
    "</div>\n",
    "</div>\n"
   ]
  },
  {
   "cell_type": "markdown",
   "metadata": {
    "slideshow": {
     "slide_type": "slide"
    }
   },
   "source": [
    "# Simulation Summary\n",
    "\n",
    "1. Make a function that runs the experiment once.\n",
    "2. Run that function a bunch of times with a `for`-loop, save results in an array with `np.append`.\n",
    "3. Count how many times an outcome occurs with `np.count_nonzero`."
   ]
  }
 ],
 "metadata": {
  "celltoolbar": "Slideshow",
  "kernelspec": {
   "display_name": "Python 3",
   "language": "python",
   "name": "python3"
  },
  "language_info": {
   "codemirror_mode": {
    "name": "ipython",
    "version": 3
   },
   "file_extension": ".py",
   "mimetype": "text/x-python",
   "name": "python",
   "nbconvert_exporter": "python",
   "pygments_lexer": "ipython3",
   "version": "3.7.6"
  },
  "livereveal": {
   "scroll": true,
   "transition": "none"
  }
 },
 "nbformat": 4,
 "nbformat_minor": 2
}
