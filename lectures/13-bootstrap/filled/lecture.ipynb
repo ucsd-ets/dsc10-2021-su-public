{
 "cells": [
  {
   "cell_type": "code",
   "execution_count": null,
   "metadata": {},
   "outputs": [],
   "source": [
    "#: the usual imports\n",
    "import babypandas as bpd\n",
    "import numpy as np\n",
    "import sys\n",
    "sys.path.append('./data')\n",
    "\n",
    "%matplotlib inline\n",
    "import matplotlib.pyplot as plt\n",
    "import warnings; warnings.simplefilter('ignore')\n",
    "\n",
    "plt.style.use('fivethirtyeight')"
   ]
  },
  {
   "cell_type": "markdown",
   "metadata": {
    "slideshow": {
     "slide_type": "slide"
    }
   },
   "source": [
    "# Lecture 13\n",
    "\n",
    "### The Bootstrap and Confidence Intervals"
   ]
  },
  {
   "cell_type": "markdown",
   "metadata": {
    "slideshow": {
     "slide_type": "slide"
    }
   },
   "source": [
    "## Question\n",
    "\n",
    "- What is the median salary of San Diego city employees?\n",
    "- All city employee salary data is public."
   ]
  },
  {
   "cell_type": "code",
   "execution_count": null,
   "metadata": {},
   "outputs": [],
   "source": [
    "#: read in the data\n",
    "population = bpd.read_csv('data/salaries.csv')\n",
    "population"
   ]
  },
  {
   "cell_type": "markdown",
   "metadata": {},
   "source": [
    "## Only need the total pay..."
   ]
  },
  {
   "cell_type": "code",
   "execution_count": null,
   "metadata": {},
   "outputs": [],
   "source": [
    "population = population.get(['Total Pay'])\n",
    "population"
   ]
  },
  {
   "cell_type": "markdown",
   "metadata": {
    "slideshow": {
     "slide_type": "slide"
    }
   },
   "source": [
    "## The median salary\n",
    "\n",
    "- We can use `.median()`:"
   ]
  },
  {
   "cell_type": "code",
   "execution_count": null,
   "metadata": {},
   "outputs": [],
   "source": [
    "#...population_median\n",
    "# the median of the \"Total Pay\" column\n",
    "population_median = population.get('Total Pay').median()\n",
    "population_median"
   ]
  },
  {
   "cell_type": "markdown",
   "metadata": {
    "slideshow": {
     "slide_type": "slide"
    }
   },
   "source": [
    "## But now...\n",
    "\n",
    "- ...suppose we don't have access to this data.\n",
    "- It is costly and time-consuming to survey *all* 11,000+ employees.\n",
    "- So we gather salaries for a random sample of, say, 500 people.\n",
    "- Hope the median of the sample $\\approx$ median of the population."
   ]
  },
  {
   "cell_type": "markdown",
   "metadata": {
    "slideshow": {
     "slide_type": "slide"
    }
   },
   "source": [
    "## In the language of statistics...\n",
    "\n",
    "- The full table of salaries is the **population**.\n",
    "- We observe a **sample** of 500 salaries from the population.\n",
    "- We really want the population median, but we don't have the whole population.\n",
    "- So we compute sample median as an **estimate**.\n",
    "- Hopefully the sample median is close to the population median."
   ]
  },
  {
   "cell_type": "markdown",
   "metadata": {
    "slideshow": {
     "slide_type": "slide"
    }
   },
   "source": [
    "## The sample median\n",
    "\n",
    "- Let's survey 500 employees at random.\n",
    "- We can use `.sample()`:"
   ]
  },
  {
   "cell_type": "code",
   "execution_count": null,
   "metadata": {},
   "outputs": [],
   "source": [
    "#: take a sample of size 500\n",
    "sample = population.sample(500, replace=False)"
   ]
  },
  {
   "cell_type": "code",
   "execution_count": null,
   "metadata": {},
   "outputs": [],
   "source": [
    "#: compute the sample median\n",
    "sample_median = sample.get('Total Pay').median()\n",
    "sample_median"
   ]
  },
  {
   "cell_type": "markdown",
   "metadata": {
    "slideshow": {
     "slide_type": "slide"
    }
   },
   "source": [
    "## How confident are we?\n",
    "\n",
    "- Our estimate depended on a random sample.\n",
    "- If our sample was different, our estimate would've been different, too.\n",
    "- **How different could the estimate have been?**\n",
    "- Our confidence in the estimate depends on the answer."
   ]
  },
  {
   "cell_type": "markdown",
   "metadata": {
    "slideshow": {
     "slide_type": "slide"
    }
   },
   "source": [
    "## The sample median is random\n",
    "\n",
    "- The sample median is a random number.\n",
    "- It comes from some distribution, which we don't know.\n",
    "- How different could the estimate have been?\n",
    "    - \"Narrow\" distribution $\\Rightarrow$ not too different\n",
    "    - \"Wide\" distribution $\\Rightarrow$ quite different\n",
    "- **What is the distribution of the sample median?**"
   ]
  },
  {
   "cell_type": "markdown",
   "metadata": {
    "slideshow": {
     "slide_type": "slide"
    }
   },
   "source": [
    "## A (costly) approach\n",
    "\n",
    "- Every sample of 500 people gives me one observation of the sample median.\n",
    "- So draw a bunch of samples, compute medians."
   ]
  },
  {
   "cell_type": "code",
   "execution_count": null,
   "metadata": {},
   "outputs": [],
   "source": [
    "#: imports for animation\n",
    "from lecture import sampling_animation\n",
    "from IPython.display import HTML"
   ]
  },
  {
   "cell_type": "code",
   "execution_count": null,
   "metadata": {},
   "outputs": [],
   "source": [
    "%%capture\n",
    "anim, sample_medians = sampling_animation(population)"
   ]
  },
  {
   "cell_type": "code",
   "execution_count": null,
   "metadata": {},
   "outputs": [],
   "source": [
    "#: display animation\n",
    "HTML(anim.to_jshtml())"
   ]
  },
  {
   "cell_type": "markdown",
   "metadata": {
    "slideshow": {
     "slide_type": "slide"
    }
   },
   "source": [
    "## Visualize the distribution\n",
    "\n",
    "- We can plot the distribution of the sample median with a histogram.\n",
    "- This is an approximation using 128 samples.\n",
    "- Sample median is usually in [62,000, 70,000]."
   ]
  },
  {
   "cell_type": "code",
   "execution_count": null,
   "metadata": {},
   "outputs": [],
   "source": [
    "#: plot a histogram\n",
    "bpd.DataFrame().assign(SampleMedians=sample_medians).plot(kind='hist', bins=15, density=True)"
   ]
  },
  {
   "cell_type": "markdown",
   "metadata": {
    "slideshow": {
     "slide_type": "slide"
    }
   },
   "source": [
    "## The problem\n",
    "\n",
    "- Drawing new samples like this is costly (why not just do a census?)\n",
    "- Often, we can't ask for new samples from the population.\n",
    "- What about sampling the sample?\n",
    "- The **bootstrap**:\n",
    "    - the sample itself looks like the distribution.\n",
    "    - so re-sampling from the sample is like drawing from the distribution."
   ]
  },
  {
   "cell_type": "code",
   "execution_count": null,
   "metadata": {},
   "outputs": [],
   "source": [
    "fig, ax = plt.subplots()\n",
    "bins=np.arange(10_000, 300_000, 10_000)\n",
    "population.plot(kind='hist', y='Total Pay', ax=ax, density=True, alpha=.75, bins=bins)\n",
    "sample.plot(kind='hist', y='Total Pay', ax=ax, density=True, alpha=.75, bins=bins)\n",
    "plt.legend(['Population', 'Sample'])"
   ]
  },
  {
   "cell_type": "markdown",
   "metadata": {
    "slideshow": {
     "slide_type": "slide"
    }
   },
   "source": [
    "## The bootstrap\n",
    "\n",
    "- We have a sample of 500 salaries, we want another.\n",
    "- Can't draw from the population.\n",
    "- But the original sample looks like the population.\n",
    "- So we re-sample the sample."
   ]
  },
  {
   "cell_type": "markdown",
   "metadata": {
    "slideshow": {
     "slide_type": "slide"
    }
   },
   "source": [
    "## Discussion question\n",
    "\n",
    "Which of these effectively resamples the sample, simulating the drawing of a new sample of 500 people?\n",
    "\n",
    "- A) `np.random.choice(sample, 500, replace=True)`\n",
    "- B) `np.random.choice(sample, 500, replace=False)`\n",
    "- C) `sample.sample(sample.shape[0], replace=True)`\n",
    "- D) `sample.sample(sample.shape[0], replace=False)`"
   ]
  },
  {
   "cell_type": "markdown",
   "metadata": {
    "slideshow": {
     "slide_type": "slide"
    }
   },
   "source": [
    "## Answer\n",
    "\n",
    "- If we sample without replacement, we're just shuffling.\n",
    "- So we sample *with* replacement to get something new."
   ]
  },
  {
   "cell_type": "markdown",
   "metadata": {
    "slideshow": {
     "slide_type": "slide"
    }
   },
   "source": [
    "## Running the bootstrap\n",
    "\n",
    "- Now we can simulate new samples by bootstrapping\n",
    "- I.e., we sample with replacement from our original sample"
   ]
  },
  {
   "cell_type": "code",
   "execution_count": null,
   "metadata": {},
   "outputs": [],
   "source": [
    "n_resamples = 5000\n",
    "\n",
    "boot_medians = np.array([])\n",
    "for i in range(n_resamples):\n",
    "    # perform bootstrap resampling\n",
    "    resample = sample.sample(500, replace=True)\n",
    "    \n",
    "    # compute the median\n",
    "    median = resample.get('Total Pay').median()\n",
    "    \n",
    "    # tack it on to our list of medians\n",
    "    boot_medians = np.append(boot_medians, median)"
   ]
  },
  {
   "cell_type": "markdown",
   "metadata": {
    "slideshow": {
     "slide_type": "slide"
    }
   },
   "source": [
    "## Bootstrap distribution of the sample median\n",
    "\n",
    "- Bulk of the time, the sample median is typically in [60,000, 70,000].\n",
    "- Similar to what we found before.\n",
    "- The population median (red dot) is near the middle."
   ]
  },
  {
   "cell_type": "code",
   "execution_count": null,
   "metadata": {},
   "outputs": [],
   "source": [
    "#: visualize\n",
    "bpd.DataFrame().assign(BootstrapMedians=boot_medians).plot(kind='hist')\n",
    "plt.scatter(population_median, 0, color='red', s=80).set_zorder(2)"
   ]
  },
  {
   "cell_type": "markdown",
   "metadata": {
    "slideshow": {
     "slide_type": "slide"
    }
   },
   "source": [
    "## Bootstrap rules of thumb\n",
    "\n",
    "- The bootstrap is an awesome tool:\n",
    "    - We used just one sample to get the (approximate) distribution of the sample median.\n",
    "- But it has limitations:\n",
    "    - Not good for sensitive statistics, like maximum.\n",
    "    - Requires sample to be good approximation of population.\n",
    "    - Works best when population is roughly bell-shaped.\n",
    "    - Can be slow (recommend 10,000+ bootstrap samples)"
   ]
  },
  {
   "cell_type": "markdown",
   "metadata": {
    "slideshow": {
     "slide_type": "slide"
    }
   },
   "source": [
    "## Example: boostrapping in the German aircraft problem\n",
    "\n",
    "- We observe a random sample of 30 planes.\n",
    "- Our goal: estimate total # of planes from serial numbers of 30 planes."
   ]
  },
  {
   "cell_type": "code",
   "execution_count": null,
   "metadata": {},
   "outputs": [],
   "source": [
    "#: we don't know this, but there are actually 400 planes in total\n",
    "plane_population = bpd.DataFrame().assign(SerialNumber=np.arange(400))"
   ]
  },
  {
   "cell_type": "code",
   "execution_count": null,
   "metadata": {},
   "outputs": [],
   "source": [
    "#: sample 30 tanks\n",
    "np.random.seed(4242)\n",
    "plane_sample = plane_population.sample(30, replace=False)"
   ]
  },
  {
   "cell_type": "markdown",
   "metadata": {
    "slideshow": {
     "slide_type": "slide"
    }
   },
   "source": [
    "## Running the bootstrap\n",
    "\n",
    "- We want to estimate the maximum number in the population\n",
    "- Our estimator will be the max in the sample.\n",
    "- We run the bootstrap:"
   ]
  },
  {
   "cell_type": "code",
   "execution_count": null,
   "metadata": {},
   "outputs": [],
   "source": [
    "n_resamples = 5000\n",
    "\n",
    "boot_maxes = np.array([])\n",
    "for i in range(n_resamples):\n",
    "    # resample\n",
    "    resample = plane_sample.sample(plane_sample.shape[0], replace=True)\n",
    "    \n",
    "    # compute max\n",
    "    boot_max = resample.get('SerialNumber').max()\n",
    "    \n",
    "    boot_maxes = np.append(boot_maxes, boot_max)"
   ]
  },
  {
   "cell_type": "markdown",
   "metadata": {
    "slideshow": {
     "slide_type": "slide"
    }
   },
   "source": [
    "## Visualize\n",
    "\n",
    "- The bootstrap distribution doesn't surround the right maximum of 399."
   ]
  },
  {
   "cell_type": "code",
   "execution_count": null,
   "metadata": {},
   "outputs": [],
   "source": [
    "bpd.DataFrame().assign(BootstrapMax=boot_maxes).plot(kind='hist', bins=20)\n",
    "plt.scatter(399, 0, color='red')"
   ]
  },
  {
   "cell_type": "markdown",
   "metadata": {
    "slideshow": {
     "slide_type": "slide"
    }
   },
   "source": [
    "# Confidence intervals"
   ]
  },
  {
   "cell_type": "markdown",
   "metadata": {},
   "source": [
    "## Confidence intervals\n",
    "\n",
    "- Bootstrapping approximates the distribution of an estimate\n",
    "- The true value typically lies within bulk of the distribution\n",
    "- Rather than returning only a single number, we can give an interval that we are confident that the correct value lies within"
   ]
  },
  {
   "cell_type": "markdown",
   "metadata": {
    "slideshow": {
     "slide_type": "slide"
    }
   },
   "source": [
    "## A 95% confidence interval for median salary\n",
    "\n",
    "- Recall our bootstrap distribution of the sample median\n",
    "- Suppose by \"bulk\", we mean containing the middle 95% of the area."
   ]
  },
  {
   "cell_type": "code",
   "execution_count": null,
   "metadata": {},
   "outputs": [],
   "source": [
    "#: visualize\n",
    "bpd.DataFrame().assign(BootstrapMedians=boot_medians).plot(kind='hist')"
   ]
  },
  {
   "cell_type": "markdown",
   "metadata": {
    "slideshow": {
     "slide_type": "slide"
    }
   },
   "source": [
    "## Finding the endpoints\n",
    "\n",
    "- We want to find two points, $x$ and $y$, such that the area:\n",
    "    - to the left of $x$ is about 2.5%\n",
    "    - to the right of $y$ is about 2.5%\n",
    "- Then the interval $[x,y]$ will have about 95% of the total area\n",
    "- I.e., we want the 2.5th **percentile** and 97.5th **percentile**."
   ]
  },
  {
   "cell_type": "code",
   "execution_count": null,
   "metadata": {},
   "outputs": [],
   "source": [
    "np.percentile"
   ]
  },
  {
   "cell_type": "markdown",
   "metadata": {
    "slideshow": {
     "slide_type": "slide"
    }
   },
   "source": [
    "## Computing percentiles\n",
    "\n",
    "- Use `np.percentile(array, percentile)` function:\n",
    "    - First arg: array of values\n",
    "    - Second arg: percentile to find as # in [0, 100]"
   ]
  },
  {
   "cell_type": "code",
   "execution_count": null,
   "metadata": {},
   "outputs": [],
   "source": [
    "# left\n",
    "left = np.percentile(boot_medians, 2.5)\n",
    "left"
   ]
  },
  {
   "cell_type": "code",
   "execution_count": null,
   "metadata": {},
   "outputs": [],
   "source": [
    "# right\n",
    "right = np.percentile(boot_medians, 97.5)\n",
    "right"
   ]
  },
  {
   "cell_type": "code",
   "execution_count": null,
   "metadata": {},
   "outputs": [],
   "source": [
    "#: our interval is\n",
    "[left, right]"
   ]
  },
  {
   "cell_type": "markdown",
   "metadata": {
    "slideshow": {
     "slide_type": "slide"
    }
   },
   "source": [
    "## Visualizing our 95% confidence interval\n",
    "\n",
    "- Let's draw the interval on the histogram.\n",
    "- 95% of the bootstrap medians fell into this interval."
   ]
  },
  {
   "cell_type": "code",
   "execution_count": null,
   "metadata": {},
   "outputs": [],
   "source": [
    "#: visualize\n",
    "bpd.DataFrame().assign(BootstrapMedians=boot_medians).plot(kind='hist')\n",
    "plt.plot([left, right], [0, 0], color='lime', linewidth=10)"
   ]
  },
  {
   "cell_type": "markdown",
   "metadata": {
    "slideshow": {
     "slide_type": "slide"
    }
   },
   "source": [
    "## Discussion question\n",
    "\n",
    "Would an 80% confidence interval be bigger, smaller, or the same size?\n",
    "\n",
    "- A) Bigger\n",
    "- B) Smaller\n",
    "- C) The same size"
   ]
  },
  {
   "cell_type": "markdown",
   "metadata": {
    "slideshow": {
     "slide_type": "slide"
    }
   },
   "source": [
    "## Discussion Question\n",
    "\n",
    "Suppose you had the true distribution of the sample median and used it to compute a 100% confidence interval. And suppose you compute a 100% confidence interval using the bootstrap. Which is bigger?\n",
    "\n",
    "- A) The first confidence interval (from the true distribution).\n",
    "- B) The second confidence interval (from the boostrap).\n",
    "- C) They're the same size."
   ]
  },
  {
   "cell_type": "markdown",
   "metadata": {
    "slideshow": {
     "slide_type": "slide"
    }
   },
   "source": [
    "## Interpreting confidence intervals\n",
    "\n",
    "- 95% of our bootstrap medians fell within this interval\n",
    "- We're pretty confident that the true median does, too.\n",
    "- How confident should we be about this?"
   ]
  },
  {
   "cell_type": "markdown",
   "metadata": {
    "slideshow": {
     "slide_type": "slide"
    }
   },
   "source": [
    "## Capturing the correct value\n",
    "\n",
    "- If we run the bootstrap again, we get a different distribution.\n",
    "- And so we get a different 95% confidence interval.\n",
    "- (Roughly) 95% of the time, the interval will capture the correct median."
   ]
  },
  {
   "cell_type": "markdown",
   "metadata": {
    "slideshow": {
     "slide_type": "slide"
    }
   },
   "source": [
    "## Interpreting confidence intervals\n",
    "\n",
    "- Doesn't have to be for same experiment!\n",
    "- Suppose you only ever make 95% confidence intervals.\n",
    "- Then roughly 95% of the CIs you make in your life will contain the true value of the thing being estimated."
   ]
  },
  {
   "cell_type": "markdown",
   "metadata": {
    "slideshow": {
     "slide_type": "slide"
    }
   },
   "source": [
    "## Misinterpreting confidence intervals\n",
    "\n",
    "- A 95% confidence interval has a 95% chance of containing the true value of the thing being estimated.\n",
    "- The interval is random, not the thing being estimated!"
   ]
  },
  {
   "cell_type": "markdown",
   "metadata": {
    "slideshow": {
     "slide_type": "slide"
    }
   },
   "source": [
    "## Misinterpreting confidence intervals\n",
    "\n",
    "- Our 95% confidence interval for the median salary was:"
   ]
  },
  {
   "cell_type": "code",
   "execution_count": null,
   "metadata": {},
   "outputs": [],
   "source": [
    "#: remember...\n",
    "[left, right]"
   ]
  },
  {
   "cell_type": "markdown",
   "metadata": {},
   "source": [
    "- This does not mean that 95% of salaries are in this range!"
   ]
  },
  {
   "cell_type": "markdown",
   "metadata": {
    "slideshow": {
     "slide_type": "slide"
    }
   },
   "source": [
    "## Example: Estimating proportions\n",
    "\n",
    "- Can use the bootstrap to get confidence intervals on other things.\n",
    "- Such as: proportions."
   ]
  },
  {
   "cell_type": "code",
   "execution_count": null,
   "metadata": {},
   "outputs": [],
   "source": [
    "import pandas as pd"
   ]
  },
  {
   "cell_type": "code",
   "execution_count": null,
   "metadata": {},
   "outputs": [],
   "source": [
    "this_section = bpd.read_csv('data/eldridge-2020.csv')\n",
    "this_section"
   ]
  },
  {
   "cell_type": "markdown",
   "metadata": {
    "slideshow": {
     "slide_type": "slide"
    }
   },
   "source": [
    "## Discussion Question\n",
    "\n",
    "What is the most popular college in this section?\n",
    "\n",
    "- A) Sixth\n",
    "- B) Warren\n",
    "- C) Revelle\n",
    "- D) Marshall"
   ]
  },
  {
   "cell_type": "markdown",
   "metadata": {
    "slideshow": {
     "slide_type": "slide"
    }
   },
   "source": [
    "## Answer"
   ]
  },
  {
   "cell_type": "code",
   "execution_count": null,
   "metadata": {
    "slideshow": {
     "slide_type": ""
    }
   },
   "outputs": [],
   "source": [
    "this_section.groupby('College').count().sort_values('Major', ascending=False)"
   ]
  },
  {
   "cell_type": "markdown",
   "metadata": {
    "slideshow": {
     "slide_type": "slide"
    }
   },
   "source": [
    "## Estimation\n",
    "\n",
    "- The proportion of students in Warren is...\n",
    "- This is an *estimate* of the proportion in the population.\n",
    "- But what is the population?"
   ]
  },
  {
   "cell_type": "code",
   "execution_count": null,
   "metadata": {},
   "outputs": [],
   "source": [
    "proportion = this_section[this_section.get('College') == 'WA'].shape[0] / this_section.shape[0]\n",
    "proportion"
   ]
  },
  {
   "cell_type": "markdown",
   "metadata": {
    "slideshow": {
     "slide_type": "slide"
    }
   },
   "source": [
    "## Bootstrapped confidence interval\n",
    "\n",
    "- Let's bootstrap a 95% CI for the proportion"
   ]
  },
  {
   "cell_type": "code",
   "execution_count": null,
   "metadata": {},
   "outputs": [],
   "source": [
    "#: run the bootstrap\n",
    "n_resamples = 5000\n",
    "\n",
    "boot_props = np.array([])\n",
    "for i in range(n_resamples):\n",
    "    resampled = this_section.sample(this_section.shape[0], replace=True)\n",
    "    boot_prop = resampled[resampled.get('College') == 'WA'].shape[0] / resampled.shape[0]\n",
    "    boot_props = np.append(boot_props, boot_prop)"
   ]
  },
  {
   "cell_type": "markdown",
   "metadata": {
    "slideshow": {
     "slide_type": "slide"
    }
   },
   "source": [
    "## Visualizing the distribution"
   ]
  },
  {
   "cell_type": "code",
   "execution_count": null,
   "metadata": {},
   "outputs": [],
   "source": [
    "#: visualize\n",
    "bpd.DataFrame().assign(BootstrapProportions=boot_props).plot(kind='hist', bins=20)\n",
    "plt.scatter(proportion, 0, color='red', s=40).set_zorder(2)"
   ]
  },
  {
   "cell_type": "markdown",
   "metadata": {},
   "source": [
    "## Computing the confidence interval"
   ]
  },
  {
   "cell_type": "code",
   "execution_count": null,
   "metadata": {},
   "outputs": [],
   "source": [
    "#: left endpoint\n",
    "left = np.percentile(boot_props, 2.5)\n",
    "left"
   ]
  },
  {
   "cell_type": "code",
   "execution_count": null,
   "metadata": {},
   "outputs": [],
   "source": [
    "#: right endpoint\n",
    "right = np.percentile(boot_props, 97.5)\n",
    "right"
   ]
  },
  {
   "cell_type": "code",
   "execution_count": null,
   "metadata": {},
   "outputs": [],
   "source": [
    "#: the interval\n",
    "[left, right]"
   ]
  },
  {
   "cell_type": "markdown",
   "metadata": {
    "slideshow": {
     "slide_type": "slide"
    }
   },
   "source": [
    "## Visualizing the confidence interval"
   ]
  },
  {
   "cell_type": "code",
   "execution_count": null,
   "metadata": {},
   "outputs": [],
   "source": [
    "#: visualize\n",
    "bpd.DataFrame().assign(BootstrapProportions=boot_props).plot(kind='hist', bins=20)\n",
    "plt.scatter(proportion, 0, color='red', s=40).set_zorder(10)\n",
    "plt.plot([left, right], [0, 0], color='lime', zorder=3)"
   ]
  },
  {
   "cell_type": "markdown",
   "metadata": {
    "slideshow": {
     "slide_type": "slide"
    }
   },
   "source": [
    "## My class in FA18\n",
    "\n",
    "- If last year's class was drawn from same population, its proportion is likely to be in this interval.\n",
    "- Why? The interval was made by simulating draws from the population."
   ]
  },
  {
   "cell_type": "code",
   "execution_count": null,
   "metadata": {},
   "outputs": [],
   "source": [
    "#: compute proportion in Warren for other section\n",
    "other_section = bpd.read_csv('data/eldridge-2018.csv')\n",
    "other_proportion = other_section[other_section.get('College') == 'WA'].shape[0] / other_section.shape[0]\n",
    "other_proportion"
   ]
  },
  {
   "cell_type": "code",
   "execution_count": null,
   "metadata": {},
   "outputs": [],
   "source": [
    "#: remember the interval\n",
    "[left, right]"
   ]
  },
  {
   "cell_type": "markdown",
   "metadata": {
    "slideshow": {
     "slide_type": "slide"
    }
   },
   "source": [
    "## Are they from the same distribution?\n",
    "\n",
    "- A/B test!\n",
    "- New columns:\n",
    "    - \"Warren\": True/False, if in Warren.\n",
    "    - \"Section\": 'This' or 'Other'"
   ]
  },
  {
   "cell_type": "code",
   "execution_count": null,
   "metadata": {},
   "outputs": [],
   "source": [
    "#: adding columns...\n",
    "this_section_in_warren = this_section.assign(\n",
    "    Warren=this_section.get('College') == 'WA',\n",
    "    Section=['This']*this_section.shape[0]\n",
    ")\n",
    "\n",
    "other_section_in_warren = other_section.assign(\n",
    "    Warren=other_section.get('College') == 'WA',\n",
    "    Section=['Other']*other_section.shape[0]\n",
    ")"
   ]
  },
  {
   "cell_type": "markdown",
   "metadata": {
    "slideshow": {
     "slide_type": "slide"
    }
   },
   "source": [
    "## Combine the sections"
   ]
  },
  {
   "cell_type": "code",
   "execution_count": null,
   "metadata": {},
   "outputs": [],
   "source": [
    "#: combine the sections\n",
    "combined = this_section_in_warren.append(other_section_in_warren)\n",
    "combined = combined.get(['Warren', 'Section'])\n",
    "combined"
   ]
  },
  {
   "cell_type": "markdown",
   "metadata": {
    "slideshow": {
     "slide_type": "slide"
    }
   },
   "source": [
    "## Statistic\n",
    "\n",
    "- The difference between the group proportions"
   ]
  },
  {
   "cell_type": "code",
   "execution_count": null,
   "metadata": {},
   "outputs": [],
   "source": [
    "#: the difference in proportion between groups\n",
    "def statistic(combined):\n",
    "    group_proportions = combined.groupby('Section').mean().get('Warren')\n",
    "    return abs(group_proportions.loc['This'] - group_proportions.loc['Other'])"
   ]
  },
  {
   "cell_type": "markdown",
   "metadata": {
    "slideshow": {
     "slide_type": "slide"
    }
   },
   "source": [
    "## Permutation test"
   ]
  },
  {
   "cell_type": "code",
   "execution_count": null,
   "metadata": {},
   "outputs": [],
   "source": [
    "#: permutation test\n",
    "n_shuffles = 500\n",
    "\n",
    "differences = np.array([])\n",
    "for i in range(n_shuffles):\n",
    "    shuffled_sections = np.random.permutation(combined.get('Section'))\n",
    "    shuffled = combined.assign(Section=shuffled_sections)\n",
    "    difference = statistic(shuffled)\n",
    "    differences = np.append(differences, difference)"
   ]
  },
  {
   "cell_type": "markdown",
   "metadata": {
    "slideshow": {
     "slide_type": "slide"
    }
   },
   "source": [
    "## Visualize"
   ]
  },
  {
   "cell_type": "code",
   "execution_count": null,
   "metadata": {},
   "outputs": [],
   "source": [
    "#: visualize\n",
    "bpd.DataFrame().assign(Differences=differences).plot(kind='hist')\n",
    "plt.scatter(statistic(combined), 0, color='red', s=40).set_zorder(2)"
   ]
  },
  {
   "cell_type": "markdown",
   "metadata": {
    "slideshow": {
     "slide_type": "slide"
    }
   },
   "source": [
    "## Calculate a p-value"
   ]
  },
  {
   "cell_type": "code",
   "execution_count": null,
   "metadata": {},
   "outputs": [],
   "source": [
    "#: the p-value\n",
    "np.count_nonzero(differences >= statistic(combined)) / len(differences)"
   ]
  }
 ],
 "metadata": {
  "celltoolbar": "Slideshow",
  "kernelspec": {
   "display_name": "Python 3",
   "language": "python",
   "name": "python3"
  },
  "language_info": {
   "codemirror_mode": {
    "name": "ipython",
    "version": 3
   },
   "file_extension": ".py",
   "mimetype": "text/x-python",
   "name": "python",
   "nbconvert_exporter": "python",
   "pygments_lexer": "ipython3",
   "version": "3.7.6"
  },
  "livereveal": {
   "scroll": true,
   "transition": "none"
  }
 },
 "nbformat": 4,
 "nbformat_minor": 2
}
