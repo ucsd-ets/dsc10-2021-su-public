{
 "cells": [
  {
   "cell_type": "code",
   "execution_count": 1,
   "metadata": {},
   "outputs": [],
   "source": [
    "#: the usual imports\n",
    "import babypandas as bpd\n",
    "import numpy as np\n",
    "\n",
    "%matplotlib inline\n",
    "import matplotlib.pyplot as plt\n",
    "import warnings; warnings.simplefilter('ignore')\n",
    "\n",
    "plt.style.use('fivethirtyeight')"
   ]
  },
  {
   "cell_type": "markdown",
   "metadata": {
    "slideshow": {
     "slide_type": "slide"
    }
   },
   "source": [
    "# Lecture 16\n",
    "\n",
    "### The Normal Curve"
   ]
  },
  {
   "cell_type": "code",
   "execution_count": 2,
   "metadata": {
    "slideshow": {
     "slide_type": "slide"
    }
   },
   "outputs": [],
   "source": [
    "#: data set of height/weight of 5000 adult males\n",
    "height_and_weight = bpd.read_csv('data/height_and_weight.csv')\n",
    "height_and_weight"
   ]
  },
  {
   "cell_type": "markdown",
   "metadata": {
    "slideshow": {
     "slide_type": "slide"
    }
   },
   "source": [
    "## Distribution of heights"
   ]
  },
  {
   "cell_type": "code",
   "execution_count": 3,
   "metadata": {},
   "outputs": [],
   "source": [
    "#: height histogram\n",
    "defaults = dict(bins=20, linewidth=0, density=True, alpha=.8)\n",
    "plt.hist(height_and_weight.get('Height'), **defaults);"
   ]
  },
  {
   "cell_type": "markdown",
   "metadata": {
    "slideshow": {
     "slide_type": "slide"
    }
   },
   "source": [
    "## Distribution of weights"
   ]
  },
  {
   "cell_type": "code",
   "execution_count": 4,
   "metadata": {},
   "outputs": [],
   "source": [
    "#: weight histogram\n",
    "plt.hist(height_and_weight.get('Weight'), color='C1', **defaults);"
   ]
  },
  {
   "cell_type": "markdown",
   "metadata": {
    "slideshow": {
     "slide_type": "slide"
    }
   },
   "source": [
    "## A familiar shape\n",
    "\n",
    "- We've seen this bell-like shape frequently.\n",
    "- These bells are different in two key aspects: center and spread."
   ]
  },
  {
   "cell_type": "code",
   "execution_count": 5,
   "metadata": {},
   "outputs": [],
   "source": [
    "#: draw histograms on same scale\n",
    "defaults = dict(bins=20, linewidth=0, density=True, alpha=.8)\n",
    "plt.hist(height_and_weight.get('Height'), label='Height', **defaults);\n",
    "plt.hist(height_and_weight.get('Weight'), label='Weight', **defaults);\n",
    "plt.legend(loc='upper right')"
   ]
  },
  {
   "cell_type": "markdown",
   "metadata": {
    "slideshow": {
     "slide_type": "slide"
    }
   },
   "source": [
    "## Centering\n",
    "\n",
    "- Subtracting the mean centers distribution"
   ]
  },
  {
   "cell_type": "code",
   "execution_count": 6,
   "metadata": {},
   "outputs": [],
   "source": [
    "#: compute mean height\n",
    "mean_height = height_and_weight.get('Height').mean()\n",
    "mean_height"
   ]
  },
  {
   "cell_type": "code",
   "execution_count": 7,
   "metadata": {},
   "outputs": [],
   "source": [
    "#: compute mean weight\n",
    "mean_weight = height_and_weight.get('Weight').mean()\n",
    "mean_weight"
   ]
  },
  {
   "cell_type": "code",
   "execution_count": 8,
   "metadata": {},
   "outputs": [],
   "source": [
    "#: insert them into table\n",
    "centered_height_and_weight = height_and_weight.assign(\n",
    "    Height=height_and_weight.get('Height') - mean_height,\n",
    "    Weight=height_and_weight.get('Weight') - mean_weight,\n",
    ")"
   ]
  },
  {
   "cell_type": "markdown",
   "metadata": {
    "slideshow": {
     "slide_type": "slide"
    }
   },
   "source": [
    "## Centering"
   ]
  },
  {
   "cell_type": "code",
   "execution_count": 9,
   "metadata": {},
   "outputs": [],
   "source": [
    "#: plot centered distributions\n",
    "plt.hist(centered_height_and_weight.get('Height'), label='Height', **defaults);\n",
    "plt.hist(centered_height_and_weight.get('Weight'), label='Weight', **defaults);\n",
    "plt.legend(loc='upper right')"
   ]
  },
  {
   "cell_type": "markdown",
   "metadata": {
    "slideshow": {
     "slide_type": "slide"
    }
   },
   "source": [
    "## Scaling\n",
    "\n",
    "- Want distributions to have the same width.\n",
    "- So we divide by standard deviation.\n",
    "- Data that is centered and scaled is *standardized*."
   ]
  },
  {
   "cell_type": "code",
   "execution_count": 10,
   "metadata": {},
   "outputs": [],
   "source": [
    "import pandas as pd"
   ]
  },
  {
   "cell_type": "code",
   "execution_count": 11,
   "metadata": {},
   "outputs": [],
   "source": [
    "std_height = np.std(height_and_weight.get('Height'))\n",
    "std_height"
   ]
  },
  {
   "cell_type": "code",
   "execution_count": 12,
   "metadata": {},
   "outputs": [],
   "source": [
    "std_weight = np.std(height_and_weight.get('Weight'))\n",
    "std_weight"
   ]
  },
  {
   "cell_type": "code",
   "execution_count": 13,
   "metadata": {},
   "outputs": [],
   "source": [
    "standardized = centered_height_and_weight.assign(\n",
    "    Height=centered_height_and_weight.get('Height') / std_height,\n",
    "    Weight=centered_height_and_weight.get('Weight') / std_weight\n",
    ")"
   ]
  },
  {
   "cell_type": "markdown",
   "metadata": {
    "slideshow": {
     "slide_type": "slide"
    }
   },
   "source": [
    "## Standardized Histograms"
   ]
  },
  {
   "cell_type": "code",
   "execution_count": 14,
   "metadata": {},
   "outputs": [],
   "source": [
    "plt.hist(standardized.get('Height'), label='Height', **defaults);\n",
    "plt.hist(standardized.get('Weight'), label='Weight', **defaults);\n",
    "plt.legend(loc='upper right')"
   ]
  },
  {
   "cell_type": "markdown",
   "metadata": {
    "slideshow": {
     "slide_type": "slide"
    }
   },
   "source": [
    "## The (standard) normal curve\n",
    "\n",
    "- The bell curves we've seen look essentially the same once standardized.\n",
    "- This shape is called the **standard normal curve**.\n",
    "\n",
    "$$\n",
    "\\phi(z) = \\frac{1}{\\sqrt{2 \\pi}} e^{-\\frac{1}{2}z^2}\n",
    "$$\n"
   ]
  },
  {
   "cell_type": "markdown",
   "metadata": {
    "slideshow": {
     "slide_type": "slide"
    }
   },
   "source": [
    "## The standard normal curve"
   ]
  },
  {
   "cell_type": "code",
   "execution_count": 15,
   "metadata": {},
   "outputs": [],
   "source": [
    "# define normal_curve using numpy\n",
    "def normal_curve(x):\n",
    "    return 1 / np.sqrt(2*np.pi) * np.exp(-x**2/2)"
   ]
  },
  {
   "cell_type": "code",
   "execution_count": 16,
   "metadata": {},
   "outputs": [],
   "source": [
    "#: plot the curve\n",
    "x = np.linspace(-4, 4, 1000)\n",
    "y = normal_curve(x)\n",
    "\n",
    "plt.plot(x, y, color='black')"
   ]
  },
  {
   "cell_type": "markdown",
   "metadata": {
    "slideshow": {
     "slide_type": "slide"
    }
   },
   "source": [
    "## Heights/weights are approximately normal"
   ]
  },
  {
   "cell_type": "code",
   "execution_count": 17,
   "metadata": {},
   "outputs": [],
   "source": [
    "#: plot against normal curve\n",
    "plt.hist(standardized.get('Height'), label='Height', **defaults);\n",
    "plt.hist(standardized.get('Weight'), label='Weight', **defaults);\n",
    "plt.plot(x, y, color='black', linestyle='--', label='Normal')\n",
    "plt.legend(loc='upper right')"
   ]
  },
  {
   "cell_type": "markdown",
   "metadata": {
    "slideshow": {
     "slide_type": "slide"
    }
   },
   "source": [
    "## The normal distribution\n",
    "\n",
    "- We think of normal curve as a \"continuous histogram\"\n",
    "    - a.k.a., probability density\n",
    "- Mean and median are zero.\n",
    "- Like a histogram:\n",
    "    - total area is 1\n",
    "    - area between $a$ and $b$ is probability of observing value between $a$ and $b$"
   ]
  },
  {
   "cell_type": "code",
   "execution_count": 18,
   "metadata": {},
   "outputs": [],
   "source": [
    "#: area under the curve\n",
    "[a, b] = [-2, -.5]\n",
    "ix = (x >= a) & (x <= b)\n",
    "plt.plot(x, y, color='black')\n",
    "plt.fill_between(x[ix], y[ix])"
   ]
  },
  {
   "cell_type": "markdown",
   "metadata": {
    "slideshow": {
     "slide_type": "slide"
    }
   },
   "source": [
    "## The standard normal \"CDF\"\n",
    "\n",
    "- Area under the curve == integration\n",
    "- No closed-form antiderivative, but we can approximate\n",
    "- `scipy.stats.norm.cdf(x)`: area under curve from $-\\infty$ to $x$\n",
    "$$\n",
    "\\texttt{scipy.stats.norm.cdf(z)} = \\int_{- \\infty}^x \\phi(z) \\, dz\n",
    "$$"
   ]
  },
  {
   "cell_type": "markdown",
   "metadata": {
    "slideshow": {
     "slide_type": "slide"
    }
   },
   "source": [
    "## Discussion question\n",
    "\n",
    "What will `scipy.stats.norm.cdf(0)` evaluate to?\n",
    "\n",
    "- A) $\\pi$\n",
    "- B) $0$\n",
    "- C) $1$\n",
    "- D) $\\frac{1}{2}$\n",
    "- E) $42$"
   ]
  },
  {
   "cell_type": "markdown",
   "metadata": {
    "slideshow": {
     "slide_type": "slide"
    }
   },
   "source": [
    "## Answer"
   ]
  },
  {
   "cell_type": "code",
   "execution_count": 19,
   "metadata": {},
   "outputs": [],
   "source": [
    "#: calculate area between -infinity and 0\n",
    "from scipy import stats\n",
    "stats.norm.cdf(0)"
   ]
  },
  {
   "cell_type": "code",
   "execution_count": 20,
   "metadata": {},
   "outputs": [],
   "source": [
    "#: area under the curve\n",
    "[a, b] = [-np.inf, 0]\n",
    "ix = (x >= a) & (x <= b)\n",
    "plt.plot(x, y, color='black')\n",
    "plt.fill_between(x[ix], y[ix])"
   ]
  },
  {
   "cell_type": "markdown",
   "metadata": {
    "slideshow": {
     "slide_type": "slide"
    }
   },
   "source": [
    "## Example: area between [-1, 0]\n",
    "\n",
    "- Strategy: \n",
    "$$(\\text{area from $-\\infty$ to $0$}) - (\\text{area from -$\\infty$ to $-1$})$$"
   ]
  },
  {
   "cell_type": "code",
   "execution_count": 21,
   "metadata": {},
   "outputs": [],
   "source": [
    "#: area under the curve\n",
    "[a, b] = [-1, 0]\n",
    "ix = (x <= b)\n",
    "ix_out = (x <= a)\n",
    "plt.plot(x, y, color='black')\n",
    "plt.fill_between(x[ix], y[ix], hatch='-')\n",
    "plt.fill_between(x[ix_out], y[ix_out], hatch='|', alpha=.5)"
   ]
  },
  {
   "cell_type": "markdown",
   "metadata": {
    "slideshow": {
     "slide_type": "slide"
    }
   },
   "source": [
    "## In general...\n",
    "\n",
    "- Area within $[a,b]$ is ``stats.norm.cdf(b) - stats.norm.cdf(a)``"
   ]
  },
  {
   "cell_type": "markdown",
   "metadata": {
    "slideshow": {
     "slide_type": "slide"
    }
   },
   "source": [
    "## Special cases\n",
    "\n",
    "- Area within $\\pm z$ standard deviations of mean:\n",
    "\n",
    "$z$ | area\n",
    "----|-----\n",
    "1| $\\approx$ 68%\n",
    "2| $\\approx$ 95%\n",
    "3 | $\\approx$ 99.73%"
   ]
  },
  {
   "cell_type": "markdown",
   "metadata": {
    "slideshow": {
     "slide_type": "slide"
    }
   },
   "source": [
    "## 95% of distribution is between [-2, 2]"
   ]
  },
  {
   "cell_type": "code",
   "execution_count": 22,
   "metadata": {},
   "outputs": [],
   "source": [
    "#: area under the curve\n",
    "[a, b] = [-2, 2]\n",
    "ix = (x >= a) & (x <= b)\n",
    "plt.plot(x, y, color='black')\n",
    "plt.fill_between(x[ix], y[ix], alpha=.8)\n",
    "plt.axvline(-2, color='red')\n",
    "plt.axvline(2, color='red')"
   ]
  },
  {
   "cell_type": "markdown",
   "metadata": {
    "slideshow": {
     "slide_type": "slide"
    }
   },
   "source": [
    "## Standard units\n",
    "\n",
    "- What proportion of weights are between 200 and 225?\n",
    "- We could just count.\n",
    "- But let's use fact that data is $\\approx$ normal."
   ]
  },
  {
   "cell_type": "markdown",
   "metadata": {
    "slideshow": {
     "slide_type": "slide"
    }
   },
   "source": [
    "## Histogram area within [200, 225]..."
   ]
  },
  {
   "cell_type": "code",
   "execution_count": 23,
   "metadata": {},
   "outputs": [],
   "source": [
    "#: weight histogram\n",
    "plt.hist(height_and_weight.get('Weight'), color='C1', **defaults);\n",
    "plt.axvline(200, color='black')\n",
    "plt.axvline(225, color='black')"
   ]
  },
  {
   "cell_type": "markdown",
   "metadata": {
    "slideshow": {
     "slide_type": "slide"
    }
   },
   "source": [
    "## Normal curve area within [?, ?]..."
   ]
  },
  {
   "cell_type": "code",
   "execution_count": 24,
   "metadata": {},
   "outputs": [],
   "source": [
    "#: normal curve\n",
    "plt.plot(x, y, color='black')"
   ]
  },
  {
   "cell_type": "markdown",
   "metadata": {
    "slideshow": {
     "slide_type": "slide"
    }
   },
   "source": [
    "## Standard units and area\n",
    "\n",
    "- Define $z(x) = (x - \\text{mean})/\\text{std}$.\n",
    "- $z(x)$ maps $x$ to standard units.\n",
    "- Suppose a distribution is (roughly) normal. These are approx. equal:\n",
    "    - Area between $a$ and $b$ in histogram.\n",
    "    - Area between $z(a)$ and $z(b)$ in standard normal curve."
   ]
  },
  {
   "cell_type": "markdown",
   "metadata": {
    "slideshow": {
     "slide_type": "slide"
    }
   },
   "source": [
    "## Standard units\n",
    "\n",
    "- What does 225 become after standardization?\n",
    "\n",
    "$$225 \\mapsto  \\frac{225 - \\text{mean}}{\\text{std}}$$"
   ]
  },
  {
   "cell_type": "code",
   "execution_count": 25,
   "metadata": {},
   "outputs": [],
   "source": [
    "#::\n",
    "(225 - mean_weight) / std_weight"
   ]
  },
  {
   "cell_type": "markdown",
   "metadata": {},
   "source": [
    "- Interpretation: 225 is 1.92 stds above the mean\n",
    "- 225 becomes 1.92 in **standard units**."
   ]
  },
  {
   "cell_type": "markdown",
   "metadata": {
    "slideshow": {
     "slide_type": "slide"
    }
   },
   "source": [
    "## Standard units and area"
   ]
  },
  {
   "cell_type": "code",
   "execution_count": 26,
   "metadata": {},
   "outputs": [],
   "source": [
    "#::\n",
    "left = (200 - mean_weight) / std_weight\n",
    "left"
   ]
  },
  {
   "cell_type": "code",
   "execution_count": 27,
   "metadata": {},
   "outputs": [],
   "source": [
    "#::\n",
    "right = (225 - mean_weight) / std_weight\n",
    "right"
   ]
  },
  {
   "cell_type": "code",
   "execution_count": 28,
   "metadata": {},
   "outputs": [],
   "source": [
    "#:: area in standard normal curve\n",
    "approximation = stats.norm.cdf(right) - stats.norm.cdf(left)\n",
    "approximation"
   ]
  },
  {
   "cell_type": "markdown",
   "metadata": {},
   "source": [
    "Approx. 22.8% of weights are between 200 and 225 (inclusive)."
   ]
  },
  {
   "cell_type": "markdown",
   "metadata": {
    "slideshow": {
     "slide_type": "slide"
    }
   },
   "source": [
    "## Normal Curve Area Between $z(200)$ and $z(225)$"
   ]
  },
  {
   "cell_type": "code",
   "execution_count": 29,
   "metadata": {},
   "outputs": [],
   "source": [
    "#: normal curve\n",
    "plt.plot(x, y, color='black')\n",
    "ix = (x >= .656) & (x <= 1.92)\n",
    "plt.fill_between(x[ix], y[ix], alpha=.8)\n",
    "plt.axvline(.656, color='C1')\n",
    "plt.axvline(1.92, color='C1')\n",
    "plt.text(.656, .45, '$z(200)$', ha='center')\n",
    "plt.text(1.92, .45, '$z(225)$', ha='center')\n"
   ]
  },
  {
   "cell_type": "markdown",
   "metadata": {
    "slideshow": {
     "slide_type": "slide"
    }
   },
   "source": [
    "## Checking the approximation"
   ]
  },
  {
   "cell_type": "code",
   "execution_count": 30,
   "metadata": {},
   "outputs": [],
   "source": [
    "height_and_weight[\n",
    "    (height_and_weight.get('Weight') >= 200)\n",
    "    &\n",
    "    (height_and_weight.get('Weight') <= 225)\n",
    "].shape[0] / height_and_weight.shape[0]"
   ]
  },
  {
   "cell_type": "code",
   "execution_count": 31,
   "metadata": {},
   "outputs": [],
   "source": [
    "#: approximation from using CDF\n",
    "approximation"
   ]
  },
  {
   "cell_type": "markdown",
   "metadata": {
    "slideshow": {
     "slide_type": "slide"
    }
   },
   "source": [
    "## To summarize:\n",
    "\n",
    "- Suppose we know the following about a distribution:\n",
    "    - it is approximately normal,\n",
    "    - its mean and standard deviation,\n",
    "- We can use CDF to compute percentiles without using the data itself."
   ]
  },
  {
   "cell_type": "markdown",
   "metadata": {
    "slideshow": {
     "slide_type": "slide"
    }
   },
   "source": [
    "## Chebychev and the normal curve\n",
    "\n",
    "- Chebychev: At *least* $1-1/z^2$ percent of data are within $z$ stds of the mean.\n",
    "- Works for any distribution.\n",
    "- We can do better if we know the distribution is normal:\n",
    "\n",
    "\n",
    "$z$ | Chebychev | Normal\n",
    "----|-----|------\n",
    "1| $\\geq$ 0% | $\\approx$ 68%\n",
    "2| $\\geq$ 75% | $\\approx$ 95%\n",
    "3 | $\\geq$ 88% | $\\approx$ 99.73%"
   ]
  },
  {
   "cell_type": "markdown",
   "metadata": {
    "slideshow": {
     "slide_type": "slide"
    }
   },
   "source": [
    "# The Central Limit Theorem"
   ]
  },
  {
   "cell_type": "markdown",
   "metadata": {
    "slideshow": {
     "slide_type": "slide"
    }
   },
   "source": [
    "## Question\n",
    "\n",
    "Why do we see bell curves so often?"
   ]
  },
  {
   "cell_type": "markdown",
   "metadata": {
    "slideshow": {
     "slide_type": "slide"
    }
   },
   "source": [
    "## Bell-shaped data\n",
    "\n",
    "- Data distribution is often bell-shaped (some more than others)\n",
    "- We've seen this to be true for height and weight.\n",
    "- But many more examples..."
   ]
  },
  {
   "cell_type": "markdown",
   "metadata": {
    "slideshow": {
     "slide_type": "slide"
    }
   },
   "source": [
    "## Example: Baseball runners left on base"
   ]
  },
  {
   "cell_type": "code",
   "execution_count": 34,
   "metadata": {},
   "outputs": [],
   "source": [
    "#:\n",
    "bpd.read_csv('data/baseball.csv').plot(kind='hist', y='left_on_base', bins=20, density=True)"
   ]
  },
  {
   "cell_type": "markdown",
   "metadata": {
    "slideshow": {
     "slide_type": "slide"
    }
   },
   "source": [
    "## Example: Natural sleep duration"
   ]
  },
  {
   "cell_type": "code",
   "execution_count": 35,
   "metadata": {},
   "outputs": [],
   "source": [
    "bpd.read_csv('data/sleep.csv').plot(kind='hist', y='Sleep Duration', bins=20, density=True)"
   ]
  },
  {
   "cell_type": "markdown",
   "metadata": {
    "slideshow": {
     "slide_type": "slide"
    }
   },
   "source": [
    "## But...\n",
    "\n",
    "- ...most data isn't bell-shaped!\n",
    "- Skewed to one side, multi-modal, etc."
   ]
  },
  {
   "cell_type": "markdown",
   "metadata": {
    "slideshow": {
     "slide_type": "slide"
    }
   },
   "source": [
    "## Example: San Diego city salaries"
   ]
  },
  {
   "cell_type": "code",
   "execution_count": 36,
   "metadata": {},
   "outputs": [],
   "source": [
    "#:\n",
    "bpd.read_csv('data/salaries.csv').plot(kind='hist', y='Total Pay', bins=20, density=True)"
   ]
  },
  {
   "cell_type": "markdown",
   "metadata": {
    "slideshow": {
     "slide_type": "slide"
    }
   },
   "source": [
    "## Example: Flight delays"
   ]
  },
  {
   "cell_type": "code",
   "execution_count": 38,
   "metadata": {},
   "outputs": [],
   "source": [
    "#:\n",
    "flights = bpd.read_csv('./data/united_summer2015.csv').get(['Delay'])\n",
    "flights.plot(kind='hist', y='Delay', bins=np.arange(0, 200, 10), density=True)"
   ]
  },
  {
   "cell_type": "markdown",
   "metadata": {
    "slideshow": {
     "slide_type": "slide"
    }
   },
   "source": [
    "## But...\n",
    "\n",
    "- ...even when population distribution isn't bell-shaped, empirical distribution of statistics often are.\n",
    "- Example: distribution of sample mean."
   ]
  },
  {
   "cell_type": "markdown",
   "metadata": {
    "slideshow": {
     "slide_type": "slide"
    }
   },
   "source": [
    "## Example: Flight delays\n",
    "\n",
    "- We want to know the average flight delay.\n",
    "- We take a random sample of flights, compute sample mean.\n",
    "- The sample mean could have been different!"
   ]
  },
  {
   "cell_type": "code",
   "execution_count": 39,
   "metadata": {
    "slideshow": {
     "slide_type": "slide"
    }
   },
   "outputs": [],
   "source": [
    "#: draw 1000 sample means\n",
    "n_samples = 1000\n",
    "\n",
    "sample_means = np.array([])\n",
    "\n",
    "for i in np.arange(n_samples):\n",
    "    sample = flights.sample(2000, replace=True)\n",
    "    sample_mean = sample.get('Delay').mean()\n",
    "    sample_means = np.append(sample_means, sample_mean)"
   ]
  },
  {
   "cell_type": "markdown",
   "metadata": {
    "slideshow": {
     "slide_type": "slide"
    }
   },
   "source": [
    "## Example: flight delays"
   ]
  },
  {
   "cell_type": "code",
   "execution_count": 40,
   "metadata": {},
   "outputs": [],
   "source": [
    "#: visualize\n",
    "bpd.DataFrame().assign(SampleMeans=sample_means).plot(kind='hist', bins=15, density=True)\n",
    "plt.xlabel('Sample Mean Delay')"
   ]
  },
  {
   "cell_type": "markdown",
   "metadata": {
    "slideshow": {
     "slide_type": "slide"
    }
   },
   "source": [
    "## A ubiquitous phenomenon\n",
    "\n",
    "- The population was not normal, but distribution of sample mean is.\n",
    "- All of the bootstrap distributions we saw were bell-shaped.\n",
    "- This appears to be a deep fact about randomness."
   ]
  },
  {
   "cell_type": "markdown",
   "metadata": {
    "slideshow": {
     "slide_type": "slide"
    }
   },
   "source": [
    "## The Central Limit Theorem\n",
    "\n",
    "> The distribution of sums (and averages) of large random samples (w/ replacement) are roughly normal, regardless of the distribution of the population from which the sample was drawn"
   ]
  },
  {
   "cell_type": "markdown",
   "metadata": {
    "slideshow": {
     "slide_type": "slide"
    }
   },
   "source": [
    "## Example: Scratch-off lottery tickets\n",
    "\n",
    "- Table below shows the odds of each payout of a lottery ticket"
   ]
  },
  {
   "cell_type": "code",
   "execution_count": 41,
   "metadata": {},
   "outputs": [],
   "source": [
    "lottery = bpd.DataFrame().assign(\n",
    "    Prize=[0, 1, 5, 20, 50],\n",
    "    Odds=[.4, .3, .2, .05, .05]\n",
    ")\n",
    "lottery"
   ]
  },
  {
   "cell_type": "markdown",
   "metadata": {
    "slideshow": {
     "slide_type": "slide"
    }
   },
   "source": [
    "## Example: Lottery tickets\n",
    "\n",
    "- Each ticket costs $5; subtract from payout\n",
    "- Very non-normal distribution"
   ]
  },
  {
   "cell_type": "code",
   "execution_count": 42,
   "metadata": {},
   "outputs": [],
   "source": [
    "#:\n",
    "payout = lottery.assign(GainLoss=lottery.get('Prize') - 5)\n",
    "payout"
   ]
  },
  {
   "cell_type": "markdown",
   "metadata": {
    "slideshow": {
     "slide_type": "slide"
    }
   },
   "source": [
    "## Simulating one lottery ticket\n",
    "\n",
    "- Choose a payout according to odds.\n",
    "- `np.random.choice` accepts an array of probabilities."
   ]
  },
  {
   "cell_type": "code",
   "execution_count": 43,
   "metadata": {},
   "outputs": [],
   "source": [
    "# randomly choose a payout according to odds\n",
    "np.random.choice(payout.get('GainLoss'), p=payout.get('Odds'))"
   ]
  },
  {
   "cell_type": "markdown",
   "metadata": {
    "slideshow": {
     "slide_type": "slide"
    }
   },
   "source": [
    "## Simulating 100 tickets\n",
    "\n",
    "- How much do you win/lose after buying 100 tickets?"
   ]
  },
  {
   "cell_type": "code",
   "execution_count": 44,
   "metadata": {},
   "outputs": [],
   "source": [
    "gl = np.array(payout.get('GainLoss'))\n",
    "odds = np.array(payout.get('Odds'))\n",
    "\n",
    "def buy_k_tickets(k):\n",
    "    winnings = np.array([])\n",
    "\n",
    "    for i in np.arange(k):\n",
    "        won = np.random.choice(gl, p = odds)\n",
    "        winnings = np.append(winnings, won)\n",
    "        \n",
    "    return winnings"
   ]
  },
  {
   "cell_type": "markdown",
   "metadata": {
    "slideshow": {
     "slide_type": "slide"
    }
   },
   "source": [
    "## Repeating the experiment\n",
    "\n",
    "- After purchasing 100 tickets, your total winnings are a number.\n",
    "- But it could have been different...\n",
    "- Total winnings come from some distribution.\n",
    "- We can approximate it through simulation."
   ]
  },
  {
   "cell_type": "markdown",
   "metadata": {
    "slideshow": {
     "slide_type": "slide"
    }
   },
   "source": [
    "## Repeating the experiment"
   ]
  },
  {
   "cell_type": "code",
   "execution_count": 45,
   "metadata": {
    "slideshow": {
     "slide_type": "-"
    }
   },
   "outputs": [],
   "source": [
    "#: simulate\n",
    "\n",
    "distribution = np.array([])\n",
    "n_repetitions = 1000\n",
    "\n",
    "for i in np.arange(n_repetitions):\n",
    "    winnings = buy_k_tickets(100).sum()\n",
    "    distribution = np.append(distribution, winnings)"
   ]
  },
  {
   "cell_type": "markdown",
   "metadata": {
    "slideshow": {
     "slide_type": "slide"
    }
   },
   "source": [
    "## Visualizing"
   ]
  },
  {
   "cell_type": "code",
   "execution_count": 46,
   "metadata": {
    "slideshow": {
     "slide_type": ""
    }
   },
   "outputs": [],
   "source": [
    "#: does it look normal?\n",
    "bpd.DataFrame().assign(TotalWinnings=distribution).plot(kind='hist', density=True)"
   ]
  },
  {
   "cell_type": "markdown",
   "metadata": {
    "slideshow": {
     "slide_type": "slide"
    }
   },
   "source": [
    "## Discussion question\n",
    "\n",
    "How will the distribution change if the experiment were repeated, but with 400 tickets instead of 100?\n",
    "\n",
    "- A) It will get narrower.\n",
    "- B) It will get wider.\n",
    "- C) It will stay the same.\n",
    "- D) It will turn red."
   ]
  },
  {
   "cell_type": "markdown",
   "metadata": {
    "slideshow": {
     "slide_type": "slide"
    }
   },
   "source": [
    "## Answer"
   ]
  },
  {
   "cell_type": "code",
   "execution_count": 47,
   "metadata": {
    "slideshow": {
     "slide_type": ""
    }
   },
   "outputs": [],
   "source": [
    "#: simulate\n",
    "\n",
    "distribution_400 = np.array([])\n",
    "n_repetitions = 1000\n",
    "\n",
    "for i in np.arange(n_repetitions):\n",
    "    winnings = buy_k_tickets(400).sum()\n",
    "    distribution_400 = np.append(distribution_400, winnings)"
   ]
  },
  {
   "cell_type": "markdown",
   "metadata": {
    "slideshow": {
     "slide_type": "slide"
    }
   },
   "source": [
    "## Answer"
   ]
  },
  {
   "cell_type": "code",
   "execution_count": 48,
   "metadata": {},
   "outputs": [],
   "source": [
    "#: does it look normal?\n",
    "bins = np.arange(-800, 800, 50)\n",
    "plt.hist(distribution_400, color='C1', bins=bins, density=True, label='400');\n",
    "plt.hist(distribution, bins=bins, density=True, alpha=.75, label='100');\n",
    "plt.legend()"
   ]
  },
  {
   "cell_type": "markdown",
   "metadata": {
    "slideshow": {
     "slide_type": "slide"
    }
   },
   "source": [
    "## The shape of the distribution\n",
    "\n",
    "- CLT: Sums and averages of random samples are roughly normal.\n",
    "- Centered at population mean.\n",
    "- What is the spread of the distribution?"
   ]
  },
  {
   "cell_type": "code",
   "execution_count": 49,
   "metadata": {
    "slideshow": {
     "slide_type": "slide"
    }
   },
   "outputs": [],
   "source": [
    "#: draw `sample_size` flights, compute mean, `n_samples` times\n",
    "def sample_mean_delays(sample_size, n_samples=2000):\n",
    "    sample_means = np.array([])\n",
    "    for i in np.arange(n_samples):\n",
    "        sample = flights.sample(sample_size)\n",
    "        sample_mean = sample.get('Delay').mean()\n",
    "        sample_means = np.append(sample_means, sample_mean)\n",
    "    return sample_means"
   ]
  },
  {
   "cell_type": "code",
   "execution_count": 50,
   "metadata": {
    "slideshow": {
     "slide_type": "slide"
    }
   },
   "outputs": [],
   "source": [
    "#: repeat the experiment for various sample sizes\n",
    "sample_means = {}\n",
    "sample_sizes = [100, 200, 400, 800, 1600]\n",
    "\n",
    "for size in sample_sizes:\n",
    "    sample_means[size] = sample_mean_delays(size)"
   ]
  },
  {
   "cell_type": "code",
   "execution_count": 51,
   "metadata": {
    "slideshow": {
     "slide_type": "slide"
    }
   },
   "outputs": [],
   "source": [
    "#: plot the distributions\n",
    "bins = np.arange(5, 30)\n",
    "for size in sample_sizes:\n",
    "    columns = {f'Sample Mean, size = {size}': sample_means[size]}\n",
    "    bpd.DataFrame().assign(**columns).plot(kind='hist', bins=bins)"
   ]
  },
  {
   "cell_type": "code",
   "execution_count": 52,
   "metadata": {
    "slideshow": {
     "slide_type": "slide"
    }
   },
   "outputs": [],
   "source": [
    "#: compute standard deviation of each distribution\n",
    "sds = []\n",
    "for size in sample_sizes:\n",
    "    sd = np.std(sample_means[size])\n",
    "    sds.append(sd)"
   ]
  },
  {
   "cell_type": "code",
   "execution_count": 53,
   "metadata": {
    "slideshow": {
     "slide_type": "slide"
    }
   },
   "outputs": [],
   "source": [
    "#: plot trend\n",
    "observed = bpd.DataFrame().assign(\n",
    "    SampleSize=sample_sizes,\n",
    "    StandardDeviation=sds\n",
    ")\n",
    "\n",
    "observed.plot(kind='scatter', x='SampleSize', y='StandardDeviation', s=70)"
   ]
  },
  {
   "cell_type": "markdown",
   "metadata": {
    "slideshow": {
     "slide_type": "slide"
    }
   },
   "source": [
    "## CLT for the sample mean\n",
    "\n",
    "- Sample mean of random samples is distributed normally.\n",
    "- Centered at population mean.\n",
    "- Standard deviation is:\n",
    "$$\n",
    "    \\frac{\n",
    "        \\text{population standard dev.}\n",
    "    }{\n",
    "        \\sqrt{\\text{sample size}}\n",
    "    }\n",
    "$$"
   ]
  },
  {
   "cell_type": "code",
   "execution_count": 54,
   "metadata": {
    "slideshow": {
     "slide_type": "slide"
    }
   },
   "outputs": [],
   "source": [
    "#: clt's prediction\n",
    "def clt_standard_deviation(n):\n",
    "    sigma = np.std(flights.get('Delay'))\n",
    "    return sigma / np.sqrt(n)"
   ]
  },
  {
   "cell_type": "code",
   "execution_count": 55,
   "metadata": {
    "slideshow": {
     "slide_type": "slide"
    }
   },
   "outputs": [],
   "source": [
    "#: plot prediction and observed\n",
    "observed.plot(kind='scatter', x='SampleSize', y='StandardDeviation', s=70, zorder=10)\n",
    "x = np.linspace(100, 1600)\n",
    "y = clt_standard_deviation(x)\n",
    "plt.plot(x, y, color='C1')"
   ]
  },
  {
   "cell_type": "markdown",
   "metadata": {
    "slideshow": {
     "slide_type": "slide"
    }
   },
   "source": [
    "## Recap\n",
    "\n",
    "- We want to find population mean.\n",
    "- But we only have one sample.\n",
    "- Hope that sample mean is close to population mean.\n",
    "- But it could have been different."
   ]
  },
  {
   "cell_type": "markdown",
   "metadata": {
    "slideshow": {
     "slide_type": "slide"
    }
   },
   "source": [
    "## Recap\n",
    "\n",
    "- We can run bootstrap, or (sometimes) draw more samples to approximate sampling distribution.\n",
    "- But CLT says that it is normal.\n",
    "- Centered at population mean.\n",
    "- Standard deviation is:\n",
    "$$\n",
    "    \\frac{\n",
    "        \\text{population standard dev.}\n",
    "    }{\n",
    "        \\sqrt{\\text{sample size}}\n",
    "    }\n",
    "$$"
   ]
  }
 ],
 "metadata": {
  "celltoolbar": "Slideshow",
  "kernelspec": {
   "display_name": "Python 3",
   "language": "python",
   "name": "python3"
  },
  "language_info": {
   "codemirror_mode": {
    "name": "ipython",
    "version": 3
   },
   "file_extension": ".py",
   "mimetype": "text/x-python",
   "name": "python",
   "nbconvert_exporter": "python",
   "pygments_lexer": "ipython3",
   "version": "3.7.6"
  },
  "livereveal": {
   "scroll": true,
   "transition": "none"
  }
 },
 "nbformat": 4,
 "nbformat_minor": 2
}
