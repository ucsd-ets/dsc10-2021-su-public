{
 "cells": [
  {
   "cell_type": "markdown",
   "metadata": {},
   "source": [
    "# Project 2: Meteorites\n",
    "\n",
    "## Due: 7/31/2021 11:59 PM PST  (Saturday)\n",
    "\n",
    "**Note**: Because of tight deadlines for submitting grades during Summer Session, we cannot accept slip days for this assignment!\n",
    "\n",
    "*Welcome to the final project!* This project is a cumulative look at everything we've done in the quarter, from table operations to statistics. It takes you through the entire data science workflow in three parts. In Part 1, we clean the data set. In Part 2, we do exploratory analysis to find interesting trends. And in Part 3, we perform statistical analyses.\n",
    "\n",
    "This project will focus on *meteorites*. A *meteorite* is a piece of rock from outer space that survives entry into the Earth's atmosphere and strikes the surface.\n",
    "\n",
    "<img width=70% src=\"data/meteorite.jpg\">\n",
    "<center>\n",
    "<i>\n",
    "<small>Credit: By User:Captmondo - Own work (photo), CC BY-SA 3.0, https://commons.wikimedia.org/w/index.php?curid=5752726\n",
    "</small>\n",
    "</i>\n",
    "</center>\n",
    "\n",
    "In this project, you will work with the meteorite landings [dataset](https://data.nasa.gov/Space-Science/Meteorite-Landings/gh4g-9sfh) from The Meteoritical Society, which contains information on all known meteorite landings."
   ]
  },
  {
   "cell_type": "code",
   "execution_count": 1,
   "metadata": {},
   "outputs": [],
   "source": [
    "import babypandas as bpd\n",
    "import numpy as np\n",
    "\n",
    "%matplotlib inline\n",
    "import matplotlib.pyplot as plt\n",
    "plt.style.use('seaborn')\n",
    "np.set_printoptions(legacy='1.13')\n",
    "\n",
    "import otter\n",
    "grader = otter.Notebook('tests')"
   ]
  },
  {
   "cell_type": "markdown",
   "metadata": {},
   "source": [
    "## Introducing the Dataset\n",
    "\n",
    "The data is contained in the file `data/meteorite_landings.csv`. Peaking into the data set, here is what we see:"
   ]
  },
  {
   "cell_type": "code",
   "execution_count": 2,
   "metadata": {},
   "outputs": [],
   "source": [
    "!head ./data/meteorite_landings.csv"
   ]
  },
  {
   "cell_type": "markdown",
   "metadata": {},
   "source": [
    "This dataset contains 45716 rows and 8 columns. Each row represents one known meteorite. Following is the description for each of the eight columns:\n",
    "\n",
    "- **id**: ID of the meteorite as an integer.\n",
    "- **name**: Name of the mateorite as a string.\n",
    "- **nametype**: an identifier that is either *valid* or *relict*. A meteorite is a *relict* if it mostly consists of material that formed after it impacted the Earth.\n",
    "- **reclass**: the classification of the meteorite.\n",
    "- **mass (g)**: the mass of the meteorite in grams as a float.\n",
    "- **fall**: an identifier that is either *fell* or *found*. When a mateorite is marked *fell*, it was observed during its fall. Otherwise, it was found without a recorded event of falling from the sky. Note that a meteorite may be found long after it originally fell!\n",
    "- **year**: a string containing the time at which the meteorite was recorded. If the meteorite was *Found*, then this is the date one which it was found. If it was observed while falling, this is the time that the meteorite was seen. Note that meteorites which were found could have fell a *long* time ago (think: many thousands of years).\n",
    "- **GeoLocation**: the latitude and longitude of the meteorite's location as a string"
   ]
  },
  {
   "cell_type": "markdown",
   "metadata": {},
   "source": [
    "## Part 1: Cleaning the Dataset\n",
    "\n",
    "**Lectures to review: 01-Intro; 02-Expressions, Types; 03-Tables; 06-Functions, Apply; 07-Group, Merge, Conditionals, Iteration**\n",
    "\n",
    "Not every dataset is perfect. In fact, most of the datasets we've seen thus far have already be \"cleaned\" so that they can be used out-of-the-box. As you have gained sufficient knowledge on data manipulation, this time let's clean the dataset together. First, let's see what our dataset look like:"
   ]
  },
  {
   "cell_type": "code",
   "execution_count": 3,
   "metadata": {},
   "outputs": [],
   "source": [
    "raw_df = bpd.read_csv('data/meteorite_landings.csv')\n",
    "raw_df"
   ]
  },
  {
   "cell_type": "markdown",
   "metadata": {
    "deletable": false,
    "editable": false
   },
   "source": [
    "**Question 1.** Let's start by choosing a column to be the index. Remember that a good choice should have unique values. Create a new dataframe named `df_with_index` that has its index set to an appropriate column (not that meteorite names are not guaranteed to be unique).\n",
    "\n",
    "<!--\n",
    "BEGIN QUESTION\n",
    "name: q1_1\n",
    "-->"
   ]
  },
  {
   "cell_type": "code",
   "execution_count": 4,
   "metadata": {},
   "outputs": [],
   "source": [
    "df_with_index = ...\n",
    "df_with_index"
   ]
  },
  {
   "cell_type": "code",
   "execution_count": null,
   "metadata": {
    "deletable": false,
    "editable": false
   },
   "outputs": [],
   "source": [
    "grader.check(\"q1_1\")"
   ]
  },
  {
   "cell_type": "markdown",
   "metadata": {},
   "source": [
    "The *GeoLocation* column provides the location of each meteorite's impact as a string of the form `(LATITUDE, LONGITUDE)`. Unfortunately, some of the meteorites are missing this information and therefore have a *GeoLocation* of `np.nan`, as can be seen for meteorite 5163 in the table below:"
   ]
  },
  {
   "cell_type": "code",
   "execution_count": 6,
   "metadata": {},
   "outputs": [],
   "source": [
    "df_with_index.loc[[5163, 5164, 5165]]"
   ]
  },
  {
   "cell_type": "markdown",
   "metadata": {},
   "source": [
    "Let's remove the rows with missing GeoLocation from the table. Note that this isn't always the right thing to do, but we'll assume that it is OK in this case. You will learn more about how to deal missing information if you take *DSC 80*.\n",
    "\n",
    "One way to determine if an entry is missing is to check its type. In the *GeoLocation* column, entries that are not missing are strings, and missing entries are NaNs (which are not strings -- in fact `np.nan` is considered a float).\n",
    "\n",
    "To check if a variable has a certain type, we can use the built-in Python function `isinstance`. This function takes two arguments, an object and a type, and returns `True` or `False` depending on if the object is of that type. Run the following four cells to see some examples:"
   ]
  },
  {
   "cell_type": "code",
   "execution_count": 7,
   "metadata": {},
   "outputs": [],
   "source": [
    "isinstance(\"this is a string\", str)"
   ]
  },
  {
   "cell_type": "code",
   "execution_count": 8,
   "metadata": {},
   "outputs": [],
   "source": [
    "isinstance(432, str)"
   ]
  },
  {
   "cell_type": "code",
   "execution_count": 9,
   "metadata": {},
   "outputs": [],
   "source": [
    "isinstance(np.nan, str)"
   ]
  },
  {
   "cell_type": "code",
   "execution_count": 10,
   "metadata": {},
   "outputs": [],
   "source": [
    "isinstance(np.nan, float)"
   ]
  },
  {
   "cell_type": "markdown",
   "metadata": {},
   "source": [
    "**Question 2**.  Starting from `df_with_index`, create a new dataframe named `df_with_geolocation` containing only those rows for which the *GeoLocation* is not missing; that is, it contains only those rows for which *GeoLocation* is a string)."
   ]
  },
  {
   "cell_type": "code",
   "execution_count": 11,
   "metadata": {},
   "outputs": [],
   "source": [
    "df_with_geolocation = ...\n",
    "df_with_geolocation"
   ]
  },
  {
   "cell_type": "code",
   "execution_count": null,
   "metadata": {
    "deletable": false,
    "editable": false
   },
   "outputs": [],
   "source": [
    "grader.check(\"q1_2\")"
   ]
  },
  {
   "cell_type": "markdown",
   "metadata": {},
   "source": [
    "**Question 3**. Create a new dataframe by adding two columns to `df_with_geolocation` named `latitude` and `longitude`, respectively containing the latitude and longitude of each meteorite's impact. The type of each entry in these new columns should be *float*. Additionally, drop the *GeoLocation* column from the table. Store the result in `df_with_lat_lon`."
   ]
  },
  {
   "cell_type": "code",
   "execution_count": 14,
   "metadata": {},
   "outputs": [],
   "source": [
    "df_with_lat_lon = ...\n",
    "df_with_lat_lon"
   ]
  },
  {
   "cell_type": "code",
   "execution_count": null,
   "metadata": {
    "deletable": false,
    "editable": false
   },
   "outputs": [],
   "source": [
    "grader.check(\"q1_3\")"
   ]
  },
  {
   "cell_type": "markdown",
   "metadata": {},
   "source": [
    "**Question 4**. You have likely noticed by now that the variable `year` doesn't contain the year of a meteorite's landing exactly, but instead contains a string of form *MM/DD/YYYY HH:MM:SS AM/PM*. Taking a closer look, every record shows a month of 1, a day of 1, and a time of 12:00:00 AM. This clearly is not correct -- these times and dates are just dummy values. Therefore, the only useful information in each of the entries is just the *year*.\n",
    "\n",
    "Create a function named `extract_year` that takes in a string of the form *MM/DD/YYYY HH:MM:SS AM/PM* and outputs the year as a number. Then create a new dataframe named `df_with_year` which is the same as `df_with_lat_lon` but where the entries in the *year* column has been replaced with the year as a number.\n",
    "\n",
    "**Note**: some of the entries in the *year* column are missing. To handle this, if `extract_year` is called with a value that is not a string, it should return `np.nan`."
   ]
  },
  {
   "cell_type": "code",
   "execution_count": 19,
   "metadata": {},
   "outputs": [],
   "source": [
    "def extract_year(s):\n",
    "    ...\n",
    "\n",
    "df_with_year = ...\n",
    "df_with_year"
   ]
  },
  {
   "cell_type": "code",
   "execution_count": null,
   "metadata": {
    "deletable": false,
    "editable": false
   },
   "outputs": [],
   "source": [
    "grader.check(\"q1_4\")"
   ]
  },
  {
   "cell_type": "markdown",
   "metadata": {},
   "source": [
    "**Question 5**. Sometimes when dealing with events such as these, it is helpful to aggregate them into *decades*. Write a function named `to_decade(y)` which accepts a year (as a number) and returns the decade. For instance, `to_decade(2008)` should return the number 2000, and `to_decade(2010)` should return 2010. Your function does not need to work for negative years. Next, create a new table named `df_with_decade` that has all of the same information as `df_with_year`, but which has an additonal column named *decade* containing the decade of each meteorite's recording.\n",
    "\n",
    "*Hint*: The *flooring division* operator, `//`, might be useful here. This operator divides two numbers as usual, but if the result has a decimal part, it is \"forgotten\". For example. `35 / 6` is `5.83333`, but `35 // 6` is simply 5. Try using flooring division as part of your answer."
   ]
  },
  {
   "cell_type": "code",
   "execution_count": 25,
   "metadata": {},
   "outputs": [],
   "source": [
    "def to_decade(y):\n",
    "    ...\n",
    "\n",
    "df_with_decade = ...\n",
    "df_with_decade"
   ]
  },
  {
   "cell_type": "code",
   "execution_count": null,
   "metadata": {
    "deletable": false,
    "editable": false
   },
   "outputs": [],
   "source": [
    "grader.check(\"q1_5\")"
   ]
  },
  {
   "cell_type": "markdown",
   "metadata": {},
   "source": [
    "**Question 6**. As described above, entries in the *nametype* column are strings that can take only one of two values: they are either \"Valid\" or \"Relict\". Likewise, entries in the *fall* column can either be \"Fell\" or \"Found\". Columns which can take on only one of a handful of possible values are referred to as \"categorical\" columns. If there are only two possibilities, we sometimes call these \"binary\" variables.\n",
    "\n",
    "A common transformation done to columns with binary values is to convert them to `bool`. This simplified the representation, and has the added benefit of saving memory (a string requires *much* more memory than a single `bool`). You will learn much more about this kind of data management if you take *DSC 100: Intro to Data Management*.\n",
    "\n",
    "Starting from `df_with_decade`, create a new dataframe named simply `df_bool` that contains two new columns, *is_valid* and *is_found*. An entry of *is_valid* should be `True` if and only if the meteorite's *nametype* is \"Valid\". Likewise, an entry of *is_found* should be `True` if and only if the meteorite's *fall* is \"Found\". Additionally, the dataframe should have the `nametype` and `fall` columns removed."
   ]
  },
  {
   "cell_type": "code",
   "execution_count": 30,
   "metadata": {},
   "outputs": [],
   "source": [
    "df_bool = ...\n",
    "df_bool"
   ]
  },
  {
   "cell_type": "code",
   "execution_count": null,
   "metadata": {
    "deletable": false,
    "editable": false
   },
   "outputs": [],
   "source": [
    "grader.check(\"q1_6\")"
   ]
  },
  {
   "cell_type": "markdown",
   "metadata": {},
   "source": [
    "**Question 7.** While the latitude and longitude tell us the precise location of the meteorite, it would be helpful to have a more coarse description of where it was seen or found. The file `data/continents.csv` contains a table with two columns: *id* (the ID of a meteorite) and *continent* (the continent on which it was recorded).\n",
    "\n",
    "Create a new dataframe, simply named `df`, that contains all of the columns of `df_bool` and one additional column, *continent*, which has the continent in which each meteorite was found or seen.\n",
    "\n",
    "**Note**: The rows in `data/continents.csv` are not in the same order as the rows in `df_bool`! Also, after this step, double-check to make sure that the *index* is still properly set."
   ]
  },
  {
   "cell_type": "code",
   "execution_count": 36,
   "metadata": {},
   "outputs": [],
   "source": [
    "df = ...\n",
    "df"
   ]
  },
  {
   "cell_type": "code",
   "execution_count": null,
   "metadata": {
    "deletable": false,
    "editable": false
   },
   "outputs": [],
   "source": [
    "grader.check(\"q1_7\")"
   ]
  },
  {
   "cell_type": "markdown",
   "metadata": {},
   "source": [
    "**Question 8**. That is enough cleaning for now, but before we move on we should recall that the dataset contains both meteorites that are witnessed while falling, and meteorites that are found (and which potentially fell many thousands of years ago). To understand a potential trend in the number of meteorites reaching Earth, we should therefore only look at the meteorites which are *witnessed* while falling. That is, the meteorites for which *is_found* is `False`.\n",
    "\n",
    "Construct a new dataframe named `seen` which contains only those meteorites which were seen falling. We will use `seen` for some questions below, and `df` for others."
   ]
  },
  {
   "cell_type": "code",
   "execution_count": 40,
   "metadata": {},
   "outputs": [],
   "source": [
    "seen = ...\n",
    "seen"
   ]
  },
  {
   "cell_type": "code",
   "execution_count": null,
   "metadata": {
    "deletable": false,
    "editable": false
   },
   "outputs": [],
   "source": [
    "grader.check(\"q1_8\")"
   ]
  },
  {
   "cell_type": "markdown",
   "metadata": {},
   "source": [
    "### Check Your Work\n",
    "\n",
    "That's all of the cleaning we'll do. Here's what the dataframe looked like when we started:"
   ]
  },
  {
   "cell_type": "code",
   "execution_count": 44,
   "metadata": {},
   "outputs": [],
   "source": [
    "raw_df"
   ]
  },
  {
   "cell_type": "markdown",
   "metadata": {},
   "source": [
    "And here's what it looks like now:"
   ]
  },
  {
   "cell_type": "code",
   "execution_count": 45,
   "metadata": {},
   "outputs": [],
   "source": [
    "df"
   ]
  },
  {
   "cell_type": "markdown",
   "metadata": {},
   "source": [
    "It looks much better! (but I might be biased...)\n",
    "\n",
    "Before we move on, let's make sure that your dataframe is properly cleaned. The below test will make sure that your dataframe has these columns and *only* these columns (though not necessarily in this order):\n",
    "\n",
    "- *name*\n",
    "- *recclass*\n",
    "- *mass (g)*\n",
    "- *year*\n",
    "- *decade*\n",
    "- *latitude*\n",
    "- *longitude*\n",
    "- *is_valid*\n",
    "- *is_found*\n",
    "- *continent*\n",
    "\n",
    "It will also check that the index is properly set."
   ]
  },
  {
   "cell_type": "code",
   "execution_count": null,
   "metadata": {
    "deletable": false,
    "editable": false
   },
   "outputs": [],
   "source": [
    "grader.check(\"q1_check\")"
   ]
  },
  {
   "cell_type": "markdown",
   "metadata": {},
   "source": [
    "## Part 2: Exploring the Dataset\n",
    "\n",
    "**Lectures to review: 04-Queries, Groupby; 05-Visualization; 06-Functions, Apply; 07-Group, Merge, Conditionals, Iteration**\n",
    "\n",
    "The next step in a data science project is *Exploratory Data Analysis*, or *EDA* for short. We don't always come into a data science project with a clear idea of what trends to expect or what questions to ask. In EDA, we comb through the data in order to identify interesting patterns worth exploring. EDA often involves a lot of data visualization, as we will see."
   ]
  },
  {
   "cell_type": "markdown",
   "metadata": {},
   "source": [
    "**Question 1**. One of the simplest questions we might ask of the data is how the number of meteorites falling each year has changed over time. To answer this, we should use only the data from meteorites that are witnessed falling; that is, we should use the data in `seen`.\n",
    "\n",
    "Create a density histogram that shows the number of meteorites per year which are seen while falling. For bins, use `[1700, 1810, ..., 2020]`. Then, looking at your histogram, find the proportion of meteorites in this subset that were recorded in the interval from 1950 to 2000. Store your answer in `prop_1950`. Your answer should be a number between 0 and 1."
   ]
  },
  {
   "cell_type": "code",
   "execution_count": 48,
   "metadata": {},
   "outputs": [],
   "source": [
    "# make your plot here\n",
    "...\n",
    "prop_1950 = ...\n",
    "prop_1950"
   ]
  },
  {
   "cell_type": "code",
   "execution_count": null,
   "metadata": {
    "deletable": false,
    "editable": false
   },
   "outputs": [],
   "source": [
    "grader.check(\"q2_1\")"
   ]
  },
  {
   "cell_type": "markdown",
   "metadata": {},
   "source": [
    "**Question 2.** You will likely see that the number of meteorites seen falling grew substantially until it leveled off in the mid-1900s. Using your understanding of the universe, which one of the following is **not** a plausible partial explanation for why this may be?\n",
    "\n",
    "1. The large increase in the number of meteorites being recorded is because of an actual increase in the number of meteorites hitting the Earth.\n",
    "2. Population increases in remote areas have led to more people seeing meteorites that before would not have been witnessed.\n",
    "3. Technological advancements have allowed humans to track and therefore see more meteorites as they approach Earth.\n",
    "4. The recording of meteorite impacts is a recent phenomenon; in previous centuries, meteorites may have been observed but rarely recorded."
   ]
  },
  {
   "cell_type": "code",
   "execution_count": 51,
   "metadata": {},
   "outputs": [],
   "source": [
    "not_plausible = ..."
   ]
  },
  {
   "cell_type": "code",
   "execution_count": null,
   "metadata": {
    "deletable": false,
    "editable": false
   },
   "outputs": [],
   "source": [
    "grader.check(\"q2_2\")"
   ]
  },
  {
   "cell_type": "markdown",
   "metadata": {},
   "source": [
    "Next we might ask: Where are meteorites recorded? We can visualize the locations of impacts using a python package called `folium`. It has been installed for you. Let's import it now:"
   ]
  },
  {
   "cell_type": "code",
   "execution_count": 54,
   "metadata": {},
   "outputs": [],
   "source": [
    "import folium"
   ]
  },
  {
   "cell_type": "markdown",
   "metadata": {},
   "source": [
    "The code below shows how to create a map using `folium`. This map is centered at a latitude and longitude of (39, -98), which happens to be in Kansas."
   ]
  },
  {
   "cell_type": "code",
   "execution_count": 55,
   "metadata": {},
   "outputs": [],
   "source": [
    "m = folium.Map(location=[39.0, -98.0], zoom_start=4)\n",
    "m"
   ]
  },
  {
   "cell_type": "markdown",
   "metadata": {},
   "source": [
    "We can create markers on the map as shown below. Here we've made two markers: one for San Diego, and another for New York City."
   ]
  },
  {
   "cell_type": "code",
   "execution_count": 56,
   "metadata": {},
   "outputs": [],
   "source": [
    "folium.Marker(location=[32.7157, -117.1611]).add_to(m)\n",
    "folium.Marker(location=[40.7, -74]).add_to(m)\n",
    "m"
   ]
  },
  {
   "cell_type": "markdown",
   "metadata": {},
   "source": [
    "Let's see if we can detect any patterns in the locations of meteorites. The function below takes in a dataframe of meteorites (like `df`) and uses `folium` to plot the location of each meteorite in the table."
   ]
  },
  {
   "cell_type": "code",
   "execution_count": 57,
   "metadata": {},
   "outputs": [],
   "source": [
    "def plot_meteorites(meteorite_df, center=(39.0, -0), zoom=2):\n",
    "    m = folium.Map(location=center, min_zoom=2, zoom_start=zoom, max_bounds=True)\n",
    "    for _, row in meteorite_df.get(['latitude', 'longitude', 'name'])._pd.iterrows():\n",
    "        folium.CircleMarker(\n",
    "            location=[row['latitude'], row['longitude']],\n",
    "            popup=row['name'], radius=1.5\n",
    "        ).add_to(m)\n",
    "    display(m)"
   ]
  },
  {
   "cell_type": "markdown",
   "metadata": {},
   "source": [
    "For example, here are 4000 randomly-chosen meteorites. Note that these meteorites include both those that have been found and those that have been observed falling. Note that you can pan, zoom, and click markers to see the name of each meteorite."
   ]
  },
  {
   "cell_type": "code",
   "execution_count": 58,
   "metadata": {
    "scrolled": false
   },
   "outputs": [],
   "source": [
    "plot_meteorites(df.sample(4000))"
   ]
  },
  {
   "cell_type": "markdown",
   "metadata": {},
   "source": [
    "We can also plot only those meteorites that have been observed while falling. Can you see a difference between the map below and the one above?"
   ]
  },
  {
   "cell_type": "code",
   "execution_count": 59,
   "metadata": {},
   "outputs": [],
   "source": [
    "plot_meteorites(seen)"
   ]
  },
  {
   "cell_type": "markdown",
   "metadata": {},
   "source": [
    "**Question 3**. By looking at the map above, which continent do you think has the most meteorites in the dataset overall? There's no wrong answer to this question -- it won't be graded for correctness.\n",
    "\n",
    "1. Africa\n",
    "1. Antarctica\n",
    "1. Asia\n",
    "1. Australia\n",
    "1. Europe\n",
    "1. North America\n",
    "1. South America\n",
    "\n",
    "*Note*: different educational systems have different definitions of \"continent\". For this question, we're using the 7-continent model -- but since it isn't graded, it doesn't really matter which model we use."
   ]
  },
  {
   "cell_type": "code",
   "execution_count": 60,
   "metadata": {},
   "outputs": [],
   "source": [
    "continent_guess = ..."
   ]
  },
  {
   "cell_type": "code",
   "execution_count": null,
   "metadata": {
    "deletable": false,
    "editable": false
   },
   "outputs": [],
   "source": [
    "grader.check(\"q2_3\")"
   ]
  },
  {
   "cell_type": "markdown",
   "metadata": {},
   "source": [
    "**Question 4.** Our table, `df`, includes the continent where each meteorite was recorded. Using table operations, construct a series named `per_continent` containing the number of meteorites recorded in each continent.\n",
    "\n",
    "**Note**: for the purposes of this project, \"recorded\" means either found or observed while falling. In other words, use the whole table `df` for this question, not just those that were seen falling."
   ]
  },
  {
   "cell_type": "code",
   "execution_count": 62,
   "metadata": {},
   "outputs": [],
   "source": [
    "per_continent = ...\n",
    "per_continent"
   ]
  },
  {
   "cell_type": "code",
   "execution_count": null,
   "metadata": {
    "deletable": false,
    "editable": false
   },
   "outputs": [],
   "source": [
    "grader.check(\"q2_4\")"
   ]
  },
  {
   "cell_type": "markdown",
   "metadata": {},
   "source": [
    "**Question 5.** The answer to the last question may have surprised you -- let's investigate further. Some continents are much larger than others, and it is plausible that these continents have a larger number of meteorites simply by virtue of their size. To control for this, let's calculate the *number of meteorites per unit of area*.\n",
    "\n",
    "The file `data/areas.csv` contains the area of each of the seven continents that appear in our data set. Construct a series named `density` containing the number of meteorites per square kilometer for each continent."
   ]
  },
  {
   "cell_type": "code",
   "execution_count": 68,
   "metadata": {},
   "outputs": [],
   "source": [
    "density = ...\n",
    "density"
   ]
  },
  {
   "cell_type": "code",
   "execution_count": null,
   "metadata": {
    "deletable": false,
    "editable": false
   },
   "outputs": [],
   "source": [
    "grader.check(\"q2_5\")"
   ]
  },
  {
   "cell_type": "markdown",
   "metadata": {},
   "source": [
    "If your answer is correct, the continent which has the most meteorites per unit area is also the one that has the most meteorites overall. This suggests that this continent really does have more recorded meteorites than other continents.\n",
    "\n",
    "The key word in the previous sentence is *recorded*. Is it really the case that a certain part of the Earth *attracts* more meteorites than other parts? Probably not, but there is something going on here. Remember that meteorites are, by definition, meteors that survived the trip through the atmosphere long enough to hit the surface of the Earth. Therefore, it could be that certain regions of the planet have thinner atmospheres, making it more likely that a meteor survives entry. On the other hand, physics tells us that meteorite landings should be more-or-less randomly distributed across the surface of the Earth -- maybe the concentration of meteorites is due to something else? Let's see...\n",
    "\n",
    "Perhaps visualizing the Antarctic meteorites again can give us a clue. The code below shows meteorites in the vicinity of McMurdo Sound, Antarctica."
   ]
  },
  {
   "cell_type": "code",
   "execution_count": 74,
   "metadata": {},
   "outputs": [],
   "source": [
    "plot_meteorites(df[df.get('continent') == 'Antarctica'].sample(4000), center=(-75, 170), zoom=5)"
   ]
  },
  {
   "cell_type": "markdown",
   "metadata": {},
   "source": [
    "You should notice that the meteorites are clustered. Why is this? Is there something special about the regions these meteorites were found in?\n",
    "\n",
    "Perhaps the name of the meteorite can give us a clue. Click a marker to see the meteorite's name, and repeat to learn about the different regions where meteorites were found. Search for some of these region names on Wikipedia to determine what the geology of the region is like.\n",
    "\n",
    "*Hint*: you might learn a new word that starts with \"m\" -- this is related to the reason."
   ]
  },
  {
   "cell_type": "markdown",
   "metadata": {
    "deletable": false,
    "editable": false
   },
   "source": [
    "<!-- BEGIN QUESTION -->\n",
    "\n",
    "**Question 6**. In a few sentences, explain why meteorites are so commonly recorded in Antarctica. Does the data support the claim that meteorites are more likely to *fall* in Antarctica than elsewhere?\n",
    "\n",
    "<!--\n",
    "BEGIN QUESTION\n",
    "name: q2_6\n",
    "manual: true\n",
    "-->"
   ]
  },
  {
   "cell_type": "markdown",
   "metadata": {},
   "source": [
    "_Type your answer here, replacing this text._"
   ]
  },
  {
   "cell_type": "markdown",
   "metadata": {},
   "source": [
    "<!-- END QUESTION -->\n",
    "\n",
    "\n",
    "\n",
    "**Question 7**. Now let's look at the various classifications of meteorites. These are stored in the *recclass* column. First, how many unique classifications are there? Don't hardcode your answer -- write code to compute it."
   ]
  },
  {
   "cell_type": "code",
   "execution_count": 75,
   "metadata": {},
   "outputs": [],
   "source": [
    "number_of_classes = ...\n",
    "number_of_classes"
   ]
  },
  {
   "cell_type": "code",
   "execution_count": null,
   "metadata": {
    "deletable": false,
    "editable": false
   },
   "outputs": [],
   "source": [
    "grader.check(\"q2_7\")"
   ]
  },
  {
   "cell_type": "markdown",
   "metadata": {},
   "source": [
    "This is quite a lot! Next, let's understand how the classifications are distributed. Are there roughly the same number of meteorites in each class? Or are some classes more popular?\n",
    "\n",
    "**Question 8**. What is the median number of meteorites in each class? What is the mean number of meteorites in each class?"
   ]
  },
  {
   "cell_type": "code",
   "execution_count": 78,
   "metadata": {},
   "outputs": [],
   "source": [
    "median_in_each_class = ...\n",
    "mean_in_each_class = ...\n",
    "median_in_each_class, mean_in_each_class"
   ]
  },
  {
   "cell_type": "code",
   "execution_count": null,
   "metadata": {
    "deletable": false,
    "editable": false
   },
   "outputs": [],
   "source": [
    "grader.check(\"q2_8\")"
   ]
  },
  {
   "cell_type": "markdown",
   "metadata": {},
   "source": [
    "**Question 9**. The mean and median are quite different. Which one of the explanations below could be the reason for this difference?\n",
    "\n",
    "1. The median is much lower than the mean because of floating point error.\n",
    "1. The mean is much lower than the median because it does not take outliers into account.\n",
    "1. The mean is much higher than the median due to large outliers.\n",
    "1. The mean is much higher than the median because of random chance.\n",
    "1. The median is much smaller than the mean due to small outliers."
   ]
  },
  {
   "cell_type": "code",
   "execution_count": 83,
   "metadata": {},
   "outputs": [],
   "source": [
    "could_be_the_reason = ..."
   ]
  },
  {
   "cell_type": "code",
   "execution_count": null,
   "metadata": {
    "deletable": false,
    "editable": false
   },
   "outputs": [],
   "source": [
    "grader.check(\"q2_9\")"
   ]
  },
  {
   "cell_type": "markdown",
   "metadata": {},
   "source": [
    "**Question 10**. Considering only the classes which have more than 100 meteorites, plot a horizontal bar chart of the count of meteorites belonging to each class. Use your plot to answer the question: which class has the fifth most meteorites? Your answer should be in the form of a string."
   ]
  },
  {
   "cell_type": "code",
   "execution_count": 86,
   "metadata": {},
   "outputs": [],
   "source": [
    "# make your plot here\n",
    "...\n",
    "fifth_most = ..."
   ]
  },
  {
   "cell_type": "code",
   "execution_count": null,
   "metadata": {
    "deletable": false,
    "editable": false
   },
   "outputs": [],
   "source": [
    "grader.check(\"q2_10\")"
   ]
  },
  {
   "cell_type": "markdown",
   "metadata": {},
   "source": [
    "Lastly, let's look at the mass of the meteorites. Here's a simple histogram of the masses:"
   ]
  },
  {
   "cell_type": "code",
   "execution_count": 89,
   "metadata": {},
   "outputs": [],
   "source": [
    "df.get('mass (g)').plot(kind='hist')"
   ]
  },
  {
   "cell_type": "markdown",
   "metadata": {},
   "source": [
    "Well, that's unhelpful. We are seeing this because the largest meteorites are much larger than the smallest, but they are relatively infrequent."
   ]
  },
  {
   "cell_type": "code",
   "execution_count": 90,
   "metadata": {},
   "outputs": [],
   "source": [
    "df.get('mass (g)').max()"
   ]
  },
  {
   "cell_type": "code",
   "execution_count": 91,
   "metadata": {},
   "outputs": [],
   "source": [
    "df.get('mass (g)').min()"
   ]
  },
  {
   "cell_type": "markdown",
   "metadata": {},
   "source": [
    "Apparently some meteorites are given a mass of 0. This could be because the meteorites are very light, or because the weight was unknown and a placeholder of 0 was used. The massive 60 million gram meteorite is [Hoba](https://en.wikipedia.org/wiki/Hoba_meteorite), a meteorite which fell on present-day Namibia some time within the last 80,000 years.\n",
    "\n",
    "There are ways to improve the visualization. First, we can plot a histogram of a subset of the data; for instance, from 0 to 500 grams:"
   ]
  },
  {
   "cell_type": "code",
   "execution_count": 92,
   "metadata": {},
   "outputs": [],
   "source": [
    "df.get('mass (g)').plot(kind='hist', bins=np.arange(0, 500, 25), density=True)"
   ]
  },
  {
   "cell_type": "markdown",
   "metadata": {},
   "source": [
    "We can also use the `logy = True` argument to `.plot()` to plot the y-axis on a logarithmic scale:"
   ]
  },
  {
   "cell_type": "code",
   "execution_count": 93,
   "metadata": {},
   "outputs": [],
   "source": [
    "df.get('mass (g)').plot(kind='hist', logy=True, bins=20)"
   ]
  },
  {
   "cell_type": "markdown",
   "metadata": {},
   "source": [
    "Note that we have omitted the `density = True` keyword argument, so this is a histogram of *counts*. "
   ]
  },
  {
   "cell_type": "markdown",
   "metadata": {},
   "source": [
    "**Question 11**. Let's see if there is any trend in the average mass of meteorites over time. As with the first part of this section, we will restrict ourselves to only those meteorites that are observed while falling (that is, meteorites for which *is_found* is `False`).\n",
    "\n",
    "Draw a bar chart of the median mass of meteorites seen in each decade between 1900 and now. Use your bar chart to answer the question: What was the median mass of meteorites that were seen in the 1990s?"
   ]
  },
  {
   "cell_type": "code",
   "execution_count": 94,
   "metadata": {},
   "outputs": [],
   "source": [
    "# make your plot here\n",
    "...\n",
    "observed_falling_in_90s = ..."
   ]
  },
  {
   "cell_type": "code",
   "execution_count": null,
   "metadata": {
    "deletable": false,
    "editable": false
   },
   "outputs": [],
   "source": [
    "grader.check(\"q2_11\")"
   ]
  },
  {
   "cell_type": "markdown",
   "metadata": {},
   "source": [
    "It looks like some decades have heavier meteorites than others. In the next section, we'll investigate this to see if it is a real phenomenon, or whether it might be due to chance."
   ]
  },
  {
   "cell_type": "markdown",
   "metadata": {},
   "source": [
    "Before we move on, let's look at the closest meteorites to San Diego, just for fun:"
   ]
  },
  {
   "cell_type": "code",
   "execution_count": 97,
   "metadata": {},
   "outputs": [],
   "source": [
    "coords = np.column_stack([\n",
    "    df.get('latitude'),\n",
    "    df.get('longitude')\n",
    "])\n",
    "\n",
    "distances = np.sum((coords - np.array([32.7, -117.1]))**2, axis=1)\n",
    "\n",
    "closest = df.iloc[np.argsort(distances)[:10]]\n",
    "\n",
    "plot_meteorites(closest, center=(32.7, -117.1), zoom=8)"
   ]
  },
  {
   "cell_type": "markdown",
   "metadata": {},
   "source": [
    "---"
   ]
  },
  {
   "cell_type": "markdown",
   "metadata": {},
   "source": [
    "## Part 3: Statistics\n",
    "\n",
    "**Lectures to review: 08-Simulation; 09-Sampling; 10-Models, Statistics; 11-Hypothesis Testing; 12-AB Testing; 13-Bootstrap; 14-CI; 15-CLT; 16-Normal CI**\n",
    "\n",
    "In this section we will take a deeper look at some of the trends uncovered in our EDA in order to determine if they are real phenomena, or just due to chance."
   ]
  },
  {
   "cell_type": "markdown",
   "metadata": {},
   "source": [
    "In Part 2, Question 11, we plotted the median mass of meteorites per decade. We saw that some decades had much heavier medians than others. Is this a real phenomenon? Or is it possible that this is simply due to chance? We can answer this with a hypothesis test."
   ]
  },
  {
   "cell_type": "markdown",
   "metadata": {},
   "source": [
    "Our intuition tells us that a meteorite's mass is essentially random. That is, when Nature decides to throw a meteorite at the Earth, it doesn't first check the date. Of course, there may be reasons for heavier meteorites to cluster together in time -- for instance, maybe a large meteor breaks into several pieces, all of which fall around the same time. However, we might believe these events to be sufficiently rare so as to not affect the decadal medians.\n",
    "\n",
    "Given this intuition, we'll introduce the following null and alternative hypotheses:\n",
    "\n",
    "**Null Hypothesis**: Nature assigns meteorite masses randomly, with no relationship to the decade that the meteorite was observed.\n",
    "\n",
    "**Alternative Hypothesis**: The median meteorite mass is significantly higher in some decades as compared to others."
   ]
  },
  {
   "cell_type": "markdown",
   "metadata": {},
   "source": [
    "**Question 1a**. Which of the examples seen in lecture had the most similar null/alternative hypothesis to the current situation? (*Hint*: relating a problem to one seen in lecture is a great way to choose the right statistical test to apply).\n",
    "\n",
    "1. Is the coin fair? (Lecture 10)\n",
    "1. The Swain jury panel (Lecture 10)\n",
    "1. The Alameda county jury panels (Lecture 11)\n",
    "1. Is the TA a poor teacher? (Lecture 11)\n",
    "1. Deflategate (Lecture 12)\n",
    "1. Smoking and Baby Weight (Lecture 12)"
   ]
  },
  {
   "cell_type": "code",
   "execution_count": 98,
   "metadata": {},
   "outputs": [],
   "source": [
    "most_similar_3_1a = ..."
   ]
  },
  {
   "cell_type": "code",
   "execution_count": null,
   "metadata": {
    "deletable": false,
    "editable": false
   },
   "outputs": [],
   "source": [
    "grader.check(\"q3_1a\")"
   ]
  },
  {
   "cell_type": "markdown",
   "metadata": {},
   "source": [
    "**Question 1b**. Which of the below test statistics would be the most reasonable choice for this situation?\n",
    "\n",
    "1. The maximum of any decadal median.\n",
    "2. The minimum of any decadal median.\n",
    "3. The difference between the maximum decadal median and the median decadal median.\n",
    "4. The average decadal median.\n",
    "5. The median mass in the 1990s."
   ]
  },
  {
   "cell_type": "code",
   "execution_count": 101,
   "metadata": {},
   "outputs": [],
   "source": [
    "test_stat_guess_3_1b = ..."
   ]
  },
  {
   "cell_type": "code",
   "execution_count": null,
   "metadata": {
    "deletable": false,
    "editable": false
   },
   "outputs": [],
   "source": [
    "grader.check(\"q3_1b\")"
   ]
  },
  {
   "cell_type": "markdown",
   "metadata": {},
   "source": [
    "Our test statistic should tell us something about the difference in median mass between decades. While there are several choices, we will use the *difference between the maximum decadal median and the minimum decadal median* (fix your answer above if you guessed something else!). That is, we'll find the decade with the largest median mass and the decade with the smallest, and subtract these two medians. The result will be a non-negative number. If this number is large, it means that there is a pair of decades with a very big difference in median meteorite mass. Under the null hypothesis, this difference should be relatively small."
   ]
  },
  {
   "cell_type": "markdown",
   "metadata": {},
   "source": [
    "**Question 2**. Before computing our test statistic, it will be useful to restrict our data set to only those meteorites that are *seen* (i.e., the ones that were *not* found), and which fell on or after the year 1900. Create a dataframe named `seen_since_1900` which contains only these meteorites."
   ]
  },
  {
   "cell_type": "code",
   "execution_count": 103,
   "metadata": {},
   "outputs": [],
   "source": [
    "seen_since_1900 = ...\n",
    "seen_since_1900"
   ]
  },
  {
   "cell_type": "code",
   "execution_count": null,
   "metadata": {
    "deletable": false,
    "editable": false
   },
   "outputs": [],
   "source": [
    "grader.check(\"q3_2\")"
   ]
  },
  {
   "cell_type": "markdown",
   "metadata": {},
   "source": [
    "**Question 3**. Define a function named `mass_range` which accepts one argument, a dataframe (of the form of `df`, `seen_since_1900`, or similar), and returns the value of the test statistic for the meteorites in that dataframe."
   ]
  },
  {
   "cell_type": "code",
   "execution_count": 105,
   "metadata": {},
   "outputs": [],
   "source": [
    "def mass_range(meteorites):\n",
    "    ..."
   ]
  },
  {
   "cell_type": "code",
   "execution_count": null,
   "metadata": {
    "deletable": false,
    "editable": false
   },
   "outputs": [],
   "source": [
    "grader.check(\"q3_3\")"
   ]
  },
  {
   "cell_type": "markdown",
   "metadata": {},
   "source": [
    "**Question 4**. Under the null hypothesis, the values in the *decade* column are not related to the values in the *mass (g)* column. As a result, we can simulate a new dataset under the null hypothesis by permuting the *decade* column. We can then generate a new test statistic using this simulated data.\n",
    "\n",
    "Generate 1000 values of the test statistic using the above approach and place them in a numpy array called `test_stats`.\n",
    "\n",
    "*Hint*: you may create additional cells if you'd like. Your code should take at most a few minutes to run; if it takes too long, it may not receive credit."
   ]
  },
  {
   "cell_type": "code",
   "execution_count": 110,
   "metadata": {},
   "outputs": [],
   "source": [
    "test_stats = ..."
   ]
  },
  {
   "cell_type": "code",
   "execution_count": null,
   "metadata": {
    "deletable": false,
    "editable": false
   },
   "outputs": [],
   "source": [
    "grader.check(\"q3_4\")"
   ]
  },
  {
   "cell_type": "markdown",
   "metadata": {},
   "source": [
    "**Question 5.** Compute the p-value of the observed test statistic."
   ]
  },
  {
   "cell_type": "code",
   "execution_count": 114,
   "metadata": {},
   "outputs": [],
   "source": [
    "p_value = ...\n",
    "p_value"
   ]
  },
  {
   "cell_type": "code",
   "execution_count": null,
   "metadata": {
    "deletable": false,
    "editable": false
   },
   "outputs": [],
   "source": [
    "grader.check(\"q3_5\")"
   ]
  },
  {
   "cell_type": "markdown",
   "metadata": {},
   "source": [
    "**Question 6.** Which one of the following conclusions can we make given the result of the test?\n",
    "\n",
    "1. The null hypothesis is true\n",
    "1. We should reject the null hypothesis (assuming we use a 5% threshold for significance)\n",
    "1. The results of the test are consistent with the null hypothesis that the meteorite masses do not depend on the decade"
   ]
  },
  {
   "cell_type": "code",
   "execution_count": 117,
   "metadata": {},
   "outputs": [],
   "source": [
    "conclusion = ..."
   ]
  },
  {
   "cell_type": "code",
   "execution_count": null,
   "metadata": {
    "deletable": false,
    "editable": false
   },
   "outputs": [],
   "source": [
    "grader.check(\"q3_6\")"
   ]
  },
  {
   "cell_type": "markdown",
   "metadata": {},
   "source": [
    "In the EDA section above, we saw that there was a difference in where meteorites were *found* and where they are *seen*. As a reminder, here is the plot of locations of *seen* meteorites:"
   ]
  },
  {
   "cell_type": "code",
   "execution_count": 120,
   "metadata": {},
   "outputs": [],
   "source": [
    "seen = df[~df.get('is_found')]\n",
    "plot_meteorites(seen)"
   ]
  },
  {
   "cell_type": "markdown",
   "metadata": {},
   "source": [
    "A likely explanation for this is that a meteorite is more likely to be seen if it falls near a populated area. In fact, compare the above map with this composite image of the Earth at night -- the nighttime lights show areas that are densely populated:"
   ]
  },
  {
   "cell_type": "markdown",
   "metadata": {},
   "source": [
    "<img src=\"./data/lights.jpg\">"
   ]
  },
  {
   "cell_type": "markdown",
   "metadata": {},
   "source": [
    "We might suppose that the number of meteorites spotted in a continent is proportional to the *population* of the continent, but this is not quite right. Consider, for instance, Asia, which has the greatest population out of any of the continents, by far. This population, however, is not spread evenly over the surface of the continent -- it is concentrated in several areas. We can see this in the nighttime image above -- large parts of Asia are relatively sparsely inhabited.\n",
    "\n",
    "Instead, we might suppose that the number of meteorites seen in a continent is proportional to the total area of the continent that is \"populated\". One way to do this is to count (for each continent) the number of pixels in the above image which are brighter than some threshold. The more bright pixels, the more land area that is populated, and the more surface area where a falling meteorite is likely to be seen.\n",
    "\n",
    "We have done this work for you. We broke the surface of the Earth up into 259200 rectangular cells and counted the number of cells that are populated for each continent. The results are contained in `data/populated_cells.csv`."
   ]
  },
  {
   "cell_type": "code",
   "execution_count": 121,
   "metadata": {},
   "outputs": [],
   "source": [
    "populated_cells = bpd.read_csv('./data/populated_cells.csv').set_index('Continent')\n",
    "populated_cells"
   ]
  },
  {
   "cell_type": "markdown",
   "metadata": {},
   "source": [
    "**Question 7.** Assume that a given meteorite will land in one of the seven continents listed above, and that the probability that the meteorite is seen in a given continent is proportional to the number of populated cells in that continent. Calculate a series containing the probability of the meteorite being seen in each continent."
   ]
  },
  {
   "cell_type": "code",
   "execution_count": 122,
   "metadata": {},
   "outputs": [],
   "source": [
    "probabilities = ...\n",
    "probabilities"
   ]
  },
  {
   "cell_type": "code",
   "execution_count": null,
   "metadata": {
    "deletable": false,
    "editable": false
   },
   "outputs": [],
   "source": [
    "grader.check(\"q3_7\")"
   ]
  },
  {
   "cell_type": "markdown",
   "metadata": {},
   "source": [
    "**Question 8**. Restricting yourself to only those meteorites which were *seen* falling on or after 1980, calculate the proportion of meteorites which fell in each continent. Save your answer in a series named `proportions`."
   ]
  },
  {
   "cell_type": "code",
   "execution_count": 126,
   "metadata": {},
   "outputs": [],
   "source": [
    "proportions = ...\n",
    "proportions"
   ]
  },
  {
   "cell_type": "code",
   "execution_count": null,
   "metadata": {
    "deletable": false,
    "editable": false
   },
   "outputs": [],
   "source": [
    "grader.check(\"q3_8\")"
   ]
  },
  {
   "cell_type": "markdown",
   "metadata": {},
   "source": [
    "Consider the null and alternative hypotheses shown below:\n",
    "\n",
    "**Null Hypothesis**: The locations of meteorites seen since 1980 were generated by the distribution in the `probabilities` series.\n",
    "\n",
    "**Alternative Hypothesis**: The locations were generated from some other distribution."
   ]
  },
  {
   "cell_type": "markdown",
   "metadata": {},
   "source": [
    "**Question 9a**. Which of the examples seen in lecture had the most similar null/alternative hypothesis to the current situation?\n",
    "\n",
    "1. Is the coin fair? (Lecture 10)\n",
    "1. The Swain jury panel (Lecture 10)\n",
    "1. The Alameda county jury panels (Lecture 11)\n",
    "1. Is the TA a poor teacher? (Lecture 11)\n",
    "1. Deflategate (Lecture 12)\n",
    "1. Smoking and Baby Weight (Lecture 12)"
   ]
  },
  {
   "cell_type": "code",
   "execution_count": 130,
   "metadata": {},
   "outputs": [],
   "source": [
    "most_similar_3_9a = ..."
   ]
  },
  {
   "cell_type": "code",
   "execution_count": null,
   "metadata": {
    "deletable": false,
    "editable": false
   },
   "outputs": [],
   "source": [
    "grader.check(\"q3_9a\")"
   ]
  },
  {
   "cell_type": "markdown",
   "metadata": {},
   "source": [
    "**Question 9b**. Using your answer for the previous part of this question as your guide, which of the below test statistics would be the most reasonable choice for this situation?\n",
    "\n",
    "1. The proportion of meteorites seen in Asia.\n",
    "2. The proportion of meteorites that are not seen in Asia.\n",
    "3. The difference between the proportion of meteorites seen in Asia and the probability that a meteorite falls in Asia (according to `probabilities`)\n",
    "4. The TVD between the proportion of meteorites falling in each continent and the probabilities in `probabilities`.\n",
    "5. The difference between the maximum proportion falling in any continent and the maximum probability in `probabilities`."
   ]
  },
  {
   "cell_type": "code",
   "execution_count": 133,
   "metadata": {},
   "outputs": [],
   "source": [
    "test_stat_guess_3_9b = ..."
   ]
  },
  {
   "cell_type": "code",
   "execution_count": null,
   "metadata": {
    "deletable": false,
    "editable": false
   },
   "outputs": [],
   "source": [
    "grader.check(\"q3_9b\")"
   ]
  },
  {
   "cell_type": "markdown",
   "metadata": {},
   "source": [
    "**Question 10.** Write a function named `generate_proportions` which accepts no arguments and which simulates the location of 176 meteorite landings according to the distribution in `probabilities` (176 because 176 meteorites have been seen since 1980). The return value of your function should be a numpy array of size 7 which contains the proportion of simulated meteorite landings in each of the 7 continents (in the order that they appear in `probabilities`)."
   ]
  },
  {
   "cell_type": "code",
   "execution_count": 135,
   "metadata": {},
   "outputs": [],
   "source": [
    "def generate_proportions():\n",
    "    ..."
   ]
  },
  {
   "cell_type": "code",
   "execution_count": null,
   "metadata": {
    "deletable": false,
    "editable": false
   },
   "outputs": [],
   "source": [
    "grader.check(\"q3_10\")"
   ]
  },
  {
   "cell_type": "markdown",
   "metadata": {},
   "source": [
    "**Question 11**. Using your function `generate_proportions` to simulate landings and the Total Variation Distance (TVD) as your test statistic, generate 1000 values of the test statistic. Place them in an array named `tvd_stats`\n",
    "\n",
    "*Hint*: you may create additional cells if you'd like. Your code should take at most a few minutes to run; if it takes too long, it may not receive credit."
   ]
  },
  {
   "cell_type": "code",
   "execution_count": 141,
   "metadata": {},
   "outputs": [],
   "source": [
    "tvd_stats = ..."
   ]
  },
  {
   "cell_type": "code",
   "execution_count": null,
   "metadata": {
    "deletable": false,
    "editable": false
   },
   "outputs": [],
   "source": [
    "grader.check(\"q3_11\")"
   ]
  },
  {
   "cell_type": "markdown",
   "metadata": {},
   "source": [
    "**Question 12**. Calculate the probability under the null hypothesis of observing a TVD that is at least as extreme as that observed in actuality."
   ]
  },
  {
   "cell_type": "code",
   "execution_count": 145,
   "metadata": {},
   "outputs": [],
   "source": [
    "tvd_p_value = ...\n",
    "tvd_p_value"
   ]
  },
  {
   "cell_type": "code",
   "execution_count": null,
   "metadata": {
    "deletable": false,
    "editable": false
   },
   "outputs": [],
   "source": [
    "grader.check(\"q3_12\")"
   ]
  },
  {
   "cell_type": "markdown",
   "metadata": {},
   "source": [
    "**Question 13**. What can we conclude from the result of this hypothesis test?\n",
    "\n",
    "1. We reject the null hypothesis that the meteorites seen since 1980 were generated from the distribution in `probabilities`.\n",
    "2. We accept the null hypothesis.\n",
    "3. The null hypothesis is consistent with what was observed."
   ]
  },
  {
   "cell_type": "code",
   "execution_count": 148,
   "metadata": {},
   "outputs": [],
   "source": [
    "prob_conclusion = ..."
   ]
  },
  {
   "cell_type": "code",
   "execution_count": null,
   "metadata": {
    "deletable": false,
    "editable": false
   },
   "outputs": [],
   "source": [
    "grader.check(\"q3_13\")"
   ]
  },
  {
   "cell_type": "markdown",
   "metadata": {},
   "source": [
    "A potentially interested observation is that the meteorites that have been seen in Asia since data has been recorded are, on the median, more massive than meteorites that have landed in North America:"
   ]
  },
  {
   "cell_type": "code",
   "execution_count": 151,
   "metadata": {},
   "outputs": [],
   "source": [
    "seen[seen.get('continent') == 'Asia'].get('mass (g)').median()"
   ]
  },
  {
   "cell_type": "code",
   "execution_count": 152,
   "metadata": {},
   "outputs": [],
   "source": [
    "seen[seen.get('continent') == 'North America'].get('mass (g)').median()"
   ]
  },
  {
   "cell_type": "markdown",
   "metadata": {},
   "source": [
    "Is this a real difference? Or is it just due to chance?"
   ]
  },
  {
   "cell_type": "markdown",
   "metadata": {},
   "source": [
    "**Question 14**. We will run a hypothesis test to answer this question. Which of the examples seen in lecture is most similar to the current situation?\n",
    "\n",
    "1. Is the coin fair? (Lecture 10)\n",
    "1. The Swain jury panel (Lecture 10)\n",
    "1. The Alameda county jury panels (Lecture 11)\n",
    "1. Is the TA a poor teacher? (Lecture 11)\n",
    "1. Deflategate (Lecture 12)\n",
    "1. Smoking and Baby Weight (Lecture 12)"
   ]
  },
  {
   "cell_type": "code",
   "execution_count": 153,
   "metadata": {},
   "outputs": [],
   "source": [
    "most_similar_3_14 = ..."
   ]
  },
  {
   "cell_type": "code",
   "execution_count": null,
   "metadata": {
    "deletable": false,
    "editable": false
   },
   "outputs": [],
   "source": [
    "grader.check(\"q3_14\")"
   ]
  },
  {
   "cell_type": "markdown",
   "metadata": {},
   "source": [
    "**Question 15**. Using the table `seen` as a starting point, run a permutation test for the null hypothesis that the mass of meteorites seen in Asia and that of those seen in North America come from the same distribution. The alternative hypothesis is that that mass of meteorites seen in Asia is larger. As a test statistic, use the (signed) difference in medians between the two groups. Use 1000 permutations in your test. For your answer, report the p-value.\n",
    "\n",
    "*Hint*: think carefully about what data should be included. Should we shuffle all of the rows of `seen`, or work only with data from NA/Asia?\n",
    "\n",
    "*Hint 2*: you may create additional cells if you'd like. Your code should take at most a few minutes to run; if it takes too long, it may not receive credit."
   ]
  },
  {
   "cell_type": "code",
   "execution_count": 156,
   "metadata": {},
   "outputs": [],
   "source": [
    "perm_p_value = ...\n",
    "perm_p_value"
   ]
  },
  {
   "cell_type": "code",
   "execution_count": null,
   "metadata": {
    "deletable": false,
    "editable": false
   },
   "outputs": [],
   "source": [
    "grader.check(\"q3_14\")"
   ]
  },
  {
   "cell_type": "markdown",
   "metadata": {},
   "source": [
    "**Question 16**. Using data in the `seen` table, construct bootstrapped 95% confidence intervals for both:\n",
    "\n",
    "1. the median mass of meteorites *seen falling* in North American\n",
    "2. the median mass of meteorites *seen falling* in Asia\n",
    "\n",
    "Use 2000 bootstrap samples to construct your confidence intervals.\n",
    "\n",
    "Your confidence intervals should be lists with two entries: the lower bound and the upper bound of the interval.\n",
    "\n",
    "*Hint*: you can use your answer for this question as a check on Question 15. They should agree.\n",
    "\n",
    "*Hint 2*: you may create additional cells if you'd like. Your code should take at most a few minutes to run; if it takes too long, it may not receive credit."
   ]
  },
  {
   "cell_type": "code",
   "execution_count": 159,
   "metadata": {},
   "outputs": [],
   "source": [
    "asia_ci = ...\n",
    "na_ci = ..."
   ]
  },
  {
   "cell_type": "code",
   "execution_count": null,
   "metadata": {
    "deletable": false,
    "editable": false
   },
   "outputs": [],
   "source": [
    "grader.check(\"q3_15\")"
   ]
  },
  {
   "cell_type": "markdown",
   "metadata": {},
   "source": [
    "**Question 16**. The table `seen` is not a list of *all* meteorites that fell in recent history; obviously, there were many meteorites that fell but were not seen. In this sense, `seen` is a sample of all meteorites that fell in recent history. Out of these meteorites, roughly 25% are over 10,000 grams in mass, as the cell below shows:"
   ]
  },
  {
   "cell_type": "code",
   "execution_count": 166,
   "metadata": {},
   "outputs": [],
   "source": [
    "large_prop = seen[seen.get('mass (g)') > 10_000].shape[0] / seen.shape[0]\n",
    "large_prop"
   ]
  },
  {
   "cell_type": "markdown",
   "metadata": {},
   "source": [
    "Using the Central Limit Theorem, construct a 95% confidence interval for the population proportion of meteorites which are above 10,000 grams. Your answer should be a list of two numbers: the lower and upper bounds of the confidence interval."
   ]
  },
  {
   "cell_type": "code",
   "execution_count": 167,
   "metadata": {},
   "outputs": [],
   "source": [
    "normal_ci = ...\n",
    "normal_ci"
   ]
  },
  {
   "cell_type": "code",
   "execution_count": null,
   "metadata": {
    "deletable": false,
    "editable": false
   },
   "outputs": [],
   "source": [
    "grader.check(\"q3_16\")"
   ]
  },
  {
   "cell_type": "markdown",
   "metadata": {
    "deletable": false,
    "editable": false
   },
   "source": [
    "<!-- BEGIN QUESTION -->\n",
    "\n",
    "**Question 17**. In the last question, we said that `seen` is a sample of the population of meteorites that have fallen in recent years and used this to construct a confidence interval. In order for this confidence interval to be accurate, `seen` should be a *random sample* of meteorites.\n",
    "\n",
    "Do you believe `seen` is a random sample, or might it be biased? Why or why not?\n",
    "\n",
    "<!--\n",
    "BEGIN QUESTION\n",
    "name: q3_17\n",
    "manual: true\n",
    "-->"
   ]
  },
  {
   "cell_type": "markdown",
   "metadata": {},
   "source": [
    "_Type your answer here, replacing this text._"
   ]
  },
  {
   "cell_type": "markdown",
   "metadata": {},
   "source": [
    "<!-- END QUESTION -->\n",
    "\n",
    "\n",
    "\n",
    "# Finish Line"
   ]
  },
  {
   "cell_type": "markdown",
   "metadata": {},
   "source": [
    "Congratulations! You've completed Project 02. To submit your assignment:\n",
    "\n",
    "1. Select `Kernel -> Restart & Run All` to ensure that you have executed all cells, including the test cells. <p style=\"color: red\"><b>Important!</b> We will allot 20 minutes of computer time to run your notebook. If your notebook takes longer than this to run, it may not pass the autograder! Run \"Kernel -> Restart and Run All\" to time how long your notebook takes. A notebook with correct answers should take less than 5 minutes.</p>\n",
    "2. Read through the notebook to make sure everything is fine and all tests passed.\n",
    "3. Run the cell below to run all tests, and make sure that they all pass.\n",
    "4. Download your notebook using `File -> Download as -> Notebook (.ipynb)`, then upload your notebook to Gradescope."
   ]
  },
  {
   "cell_type": "code",
   "execution_count": null,
   "metadata": {},
   "outputs": [],
   "source": [
    "grader.check_all()"
   ]
  }
 ],
 "metadata": {
  "kernelspec": {
   "display_name": "Python 3",
   "language": "python",
   "name": "python3"
  },
  "language_info": {
   "codemirror_mode": {
    "name": "ipython",
    "version": 3
   },
   "file_extension": ".py",
   "mimetype": "text/x-python",
   "name": "python",
   "nbconvert_exporter": "python",
   "pygments_lexer": "ipython3",
   "version": "3.8.5"
  }
 },
 "nbformat": 4,
 "nbformat_minor": 5
}
